{
 "cells": [
  {
   "cell_type": "markdown",
   "metadata": {},
   "source": [
    "# 簡述\n",
    "\n",
    "傾向分數是觀察性研究和實驗性研究中廣泛使用的統計概念, 用於解決 選擇偏差(Selection Bias) 和 混雜性(Confounding) 的問題.\n",
    "\n",
    "傾向分數是一個用來衡量個體被分配到某個處理組(例如接受治療)的機率.\n",
    "\n",
    "[參考資料](https://www.yongxi-stat.com/psm_score/)"
   ]
  },
  {
   "cell_type": "code",
   "execution_count": 1,
   "metadata": {},
   "outputs": [],
   "source": [
    "import numpy as np\n",
    "import pandas as pd\n",
    "from sklearn.datasets import load_iris\n",
    "from sklearn.linear_model import LogisticRegression\n",
    "\n",
    "# 创建一个示例数据集\n",
    "data = load_iris()\n",
    "df = pd.DataFrame(data.data, columns=data.feature_names)\n",
    "df['target'] = data.target\n",
    "\n",
    "# 假设我们想要估算 Sepal Length (cm) 对是否属于类别 0 的影响\n",
    "# 这里我们使用 Logistic 回归模型来估算傾向分數\n",
    "\n",
    "# 将数据集拆分为 X (协变量) 和 Y (目标)\n",
    "X = df[['sepal length (cm)']]\n",
    "Y = (df['target'] == 0).astype(int)  # 将目标变量转换为二进制，0 表示属于类别 0\n",
    "\n",
    "# 使用 Logistic 回归模型来估算傾向分數\n",
    "logistic_model = LogisticRegression()\n",
    "logistic_model.fit(X, Y)\n",
    "\n",
    "# 预测每个样本属于类别 0 的概率，这就是傾向分數\n",
    "propensity_scores = logistic_model.predict_proba(X)[:, 1]\n",
    "\n",
    "# 将傾向分數添加到数据框\n",
    "df['propensity_score'] = propensity_scores\n",
    "\n",
    "# 现在您可以使用傾向分數进行匹配或加权分析\n"
   ]
  }
 ],
 "metadata": {
  "kernelspec": {
   "display_name": "Python 3",
   "language": "python",
   "name": "python3"
  },
  "language_info": {
   "codemirror_mode": {
    "name": "ipython",
    "version": 3
   },
   "file_extension": ".py",
   "mimetype": "text/x-python",
   "name": "python",
   "nbconvert_exporter": "python",
   "pygments_lexer": "ipython3",
   "version": "3.9.5"
  },
  "orig_nbformat": 4
 },
 "nbformat": 4,
 "nbformat_minor": 2
}
