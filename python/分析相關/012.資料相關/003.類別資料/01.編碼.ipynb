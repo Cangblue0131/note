{
 "cells": [
  {
   "cell_type": "markdown",
   "metadata": {},
   "source": [
    "# 編碼\n",
    "\n",
    "## 常見的編碼\n",
    "\n",
    "* 獨熱編碼（One-Hot Encoding）：將每個類別轉換為一個二元的特徵，每個特徵代表一個類別，其中一個為1（存在）而其他都為0。這種方法常用於具有少量類別的特徵。\n",
    "* 標籤編碼（Label Encoding）：將每個類別映射到一個整數，這樣可以保持數值順序關係。這種方法適用於具有類別之間自然排序的特徵。\n",
    "* 目標編碼（Target Encoding）：將每個類別的平均目標值（Y 值）作為特徵的數值，這對二元分類或多分類問題有用。\n",
    "\n"
   ]
  },
  {
   "cell_type": "code",
   "execution_count": null,
   "metadata": {},
   "outputs": [],
   "source": [
    "# 匯入所需的套件\n",
    "import pandas as pd\n",
    "import numpy as np\n",
    "from sklearn.model_selection import train_test_split\n",
    "import xgboost as xgb\n",
    "from sklearn.metrics import mean_squared_error\n",
    "\n",
    "# 創建示例 DataFrame（請根據你的實際資料替換這部分）\n",
    "data = {\n",
    "    'Feature1': [1.0, 2.0, 3.0, 4.0, 5.0],\n",
    "    'Feature2': [10, 20, 30, 40, 50],\n",
    "    'Feature3': ['A', 'B', 'C', 'A', 'B'],\n",
    "    'Target': [12.5, 25.0, 35.0, 47.5, 55.0]\n",
    "}\n",
    "\n",
    "df = pd.DataFrame(data)\n",
    "\n",
    "# 將類別特徵進行編碼（例如使用 one-hot 編碼）\n",
    "df = pd.get_dummies(df, columns=['Feature3'])\n",
    "\n",
    "# 分割資料為訓練集和測試集\n",
    "X = df.drop(columns=['Target'])\n",
    "y = df['Target']\n",
    "X_train, X_test, y_train, y_test = train_test_split(X, y, test_size=0.2, random_state=42)\n",
    "\n",
    "# 訓練 XGBoost 模型\n",
    "xgb_model = xgb.XGBRegressor(objective='reg:squarederror', n_estimators=100, random_state=42)\n",
    "xgb_model.fit(X_train, y_train)\n",
    "\n",
    "# 預測\n",
    "xgb_predictions = xgb_model.predict(X_test)\n",
    "\n",
    "# 計算模型性能（例如均方誤差）\n",
    "xgb_rmse = np.sqrt(mean_squared_error(y_test, xgb_predictions))\n",
    "\n",
    "print(f'XGBoost 模型 RMSE: {xgb_rmse}')\n"
   ]
  }
 ],
 "metadata": {
  "language_info": {
   "name": "python"
  },
  "orig_nbformat": 4
 },
 "nbformat": 4,
 "nbformat_minor": 2
}
