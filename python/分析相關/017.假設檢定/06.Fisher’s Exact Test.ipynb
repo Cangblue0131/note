{
 "cells": [
  {
   "attachments": {},
   "cell_type": "markdown",
   "metadata": {},
   "source": [
    "## Fisher’s Exact Test (費雪爾正確概率檢定)\n",
    "\n",
    "[參考資料1](https://math.nsysu.edu.tw/var/file/183/1183/img/495/h.pdf)\\\n",
    "[參考資料2](https://highscope.ch.ntu.edu.tw/wordpress/?p=73478)\\\n",
    "[參考資料3](https://blog.pulipuli.info/2017/05/fishers-exact-test-example.html)\\\n",
    "[參考資料4](https://www.yongxi-stat.com/fishers-exact-test-r/)\\\n",
    "[wiki](https://en.wikipedia.org/wiki/Fisher%27s_exact_test)"
   ]
  },
  {
   "attachments": {},
   "cell_type": "markdown",
   "metadata": {},
   "source": [
    "<font color = red size = 5>若單元格的期望次數小於5，則使用卡方效果不佳，此時會採用 Fisher's Exact Test。</font>\n",
    "\n",
    "<font color =red size = 5 >目的 : 分析兩組數據是否顯著相關</font>\n",
    "\n",
    "以下皆已此表為例\n",
    "\n",
    "|           | 組別A   |  組別B    | 合計  |\n",
    "| --------- |:-------:| ---------:|------:|\n",
    "| 事件1     | a       |     b     | a + b |\n",
    "| 事件2     | c       |     d     | c + d |\n",
    "| 合計      | a + c   |   b + d   | N     |"
   ]
  },
  {
   "attachments": {},
   "cell_type": "markdown",
   "metadata": {},
   "source": [
    "### 機率計算方式\n",
    "\n",
    "此方法會<font color = red>固定所有合計欄位</font> (各事件和組別的合計欄位，其值為分析目標當前的狀態)，在此情況下，我們假設所有單元格在固定事件或組別的情況下，其發生機率皆相同 (eg. P(組別A事件1|組別A)=P(組別A事件2|組別A) 或 P(組別A事件1|事件1)=P(組別B事件1|事件1))，此時可以計算所有可能發生的機率。\n",
    "\n",
    "因固定所有合計欄位，所以改變一個單元格的值則其他單元格也會跟著改變（換句話說只要給定一個單元格值就好，並且機率值也只要算一個單元格的機率即可），所以以 $P(A)$ 的A表示組別A事件1的單元格的值，而其發生機率為 : $\\frac{\\tbinom{a+b}{A}\\tbinom{c+d}{a+c-A}}{\\tbinom{N}{a+c}}$, 其中 $A\\in [min\\{a+b,a+c\\}-min\\{a+b,a+c,c+d,b+d\\},\\min\\{a+b,a+c\\}], A \\in Z^+$"
   ]
  },
  {
   "attachments": {},
   "cell_type": "markdown",
   "metadata": {},
   "source": [
    "#### P value\n",
    "計算出來的所有 P 值，可以從中得到原始觀察次數的機率值，在依照單雙尾檢定 (可從$H_0,H_1$看) 去把其他小於觀察次數機率值的機率值 (或稱極端值) 加總，該值就是卡方的 p_value。"
   ]
  },
  {
   "attachments": {},
   "cell_type": "markdown",
   "metadata": {},
   "source": [
    "#### 例子1 單尾\n",
    "\n",
    "某疾病的死亡率如下\n",
    "|           |男性   |  女性    | 合計  |\n",
    "| --------- |:-------:| ---------:|------:|\n",
    "| 存活     | a = 9       |     b = 4    | a + b = 13|\n",
    "| 死亡     | c = 1      |     d  = 10   | c + d = 11|\n",
    "| 合計      | a + c = 10   |   b + d = 14  | N  = 24    |\n",
    "\n",
    "問:在該疾病女性的死亡率是否比男性高"
   ]
  },
  {
   "attachments": {},
   "cell_type": "markdown",
   "metadata": {},
   "source": [
    "##### python"
   ]
  },
  {
   "cell_type": "code",
   "execution_count": 71,
   "metadata": {},
   "outputs": [
    {
     "name": "stdout",
     "output_type": "stream",
     "text": [
      "全部可能的機率為 : \n",
      "(0, 13, 10, 1) : 1e-05\n",
      "(1, 12, 9, 2) : 0.00036\n",
      "(2, 11, 8, 3) : 0.00656\n",
      "(3, 10, 7, 4) : 0.04812\n",
      "(4, 9, 6, 5) : 0.16843\n",
      "(5, 8, 5, 6) : 0.30317\n",
      "(6, 7, 4, 7) : 0.28873\n",
      "(7, 6, 3, 8) : 0.14437\n",
      "(8, 5, 2, 9) : 0.03609\n",
      "(9, 4, 1, 10) : 0.00401  <---- 觀察值\n",
      "(10, 3, 0, 11) : 0.00015\n",
      "\n",
      "p_value :  0.004156010230179028\n"
     ]
    }
   ],
   "source": [
    "import numpy as np\n",
    "\n",
    "### ipmut\n",
    "a = 9\n",
    "ab = 13\n",
    "ac = 10\n",
    "bd = 14\n",
    "cd = 11\n",
    "\n",
    "### function\n",
    "\n",
    "#階層\n",
    "def factorial(x):\n",
    "    if x > 0 :\n",
    "        return x * factorial(x-1)\n",
    "    else:\n",
    "        return 1\n",
    "\n",
    "#組合\n",
    "def comb(a,b):\n",
    "    if b>a:\n",
    "        return \"b>a\"\n",
    "    else:\n",
    "        return factorial(a)/(factorial(b)*factorial(a-b))\n",
    "\n",
    "### run\n",
    "N = ab+cd #總數\n",
    "max_a = min(ab,ac) #a 的上限\n",
    "min_a = min(ab,ac) - min(ab,ac,bd,cd) #a 的下限\n",
    "\n",
    "prob = {}\n",
    "den = comb(N,ac) #分母都相同 不用再算一次\n",
    "for i in range(min_a,max_a+1):\n",
    "    prob[str((i,ab-i,ac-i,cd-ac+i))] = comb(ab,i)*comb(cd,ac-i)/den\n",
    "\n",
    "print(\"全部可能的機率為 : \")\n",
    "for i in prob:\n",
    "    t = i.split(',')[0][1:]\n",
    "    if int(t) == a :\n",
    "        ind = int(t)\n",
    "        print(i, ':', round(prob[str(i)],5) ,\" <---- 觀察值\")\n",
    "    else:\n",
    "        print(i, ':', round(prob[str(i)],5) )\n",
    "print()\n",
    "\n",
    "if ind - min_a < ind - max_a:\n",
    "    print( \"p_value : \", np.sum( list(prob.values())[min_a:(ind+1)]  ))\n",
    "else:\n",
    "    print( \"p_value : \", np.sum( list(prob.values())[ind:(max_a+1)]  ))\n"
   ]
  },
  {
   "attachments": {},
   "cell_type": "markdown",
   "metadata": {},
   "source": [
    "#### 例子2 雙尾\n",
    "\n",
    "兩班考試結果\n",
    "|           |甲班   |  乙班    | 合計  |\n",
    "| --------- |:-------:| ---------:|------:|\n",
    "| 通過     | a = 8       |     b = 1    | a + b = 9|\n",
    "| 未通過     | c = 14      |     d  = 3   | c + d = 17|\n",
    "| 合計      | a + c = 22   |   b + d = 4  | N  = 26    |\n",
    "\n",
    "問:兩班通過比例是否不同"
   ]
  },
  {
   "cell_type": "code",
   "execution_count": 85,
   "metadata": {},
   "outputs": [
    {
     "name": "stdout",
     "output_type": "stream",
     "text": [
      "全部可能的機率為(a,b,c,d) : \n",
      "(5, 4, 17, 0) : 0.00843\n",
      "(6, 3, 16, 1) : 0.09552  <---- 觀察值\n",
      "(7, 2, 15, 2) : 0.32749\n",
      "(8, 1, 14, 3) : 0.40936\n",
      "(9, 0, 13, 4) : 0.1592\n",
      "\n",
      "p_value :  0.10394648829431438\n"
     ]
    }
   ],
   "source": [
    "import numpy as np\n",
    "\n",
    "### ipmut\n",
    "a = 6\n",
    "ab = 9\n",
    "ac = 22\n",
    "bd = 4\n",
    "cd = 17\n",
    "\n",
    "### function\n",
    "\n",
    "#階層\n",
    "def factorial(x):\n",
    "    if x > 0 :\n",
    "        return x * factorial(x-1)\n",
    "    else:\n",
    "        return 1\n",
    "\n",
    "#組合\n",
    "def comb(a,b):\n",
    "    if b>a:\n",
    "        return \"b>a\"\n",
    "    else:\n",
    "        return factorial(a)/(factorial(b)*factorial(a-b))\n",
    "\n",
    "### run\n",
    "N = ab+cd #總數\n",
    "max_a = min(ab,ac) #a 的上限\n",
    "min_a = min(ab,ac) - min(ab,ac,bd,cd) #a 的下限\n",
    "\n",
    "prob = {}\n",
    "den = comb(N,ac) #分母都相同 不用再算一次\n",
    "for i in range(min_a,max_a+1):\n",
    "    prob[str((i,ab-i,ac-i,cd-ac+i))] = comb(ab,i)*comb(cd,ac-i)/den\n",
    "\n",
    "print(\"全部可能的機率為(a,b,c,d) : \")\n",
    "for i in prob:\n",
    "    t = i.split(',')[0][1:]\n",
    "    if int(t) == a :\n",
    "        pval = prob[str(i)]\n",
    "        print(i, ':', round(prob[str(i)],5) ,\" <---- 觀察值\")\n",
    "    else:\n",
    "        print(i, ':', round(prob[str(i)],5) )\n",
    "print()\n",
    "\n",
    "sum = 0\n",
    "for i in prob:\n",
    "    if prob[str(i)] <= pval:\n",
    "        sum += prob[str(i)]\n",
    "\n",
    "print( \"p_value : \", sum)"
   ]
  },
  {
   "cell_type": "code",
   "execution_count": null,
   "metadata": {},
   "outputs": [],
   "source": []
  },
  {
   "cell_type": "code",
   "execution_count": null,
   "metadata": {},
   "outputs": [],
   "source": []
  }
 ],
 "metadata": {
  "kernelspec": {
   "display_name": "Python 3.9.5 64-bit",
   "language": "python",
   "name": "python3"
  },
  "language_info": {
   "codemirror_mode": {
    "name": "ipython",
    "version": 3
   },
   "file_extension": ".py",
   "mimetype": "text/x-python",
   "name": "python",
   "nbconvert_exporter": "python",
   "pygments_lexer": "ipython3",
   "version": "3.9.5"
  },
  "orig_nbformat": 4,
  "vscode": {
   "interpreter": {
    "hash": "4206480afc6f8f20a91f9b30d4e9d2907612993729e8a589e2c16a111e42b69c"
   }
  }
 },
 "nbformat": 4,
 "nbformat_minor": 2
}
