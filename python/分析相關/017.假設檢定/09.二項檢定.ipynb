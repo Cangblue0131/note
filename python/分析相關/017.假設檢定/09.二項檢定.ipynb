{
 "cells": [
  {
   "cell_type": "markdown",
   "metadata": {},
   "source": [
    "# 二項檢定\n",
    "\n",
    "檢定預測機率和期望機率是否有統計上的差異, H0 : 沒差異\n",
    "\n",
    "```python\n",
    "scipy.stats.binom_test(observed_successes, n=sample_size, p=p)\n",
    "```"
   ]
  },
  {
   "cell_type": "code",
   "execution_count": 13,
   "metadata": {},
   "outputs": [
    {
     "name": "stdout",
     "output_type": "stream",
     "text": [
      "p-value: 0.051528083643967756\n"
     ]
    }
   ],
   "source": [
    "import scipy.stats as ss\n",
    "\n",
    "# 假設中獎機率為 5%\n",
    "p = 0.05\n",
    "\n",
    "# 觀察到的中獎次數\n",
    "observed_successes = 220\n",
    "\n",
    "# 樣本數\n",
    "sample_size = 5000\n",
    "\n",
    "# 進行二項檢定\n",
    "p_value = ss.binom_test(observed_successes, n=sample_size, p=p)\n",
    "\n",
    "print(\"p-value:\", p_value) # 若 p value < alpha, 則 reject H0"
   ]
  }
 ],
 "metadata": {
  "kernelspec": {
   "display_name": "Python 3",
   "language": "python",
   "name": "python3"
  },
  "language_info": {
   "codemirror_mode": {
    "name": "ipython",
    "version": 3
   },
   "file_extension": ".py",
   "mimetype": "text/x-python",
   "name": "python",
   "nbconvert_exporter": "python",
   "pygments_lexer": "ipython3",
   "version": "3.11.8"
  },
  "orig_nbformat": 4
 },
 "nbformat": 4,
 "nbformat_minor": 2
}
