{
 "cells": [
  {
   "cell_type": "markdown",
   "metadata": {},
   "source": [
    "# KS test (Kolmogorov-Smirnov test)\n",
    "\n",
    "## <font color = red>目的 : 比較兩組資料是否來自相同分布</font>, 當然也可檢定某個資料是否屬於某個分布.\n",
    "\n",
    "簡述 : 比較兩者CDF間的差異, 最大的差異越大代表越不相似 (KS statistic = sup|F_A(x) - F_B(x)|). <font color = orange>樣本的數量不需一致</font>\n",
    "\n",
    "檢定用 H0 : 兩組來自相同分布\n",
    "\n",
    "[圖片來源 : wiki](https://en.wikipedia.org/wiki/Kolmogorov%E2%80%93Smirnov_test)\n",
    "\n",
    "<img src=\"https://imgur.com/qRL7qg1.jpg\" alt=\"圖片描述\" width=\"30%\" height=\"30%\">"
   ]
  },
  {
   "cell_type": "markdown",
   "metadata": {},
   "source": [
    "### 使用樣本執行 KS-test\n",
    "\n",
    "因為 KS-test 必須使用 CDF, 所以必須先將資料轉換成 CDF 的形式\n",
    "\n",
    "以下為 KS-test 使用樣本數據的執行步驟\n",
    "\n",
    "1. 計算 樣本A 和 樣本B 的累積機率密度函數(CDF)\n",
    "   \n",
    "   對樣本進行排序, 依照離散或連續, 計算各個小於 X 值( P(X<=x) )的個數, 再除以樣本數, 就會得到 CDF 估計.\n",
    "\n",
    "2. 比較兩組數據的CDF\n",
    "\n",
    "   KS-test 會比較兩組數據的CDF, 找出差異最大的值, 此值就是 KS統計量.\n",
    "\n",
    "3. 計算p值"
   ]
  },
  {
   "cell_type": "markdown",
   "metadata": {},
   "source": [
    "#### python 例子"
   ]
  },
  {
   "cell_type": "code",
   "execution_count": 14,
   "metadata": {},
   "outputs": [
    {
     "name": "stdout",
     "output_type": "stream",
     "text": [
      "KS統計量: 0.7142857142857143\n",
      "p值: 0.06565656565656565\n"
     ]
    }
   ],
   "source": [
    "import numpy as np\n",
    "from scipy.stats import ks_2samp\n",
    "\n",
    "# 給定數據\n",
    "sample_A = np.array([1, 2, 3, 4, 5])\n",
    "sample_B = np.array([2, 4, 6, 8, 10, 12, 14])\n",
    "#sample_B = np.array([2, 4, 6, 8, 10])\n",
    "\n",
    "# 進行 ks_test\n",
    "ks_statistic, ks_p_value = ks_2samp(sample_A, sample_B)\n",
    "\n",
    "# 輸出\n",
    "print(\"KS統計量:\", ks_statistic)\n",
    "print(\"p值:\", ks_p_value)"
   ]
  },
  {
   "cell_type": "markdown",
   "metadata": {},
   "source": [
    "#### 自己編寫"
   ]
  },
  {
   "cell_type": "code",
   "execution_count": 22,
   "metadata": {},
   "outputs": [
    {
     "name": "stdout",
     "output_type": "stream",
     "text": [
      "0.7142857142857143\n"
     ]
    }
   ],
   "source": [
    "from scipy.stats import kstwobign # 計算 ks 統計量的 p value\n",
    "\n",
    "def ks_stat(A, B):\n",
    "    A = np.array(A)\n",
    "    B = np.array(B)\n",
    "    jump_point_set = set(list(A) + list(B))\n",
    "    max_cdf_diff = 0\n",
    "    for jp in jump_point_set:\n",
    "        CDF_A = np.sum(A <= jp)/len(A)\n",
    "        CDF_B = np.sum(B <= jp)/len(B)\n",
    "        if max_cdf_diff < abs(CDF_A - CDF_B):\n",
    "            max_cdf_diff = abs(CDF_A - CDF_B)\n",
    "    return max_cdf_diff\n",
    "\n",
    "\n",
    "sample_A = np.array([1, 2, 3, 4, 5])\n",
    "sample_B = np.array([2, 4, 6, 8, 10, 12, 14])\n",
    "\n",
    "ks_stat_value = ks_stat(sample_A, sample_B)\n",
    "print(ks_stat_value)\n"
   ]
  }
 ],
 "metadata": {
  "kernelspec": {
   "display_name": "Python 3",
   "language": "python",
   "name": "python3"
  },
  "language_info": {
   "codemirror_mode": {
    "name": "ipython",
    "version": 3
   },
   "file_extension": ".py",
   "mimetype": "text/x-python",
   "name": "python",
   "nbconvert_exporter": "python",
   "pygments_lexer": "ipython3",
   "version": "3.9.5"
  },
  "orig_nbformat": 4
 },
 "nbformat": 4,
 "nbformat_minor": 2
}
