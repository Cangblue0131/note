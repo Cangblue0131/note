{
 "cells": [
  {
   "cell_type": "code",
   "execution_count": 15,
   "metadata": {},
   "outputs": [
    {
     "name": "stdout",
     "output_type": "stream",
     "text": [
      "\n"
     ]
    }
   ],
   "source": [
    "import os\n",
    "folder_path = './'\n",
    "\n",
    "## 取得 path 下的 folder 名稱, 下面註解為參考對象\n",
    "folder_list = [item for item in os.listdir(folder_path) \n",
    "                    if os.path.isdir(os.path.join(folder_path, item)) ]\n",
    "\n",
    "'''\n",
    "try:\n",
    "    items = os.listdir(folder_path)\n",
    "    for item in items:\n",
    "        item_path = os.path.join(folder_path, item)\n",
    "        if os.path.isdir(item_path):\n",
    "            print(item)\n",
    "except:\n",
    "    print('error')\n",
    "'''\n",
    "print()"
   ]
  },
  {
   "cell_type": "code",
   "execution_count": 23,
   "metadata": {},
   "outputs": [],
   "source": [
    "## 修改資料夾名稱, 把前面數字 + 1 \n",
    "\n",
    "for old_folder_name in folder_list:\n",
    "    folder_number, folder_name = old_folder_name.split('.')\n",
    "    new_folder_number = str(int(folder_number) + 1)\n",
    "    new_folder_name = '0' * (len(folder_number) - len(new_folder_number)) + new_folder_number + '.' + folder_name\n",
    "    os.rename(folder_path + old_folder_name, folder_path + new_folder_name)\n"
   ]
  }
 ],
 "metadata": {
  "kernelspec": {
   "display_name": "Python 3",
   "language": "python",
   "name": "python3"
  },
  "language_info": {
   "codemirror_mode": {
    "name": "ipython",
    "version": 3
   },
   "file_extension": ".py",
   "mimetype": "text/x-python",
   "name": "python",
   "nbconvert_exporter": "python",
   "pygments_lexer": "ipython3",
   "version": "3.9.5"
  },
  "orig_nbformat": 4
 },
 "nbformat": 4,
 "nbformat_minor": 2
}
