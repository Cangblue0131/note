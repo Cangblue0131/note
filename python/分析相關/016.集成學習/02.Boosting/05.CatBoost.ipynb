{
 "cells": [
  {
   "cell_type": "markdown",
   "metadata": {},
   "source": [
    "# CatBoost (Category Boost)\n",
    "\n",
    "CatBoost的主要特點是能夠自動處理類別型特徵，無需進行獨熱編碼等預處理步驟，並且具有高效率和準確性。它在應用於分類和回歸任務時都具有良好的性能。最大的特點對類別特徵的直接支援，甚至允許字串類型的特徵進行模型訓練。\n",
    "\n",
    "需要注意的是，CatBoost支援的特徵類型包括數值特徵、類別特徵和文本特徵，並且它有對類別特徵進行優化處理的內置機制。\n",
    "\n",
    "[詳細參考文章](https://zhuanlan.zhihu.com/p/102540344)"
   ]
  },
  {
   "cell_type": "markdown",
   "metadata": {},
   "source": [
    "## 執行步驟\n",
    "\n",
    "1. 載入數據：從數據集中載入特徵和目標變數。\n",
    "\n",
    "2. 訓練集和測試集分割：將數據集分割成訓練集和測試集。\n",
    "\n",
    "3. 定義類別特徵：識別並定義數據中的類別特徵（類別型變數）。\n",
    "\n",
    "4. 初始化CatBoost模型：初始化CatBoostClassifier或CatBoostRegressor模型，設置相應的超參數。\n",
    "\n",
    "5. 訓練模型：使用訓練集進行模型的訓練，模型會根據目標變數的真實值逐步進行優化。\n",
    "\n",
    "6. 驗證模型：使用測試集評估模型的性能，可以計算準確率、AUC等指標。\n",
    "\n",
    "7. 調整超參數：根據模型的表現，進行超參數的調整，以提高模型的泛化能力。\n",
    "\n",
    "8. 預測新數據：使用訓練好的CatBoost模型對新的數據進行預測。"
   ]
  },
  {
   "cell_type": "markdown",
   "metadata": {},
   "source": [
    "## python\n",
    "```python\n",
    "from catboost import CatBoostClassifier\n",
    "...\n",
    "model = CatBoostClassifier(iterations=1000, depth=6, learning_rate=0.1, loss_function='MultiClass', cat_features=[])\n",
    "...\n",
    "```\n",
    "\n",
    "其他模型還有 CatBoostRanker, CatboostRegressor 等\n",
    "\n",
    "### 參數解釋, 以 CatBoostClassifier 為例\n",
    "\n",
    "* iterations: 決定要執行的迭代次數，每次迭代中將生成一個新的樹。\n",
    "\n",
    "* learning_rate: 控制每個迭代的樹的貢獻程度，通常與 iterations 一起使用，較小的值可以提高模型的魯棒性。\n",
    "\n",
    "* depth: 樹的最大深度。較深的樹可以捕獲更複雜的模式，但也容易過擬合。\n",
    "\n",
    "* loss_function: 定義了模型訓練過程中的損失函數，根據問題的性質選擇不同的損失函數，例如分類問題可以使用 'MultiClass'。\n",
    "\n",
    "* cat_features: 如果數據集中有類別特徵，可以指定它們的索引，這樣CatBoost可以處理這些特徵。\n",
    "\n",
    "* early_stopping_rounds: 在訓練過程中，如果驗證集的表現不再改善，可以提前停止訓練以避免過擬合。\n",
    "\n",
    "* class_weights: 給不同類別分配不同的權重，用於處理不平衡的類別分佈。\n",
    "\n",
    "* custom_metric: 可以自定義衡量模型性能的指標。\n",
    "\n",
    "* random_seed: 控制隨機數的種子，用於保證實驗的可復現性。\n",
    "\n",
    "[參考](https://catboost.ai/en/docs/concepts/python-reference_catboostclassifier_fit)"
   ]
  },
  {
   "cell_type": "code",
   "execution_count": 5,
   "metadata": {},
   "outputs": [
    {
     "name": "stdout",
     "output_type": "stream",
     "text": [
      "0:\tlearn: 0.9813365\ttotal: 135ms\tremaining: 2m 15s\n",
      "100:\tlearn: 0.0482433\ttotal: 209ms\tremaining: 1.86s\n",
      "200:\tlearn: 0.0208260\ttotal: 288ms\tremaining: 1.14s\n",
      "300:\tlearn: 0.0129658\ttotal: 365ms\tremaining: 849ms\n",
      "400:\tlearn: 0.0092262\ttotal: 441ms\tremaining: 659ms\n",
      "500:\tlearn: 0.0071433\ttotal: 514ms\tremaining: 512ms\n",
      "600:\tlearn: 0.0058393\ttotal: 587ms\tremaining: 390ms\n",
      "700:\tlearn: 0.0049524\ttotal: 661ms\tremaining: 282ms\n",
      "800:\tlearn: 0.0043034\ttotal: 733ms\tremaining: 182ms\n",
      "900:\tlearn: 0.0037637\ttotal: 814ms\tremaining: 89.4ms\n",
      "999:\tlearn: 0.0033542\ttotal: 888ms\tremaining: 0us\n",
      "模型準確率: 1.0\n"
     ]
    }
   ],
   "source": [
    "import numpy as np\n",
    "import pandas as pd\n",
    "from sklearn.datasets import load_iris\n",
    "from sklearn.model_selection import train_test_split\n",
    "from catboost import CatBoostClassifier\n",
    "from sklearn.metrics import accuracy_score\n",
    "\n",
    "# 載入Iris數據集\n",
    "iris = load_iris()\n",
    "X = iris.data\n",
    "y = iris.target\n",
    "\n",
    "# 分割訓練集和測試集\n",
    "X_train, X_test, y_train, y_test = train_test_split(X, y, test_size=0.2, random_state=42)\n",
    "\n",
    "# 初始化CatBoost分類器\n",
    "model = CatBoostClassifier(iterations=1000, depth=6, learning_rate=0.1, loss_function='MultiClass', cat_features=[])\n",
    "\n",
    "# 訓練模型\n",
    "model.fit(X_train, y_train, verbose=100)\n",
    "\n",
    "# 預測測試集\n",
    "y_pred = model.predict(X_test)\n",
    "\n",
    "# 計算準確率\n",
    "accuracy = accuracy_score(y_test, y_pred)\n",
    "print(\"模型準確率:\", accuracy)\n"
   ]
  }
 ],
 "metadata": {
  "kernelspec": {
   "display_name": "Python 3",
   "language": "python",
   "name": "python3"
  },
  "language_info": {
   "codemirror_mode": {
    "name": "ipython",
    "version": 3
   },
   "file_extension": ".py",
   "mimetype": "text/x-python",
   "name": "python",
   "nbconvert_exporter": "python",
   "pygments_lexer": "ipython3",
   "version": "3.9.5"
  },
  "orig_nbformat": 4
 },
 "nbformat": 4,
 "nbformat_minor": 2
}
