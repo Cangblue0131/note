{
 "cells": [
  {
   "cell_type": "markdown",
   "metadata": {},
   "source": [
    "# 簡述\n",
    "\n",
    "Cox 比例風險模型（Cox Proportional-Hazards Model）是一種用於生存分析的統計模型，也被稱為 Cox 回歸模型。這個模型用於分析影響事件發生時間的因素，其中事件可以是生存時間中的某個事件，例如死亡、發病、失業等等。\n",
    "\n",
    "以下是對 Cox 比例風險模型的簡要說明：\n",
    "\n",
    "* 風險比率（Hazard Ratio）：Cox 模型的核心概念是風險比率，它表示在不同組別之間事件發生的風險比較。具體而言，它比較了兩個或多個組別之間事件發生的速率。如果風險比率大於1，則表示一組的風險高於另一組，如果小於1，則表示一組的風險低於另一組。\n",
    "\n",
    "* 假設：Cox 模型的一個關鍵假設是風險比率在時間上保持恆定，也就是說，不隨時間變化。換句話說，模型假設不同組別之間的風險比率是恆定的。這被稱為\"比例風險假設\"。\n",
    "\n",
    "* 自變數：Cox 模型可以包括多個自變數，這些自變數可能影響事件發生的風險。這些自變數可以是連續的、二元的、類別的，或者是任何其他類型的變數。\n",
    "\n",
    "* 部分似然估計：Cox 模型使用了部分似然估計方法，這是一種在不需要對基線風險（在所有組別中的事件發生率）進行具體建模的方法。這使得模型更加靈活，因為它允許我們專注於自變數的效應。\n",
    "\n",
    "* 生存函數：Cox 模型通常用生存函數（Survival Function）表示，該函數描述了在不同時間點上事件發生的概率。通過比較不同組別的生存函數，可以計算風險比率。"
   ]
  },
  {
   "cell_type": "markdown",
   "metadata": {},
   "source": [
    "### R code\n",
    "\n",
    "```R\n",
    "# 安裝和載入生存分析套件\n",
    "#install.packages(\"survival\")\n",
    "\n",
    "library(survival)\n",
    "\n",
    "# 創建一個虛擬的生存數據集\n",
    "set.seed(123)\n",
    "n <- 100  # 樣本數\n",
    "time <- rexp(n, rate = 0.2)  # 生成生存時間，假設指數分佈\n",
    "status <- sample(0:1, n, replace = TRUE)  # 生成事件狀態，0表示設限，1表示事件發生\n",
    "age <- rnorm(n, mean = 50, sd = 10)  # 自變數1：年齡\n",
    "sex <- factor(sample(c(\"男\", \"女\"), n, replace = TRUE))  # 自變數2：性別\n",
    "\n",
    "# 將數據組合成一個數據框\n",
    "data <- data.frame(time, status, age, sex)\n",
    "\n",
    "# 擬合Cox比例風險模型\n",
    "cox_model <- coxph(Surv(time, status) ~ age + sex, data = data)\n",
    "\n",
    "# 顯示模型摘要\n",
    "summary(cox_model)\n",
    "```\n",
    "\n",
    "從結果來看, 特徵的p value皆>0, 也就是不拒絕虛無假設 : 特徵(年齡跟性別)對於生存的沒有影響\n",
    "\n",
    "另外,\n",
    "* Likelihood ratio test= 4.63  on 2 df,   p=0.1\n",
    "* Wald test            = 4.42  on 2 df,   p=0.1\n",
    "* Score (logrank) test = 4.51  on 2 df,   p=0.1\n",
    "\n",
    "這邊是指使用三種評估方法對模型進行評估, 虛無假設是\"係數為0\". 因為不拒絕虛無假設, 所以不拒絕係數=0, 換句話說就是這些特徵對於模型的解釋力較弱.\n"
   ]
  },
  {
   "cell_type": "code",
   "execution_count": null,
   "metadata": {},
   "outputs": [],
   "source": []
  }
 ],
 "metadata": {
  "language_info": {
   "name": "python"
  },
  "orig_nbformat": 4
 },
 "nbformat": 4,
 "nbformat_minor": 2
}
