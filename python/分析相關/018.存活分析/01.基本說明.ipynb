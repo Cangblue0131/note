{
 "cells": [
  {
   "cell_type": "markdown",
   "metadata": {},
   "source": [
    "# 基本說明\n",
    "\n",
    "存活分析通常用於<font size = 4 color = orange>時間相關</font>的資料，特別是在研究事件發生和事件影響因素的時間點。\n",
    "\n",
    "這種分析最常見的應用是在醫學研究中，例如研究疾病的發展、生存率、藥物的生效期限等。此外，它也可以用於其他領域，如工程、社會科學和環境科學，以研究各種事件和現象的生存時間。\n",
    "\n",
    "存活分析的資料型態通常包括以下幾個要素：\n",
    "\n",
    "1. 生存時間（Time to Event）：確立疾病或是執行手術後開始直到事件發生的時間，通常以天、月、年等時間單位來表示。 \n",
    "\n",
    "2. 事件狀態（Event Status）：這是指標示是否發生了感興趣的事件(死亡或復發等)的變數，通常以二元變數表示，1表示事件發生，0表示事件未發生。\n",
    "\n",
    "3. 協變數（Covariates）：這些是用於解釋事件發生的其他特徵或因素，例如年齡、性別、治療方式等。\n",
    "\n",
    "4. Censoring（設限）：它指的是在研究中某些觀察因各種原因而不完整，無法確定事件的發生時間；或有時事件可能未在觀察期間發生，但我們仍然有有關該事件的一些資訊。這被稱為設限（censoring），並且在存活分析中需要妥善處理。"
   ]
  },
  {
   "cell_type": "markdown",
   "metadata": {},
   "source": [
    "### 設限資料\n",
    "\n",
    "由於有Censoring的狀況, 所以資料分為\"完整資料\"與\"設限資料\". 簡單來說, <font size = 4 color = orange>在觀察期間內若發生事件的資料就叫完整資料. 在觀察期間內消失或超過觀察期間還未發生事件的資料就是設限資料.</font>\n",
    "\n",
    "設限資料重要的原因在於, 它確實提供了在那段觀察期間內目標的狀態. 就算觀察途中目標消失(未聯絡或因其他因素無法繼續觀察), 那段期間也仍然有意義.\n",
    "\n",
    "設限資料分為右設限和左設限, 右設限及不知道事件發生時間點; 左設限及不知道觀察時間起始點(較少這類)."
   ]
  },
  {
   "cell_type": "markdown",
   "metadata": {},
   "source": [
    "## 參考資料樣式\n",
    "\n",
    "此參考資料中雖然沒有給予是否為設限資料, 不過從上面的說明可以得知, 觀察期間內只要還存活或是超過觀察期間就是設限資料.\n",
    "\n",
    "Tx : 治療與否\n",
    "\n",
    "[資料來源](https://www.vghtc.gov.tw/UploadFiles/WebFiles/WebPagesFiles/Files/698439da-e1f5-43f9-9b16-6cd86cadcd4e/20221214-%E8%AA%B2%E7%A8%8B%E8%AC%9B%E7%BE%A9.pdf)\n",
    "\n",
    "![圖片1](https://imgur.com/VQjVrY4.jpg)"
   ]
  },
  {
   "cell_type": "markdown",
   "metadata": {},
   "source": [
    "## 常見公式\n",
    "\n",
    "[參考資料](https://bookdown.org/ccwang/medical_statistics6/section-71.html)\n",
    "\n",
    "### 生存方程\n",
    "\n",
    "* 生存方程 : 事件發生的時間大於t的機率\n",
    "\n",
    "    $S(t) = P(T>t)$\n",
    "\n",
    "* 累計方程 : 在時間 t 之前的事件發生的機率\n",
    "\n",
    "    $F(t) = P(T \\leq t) = 1 - S(t)$\n",
    "\n",
    "* 生存時間的概率密度方程\n",
    "\n",
    "    $f(t) = \\frac{d}{dt}F(t) = \\lim\\limits_{\\delta \\to 0}\\frac{1}{\\delta}P(t \\leq T < t+\\delta)$\n",
    "    \n",
    "    $\\qquad= \\frac{d}{dt}(1-S(t)) = -\\frac{d}{dt}S(t)$\n",
    "\n",
    "### 風險度(hazard)方程\n",
    "\n",
    "* 事件在 $t$ 和 $t + \\delta$ 期間內發生事件的機率\n",
    "\n",
    "    $h(t) = \\lim\\limits_{\\delta \\to 0}\\frac{1}{\\delta}P(t \\leq T < t+\\delta | T \\geq t)$\n",
    "\n",
    "* 累積風險度\n",
    "\n",
    "    $H(t) = \\int^t_0h(u)du$\n",
    "\n",
    "* h(t) 和其他公式的關係\n",
    "\n",
    "    $\n",
    "    h(t)  = \\lim\\limits_{\\delta \\to 0}\\frac{1}{\\delta}P(t \\leq T < t+\\delta | T \\geq t)\n",
    "          = \\lim\\limits_{\\delta \\to 0}\\frac{1}{\\delta}\\frac{P(t \\leq T < t+\\delta, T \\geq t)}{P(T \\geq t)}\\\\\n",
    "    \\qquad= \\lim\\limits_{\\delta \\to 0}\\frac{1}{\\delta}\\frac{P(t \\leq T < t+\\delta)}{P(T \\geq t)}\\\\\n",
    "    \\qquad= \\lim\\limits_{\\delta \\to 0}\\frac{f(t)}{S(t)}\\\\\n",
    "    \\qquad= \\lim\\limits_{\\delta \\to 0}\\frac{\\frac{d}{dt}F(t)}{S(t)}\n",
    "          = \\lim\\limits_{\\delta \\to 0}\\frac{-\\frac{d}{dt}S(t)}{S(t)}\\\\\n",
    "    \\qquad= \\lim\\limits_{\\delta \\to 0}log(S(t))\n",
    "    $\n",
    "\n",
    "* H(t) 和 S(t) 的關係(推導請看[參考網站](https://bookdown.org/ccwang/medical_statistics6/section-71.html))\n",
    "\n",
    "    $S(t) = exp(-H(t))$"
   ]
  },
  {
   "cell_type": "markdown",
   "metadata": {},
   "source": [
    "## 生存時間的參數分布\n",
    "\n",
    "### 指數分布 \n",
    "\n",
    "指數分布是生存時間最簡單的分布。指數分布默認風險率(hazard rate, $\\lambda$) 不隨時間變化。在指數分布中，風險度方程，生存方程和概率密度方程分別是:\n",
    "* $h(t) = \\lambda$\n",
    "* $S(t) = e^{-\\lambda t}$\n",
    "* $f(t) = h(t)S(t) = \\lambda e^{-\\lambda t}$\n",
    "\n",
    "### Weibull 分布\n",
    "\n",
    "Weibull 分布只允許風險度隨着時間單調遞增/遞減。\n",
    "* $h(t) = k\\lambda t^{k-1}$\n",
    "* $S(t) = e^{-\\lambda t^k}$\n",
    "* $f(t) = h(t)S(t) = k\\lambda t^{k-1} e^{-\\lambda t^k}$"
   ]
  },
  {
   "cell_type": "markdown",
   "metadata": {},
   "source": []
  },
  {
   "cell_type": "code",
   "execution_count": null,
   "metadata": {},
   "outputs": [],
   "source": []
  }
 ],
 "metadata": {
  "language_info": {
   "name": "python"
  },
  "orig_nbformat": 4
 },
 "nbformat": 4,
 "nbformat_minor": 2
}
