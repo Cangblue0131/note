{
 "cells": [
  {
   "cell_type": "markdown",
   "metadata": {},
   "source": [
    "# 簡述\n",
    "\n",
    "通過無母數(非參數)法對生存數據進行初步分析之後，可以對接下來的生存數據建模過程提供有參考價值的背景信息。\n",
    "\n",
    "[參考資料](https://bookdown.org/ccwang/medical_statistics6/nonparametric.html)"
   ]
  },
  {
   "cell_type": "markdown",
   "metadata": {},
   "source": [
    "## Kaplan-Meier 生存曲線\n",
    "\n",
    "Kaplan-Meier 生存曲線（Kaplan-Meier survival curve）是一種用來估計時間至特定事件發生（例如生存時間或失敗時間）的機率分佈的統計方法。它通常用於生存分析中，該分析專注於研究事件發生的時間以及影響事件發生時間的因素。\n",
    "\n",
    "KM圖的 y 為生存機率 $S(t) = P(T>t)$, 已知在時間點 0 時生存機率 = 1, 所以由直覺可以推論得出 : 假設 $t_i$ 為事件發生時間點且 $h_i$ 為相對應的風險率, \n",
    "\n",
    "則 $S(t_j) = \\prod^j_{k=1}(1-h_k)$. 即經過 $t_{j-1}$ 還存活且在 $t_j$ 未發生事件的機率.\n",
    "\n",
    "其中, $h_j = \\frac{d_j}{n_j}$, $d_j$ 為發生事件人數; $n_j$ 為該時間點的觀察人數. 註:因為是觀察人數, 所以若有設限資料消失則 $n_j$ 也會減少."
   ]
  },
  {
   "cell_type": "markdown",
   "metadata": {},
   "source": [
    "### 例子"
   ]
  },
  {
   "cell_type": "code",
   "execution_count": 43,
   "metadata": {},
   "outputs": [
    {
     "data": {
      "text/html": [
       "<div>\n",
       "<style scoped>\n",
       "    .dataframe tbody tr th:only-of-type {\n",
       "        vertical-align: middle;\n",
       "    }\n",
       "\n",
       "    .dataframe tbody tr th {\n",
       "        vertical-align: top;\n",
       "    }\n",
       "\n",
       "    .dataframe thead th {\n",
       "        text-align: right;\n",
       "    }\n",
       "</style>\n",
       "<table border=\"1\" class=\"dataframe\">\n",
       "  <thead>\n",
       "    <tr style=\"text-align: right;\">\n",
       "      <th></th>\n",
       "      <th>ID</th>\n",
       "      <th>Survivaltime</th>\n",
       "      <th>Status</th>\n",
       "      <th>group</th>\n",
       "    </tr>\n",
       "  </thead>\n",
       "  <tbody>\n",
       "    <tr>\n",
       "      <th>0</th>\n",
       "      <td>A</td>\n",
       "      <td>12</td>\n",
       "      <td>0</td>\n",
       "      <td>1</td>\n",
       "    </tr>\n",
       "    <tr>\n",
       "      <th>1</th>\n",
       "      <td>B</td>\n",
       "      <td>8</td>\n",
       "      <td>0</td>\n",
       "      <td>1</td>\n",
       "    </tr>\n",
       "    <tr>\n",
       "      <th>2</th>\n",
       "      <td>C</td>\n",
       "      <td>12</td>\n",
       "      <td>0</td>\n",
       "      <td>2</td>\n",
       "    </tr>\n",
       "    <tr>\n",
       "      <th>3</th>\n",
       "      <td>D</td>\n",
       "      <td>7</td>\n",
       "      <td>1</td>\n",
       "      <td>1</td>\n",
       "    </tr>\n",
       "    <tr>\n",
       "      <th>4</th>\n",
       "      <td>E</td>\n",
       "      <td>5</td>\n",
       "      <td>0</td>\n",
       "      <td>2</td>\n",
       "    </tr>\n",
       "  </tbody>\n",
       "</table>\n",
       "</div>"
      ],
      "text/plain": [
       "  ID  Survivaltime  Status  group\n",
       "0  A            12       0      1\n",
       "1  B             8       0      1\n",
       "2  C            12       0      2\n",
       "3  D             7       1      1\n",
       "4  E             5       0      2"
      ]
     },
     "execution_count": 43,
     "metadata": {},
     "output_type": "execute_result"
    }
   ],
   "source": [
    "import pandas as pd\n",
    "\n",
    "data = pd.read_csv('data1.csv')\n",
    "data.head()"
   ]
  },
  {
   "cell_type": "code",
   "execution_count": 38,
   "metadata": {},
   "outputs": [
    {
     "name": "stdout",
     "output_type": "stream",
     "text": [
      "group 1\n",
      "   ID  Survivaltime  Status  group   ST\n",
      "13  N             4       0      1    -\n",
      "11  L             6       0      1    -\n",
      "3   D             7       1      1  0.8\n",
      "1   B             8       0      1    -\n",
      "12  M             9       0      1    -\n",
      "0   A            12       0      1    -\n",
      "5   F            12       0      1    -\n",
      "group 2\n",
      "   ID  Survivaltime  Status  group        ST\n",
      "9   J             1       1      2  0.857143\n",
      "8   I             4       1      2  0.714286\n",
      "4   E             5       0      2         -\n",
      "6   G             6       1      2  0.535714\n",
      "10  K             7       1      2  0.357143\n",
      "7   H            12       1      2  0.178571\n",
      "2   C            12       0      2         -\n"
     ]
    }
   ],
   "source": [
    "data1 = data[data['group'] == 1]\n",
    "data2 = data[data['group'] == 2]\n",
    "\n",
    "data1 = data1.sort_values(by = ['Survivaltime', 'Status'], ascending=[True, False]) # 若有時間點相同的, 則依照狀態排序(先完備資料再設限資料)\n",
    "data2 = data2.sort_values(by = ['Survivaltime', 'Status'], ascending=[True, False]) # 通常時間點相同則會合併成一個row, 不過這個數據沒有, 我也不特別合併了\n",
    "ST_list = [[], []]\n",
    "run = -1\n",
    "for run_data in [data1, data2]:\n",
    "    run += 1\n",
    "    ST = 1\n",
    "    sample_num = len(run_data)\n",
    "    for i in range(sample_num):\n",
    "        if run_data['Status'].values[i] > 0 :\n",
    "            ST *= 1 - run_data['Status'].values[i]/sample_num\n",
    "            ST_list[run].append(ST)\n",
    "            sample_num -= run_data['Status'].values[i]\n",
    "        else:\n",
    "            sample_num -= 1 # 因為每個時間點只有一個人, 若設限資料有很多人則要減少很多人\n",
    "            ST_list[run].append('-')\n",
    "\n",
    "data1['ST'] = ST_list[0]\n",
    "data2['ST'] = ST_list[1]\n",
    "\n",
    "print('group 1')\n",
    "print(data1)\n",
    "print('group 2')\n",
    "print(data2)"
   ]
  },
  {
   "cell_type": "markdown",
   "metadata": {},
   "source": [
    "### KaplanMeierFitter\n",
    "\n",
    "KaplanMeierFitter 函數是 lifelines 套件中的主要功能之一，它用於創建 Kaplan-Meier 生存曲線。\n",
    "\n",
    "其功能如下 :\n",
    "\n",
    "* median_survival_time_ 屬性：用於計算估計的中位生存時間。\n",
    "* confidence_interval_ 屬性：用於計算估計的生存曲線的信賴區間。\n",
    "* survival_function_ 方法：用於獲取估計的生存函數，您可以使用它來獲取生存曲線的數據。\n",
    "* plot() 方法：用於繪製 Kaplan-Meier 生存曲線圖。\n",
    "* percentile() 方法：用於計算指定百分位數的生存時間。"
   ]
  },
  {
   "cell_type": "code",
   "execution_count": 67,
   "metadata": {},
   "outputs": [
    {
     "name": "stdout",
     "output_type": "stream",
     "text": [
      "          KM_estimate\n",
      "timeline             \n",
      "0.0          1.000000\n",
      "1.0          0.857143\n",
      "4.0          0.714286\n",
      "5.0          0.714286\n",
      "6.0          0.535714\n",
      "7.0          0.357143\n",
      "12.0         0.178571\n"
     ]
    }
   ],
   "source": [
    "from lifelines import KaplanMeierFitter\n",
    "\n",
    "kmf = KaplanMeierFitter()\n",
    "kmf.fit(data2['Survivaltime'], event_observed = data2['Status'])\n",
    "print(kmf.survival_function_)\n",
    "#print(kmf.percentile(0.5))"
   ]
  },
  {
   "cell_type": "markdown",
   "metadata": {},
   "source": [
    "#### 繪製圖形"
   ]
  },
  {
   "cell_type": "code",
   "execution_count": 53,
   "metadata": {},
   "outputs": [
    {
     "data": {
      "image/png": "[encoded data removed]",
      "text/plain": [
       "<Figure size 432x288 with 1 Axes>"
      ]
     },
     "metadata": {
      "needs_background": "light"
     },
     "output_type": "display_data"
    }
   ],
   "source": [
    "import matplotlib.pyplot as plt\n",
    "from lifelines import KaplanMeierFitter\n",
    "\n",
    "# 創建 Kaplan-Meier 生存分析對象\n",
    "kmf = KaplanMeierFitter()\n",
    "\n",
    "# 按照 'group' 列拆分數據並計算 Kaplan-Meier 曲線\n",
    "groups = data['group'].unique()\n",
    "for group in groups:\n",
    "    group_data = data[data['group'] == group]\n",
    "    kmf.fit(group_data['Survivaltime'], event_observed=group_data['Status'], label=group)\n",
    "    kmf.plot()\n",
    "\n",
    "\n",
    "plt.xlabel('Time')\n",
    "plt.ylabel('Survival Probability')\n",
    "plt.title('Kaplan-Meier Survival Curves by Group')\n",
    "plt.legend(title='Group')\n",
    "plt.show()\n"
   ]
  },
  {
   "cell_type": "markdown",
   "metadata": {},
   "source": [
    "## 生命表 (life table)\n",
    "\n",
    "在 KM 中, 觀察對象的時間點是間段的, 而生命表是一個區間(例如1~2年的事件人數和設限人數).\n",
    "\n",
    "和 KM 不同的是, 生命表計算生存機率時, 並非直接不考慮設限資料, 而是先把觀察人數扣掉設限資料的1/2. 理由是 KM 能確定設限資料有活到該時間點, 但生命表無法確定設限資料在那個區間的狀態.\n",
    "\n",
    "所以公式變為 : $S(t) = \\prod^j_{k=1}(1-p_k)~~ for ~~ t_j \\leq t < t_{j+1}$, 其中 $p_j = \\frac{d_j}{n_j - m_j/2}$, $m_j$ 為時間點 $t$ 時的設限資料數量.\n",
    "\n",
    "<font size = 4 color = orange> 注意 : 雖然表格顯示0~1是某個生存率, 但是實際上繪製圖形時生存機率改變點是在結束的時間(也就是0~1的1)</font>"
   ]
  },
  {
   "cell_type": "code",
   "execution_count": 77,
   "metadata": {},
   "outputs": [
    {
     "data": {
      "text/html": [
       "<div>\n",
       "<style scoped>\n",
       "    .dataframe tbody tr th:only-of-type {\n",
       "        vertical-align: middle;\n",
       "    }\n",
       "\n",
       "    .dataframe tbody tr th {\n",
       "        vertical-align: top;\n",
       "    }\n",
       "\n",
       "    .dataframe thead th {\n",
       "        text-align: right;\n",
       "    }\n",
       "</style>\n",
       "<table border=\"1\" class=\"dataframe\">\n",
       "  <thead>\n",
       "    <tr style=\"text-align: right;\">\n",
       "      <th></th>\n",
       "      <th>year</th>\n",
       "      <th>n</th>\n",
       "      <th>deaths</th>\n",
       "      <th>cencoring</th>\n",
       "      <th>P</th>\n",
       "      <th>1-P</th>\n",
       "      <th>ST</th>\n",
       "    </tr>\n",
       "  </thead>\n",
       "  <tbody>\n",
       "    <tr>\n",
       "      <th>0</th>\n",
       "      <td>0~1</td>\n",
       "      <td>2418</td>\n",
       "      <td>456</td>\n",
       "      <td>0</td>\n",
       "      <td>0.188586</td>\n",
       "      <td>0.811414</td>\n",
       "      <td>0.811414</td>\n",
       "    </tr>\n",
       "    <tr>\n",
       "      <th>1</th>\n",
       "      <td>1~2</td>\n",
       "      <td>1962</td>\n",
       "      <td>226</td>\n",
       "      <td>39</td>\n",
       "      <td>0.116345</td>\n",
       "      <td>0.883655</td>\n",
       "      <td>0.717010</td>\n",
       "    </tr>\n",
       "    <tr>\n",
       "      <th>2</th>\n",
       "      <td>2~3</td>\n",
       "      <td>1697</td>\n",
       "      <td>152</td>\n",
       "      <td>22</td>\n",
       "      <td>0.090154</td>\n",
       "      <td>0.909846</td>\n",
       "      <td>0.652369</td>\n",
       "    </tr>\n",
       "    <tr>\n",
       "      <th>3</th>\n",
       "      <td>3~4</td>\n",
       "      <td>1523</td>\n",
       "      <td>171</td>\n",
       "      <td>23</td>\n",
       "      <td>0.113133</td>\n",
       "      <td>0.886867</td>\n",
       "      <td>0.578565</td>\n",
       "    </tr>\n",
       "    <tr>\n",
       "      <th>4</th>\n",
       "      <td>4~5</td>\n",
       "      <td>1329</td>\n",
       "      <td>135</td>\n",
       "      <td>24</td>\n",
       "      <td>0.102506</td>\n",
       "      <td>0.897494</td>\n",
       "      <td>0.519259</td>\n",
       "    </tr>\n",
       "    <tr>\n",
       "      <th>5</th>\n",
       "      <td>5~6</td>\n",
       "      <td>1170</td>\n",
       "      <td>125</td>\n",
       "      <td>107</td>\n",
       "      <td>0.111957</td>\n",
       "      <td>0.888043</td>\n",
       "      <td>0.461124</td>\n",
       "    </tr>\n",
       "    <tr>\n",
       "      <th>6</th>\n",
       "      <td>6~7</td>\n",
       "      <td>938</td>\n",
       "      <td>83</td>\n",
       "      <td>133</td>\n",
       "      <td>0.095238</td>\n",
       "      <td>0.904762</td>\n",
       "      <td>0.417207</td>\n",
       "    </tr>\n",
       "    <tr>\n",
       "      <th>7</th>\n",
       "      <td>7~8</td>\n",
       "      <td>722</td>\n",
       "      <td>74</td>\n",
       "      <td>102</td>\n",
       "      <td>0.110283</td>\n",
       "      <td>0.889717</td>\n",
       "      <td>0.371196</td>\n",
       "    </tr>\n",
       "    <tr>\n",
       "      <th>8</th>\n",
       "      <td>8~9</td>\n",
       "      <td>546</td>\n",
       "      <td>51</td>\n",
       "      <td>68</td>\n",
       "      <td>0.099609</td>\n",
       "      <td>0.900391</td>\n",
       "      <td>0.334222</td>\n",
       "    </tr>\n",
       "    <tr>\n",
       "      <th>9</th>\n",
       "      <td>9~10</td>\n",
       "      <td>427</td>\n",
       "      <td>42</td>\n",
       "      <td>64</td>\n",
       "      <td>0.106329</td>\n",
       "      <td>0.893671</td>\n",
       "      <td>0.298684</td>\n",
       "    </tr>\n",
       "  </tbody>\n",
       "</table>\n",
       "</div>"
      ],
      "text/plain": [
       "   year     n  deaths  cencoring         P       1-P        ST\n",
       "0   0~1  2418     456          0  0.188586  0.811414  0.811414\n",
       "1   1~2  1962     226         39  0.116345  0.883655  0.717010\n",
       "2   2~3  1697     152         22  0.090154  0.909846  0.652369\n",
       "3   3~4  1523     171         23  0.113133  0.886867  0.578565\n",
       "4   4~5  1329     135         24  0.102506  0.897494  0.519259\n",
       "5   5~6  1170     125        107  0.111957  0.888043  0.461124\n",
       "6   6~7   938      83        133  0.095238  0.904762  0.417207\n",
       "7   7~8   722      74        102  0.110283  0.889717  0.371196\n",
       "8   8~9   546      51         68  0.099609  0.900391  0.334222\n",
       "9  9~10   427      42         64  0.106329  0.893671  0.298684"
      ]
     },
     "execution_count": 77,
     "metadata": {},
     "output_type": "execute_result"
    }
   ],
   "source": [
    "import pandas as pd\n",
    "import numpy as np \n",
    "data = pd.read_csv('data2.csv')\n",
    "ST = 1\n",
    "ST_list = []\n",
    "P = []\n",
    "for i in range(len(data)):\n",
    "    pi = data['deaths'].values[i] / (data['n'].values[i] - data['cencoring'].values[i]/2)\n",
    "    P.append(pi)\n",
    "    ST *= 1 - pi\n",
    "    ST_list.append(ST)\n",
    "\n",
    "data['P'] = P\n",
    "data['1-P'] = 1-np.array(P)\n",
    "data['ST'] = ST_list\n",
    "data"
   ]
  },
  {
   "cell_type": "code",
   "execution_count": 123,
   "metadata": {},
   "outputs": [
    {
     "data": {
      "image/png": "[encoded data removed]",
      "text/plain": [
       "<Figure size 432x288 with 1 Axes>"
      ]
     },
     "metadata": {
      "needs_background": "light"
     },
     "output_type": "display_data"
    }
   ],
   "source": [
    "import matplotlib.pyplot as plt\n",
    "\n",
    "data_day = data['year'].str.split('~', expand=True).values.ravel().tolist() #切割資料後, expand=T是分成兩col, 然後在把2*10資料轉成1*20, 之後轉成list\n",
    "data_day = [0, 1] + [int(value)+1 for value in data_day]\n",
    "data_ST = [1, 1] + data[['ST','ST']].values.ravel().tolist()\n",
    "\n",
    "# 使用 step 函數繪製樓梯下降的圖形\n",
    "plt.step(data_day, data_ST, where='post', linewidth=2)\n",
    "\n",
    "# 設置圖形標籤\n",
    "plt.title(\"lift plot\")\n",
    "plt.xlabel(\"survival time(years)\")\n",
    "plt.ylabel(\"Propotion surviving\")\n",
    "plt.ylim(0.3,1.05)\n",
    "\n",
    "\n",
    "# 顯示圖形\n",
    "plt.grid(True)\n",
    "plt.show()"
   ]
  },
  {
   "cell_type": "markdown",
   "metadata": {},
   "source": [
    "## log-rank test\n",
    "\n",
    "Log-Rank 檢驗（Log-Rank Test）是一種用於生存分析的統計測試方法，主要用於比較兩組或多組生存時間數據是否存在顯著差異。它通常應用於研究不同組之間的生存曲線是否有統計學上的差異。\n",
    "\n",
    "* 背景：Log-Rank 檢驗最常用於比較兩組或多組受試者（如患者、實驗對象等）的生存情況，以確定某種因素是否對生存時間產生顯著影響。\n",
    "\n",
    "* 零假設：Log-Rank 檢驗的零假設是，不同組的生存曲線在整個研究期間內沒有顯著差異，即某種因素對生存沒有影響。\n",
    "\n",
    "* 生存曲線比較：在進行 Log-Rank 檢驗時，首先需要繪製不同組的生存曲線，通常使用 Kaplan-Meier 曲線。然後，Log-Rank 檢驗比較這些曲線在不同時間點的生存率是否存在統計學上的顯著差異。\n",
    "\n",
    "* 統計計算：Log-Rank 檢驗通過比較觀察到的事件數量與預期事件數量的差異來確定是否拒絕零假設。它計算每個時間點上每組的生存率，然後比較這些生存率是否在統計學上顯著不同。\n",
    "\n",
    "* 結果：Log-Rank 檢驗的結果通常以 p 值的形式報告。如果 p 值小於事先確定的顯著性水平（通常是0.05），則可以拒絕零假設，認為不同組之間存在生存差異。如果 p 值大於顯著性水平，則不能拒絕零假設，認為沒有顯著差異。\n",
    "\n",
    "* 適用性：Log-Rank 檢驗適用於比較兩組或多組的生存情況，但它對數據的分佈不做出明確假設。這意味著它可以用於不遵循正態分佈的生存數據。"
   ]
  },
  {
   "cell_type": "markdown",
   "metadata": {},
   "source": [
    "### R code\n",
    "\n",
    "```R\n",
    "#install.packages(\"survival\")\n",
    "\n",
    "# 載入 survival 套件\n",
    "library(survival)\n",
    "\n",
    "# 創建一個示例數據集\n",
    "time <- c(5, 10, 15, 20, 25, 30)\n",
    "event <- c(1, 1, 1, 0, 1, 0)  # 1 表示事件發生，0 表示事件未發生\n",
    "group <- factor(c(\"A\", \"A\", \"A\", \"B\", \"B\", \"B\"))  # 這是兩個不同組的示例\n",
    "\n",
    "# 創建 survival 物件\n",
    "surv_obj <- Surv(time, event, type=\"right\")\n",
    "\n",
    "# 執行 Log-Rank 檢驗\n",
    "logrank_test <- survdiff(surv_obj ~ group)\n",
    "print(logrank_test) #Chisq= 5.1  on 1 degrees of freedom, p= 0.02 \n",
    "```\n",
    "\n",
    "p = 0.02 < 0.05, 拒絕虛無假設 : 拒絕\"兩組沒有差別\"的這個假設"
   ]
  }
 ],
 "metadata": {
  "kernelspec": {
   "display_name": "Python 3",
   "language": "python",
   "name": "python3"
  },
  "language_info": {
   "codemirror_mode": {
    "name": "ipython",
    "version": 3
   },
   "file_extension": ".py",
   "mimetype": "text/x-python",
   "name": "python",
   "nbconvert_exporter": "python",
   "pygments_lexer": "ipython3",
   "version": "3.9.5"
  },
  "orig_nbformat": 4
 },
 "nbformat": 4,
 "nbformat_minor": 2
}
