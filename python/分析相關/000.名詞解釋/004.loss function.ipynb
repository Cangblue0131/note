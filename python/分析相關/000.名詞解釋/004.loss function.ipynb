{
 "cells": [
  {
   "cell_type": "markdown",
   "metadata": {},
   "source": [
    "## loss function (損失函數)\n",
    "損失函數（loss function）又叫做代價函數（cost function），是用來評估模型的預測值與真實值不一致的程度，也是神經網絡中優化的目標函數，神經網絡訓練或者優化的過程就是最小化損失函數的過程，損失函數越小，說明模型的預測值就越接近真實值，模型的健壯性也就越好\n",
    "\n",
    "常見的損失函數\n",
    "*   0-1損失函數(0-1 lossfunction)\n",
    "*   感知損失函數（Perceptron Loss）\n",
    "*   平方損失函數（quadratic loss function）\n",
    "    *   平均後就是MSE\n",
    "*   Hinge損失函數（hinge loss function）\n",
    "*   對數損失函數（Log Loss）\n",
    "*   交叉熵損失函數（cross-entropy loss function）\n"
   ]
  },
  {
   "cell_type": "markdown",
   "metadata": {},
   "source": [
    "[參考資料 : 深度學習入門教程：常見的損失函數大全](https://kknews.cc/code/9opor8j.html)"
   ]
  },
  {
   "cell_type": "markdown",
   "metadata": {},
   "source": [
    "## 常用的 loss function \n",
    "\n",
    "1. 均方誤差(Mean Squared Error, MSE)\n",
    "\n",
    "    * MSE = $\\frac{1}{n}\\sum^{n}_{i = 1}(y_i-\\hat{y_i})^2$\n",
    "    * 優點：\n",
    "        * 對異常值（outliers）敏感，較大的誤差會受到較大的懲罰。\n",
    "    * 缺點：\n",
    "        * 不適用於二元分類問題，通常用於回歸問題。\n",
    "\n",
    "---\n",
    "2. 平均絕對誤差（Mean Absolute Error，MAE）\n",
    "\n",
    "    * MAE = $\\frac{1}{n}\\sum^{n}_{i = 1}|y_i-\\hat{y_i}|$\n",
    "    * 優點：\n",
    "        * 不受異常值的極端影響，較為穩健。\n",
    "    * 缺點：\n",
    "        * 梯度不連續，可能對某些優化算法造成困難。\n",
    "\n",
    "---\n",
    "3. 交叉熵損失（Cross-Entropy Loss）\n",
    "\n",
    "    3-1. 二元交叉熵（Binary Cross-Entropy）\n",
    "      * Binary Cross-Entropy = $-\\frac{1}{n}\\sum^{n}_{i=1}[y_i\\log(p_i) + (1-y_i)\\log(1-p_i)]$\n",
    "      * 優點：\n",
    "          * 適用於二元分類問題，對於分類概率的預測非常有效。\n",
    "      * 缺點：\n",
    "          * 對於類別不平衡的問題可能不穩定。\n",
    "\n",
    "\n",
    "    3-2 分類交叉熵（Categorical Cross-Entropy）：通常用於多類分類問題，數學式子類似。\n",
    "      * 數學式子 : Categorical Cross-Entropy = $-\\frac{1}{n}\\sum^{n}_{i=1}\\sum^{M}_{c=1}[y_{ic}\\log(p_{ic})]$\n",
    "      * 註 : M 為分類數\n",
    "        * 優點：\n",
    "            * 適用於多類別分類，對分類概率的預測有效。\n",
    "        * 缺點：\n",
    "            * 也對類別不平衡敏感，需要注意類別均衡。\n",
    "\n",
    "---\n",
    "4. Huber損失：\n",
    "\n",
    "    * Huber(y,$\\hat{y}$) = "
   ]
  },
  {
   "cell_type": "code",
   "execution_count": 4,
   "metadata": {},
   "outputs": [
    {
     "name": "stderr",
     "output_type": "stream",
     "text": [
      "C:\\Users\\bluesky\\AppData\\Local\\Temp\\ipykernel_6060\\4018246832.py:2: RuntimeWarning: divide by zero encountered in log\n",
      "  np.log(0)\n"
     ]
    },
    {
     "data": {
      "text/plain": [
       "-inf"
      ]
     },
     "execution_count": 4,
     "metadata": {},
     "output_type": "execute_result"
    }
   ],
   "source": [
    "import numpy as np\n",
    "np.log(0)"
   ]
  }
 ],
 "metadata": {
  "kernelspec": {
   "display_name": "Python 3.9.5 64-bit",
   "language": "python",
   "name": "python3"
  },
  "language_info": {
   "codemirror_mode": {
    "name": "ipython",
    "version": 3
   },
   "file_extension": ".py",
   "mimetype": "text/x-python",
   "name": "python",
   "nbconvert_exporter": "python",
   "pygments_lexer": "ipython3",
   "version": "3.9.5"
  },
  "orig_nbformat": 4,
  "vscode": {
   "interpreter": {
    "hash": "4206480afc6f8f20a91f9b30d4e9d2907612993729e8a589e2c16a111e42b69c"
   }
  }
 },
 "nbformat": 4,
 "nbformat_minor": 2
}
