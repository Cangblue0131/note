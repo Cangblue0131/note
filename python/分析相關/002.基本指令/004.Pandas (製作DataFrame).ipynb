{
 "cells": [
  {
   "attachments": {},
   "cell_type": "markdown",
   "metadata": {},
   "source": [
    "## Pandas\n",
    "import pandas as pd\n",
    "\n"
   ]
  },
  {
   "attachments": {},
   "cell_type": "markdown",
   "metadata": {},
   "source": [
    "### 建立Data frame\n",
    "\n",
    "*   pd.DataFrame(字典或陣列資料) #建造data frame"
   ]
  },
  {
   "cell_type": "code",
   "execution_count": 1,
   "metadata": {},
   "outputs": [
    {
     "name": "stdout",
     "output_type": "stream",
     "text": [
      "使用字典來建立df：\n",
      "     name  math  chinese\n",
      "0    Mike    80       63\n",
      "1  Sherry    75       90\n",
      "2   Cindy    93       85\n",
      "3    John    86       70\n",
      "=====================\n",
      "使用陣列來建立df：\n",
      "        0   1   2\n",
      "0    Mike  80  63\n",
      "1  Sherry  75  90\n",
      "2   Cindy  93  85\n",
      "3    John  86  70\n"
     ]
    }
   ],
   "source": [
    "import pandas as pd\n",
    " \n",
    " \n",
    "grades = {\n",
    "    \"name\": [\"Mike\", \"Sherry\", \"Cindy\", \"John\"],\n",
    "    \"math\": [80, 75, 93, 86],\n",
    "    \"chinese\": [63, 90, 85, 70]\n",
    "}\n",
    " \n",
    "df = pd.DataFrame(grades)\n",
    " \n",
    "print(\"使用字典來建立df：\")\n",
    "print(df)\n",
    " \n",
    "print(\"=====================\")\n",
    " \n",
    "grades = [\n",
    "    [\"Mike\", 80, 63],\n",
    "    [\"Sherry\", 75, 90],\n",
    "    [\"Cindy\", 93, 85],\n",
    "    [\"John\", 86, 70]\n",
    "]\n",
    " \n",
    "new_df = pd.DataFrame(grades)\n",
    " \n",
    "print(\"使用陣列來建立df：\")\n",
    "print(new_df)"
   ]
  },
  {
   "cell_type": "markdown",
   "metadata": {},
   "source": [
    "### 建立一維數據\n",
    "\n",
    "Series 是 pandas 中, 用於創建一維數據結構的函數.\n",
    "\n",
    "* pd.Series(data, index, dtype, name, copy, ...)\n",
    "* data：要创建 pd.Series 的数据。可以是列表、数组、字典、标量等。也可以是另一个 pd.Series 对象。\n",
    "* index：指定 pd.Series 的索引，即每个数据点对应的标签。索引可以是整数、字符串或其他类型的数据。如果未指定索引，将使用默认索引（从0开始的整数索引）。\n",
    "* dtype：指定 pd.Series 的数据类型。可以是字符串表示的数据类型（如 'int'、'float'、'object' 等）或 numpy 数据类型（如 np.int32、np.float64 等）。如果未指定，数据类型将根据输入数据自动推断。\n",
    "* name：指定 pd.Series 的名字（即 Series 对象的名稱屬性）。這是一個可選參數，用於標識 pd.Series 對象。如果不指定，則默認為 None。\n",
    "* copy：指定是否複製數據。默認為 False，表示在不複製數據的情況下創建 pd.Series。如果設置為 True，則會複製數據，這樣原始數據不會受到 pd.Series 對象的影響。\n",
    "* ...：還有其他一些可選參數，用於進一步控制 pd.Series 對象的行為，例如排序、對齊、填充缺失值等。"
   ]
  },
  {
   "cell_type": "code",
   "execution_count": 8,
   "metadata": {},
   "outputs": [
    {
     "data": {
      "text/plain": [
       "0    1.449442\n",
       "1    0.635385\n",
       "2    0.693522\n",
       "3    1.673857\n",
       "4   -0.656918\n",
       "5   -0.587545\n",
       "6   -0.717706\n",
       "7   -1.479497\n",
       "8   -1.265824\n",
       "9    1.550694\n",
       "Name: normal_data, dtype: float64"
      ]
     },
     "execution_count": 8,
     "metadata": {},
     "output_type": "execute_result"
    }
   ],
   "source": [
    "import pandas as pd\n",
    "import scipy.stats as ss\n",
    "\n",
    "data = ss.norm.rvs(size = 10, loc = 0, scale = 1)\n",
    "\n",
    "Ser = pd.Series(data, name = 'normal_data')\n",
    "Ser"
   ]
  },
  {
   "attachments": {},
   "cell_type": "markdown",
   "metadata": {},
   "source": [
    "### 提取"
   ]
  },
  {
   "attachments": {},
   "cell_type": "markdown",
   "metadata": {},
   "source": [
    "*   提取除了最後一行,最後一列以外的"
   ]
  },
  {
   "cell_type": "code",
   "execution_count": 2,
   "metadata": {},
   "outputs": [
    {
     "data": {
      "text/html": [
       "<div>\n",
       "<style scoped>\n",
       "    .dataframe tbody tr th:only-of-type {\n",
       "        vertical-align: middle;\n",
       "    }\n",
       "\n",
       "    .dataframe tbody tr th {\n",
       "        vertical-align: top;\n",
       "    }\n",
       "\n",
       "    .dataframe thead th {\n",
       "        text-align: right;\n",
       "    }\n",
       "</style>\n",
       "<table border=\"1\" class=\"dataframe\">\n",
       "  <thead>\n",
       "    <tr style=\"text-align: right;\">\n",
       "      <th></th>\n",
       "      <th>name</th>\n",
       "      <th>math</th>\n",
       "    </tr>\n",
       "  </thead>\n",
       "  <tbody>\n",
       "    <tr>\n",
       "      <th>0</th>\n",
       "      <td>Mike</td>\n",
       "      <td>80</td>\n",
       "    </tr>\n",
       "    <tr>\n",
       "      <th>1</th>\n",
       "      <td>Sherry</td>\n",
       "      <td>75</td>\n",
       "    </tr>\n",
       "    <tr>\n",
       "      <th>2</th>\n",
       "      <td>Cindy</td>\n",
       "      <td>93</td>\n",
       "    </tr>\n",
       "  </tbody>\n",
       "</table>\n",
       "</div>"
      ],
      "text/plain": [
       "     name  math\n",
       "0    Mike    80\n",
       "1  Sherry    75\n",
       "2   Cindy    93"
      ]
     },
     "execution_count": 2,
     "metadata": {},
     "output_type": "execute_result"
    }
   ],
   "source": [
    "import pandas as pd\n",
    " \n",
    " \n",
    "grades = {\n",
    "    \"name\": [\"Mike\", \"Sherry\", \"Cindy\", \"John\"],\n",
    "    \"math\": [80, 75, 93, 86],\n",
    "    \"chinese\": [63, 90, 85, 70]\n",
    "}\n",
    " \n",
    "df = pd.DataFrame(grades)\n",
    "df.iloc[0:-1,0:-1]"
   ]
  },
  {
   "attachments": {},
   "cell_type": "markdown",
   "metadata": {},
   "source": [
    "### 更改 col 和 row names\n",
    "\n",
    "*   .index = [rownames]  #更改rownames\n",
    "*   .columns = [colnames]  #更改colnames\n"
   ]
  },
  {
   "cell_type": "code",
   "execution_count": 3,
   "metadata": {},
   "outputs": [
    {
     "name": "stdout",
     "output_type": "stream",
     "text": [
      "   student_name  math_score  chinese_score\n",
      "s1         Mike          80             63\n",
      "s2       Sherry          75             90\n",
      "s3        Cindy          93             85\n",
      "s4         John          86             70\n"
     ]
    }
   ],
   "source": [
    "import pandas as pd\n",
    " \n",
    " \n",
    "grades = {\n",
    "    \"name\": [\"Mike\", \"Sherry\", \"Cindy\", \"John\"],\n",
    "    \"math\": [80, 75, 93, 86],\n",
    "    \"chinese\": [63, 90, 85, 70]\n",
    "}\n",
    " \n",
    "df = pd.DataFrame(grades)\n",
    "df.index = [\"s1\", \"s2\", \"s3\", \"s4\"]  #自訂索引值\n",
    "df.columns = [\"student_name\", \"math_score\", \"chinese_score\"]  #自訂欄位名稱\n",
    "print(df)"
   ]
  },
  {
   "attachments": {},
   "cell_type": "markdown",
   "metadata": {},
   "source": [
    "### 合併數據\n",
    "[參考資料](http://violin-tao.blogspot.com/2017/06/pandas-2-concat-merge.html)\n",
    "1.  pd.concat([df1,df2,...],Parameters) : \n",
    "    *   axis : = 0 為直向合併(列合併) ; = 1 為橫向合併(行合併) 。 default 0\n",
    "    *   ignore_index : = True 可以忽略合併時舊的 index 欄位，改採用自動產生的 index (不管之前如何，都改成0,1,2,...) 。default False\n",
    "    *   join : 'inner', 'outer' 。\n",
    "        *   join 模式是 'outer'，會直接把沒有的資料用 NaN 代替\n",
    "        *   join 模式為 'inner'，會直接把沒有完整資料的刪除掉\n",
    "        *   default 'outer'\n",
    "\n",
    "2.  pd.append([df1,df2,...],Parameters) : \n",
    "\n",
    "3.  pd.merge(df1,df2, on = 'key',Parameters):\n",
    "    *   how : 'inner','outer',選擇df \n",
    "        *   inner 和 outer 跟 concat 的效果一樣\n",
    "        *   選擇 df1 或 df2 ，則在多重合併時會依照那個 df 的 key 去合併\n",
    "\n",
    "    [待補](http://violin-tao.blogspot.com/2017/06/pandas-2-concat-merge.html)"
   ]
  },
  {
   "attachments": {},
   "cell_type": "markdown",
   "metadata": {},
   "source": [
    "##### pd.concat"
   ]
  },
  {
   "cell_type": "code",
   "execution_count": 4,
   "metadata": {},
   "outputs": [
    {
     "name": "stdout",
     "output_type": "stream",
     "text": [
      "df1:\n",
      "   name  math  chinese\n",
      "s1    A    80       63\n",
      "s2    B    86       70\n",
      "df2:\n",
      "   name  math  chinese\n",
      "s2    A    50       23\n",
      "s3    B    30       60\n",
      "\n",
      "pd.concat([df1,df2], axis = 0):\n",
      "   name  math  chinese\n",
      "s1    A    80       63\n",
      "s2    B    86       70\n",
      "s2    A    50       23\n",
      "s3    B    30       60\n",
      "\n",
      "pd.concat([df1,df2], axis = 1):\n",
      "   name  math  chinese name  math  chinese\n",
      "s1    A  80.0     63.0  NaN   NaN      NaN\n",
      "s2    B  86.0     70.0    A  50.0     23.0\n",
      "s3  NaN   NaN      NaN    B  30.0     60.0\n"
     ]
    }
   ],
   "source": [
    "import pandas as pd\n",
    "\n",
    "grades = {\n",
    "    \"name\": [\"A\", \"B\"],\n",
    "    \"math\": [80, 86],\n",
    "    \"chinese\": [63, 70]\n",
    "}\n",
    " \n",
    "df1 = pd.DataFrame(grades)\n",
    "df1.index = [\"s1\", \"s2\"]  #自訂索引值\n",
    "\n",
    "print(\"df1:\" )\n",
    "print(df1)\n",
    "\n",
    "grades = {\n",
    "    \"name\": [\"A\", \"B\"],\n",
    "    \"math\": [50, 30],\n",
    "    \"chinese\": [23, 60]\n",
    "}\n",
    " \n",
    "df2 = pd.DataFrame(grades)\n",
    "df2.index = [\"s2\", \"s3\"]  #自訂索引值\n",
    "\n",
    "print(\"df2:\" )\n",
    "print(df2)\n",
    "\n",
    "print()\n",
    "print(\"pd.concat([df1,df2], axis = 0):\")\n",
    "print(pd.concat([df1,df2], axis = 0))\n",
    "\n",
    "print()\n",
    "print(\"pd.concat([df1,df2], axis = 1):\")\n",
    "print(pd.concat([df1,df2], axis = 1))\n"
   ]
  },
  {
   "attachments": {},
   "cell_type": "markdown",
   "metadata": {},
   "source": [
    "##### pd.append"
   ]
  },
  {
   "cell_type": "code",
   "execution_count": 5,
   "metadata": {},
   "outputs": [
    {
     "name": "stdout",
     "output_type": "stream",
     "text": [
      "append 預設是往下加\n",
      "     a    b    c    d\n",
      "0  0.0  0.0  0.0  0.0\n",
      "1  0.0  0.0  0.0  0.0\n",
      "2  0.0  0.0  0.0  0.0\n",
      "3  1.0  1.0  1.0  1.0\n",
      "4  1.0  1.0  1.0  1.0\n",
      "5  1.0  1.0  1.0  1.0\n",
      "append 多個\n",
      "     a    b    c    d\n",
      "0  0.0  0.0  0.0  0.0\n",
      "1  0.0  0.0  0.0  0.0\n",
      "2  0.0  0.0  0.0  0.0\n",
      "3  1.0  1.0  1.0  1.0\n",
      "4  1.0  1.0  1.0  1.0\n",
      "5  1.0  1.0  1.0  1.0\n",
      "6  3.0  3.0  3.0  3.0\n",
      "7  3.0  3.0  3.0  3.0\n",
      "8  3.0  3.0  3.0  3.0\n",
      "直接 append 一組資料\n",
      "     a    b    c    d\n",
      "0  0.0  0.0  0.0  0.0\n",
      "1  0.0  0.0  0.0  0.0\n",
      "2  0.0  0.0  0.0  0.0\n",
      "3  1.0  2.0  3.0  4.0\n"
     ]
    },
    {
     "name": "stderr",
     "output_type": "stream",
     "text": [
      "C:\\Users\\bluesky\\AppData\\Local\\Temp\\ipykernel_1468\\1498882070.py:11: FutureWarning: The frame.append method is deprecated and will be removed from pandas in a future version. Use pandas.concat instead.\n",
      "  res = df1.append(df2, ignore_index=True)\n",
      "C:\\Users\\bluesky\\AppData\\Local\\Temp\\ipykernel_1468\\1498882070.py:17: FutureWarning: The frame.append method is deprecated and will be removed from pandas in a future version. Use pandas.concat instead.\n",
      "  res = df1.append([df2,df3], ignore_index=True)\n",
      "C:\\Users\\bluesky\\AppData\\Local\\Temp\\ipykernel_1468\\1498882070.py:23: FutureWarning: The frame.append method is deprecated and will be removed from pandas in a future version. Use pandas.concat instead.\n",
      "  res = df1.append(s1, ignore_index=True)\n"
     ]
    }
   ],
   "source": [
    "#coding=utf-8\n",
    "import pandas as pd \n",
    "import numpy as np \n",
    "\n",
    "# concat 的 append 功能\n",
    "df1 = pd.DataFrame(np.ones((3,4))*0, columns=['a','b','c','d'])\n",
    "df2 = pd.DataFrame(np.ones((3,4))*1, columns=['a','b','c','d'])\n",
    "\n",
    "# append 預設是往下加\n",
    "print(\"append 預設是往下加\")\n",
    "res = df1.append(df2, ignore_index=True)\n",
    "print(res)\n",
    "\n",
    "# append 多個\n",
    "print(\"append 多個\")\n",
    "df3 = pd.DataFrame(np.ones((3,4))*3, columns=['a','b','c','d'])\n",
    "res = df1.append([df2,df3], ignore_index=True)\n",
    "print(res)\n",
    "\n",
    "# 直接 append 一組資料\n",
    "print(\"直接 append 一組資料\")\n",
    "s1 = pd.Series([1,2,3,4],index=['a','b','c','d'])\n",
    "res = df1.append(s1, ignore_index=True)\n",
    "print(res)\n"
   ]
  },
  {
   "attachments": {},
   "cell_type": "markdown",
   "metadata": {},
   "source": [
    "##### pd.merge\n"
   ]
  },
  {
   "attachments": {},
   "cell_type": "markdown",
   "metadata": {},
   "source": [
    "*   merge by 一個 key"
   ]
  },
  {
   "cell_type": "code",
   "execution_count": 6,
   "metadata": {},
   "outputs": [
    {
     "name": "stdout",
     "output_type": "stream",
     "text": [
      "  key   A   B   C   D\n",
      "0  K0  A0  B0  C0  D0\n",
      "1  K1  A1  B1  C1  D1\n",
      "2  K2  A2  B2  C2  D2\n",
      "3  K3  A3  B3  C3  D3\n"
     ]
    }
   ],
   "source": [
    "import pandas as pd \n",
    "import numpy as np \n",
    "\n",
    "left = pd.DataFrame({\n",
    "    'key':['K0','K1','K2','K3'],\n",
    "    'A':['A0','A1','A2','A3'],\n",
    "    'B':['B0','B1','B2','B3']})\n",
    "\n",
    "right = pd.DataFrame({\n",
    "    'key':['K0','K1','K2','K3'],\n",
    "    'C':['C0','C1','C2','C3'],\n",
    "    'D':['D0','D1','D2','D3']})\n",
    "\n",
    "res = pd.merge(left,right, on='key')\n",
    "print(res)"
   ]
  },
  {
   "attachments": {},
   "cell_type": "markdown",
   "metadata": {},
   "source": [
    "*   merge by 多個 key"
   ]
  },
  {
   "cell_type": "code",
   "execution_count": 7,
   "metadata": {},
   "outputs": [],
   "source": [
    "import pandas as pd \n",
    "import numpy as np \n",
    "\n",
    "left = pd.DataFrame({\n",
    "    'key1':['K0','K0','K1','K2'],\n",
    "    'key2':['K0','K1','K0','K1'],\n",
    "    'A':['A0','A1','A2','A3'],\n",
    "    'B':['B0','B1','B2','B3']})\n",
    "\n",
    "right = pd.DataFrame({\n",
    "    'key1':['K0','K1','K1','K2'],\n",
    "    'key2':['K0','K0','K0','K0'],\n",
    "    'C':['C0','C1','C2','C3'],\n",
    "    'D':['D0','D1','D2','D3']})"
   ]
  },
  {
   "attachments": {},
   "cell_type": "markdown",
   "metadata": {},
   "source": [
    "1.  inner 模式 : #NaN去掉"
   ]
  },
  {
   "cell_type": "code",
   "execution_count": 8,
   "metadata": {},
   "outputs": [
    {
     "name": "stdout",
     "output_type": "stream",
     "text": [
      "  key1 key2   A   B   C   D\n",
      "0   K0   K0  A0  B0  C0  D0\n",
      "1   K1   K0  A2  B2  C1  D1\n",
      "2   K1   K0  A2  B2  C2  D2\n"
     ]
    }
   ],
   "source": [
    "res = pd.merge(left,right, on=['key1','key2'])           # 這兩行效果一樣\n",
    "res = pd.merge(left,right, on=['key1','key2'],how='inner')  # 這兩行效果一樣\n",
    "print(res)"
   ]
  },
  {
   "attachments": {},
   "cell_type": "markdown",
   "metadata": {},
   "source": [
    "2.  outer 模式 : NaN保留"
   ]
  },
  {
   "cell_type": "code",
   "execution_count": 9,
   "metadata": {},
   "outputs": [
    {
     "name": "stdout",
     "output_type": "stream",
     "text": [
      "  key1 key2    A    B    C    D\n",
      "0   K0   K0   A0   B0   C0   D0\n",
      "1   K0   K1   A1   B1  NaN  NaN\n",
      "2   K1   K0   A2   B2   C1   D1\n",
      "3   K1   K0   A2   B2   C2   D2\n",
      "4   K2   K1   A3   B3  NaN  NaN\n",
      "5   K2   K0  NaN  NaN   C3   D3\n"
     ]
    }
   ],
   "source": [
    "res = pd.merge(left,right, on=['key1','key2'],how='outer')\n",
    "print(res)"
   ]
  },
  {
   "attachments": {},
   "cell_type": "markdown",
   "metadata": {},
   "source": [
    "3.  right 模式 : 依照 right 的 key"
   ]
  },
  {
   "cell_type": "code",
   "execution_count": 10,
   "metadata": {},
   "outputs": [
    {
     "name": "stdout",
     "output_type": "stream",
     "text": [
      "  key1 key2    A    B   C   D\n",
      "0   K0   K0   A0   B0  C0  D0\n",
      "1   K1   K0   A2   B2  C1  D1\n",
      "2   K1   K0   A2   B2  C2  D2\n",
      "3   K2   K0  NaN  NaN  C3  D3\n"
     ]
    }
   ],
   "source": [
    "res = pd.merge(left,right, on=['key1','key2'],how='right') #依照right的格式\n",
    "print(res)"
   ]
  },
  {
   "attachments": {},
   "cell_type": "markdown",
   "metadata": {},
   "source": [
    "4.  left 模式 : 依照 left 的 key"
   ]
  },
  {
   "cell_type": "code",
   "execution_count": 11,
   "metadata": {},
   "outputs": [
    {
     "name": "stdout",
     "output_type": "stream",
     "text": [
      "  key1 key2   A   B    C    D\n",
      "0   K0   K0  A0  B0   C0   D0\n",
      "1   K0   K1  A1  B1  NaN  NaN\n",
      "2   K1   K0  A2  B2   C1   D1\n",
      "3   K1   K0  A2  B2   C2   D2\n",
      "4   K2   K1  A3  B3  NaN  NaN\n"
     ]
    }
   ],
   "source": [
    "res = pd.merge(left,right, on=['key1','key2'],how='left') #依照right的格式\n",
    "print(res)"
   ]
  },
  {
   "attachments": {},
   "cell_type": "markdown",
   "metadata": {},
   "source": [
    "### 處理遺失值[dropna, drop, fillna]\n",
    "\n",
    "<font size = 5>[參考資料](https://blog.csdn.net/dss_dssssd/article/details/82814673)</font>\n",
    "\n",
    "### DataFrame.dropna(axis=0, how='any', thresh=None, subset=None, inplace=False)\n",
    "*   axis:\n",
    "    *   axis = 0 : 刪除包含缺失值得row\n",
    "    *   axis = 1 : 刪除包含缺失值得col, 也可以用columns\n",
    "*   how : 與 axis 配合使用\n",
    "    *   how = 'any' : 只要出現缺失值, 就刪除\n",
    "    *   how = 'all' : 全部都是缺失值才刪除\n",
    "*   thresh : axis 中至少有 thresh 個不是缺失值, 否則刪除\n",
    "    *   例如 axis=0，thresh=10：該 row 若<font size = 4>**非**</font>缺失值的數量小於10, 就刪除該row\n",
    "*   subset : list [colnames]\n",
    "    *   在哪些col中查看是否有缺失值\n",
    "*   inplace : 是否在原数据上操作。如果为真，返回None否则返回新的copy，去掉了缺失值\n"
   ]
  },
  {
   "attachments": {},
   "cell_type": "markdown",
   "metadata": {},
   "source": [
    "#### python"
   ]
  },
  {
   "attachments": {},
   "cell_type": "markdown",
   "metadata": {},
   "source": [
    "##### axis"
   ]
  },
  {
   "cell_type": "code",
   "execution_count": 76,
   "metadata": {},
   "outputs": [
    {
     "name": "stdout",
     "output_type": "stream",
     "text": [
      "刪除包含缺失值得row :\n",
      "Empty DataFrame\n",
      "Columns: [A, B, C, E]\n",
      "Index: []\n",
      "\n",
      "刪除包含缺失值得col :\n",
      "   B\n",
      "0  4\n",
      "1  5\n",
      "2  6\n",
      "3  1\n"
     ]
    }
   ],
   "source": [
    "import pandas as pd\n",
    "import numpy as np\n",
    "data = {'A': [1, 2, np.nan, 1],\n",
    "        'B': [4, 5, 6, 1],\n",
    "        'C': [np.nan, 8, 9, 1]}\n",
    "df = pd.DataFrame(data)\n",
    "\n",
    "print('刪除包含缺失值得row :')\n",
    "print(df.dropna(axis = 0))\n",
    "\n",
    "print('\\n刪除包含缺失值得col :')\n",
    "print(df.dropna(axis = 'columns'))\n",
    "\n"
   ]
  },
  {
   "attachments": {},
   "cell_type": "markdown",
   "metadata": {},
   "source": [
    "##### how"
   ]
  },
  {
   "cell_type": "code",
   "execution_count": 120,
   "metadata": {},
   "outputs": [
    {
     "name": "stdout",
     "output_type": "stream",
     "text": [
      "只要有缺失值就刪除包含缺失值得col :\n",
      "   B\n",
      "0  4\n",
      "1  5\n",
      "2  6\n",
      "3  1\n",
      "\n",
      "都是缺失值才刪除包含缺失值得col :\n",
      "     A  B    C\n",
      "0  1.0  4  NaN\n",
      "1  2.0  5  8.0\n",
      "2  NaN  6  9.0\n",
      "3  1.0  1  1.0\n"
     ]
    }
   ],
   "source": [
    "data = {'A': [1, 2, np.nan, 1],\n",
    "        'B': [4, 5, 6, 1],\n",
    "        'C': [np.nan, 8, 9, 1],\n",
    "        'D': [np.nan, np.nan, np.nan, np.nan]}\n",
    "df = pd.DataFrame(data)\n",
    "\n",
    "print('只要有缺失值就刪除包含缺失值得col :')\n",
    "print(df.dropna(axis = 1, how = 'any'))\n",
    "\n",
    "print('\\n都是缺失值才刪除包含缺失值得col :')\n",
    "print(df.dropna(axis = 1, how = 'all'))"
   ]
  },
  {
   "attachments": {},
   "cell_type": "markdown",
   "metadata": {},
   "source": [
    "##### thresh"
   ]
  },
  {
   "cell_type": "code",
   "execution_count": 121,
   "metadata": {},
   "outputs": [
    {
     "name": "stdout",
     "output_type": "stream",
     "text": [
      "只要有缺失值就刪除包含缺失值得col :\n",
      "     A    B\n",
      "0  NaN  NaN\n",
      "1  2.0  NaN\n",
      "2  1.0  6.0\n",
      "3  1.0  1.0\n",
      "4  1.0  1.0\n"
     ]
    }
   ],
   "source": [
    "data = {'A': [np.nan, 2, 1, 1, 1],\n",
    "        'B': [np.nan, np.nan, 6, 1, 1],\n",
    "        'C': [np.nan, np.nan, np.nan, 1, 1],\n",
    "        'D': [np.nan, np.nan, np.nan, np.nan, 1]}\n",
    "df = pd.DataFrame(data)\n",
    "print('只要有缺失值就刪除包含缺失值得col :')\n",
    "print(df.dropna(axis = 1, thresh = 3))\n",
    "\n"
   ]
  },
  {
   "attachments": {},
   "cell_type": "markdown",
   "metadata": {},
   "source": [
    "##### subset"
   ]
  },
  {
   "cell_type": "code",
   "execution_count": 122,
   "metadata": {},
   "outputs": [
    {
     "name": "stdout",
     "output_type": "stream",
     "text": [
      "\n",
      "都是缺失值才刪除包含缺失值得col :\n",
      "     A  B    C   D\n",
      "0  1.0  4  NaN NaN\n",
      "1  2.0  5  8.0 NaN\n",
      "3  1.0  1  1.0 NaN\n"
     ]
    }
   ],
   "source": [
    "data = {'A': [1, 2, np.nan, 1],\n",
    "        'B': [4, 5, 6, 1],\n",
    "        'C': [np.nan, 8, 9, 1],\n",
    "        'D': [np.nan, np.nan, np.nan, np.nan]}\n",
    "df = pd.DataFrame(data)\n",
    "\n",
    "\n",
    "print('\\n都是缺失值才刪除包含缺失值得col :')\n",
    "print(df.dropna(subset=['A', 'B']))"
   ]
  },
  {
   "attachments": {},
   "cell_type": "markdown",
   "metadata": {},
   "source": [
    "### DataFrame.drop(labels=None, axis=0, index=None, columns=None, level=None, inplace=False, errors='raise')\n",
    "\n",
    "可以使用 dropna 或 drop 的函數, 差別在於此是直接刪除而非判斷是否有na\n",
    "\n",
    "*   labels : 要刪除的 row 或 col"
   ]
  },
  {
   "attachments": {},
   "cell_type": "markdown",
   "metadata": {},
   "source": [
    "#### python"
   ]
  },
  {
   "cell_type": "code",
   "execution_count": 124,
   "metadata": {},
   "outputs": [
    {
     "name": "stdout",
     "output_type": "stream",
     "text": [
      "刪除\"B\"和\"D\"的那col :\n",
      "     A    C\n",
      "0  1.0  NaN\n",
      "1  2.0  8.0\n",
      "2  NaN  9.0\n",
      "3  1.0  1.0\n",
      "\n",
      "刪除\"B\"和\"D\"的那col :\n",
      "     A    C\n",
      "0  1.0  NaN\n",
      "1  2.0  8.0\n",
      "2  NaN  9.0\n",
      "3  1.0  1.0\n",
      "\n",
      "刪除索引0,1的那兩row :\n",
      "     A  B    C   D\n",
      "2  NaN  6  9.0 NaN\n",
      "3  1.0  1  1.0 NaN\n"
     ]
    }
   ],
   "source": [
    "data = {'A': [1, 2, np.nan, 1],\n",
    "        'B': [4, 5, 6, 1],\n",
    "        'C': [np.nan, 8, 9, 1],\n",
    "        'D': [np.nan, np.nan, np.nan, np.nan]}\n",
    "df = pd.DataFrame(data)\n",
    "\n",
    "print('刪除\"B\"和\"D\"的那col :')\n",
    "print(df.drop(labels = ['B','D'], axis = 1))\n",
    "\n",
    "\n",
    "print('\\n刪除\"B\"和\"D\"的那col :')\n",
    "print(df.drop(columns = ['B','D']))\n",
    "\n",
    "print('\\n刪除索引0,1的那兩row :')\n",
    "print(df.drop([0,1]))\n",
    "\n"
   ]
  },
  {
   "attachments": {},
   "cell_type": "markdown",
   "metadata": {},
   "source": [
    "### DataFrame.fillna(value=None, method=None, axis=None, inplace=False, limit=None, downcast=None, **kwargs)\n",
    "\n",
    "*   value : scalar, dict, series, DataFrame\n",
    "    dict 可以指定每一 row 或 col 用甚麼值填充\n",
    "*   method : {'backfill', 'bfill', 'pad', 'ffill', None}, default None : 在列上操作\n",
    "    *   ffill / pad : 使用前一個值來填充缺失值\n",
    "    *   backfill / bfill : 使用後一個值來填充缺失值\n",
    "*   limit : 填充的缺失值個數限制"
   ]
  },
  {
   "attachments": {},
   "cell_type": "markdown",
   "metadata": {},
   "source": [
    "#### python"
   ]
  },
  {
   "cell_type": "code",
   "execution_count": 125,
   "metadata": {},
   "outputs": [
    {
     "name": "stdout",
     "output_type": "stream",
     "text": [
      "     A    B    C    D\n",
      "0  NaN  NaN  NaN  NaN\n",
      "1  2.0  NaN  5.0  6.0\n",
      "2  1.0  6.0  NaN  NaN\n",
      "3  NaN  1.0  1.0  NaN\n",
      "4  1.0  1.0  NaN  1.0\n"
     ]
    }
   ],
   "source": [
    "data = {'A': [np.nan, 2, 1, np.nan, 1],\n",
    "        'B': [np.nan, np.nan, 6, 1, 1],\n",
    "        'C': [np.nan, 5, np.nan, 1, np.nan],\n",
    "        'D': [np.nan, 6, np.nan, np.nan, 1]}\n",
    "df = pd.DataFrame(data)\n",
    "print(df)"
   ]
  },
  {
   "attachments": {},
   "cell_type": "markdown",
   "metadata": {},
   "source": [
    "##### 使用0代替所有缺失值"
   ]
  },
  {
   "cell_type": "code",
   "execution_count": 126,
   "metadata": {},
   "outputs": [
    {
     "data": {
      "text/html": [
       "<div>\n",
       "<style scoped>\n",
       "    .dataframe tbody tr th:only-of-type {\n",
       "        vertical-align: middle;\n",
       "    }\n",
       "\n",
       "    .dataframe tbody tr th {\n",
       "        vertical-align: top;\n",
       "    }\n",
       "\n",
       "    .dataframe thead th {\n",
       "        text-align: right;\n",
       "    }\n",
       "</style>\n",
       "<table border=\"1\" class=\"dataframe\">\n",
       "  <thead>\n",
       "    <tr style=\"text-align: right;\">\n",
       "      <th></th>\n",
       "      <th>A</th>\n",
       "      <th>B</th>\n",
       "      <th>C</th>\n",
       "      <th>D</th>\n",
       "    </tr>\n",
       "  </thead>\n",
       "  <tbody>\n",
       "    <tr>\n",
       "      <th>0</th>\n",
       "      <td>0.0</td>\n",
       "      <td>0.0</td>\n",
       "      <td>0.0</td>\n",
       "      <td>0.0</td>\n",
       "    </tr>\n",
       "    <tr>\n",
       "      <th>1</th>\n",
       "      <td>2.0</td>\n",
       "      <td>0.0</td>\n",
       "      <td>5.0</td>\n",
       "      <td>6.0</td>\n",
       "    </tr>\n",
       "    <tr>\n",
       "      <th>2</th>\n",
       "      <td>1.0</td>\n",
       "      <td>6.0</td>\n",
       "      <td>0.0</td>\n",
       "      <td>0.0</td>\n",
       "    </tr>\n",
       "    <tr>\n",
       "      <th>3</th>\n",
       "      <td>0.0</td>\n",
       "      <td>1.0</td>\n",
       "      <td>1.0</td>\n",
       "      <td>0.0</td>\n",
       "    </tr>\n",
       "    <tr>\n",
       "      <th>4</th>\n",
       "      <td>1.0</td>\n",
       "      <td>1.0</td>\n",
       "      <td>0.0</td>\n",
       "      <td>1.0</td>\n",
       "    </tr>\n",
       "  </tbody>\n",
       "</table>\n",
       "</div>"
      ],
      "text/plain": [
       "     A    B    C    D\n",
       "0  0.0  0.0  0.0  0.0\n",
       "1  2.0  0.0  5.0  6.0\n",
       "2  1.0  6.0  0.0  0.0\n",
       "3  0.0  1.0  1.0  0.0\n",
       "4  1.0  1.0  0.0  1.0"
      ]
     },
     "execution_count": 126,
     "metadata": {},
     "output_type": "execute_result"
    }
   ],
   "source": [
    "df.fillna(0)"
   ]
  },
  {
   "attachments": {},
   "cell_type": "markdown",
   "metadata": {},
   "source": [
    "##### 使用附近的值代替缺失值"
   ]
  },
  {
   "cell_type": "code",
   "execution_count": 127,
   "metadata": {},
   "outputs": [
    {
     "name": "stdout",
     "output_type": "stream",
     "text": [
      "使用前面的值代替缺失值\n",
      "     A    B    C    D\n",
      "0  NaN  NaN  NaN  NaN\n",
      "1  2.0  NaN  5.0  6.0\n",
      "2  1.0  6.0  5.0  6.0\n",
      "3  1.0  1.0  1.0  6.0\n",
      "4  1.0  1.0  1.0  1.0\n",
      "\n",
      "使用後面的值代替缺失值\n",
      "     A    B    C    D\n",
      "0  2.0  6.0  5.0  6.0\n",
      "1  2.0  6.0  5.0  6.0\n",
      "2  1.0  6.0  1.0  1.0\n",
      "3  1.0  1.0  1.0  1.0\n",
      "4  1.0  1.0  NaN  1.0\n"
     ]
    }
   ],
   "source": [
    "print('使用前面的值代替缺失值')\n",
    "print(df.fillna(method = 'ffill'))\n",
    "\n",
    "print('\\n使用後面的值代替缺失值')\n",
    "print(df.fillna(method = 'bfill'))"
   ]
  },
  {
   "attachments": {},
   "cell_type": "markdown",
   "metadata": {},
   "source": [
    "##### 每一 col 使用不同的值補充"
   ]
  },
  {
   "cell_type": "code",
   "execution_count": 130,
   "metadata": {},
   "outputs": [
    {
     "data": {
      "text/html": [
       "<div>\n",
       "<style scoped>\n",
       "    .dataframe tbody tr th:only-of-type {\n",
       "        vertical-align: middle;\n",
       "    }\n",
       "\n",
       "    .dataframe tbody tr th {\n",
       "        vertical-align: top;\n",
       "    }\n",
       "\n",
       "    .dataframe thead th {\n",
       "        text-align: right;\n",
       "    }\n",
       "</style>\n",
       "<table border=\"1\" class=\"dataframe\">\n",
       "  <thead>\n",
       "    <tr style=\"text-align: right;\">\n",
       "      <th></th>\n",
       "      <th>A</th>\n",
       "      <th>B</th>\n",
       "      <th>C</th>\n",
       "      <th>D</th>\n",
       "    </tr>\n",
       "  </thead>\n",
       "  <tbody>\n",
       "    <tr>\n",
       "      <th>0</th>\n",
       "      <td>0.0</td>\n",
       "      <td>1.0</td>\n",
       "      <td>5.0</td>\n",
       "      <td>9.0</td>\n",
       "    </tr>\n",
       "    <tr>\n",
       "      <th>1</th>\n",
       "      <td>2.0</td>\n",
       "      <td>1.0</td>\n",
       "      <td>5.0</td>\n",
       "      <td>6.0</td>\n",
       "    </tr>\n",
       "    <tr>\n",
       "      <th>2</th>\n",
       "      <td>1.0</td>\n",
       "      <td>6.0</td>\n",
       "      <td>5.0</td>\n",
       "      <td>9.0</td>\n",
       "    </tr>\n",
       "    <tr>\n",
       "      <th>3</th>\n",
       "      <td>0.0</td>\n",
       "      <td>1.0</td>\n",
       "      <td>1.0</td>\n",
       "      <td>9.0</td>\n",
       "    </tr>\n",
       "    <tr>\n",
       "      <th>4</th>\n",
       "      <td>1.0</td>\n",
       "      <td>1.0</td>\n",
       "      <td>5.0</td>\n",
       "      <td>1.0</td>\n",
       "    </tr>\n",
       "  </tbody>\n",
       "</table>\n",
       "</div>"
      ],
      "text/plain": [
       "     A    B    C    D\n",
       "0  0.0  1.0  5.0  9.0\n",
       "1  2.0  1.0  5.0  6.0\n",
       "2  1.0  6.0  5.0  9.0\n",
       "3  0.0  1.0  1.0  9.0\n",
       "4  1.0  1.0  5.0  1.0"
      ]
     },
     "execution_count": 130,
     "metadata": {},
     "output_type": "execute_result"
    }
   ],
   "source": [
    "values = {\"A\" : 0 , \"B\" : 1, \"C\" : 5, \"D\" : 9}\n",
    "df.fillna(value = values)"
   ]
  },
  {
   "attachments": {},
   "cell_type": "markdown",
   "metadata": {},
   "source": [
    "##### 只替換2個缺失值"
   ]
  },
  {
   "cell_type": "code",
   "execution_count": 133,
   "metadata": {},
   "outputs": [
    {
     "data": {
      "text/html": [
       "<div>\n",
       "<style scoped>\n",
       "    .dataframe tbody tr th:only-of-type {\n",
       "        vertical-align: middle;\n",
       "    }\n",
       "\n",
       "    .dataframe tbody tr th {\n",
       "        vertical-align: top;\n",
       "    }\n",
       "\n",
       "    .dataframe thead th {\n",
       "        text-align: right;\n",
       "    }\n",
       "</style>\n",
       "<table border=\"1\" class=\"dataframe\">\n",
       "  <thead>\n",
       "    <tr style=\"text-align: right;\">\n",
       "      <th></th>\n",
       "      <th>A</th>\n",
       "      <th>B</th>\n",
       "      <th>C</th>\n",
       "      <th>D</th>\n",
       "    </tr>\n",
       "  </thead>\n",
       "  <tbody>\n",
       "    <tr>\n",
       "      <th>0</th>\n",
       "      <td>0.0</td>\n",
       "      <td>1.0</td>\n",
       "      <td>5.0</td>\n",
       "      <td>9.0</td>\n",
       "    </tr>\n",
       "    <tr>\n",
       "      <th>1</th>\n",
       "      <td>2.0</td>\n",
       "      <td>1.0</td>\n",
       "      <td>5.0</td>\n",
       "      <td>6.0</td>\n",
       "    </tr>\n",
       "    <tr>\n",
       "      <th>2</th>\n",
       "      <td>1.0</td>\n",
       "      <td>6.0</td>\n",
       "      <td>5.0</td>\n",
       "      <td>9.0</td>\n",
       "    </tr>\n",
       "    <tr>\n",
       "      <th>3</th>\n",
       "      <td>0.0</td>\n",
       "      <td>1.0</td>\n",
       "      <td>1.0</td>\n",
       "      <td>NaN</td>\n",
       "    </tr>\n",
       "    <tr>\n",
       "      <th>4</th>\n",
       "      <td>1.0</td>\n",
       "      <td>1.0</td>\n",
       "      <td>NaN</td>\n",
       "      <td>1.0</td>\n",
       "    </tr>\n",
       "  </tbody>\n",
       "</table>\n",
       "</div>"
      ],
      "text/plain": [
       "     A    B    C    D\n",
       "0  0.0  1.0  5.0  9.0\n",
       "1  2.0  1.0  5.0  6.0\n",
       "2  1.0  6.0  5.0  9.0\n",
       "3  0.0  1.0  1.0  NaN\n",
       "4  1.0  1.0  NaN  1.0"
      ]
     },
     "execution_count": 133,
     "metadata": {},
     "output_type": "execute_result"
    }
   ],
   "source": [
    "df.fillna(value = values, limit = 2)"
   ]
  },
  {
   "attachments": {},
   "cell_type": "markdown",
   "metadata": {},
   "source": [
    "### 檢測+-inf(正負無窮大)\n",
    "\n",
    "可以使用 np.isinf(df) 去檢視資料是否有inf, 若要依照 row 或 col 去看可以使用 df.any(axis= 0/1)"
   ]
  },
  {
   "cell_type": "code",
   "execution_count": 31,
   "metadata": {},
   "outputs": [
    {
     "name": "stdout",
     "output_type": "stream",
     "text": [
      "原始資料:\n",
      "     A     B  C\n",
      "0  1.0   9.0  0\n",
      "1  2.0  10.0  0\n",
      "2  3.0   inf  0\n",
      "3  inf  12.0  1\n",
      "4  5.0   inf  1\n",
      "5  6.0  14.0  1\n",
      "6 -inf  15.0  0\n",
      "7  8.0  16.0  1\n"
     ]
    }
   ],
   "source": [
    "import numpy as np\n",
    "import pandas as pd\n",
    "\n",
    "data = {'A' : [1, 2, 3, np.inf, 5, 6, -np.inf, 8],\n",
    "        'B' : [9, 10, np.inf, 12, np.inf, 14, 15, 16],\n",
    "        'C' : [0,0,0,1,1,1,0,1]}\n",
    "df = pd.DataFrame(data)\n",
    "\n",
    "print('原始資料:')\n",
    "print(df)\n"
   ]
  },
  {
   "cell_type": "code",
   "execution_count": 32,
   "metadata": {},
   "outputs": [
    {
     "name": "stdout",
     "output_type": "stream",
     "text": [
      "\n",
      "檢測所有資料是否有inf\n",
      "       A      B      C\n",
      "0  False  False  False\n",
      "1  False  False  False\n",
      "2  False   True  False\n",
      "3   True  False  False\n",
      "4  False   True  False\n",
      "5  False  False  False\n",
      "6   True  False  False\n",
      "7  False  False  False\n",
      "\n",
      "檢測是否有 col 有 inf\n",
      "A     True\n",
      "B     True\n",
      "C    False\n",
      "dtype: bool\n",
      "\n",
      "檢測是否有 row 有 inf\n",
      "0    False\n",
      "1    False\n",
      "2     True\n",
      "3     True\n",
      "4     True\n",
      "5    False\n",
      "6     True\n",
      "7    False\n",
      "dtype: bool\n"
     ]
    }
   ],
   "source": [
    "print('\\n檢測所有資料是否有inf')\n",
    "print(np.isinf(df))\n",
    "\n",
    "print('\\n檢測是否有 col 有 inf')\n",
    "check_col = np.isinf(df).any(axis = 0) #任一個row\n",
    "print(check_col)\n",
    "\n",
    "print('\\n檢測是否有 row 有 inf')\n",
    "check_row = np.isinf(df).any(axis = 1) #任一個col\n",
    "print(check_row)"
   ]
  },
  {
   "attachments": {},
   "cell_type": "markdown",
   "metadata": {},
   "source": [
    "#### 捨棄含有 inf 的 row "
   ]
  },
  {
   "cell_type": "code",
   "execution_count": 36,
   "metadata": {},
   "outputs": [
    {
     "name": "stdout",
     "output_type": "stream",
     "text": [
      "     A     B  C\n",
      "0  1.0   9.0  0\n",
      "1  2.0  10.0  0\n",
      "5  6.0  14.0  1\n",
      "7  8.0  16.0  1\n"
     ]
    }
   ],
   "source": [
    "# 捨棄含有 inf 的 row\n",
    "df1 = df[ ~ np.isinf(df).any(axis = 1) ]\n",
    "print(df1)\n"
   ]
  },
  {
   "attachments": {},
   "cell_type": "markdown",
   "metadata": {},
   "source": [
    "### 檢測 dataframe 是否是數字\n",
    "\n",
    "可以使用 pd.to_numeric() 將 dataframe 的所有資料轉換成數字, 並且把不成功轉換(非數值或字串的數字)的改成特定表示方式.\n",
    "\n",
    "*   errors='coerce' : 把不能轉換成數字的轉成NaN\n"
   ]
  },
  {
   "cell_type": "code",
   "execution_count": 43,
   "metadata": {},
   "outputs": [
    {
     "name": "stdout",
     "output_type": "stream",
     "text": [
      "col 'A' 是否只包含数字: False\n",
      "col 'B' 是否只包含数字: True\n"
     ]
    }
   ],
   "source": [
    "import pandas as pd\n",
    "\n",
    "# 创建一个示例 DataFrame\n",
    "data = {'A': [1, 2, '3', 'abc', 5],\n",
    "        'B': ['6', 7, 8, 9, '10']}\n",
    "df = pd.DataFrame(data)\n",
    "\n",
    "# 检查 'A' 列是否包含数字\n",
    "is_numeric = pd.to_numeric(df['A'], errors='coerce').notnull().all() \n",
    "# notnull() : not null, 檢測是否是null\n",
    "# all() : 全部交集\n",
    "print(\"col 'A' 是否只包含数字:\", is_numeric)\n",
    "\n",
    "is_numeric = pd.to_numeric(df['B'], errors='coerce').notnull().all() \n",
    "print(\"col 'B' 是否只包含数字:\", is_numeric)\n"
   ]
  },
  {
   "attachments": {},
   "cell_type": "markdown",
   "metadata": {},
   "source": [
    "#### 刪除非數字的row"
   ]
  },
  {
   "cell_type": "code",
   "execution_count": 53,
   "metadata": {},
   "outputs": [
    {
     "name": "stdout",
     "output_type": "stream",
     "text": [
      "     A   B\n",
      "0  1.0   6\n",
      "1  2.0   7\n",
      "2  3.0   8\n",
      "4  5.0  10\n"
     ]
    }
   ],
   "source": [
    "import pandas as pd\n",
    "\n",
    "data = {'A': [1, 2, '3', 'abc', 5],\n",
    "        'B': ['6', 7, 8, 9, '10']}\n",
    "df = pd.DataFrame(data)\n",
    "\n",
    "df['A'] = pd.to_numeric(df['A'], errors='coerce') # 先把df['A'] 非數字的改成NaN\n",
    "df = df.dropna(subset=['A'], how = 'any') # 再刪除 NaN 的那個row\n",
    "print(df)"
   ]
  },
  {
   "attachments": {},
   "cell_type": "markdown",
   "metadata": {},
   "source": [
    "#### 檢測且刪除多個 col 的 row"
   ]
  },
  {
   "cell_type": "code",
   "execution_count": 65,
   "metadata": {},
   "outputs": [
    {
     "data": {
      "text/html": [
       "<div>\n",
       "<style scoped>\n",
       "    .dataframe tbody tr th:only-of-type {\n",
       "        vertical-align: middle;\n",
       "    }\n",
       "\n",
       "    .dataframe tbody tr th {\n",
       "        vertical-align: top;\n",
       "    }\n",
       "\n",
       "    .dataframe thead th {\n",
       "        text-align: right;\n",
       "    }\n",
       "</style>\n",
       "<table border=\"1\" class=\"dataframe\">\n",
       "  <thead>\n",
       "    <tr style=\"text-align: right;\">\n",
       "      <th></th>\n",
       "      <th>A</th>\n",
       "      <th>B</th>\n",
       "      <th>C</th>\n",
       "    </tr>\n",
       "  </thead>\n",
       "  <tbody>\n",
       "    <tr>\n",
       "      <th>1</th>\n",
       "      <td>2.0</td>\n",
       "      <td>7</td>\n",
       "      <td>11.0</td>\n",
       "    </tr>\n",
       "    <tr>\n",
       "      <th>2</th>\n",
       "      <td>3.0</td>\n",
       "      <td>8</td>\n",
       "      <td>12.0</td>\n",
       "    </tr>\n",
       "    <tr>\n",
       "      <th>4</th>\n",
       "      <td>5.0</td>\n",
       "      <td>10</td>\n",
       "      <td>14.0</td>\n",
       "    </tr>\n",
       "  </tbody>\n",
       "</table>\n",
       "</div>"
      ],
      "text/plain": [
       "     A   B     C\n",
       "1  2.0   7  11.0\n",
       "2  3.0   8  12.0\n",
       "4  5.0  10  14.0"
      ]
     },
     "execution_count": 65,
     "metadata": {},
     "output_type": "execute_result"
    }
   ],
   "source": [
    "import pandas as pd\n",
    "\n",
    "data = {'A': [1  , 2, '3', 'abc', 5],\n",
    "        'B': ['6', 7, 8, 9, '10'],\n",
    "        'C': ['a', 11, 12, 13, 14]}\n",
    "df = pd.DataFrame(data)\n",
    "\n",
    "for i in df.columns:\n",
    "    df[i] = pd.to_numeric(df[i], errors = 'coerce')\n",
    "    df = df.dropna(subset=[i], how = 'any')\n",
    "\n",
    "df"
   ]
  },
  {
   "cell_type": "markdown",
   "metadata": {},
   "source": [
    "### .groupby"
   ]
  },
  {
   "cell_type": "code",
   "execution_count": 2,
   "metadata": {},
   "outputs": [
    {
     "name": "stdout",
     "output_type": "stream",
     "text": [
      "  col A col B\n",
      "0     A   1,3\n",
      "1     B   2,5\n",
      "2     C     4\n"
     ]
    }
   ],
   "source": [
    "import pandas as pd\n",
    "\n",
    "# 創建示例DataFrame\n",
    "data = {'col A': ['A', 'B', 'A', 'C', 'B'],\n",
    "        'col B': ['1', '2', '3', '4', '5']}\n",
    "\n",
    "df = pd.DataFrame(data)\n",
    "\n",
    "# 使用groupby和agg合併col B的值\n",
    "result_df = df.groupby('col A')['col B'].agg(','.join).reset_index()\n",
    "\n",
    "# 打印合併後的結果\n",
    "print(result_df)\n"
   ]
  },
  {
   "cell_type": "code",
   "execution_count": 1,
   "metadata": {},
   "outputs": [
    {
     "name": "stdout",
     "output_type": "stream",
     "text": [
      "              Value\n",
      "Category           \n",
      "A         18.333333\n",
      "B         22.500000\n"
     ]
    }
   ],
   "source": [
    "import pandas as pd\n",
    "\n",
    "# 創建示例DataFrame\n",
    "data = {'Category': ['A', 'B', 'A', 'B', 'A'],\n",
    "        'Value': [10, 20, 15, 25, 30]}\n",
    "\n",
    "df = pd.DataFrame(data)\n",
    "\n",
    "# 根據 'Category' 列分組並計算平均值\n",
    "grouped = df.groupby('Category')\n",
    "result = grouped.mean()\n",
    "\n",
    "print(result)\n"
   ]
  }
 ],
 "metadata": {
  "kernelspec": {
   "display_name": "Python 3.9.5 64-bit",
   "language": "python",
   "name": "python3"
  },
  "language_info": {
   "codemirror_mode": {
    "name": "ipython",
    "version": 3
   },
   "file_extension": ".py",
   "mimetype": "text/x-python",
   "name": "python",
   "nbconvert_exporter": "python",
   "pygments_lexer": "ipython3",
   "version": "3.9.5"
  },
  "orig_nbformat": 4,
  "vscode": {
   "interpreter": {
    "hash": "4206480afc6f8f20a91f9b30d4e9d2907612993729e8a589e2c16a111e42b69c"
   }
  }
 },
 "nbformat": 4,
 "nbformat_minor": 2
}
