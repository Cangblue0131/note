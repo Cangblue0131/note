{
 "cells": [
  {
   "attachments": {},
   "cell_type": "markdown",
   "metadata": {},
   "source": [
    "# 核函數(kernel function)\n",
    "\n",
    "<font size = 5>簡述 : 核函數是用來將輸入空間映射到其他維度特徵空間。</font> \n",
    "(不一定是高維度, 也可以在高維度空間進行降維(dimension reduction)，關鍵字kernel PCA, kernel LDA。)\n",
    "\n",
    "\n",
    "如下圖, 無法在原始空間(Rd)中適當的找到一個線性分類器將兩類區隔開，這時後此需要找到一個非線性投影($\\varphi$)將資料進行轉換到更高維度的空間，此時在高維度的空間中只需要一個線性分類器(hyperplane)就可以完美分類。映射後的高維度空間稱為 Hilbert space(H)。\n",
    "\n",
    "但我們又很難直接去設計一個好的非線性投影($\\varphi$)公式，因此需要kernel函數來輔助。\n",
    "\n",
    "<img src=\"https://imgur.com/HQzA81k.png\" width=\"50%\" height=\"50%\">\n",
    "\n",
    "[圖片來源](https://ithelp.ithome.com.tw/articles/10216802) \n",
    "\n",
    "[參考資料1 : 機器學習: Kernel 函數](https://chih-sheng-huang821.medium.com/%E6%A9%9F%E5%99%A8%E5%AD%B8%E7%BF%92-kernel-%E5%87%BD%E6%95%B8-47c94095171) ##以下基本上都是整理這裡的\n",
    "\n",
    "[參考資料2 : 核方法(Kernel Methods)與支持向量機-ML簡史](https://ithelp.ithome.com.tw/articles/10216802)\n",
    "\n",
    "[參考資料3 : 机器学习有很多关于核函数的说法，核函数的定义和作用是什么？](https://www.zhihu.com/question/24627666)"
   ]
  },
  {
   "attachments": {},
   "cell_type": "markdown",
   "metadata": {},
   "source": [
    "### Kernel函數定義:\n",
    "\n",
    "只要對所有的資料，有一個函數可以滿足\n",
    "$k(x,y)=⟨\\phi(x),\\phi(y)⟩$，\n",
    "這個$k(x,y)$就是一個 kernel 函數，其中$⟨a, b⟩$表示向量a和b做內積。\n",
    "\n",
    "定理(Mercer’s theorem) : 如果有一個函數($\\varphi$)存在，這個k必需滿足Mercer’s condition，k就是kernel函數。\n",
    "*   理論上，一個Kernel matrix(K, Gram matrix)是半正定矩陣(positive semi-definite)，這個k就是kernel function。\n",
    "*   簡化說就是如果所有的資料帶到這個kernel function中的和必須大於等於0：$\\sum\\sum k(x_i,x_j) \\geq 0$，k就滿足Mercer’s condition。"
   ]
  },
  {
   "attachments": {},
   "cell_type": "markdown",
   "metadata": {},
   "source": [
    "### 較常使用的 Kernel function\n",
    "註 : 有時候會以x'表示y\n",
    "1.  Linear Kernel : $k(x,y) = <x,y>$\n",
    "2.  Polynomial kernel : $k(x,y) = (<x,y> + c)^d$, $d$ 為整數\n",
    "3.  Gaussian Radial Basis Function kernel (RBF) : $k(x,y) = e^{-\\frac{||x-y||^2}{2\\sigma^2}}$"
   ]
  },
  {
   "attachments": {},
   "cell_type": "markdown",
   "metadata": {},
   "source": [
    "### 舉一個用polynomial kernel function次方項為2次方，截距為0 (d=2, c=0)的例子。\n",
    "\n",
    "左邊為原始空間, 很明顯的, 線性分類器無法有效分類此 data, 所以必須使用非線性的 kernel.\n",
    "\n",
    "<img src=\"https://imgur.com/7Qo8Zdc.png\" width=\"40%\" height=\"40%\">\n",
    "\n",
    "\n"
   ]
  },
  {
   "attachments": {},
   "cell_type": "markdown",
   "metadata": {},
   "source": [
    "使用 kernel function 去表示, \n",
    "\n",
    "\n",
    "\n",
    "$k(x,y) = <\\varphi(x),\\varphi(y)> = (x^Ty)^2 ~;~ x = \\begin{bmatrix}x_1\\\\x_2\\end{bmatrix}, y = \\begin{bmatrix}y_1\\\\y_2\\end{bmatrix}$\n",
    "\n",
    "$\\because (x^Ty)^2 = (\\begin{bmatrix}x_1\\\\x_2\\end{bmatrix}^T\\begin{bmatrix}y_1\\\\y_2\\end{bmatrix})^2 \n",
    "= x_1^2y_1^2 + x_2^2y_2^2 + 2x_1x_2y_1y_2 \n",
    "= \\begin{bmatrix}x_1^2\\\\x_2^2\\\\\\sqrt{2}x_1x_2\\end{bmatrix}^T\\begin{bmatrix}y_1^2\\\\y_2^2\\\\\\sqrt{2}y_1y_2\\end{bmatrix} = <\\varphi(x),\\varphi(y)>$\n",
    "\n",
    "$\\therefore \\varphi(x) = \\begin{bmatrix}x_1^2\\\\x_2^2\\\\\\sqrt{2}x_1x_2\\end{bmatrix} ~,~ \\varphi(y) = \\begin{bmatrix}y_1\\\\y_2\\\\\\sqrt{2}y_1y_2\\end{bmatrix}$\n",
    "\n",
    "$\\varphi(x) = \\begin{bmatrix}x_1^2\\\\x_2^2\\\\\\sqrt{2}x_1x_2\\end{bmatrix}$ 就是新的座標點$\\begin{bmatrix}x\\\\y\\\\z\\end{bmatrix}$\n",
    "\n",
    "因此我們可以看到用polynomial kernel function將資料投影到feature space後的情況，此時已經將資料從2維空間轉換到3維空間。並且很明顯的, 只要一個平面就可以把 data 分類好。如果二維轉成三維很難想像, 可以改成一維轉成二維, Label以分為接近0和遠離0, 則可以用y = x^2去讓資料更好分類.\n",
    "\n",
    "\n",
    "<img src=\"https://imgur.com/UFbGniq.png\" width=\"50%\" height=\"50%\">\n"
   ]
  },
  {
   "attachments": {},
   "cell_type": "markdown",
   "metadata": {},
   "source": [
    "### RBF kenel function 投影函數轉換\n",
    "RBF kernel function也可以經由簡單的推導得到投影函數($\\varphi$)，但稍為複雜一點，會用到泰勒級數(Taylor series)。[理論參考](https://citeseerx.ist.psu.edu/viewdoc/download?doi=10.1.1.99.107&rep=rep1&type=pdf)\n",
    "\n",
    "*   [泰勒級數](https://zh.wikipedia.org/zh-tw/%E6%B3%B0%E5%8B%92%E7%BA%A7%E6%95%B0)是在函數$f(x)$在一個實數或複數$a$上可微分函數的power級數如下:\n",
    "\n",
    "$f(x) = \\sum^\\infty_{n=0}\\frac{f^(n)(a)}{n!}(x-a)^n$\n",
    "\n",
    "*   RBF kernel function會用到的泰勒級數\n",
    "\n",
    "$e^x = \\sum^\\infty_{n=0}\\frac{x^n}{n!}$"
   ]
  },
  {
   "attachments": {},
   "cell_type": "markdown",
   "metadata": {},
   "source": [
    "#### 舉一個1維度的資料做拆解，熟悉後比較容易轉換到高維度\n",
    "\n",
    "$k(x,y) = <\\varphi(x),\\varphi(y)> = e^{-\\sigma||x-y||^2} = e^{-\\sigma(x^2+y^2)}e^{2\\sigma xy}$\n",
    "\n",
    "$= e^{-\\sigma(x^2+y^2)}(\\sum^\\infty_{n=0}\\frac{(2\\sigma xy)^n}{n!})$\n",
    "\n",
    "$=e^{-\\sigma x^2}e^{-\\sigma y^2}(\\sum^\\infty_{n=0}\\sqrt{\\frac{(2\\sigma)^n}{n!}}x^n\\sqrt{\\frac{(2\\sigma)^2}{n!}}y^n)$\n",
    "\n",
    "$=e^{-\\sigma x^2}e^{-\\sigma y^2}([\\sqrt{\\frac{(2\\sigma)^n}{n!}}x^n]_{n\\times1}^T ~~ [\\sqrt{\\frac{(2\\sigma)^n}{n!}}y^n]_{n\\times1})$\n",
    "\n",
    "$=e^{-\\sigma x^2}[\\sqrt{\\frac{(2\\sigma)^n}{n!}}x^n]_{n\\times1}^T ~~ e^{-\\sigma y^2}[\\sqrt{\\frac{(2\\sigma)^n}{n!}}y^n]_{n\\times1} $\n",
    "\n",
    "$\\varphi(x) = e^{-\\sigma x^2}[\\sqrt{\\frac{(2\\sigma)^n}{n!}}x^n]_{n\\times1}^T \n",
    "= e^{-\\sigma x^2}\\begin{bmatrix} 1\\\\\\sqrt{\\frac{2\\sigma}{1!}}x\\\\\\sqrt{\\frac{(2\\sigma)^2}{2!}}x^2\\\\\\vdots\\end{bmatrix}\n",
    "= \\begin{bmatrix} x_1\\\\x_2\\\\x_3\\\\\\vdots\\end{bmatrix}$\n",
    "\n",
    "可由此直接猜到高維度(d維)轉換成高維的$\\varphi(x)$\n",
    "\n",
    "$\\varphi(x) = \\begin{bmatrix} \\prod^d_{j=1}e^{-\\sigma x_j^2}\\\\\n",
    "                              \\prod^d_{j=1}\\sqrt{\\frac{2\\sigma}{1!}}x_je^{-\\sigma x_j^2}\\\\\n",
    "                              \\prod^d_{j=1}\\sqrt{\\frac{(2\\sigma)^2}{2!}}x_j^2e^{-\\sigma x_j^2}\\\\\\vdots\\end{bmatrix} $ \n"
   ]
  },
  {
   "attachments": {},
   "cell_type": "markdown",
   "metadata": {},
   "source": [
    "##### 舉例 d = 2:\n",
    "\n",
    "$x = \\begin{bmatrix}x_1\\\\x_2\\end{bmatrix}$\n",
    "\n",
    "$\\varphi(x) = \\begin{bmatrix} \\prod^2_{j=1}e^{-\\sigma x_j^2}\\\\\n",
    "                              \\prod^2_{j=1}\\sqrt{\\frac{2\\sigma}{1!}}x_je^{-\\sigma x_j^2}\\\\\n",
    "                              \\prod^2_{j=1}\\sqrt{\\frac{(2\\sigma)^2}{2!}}x_j^2e^{-\\sigma x_j^2}\\\\\\vdots\\end{bmatrix}\n",
    "            = \\begin{bmatrix} e^{-\\sigma x_1^2}e^{-\\sigma x_2^2}\\\\\n",
    "                              \\frac{2\\sigma}{1!}x_1x_2e^{-\\sigma x_1^2}e^{-\\sigma x_2^2}\\\\\n",
    "                              \\frac{(2\\sigma)^2}{2!}x_1^2x_2^2e^{-\\sigma x_1^2}e^{-\\sigma x_2^2}\\\\\\vdots\\end{bmatrix}$\n",
    "\n",
    "此圖為使用RBF將二維資料映射至三維空間(泰勒取到2階導函數)上\n",
    "\n",
    "<img src=\"https://imgur.com/jV1A4aF.png\" width=\"50%\" height=\"50%\">"
   ]
  },
  {
   "cell_type": "code",
   "execution_count": null,
   "metadata": {},
   "outputs": [],
   "source": []
  }
 ],
 "metadata": {
  "kernelspec": {
   "display_name": "Python 3",
   "language": "python",
   "name": "python3"
  },
  "language_info": {
   "name": "python",
   "version": "3.9.5"
  },
  "orig_nbformat": 4,
  "vscode": {
   "interpreter": {
    "hash": "4206480afc6f8f20a91f9b30d4e9d2907612993729e8a589e2c16a111e42b69c"
   }
  }
 },
 "nbformat": 4,
 "nbformat_minor": 2
}
