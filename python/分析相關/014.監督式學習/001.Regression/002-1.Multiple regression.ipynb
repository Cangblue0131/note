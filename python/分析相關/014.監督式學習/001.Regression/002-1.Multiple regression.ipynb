{
 "cells": [
  {
   "attachments": {},
   "cell_type": "markdown",
   "metadata": {},
   "source": [
    "#   多元迴歸(Multiple regression)，或稱一般線性回歸\n",
    "*   大於一個自變數(x1,x2,...)的情形。例如 $ y = \\beta_0 + \\beta_1 x_1 + \\beta_1 x_2+ \\epsilon $ 。\n",
    "\n",
    "[參考網址:github](https://github.com/andy6804tw/2021-13th-ironman/tree/main/8.%E7%B7%9A%E6%80%A7%E8%BF%B4%E6%AD%B8)\n",
    "[參考網址:wiki](https://zh.wikipedia.org/zh-tw/%E7%B7%9A%E6%80%A7%E5%9B%9E%E6%AD%B8)\n"
   ]
  },
  {
   "attachments": {},
   "cell_type": "markdown",
   "metadata": {},
   "source": [
    "### 手刻線性回歸\n",
    "我們透過 Sklearn 所提供的房價預測資料集進行線性回歸模型建模，並採用最小平法。首先為了要驗證我們上面的公式，因此我們先利用 Numpy 套件自己手刻做一系列的矩陣運算求出每一項的係數與截距。<font color = orange> 參考網站使用 Sklearn 提供的資料，此改為用網址直接取得</font>。\n",
    "\n",
    "用矩陣計算最小平方法, 可以表示成 \n",
    "*   $\\hat{\\beta} = (X^TX)^{-1}X^Ty$\n",
    "*   $\\hat{y} = X\\hat{\\beta} = X(X^TX)^{-1}X^Ty$\n",
    "\n",
    "並且對於每個 $i=1,...,n$, 用 $\\sigma$ 表示 $\\epsilon$ 的變異數, 則可得不偏估計\n",
    "*   $\\hat{\\sigma}^2 = \\frac{S}{n-p}, 其中 S = \\Sigma\\hat{\\epsilon}^2_i$\n",
    "*   另外, 估計值和實際值之間的關係為 $\\hat{\\sigma}^2 \\frac{n-p}{\\sigma^2} \\sim x^2_{n-p}$\n",
    "\n",
    "如果所觀察的誤差服從常態分布。參數的估計值將服從聯合常態分布。在當前的假設之下，估計的參數向量是精確分布的。\n",
    "*   $\\hat{\\beta} \\sim N(\\beta, \\sigma(X^TX)^{-1})$\n",
    "\n",
    "其中$N(．)$表示[多變數常態分布](https://zh.wikipedia.org/zh-tw/%E5%A4%9A%E5%85%83%E6%AD%A3%E6%80%81%E5%88%86%E5%B8%83)。\n",
    "\n",
    "參數估計值的標準差是：\n",
    "*   $\\hat{\\sigma}_j = \\sqrt{\\frac{S}{n-p}[(X^TX)^{-1}]_{jj}}$\n",
    "*   $100(1-\\alpha) $ CI : $\\hat{\\beta}_j \\pm t_{\\frac{\\alpha}{2},n-p}\\hat{\\sigma}_j$"
   ]
  },
  {
   "cell_type": "code",
   "execution_count": 1,
   "metadata": {},
   "outputs": [
    {
     "name": "stdout",
     "output_type": "stream",
     "text": [
      "MSE: 21.894831181729206\n",
      "beta = [-1.08011358e-01  4.64204584e-02  2.05586264e-02  2.68673382e+00\n",
      " -1.77666112e+01  3.80986521e+00  6.92224640e-04 -1.47556685e+00\n",
      "  3.06049479e-01 -1.23345939e-02 -9.52747232e-01  9.31168327e-03\n",
      " -5.24758378e-01  3.64594884e+01]\n"
     ]
    }
   ],
   "source": [
    "import numpy as np\n",
    "import pandas as pd\n",
    "from sklearn.metrics import mean_squared_error\n",
    "from sklearn.datasets import load_boston\n",
    "\n",
    "# 載入 Sklearn 房價預測資料集 13個輸入特徵 1個輸出特徵\n",
    "#boston_dataset = load_boston() #使用sklearn提供的資料\n",
    "data_url = \"http://lib.stat.cmu.edu/datasets/boston\"\n",
    "raw_df = pd.read_csv(data_url, sep=\"\\s+\", skiprows=22, header=None)\n",
    "#data = np.hstack([raw_df.values[::2, :], raw_df.values[1::2, :2]])\n",
    "#target = raw_df.values[1::2, 2]\n",
    "\n",
    "# 輸入特徵共13個\n",
    "X = np.hstack([raw_df.values[::2, :], raw_df.values[1::2, :2]])\n",
    "# 設定截距項 b 權重值為 1 \n",
    "b=np.ones((X.shape[0], 1))\n",
    "# 添加常數項特徵，最終有 13+1 個輸入特徵\n",
    "X=np.hstack((X, b))\n",
    "# 輸出(房價)\n",
    "y = raw_df.values[1::2, 2]\n",
    "\n",
    "# 計算 Beta (@ 為 numpy 中 2-D arrays 的矩陣乘法)\n",
    "Beta = np.linalg.inv(X.T @ X) @ X.T @ y\n",
    "y_pred = X @ Beta\n",
    "\n",
    "print('MSE:', mean_squared_error(y_pred, y))\n",
    "print(\"beta = %s\" %Beta)"
   ]
  },
  {
   "attachments": {},
   "cell_type": "markdown",
   "metadata": {},
   "source": [
    "---"
   ]
  },
  {
   "attachments": {},
   "cell_type": "markdown",
   "metadata": {},
   "source": [
    "### Sklearn LinearRegression 模型\n",
    "線性回歸簡單來說，就是將複雜的資料數據，擬和至一條直線上，就能方便預測未來的資料。接下來我們一樣使用房價預測資料集，並使用 Sklearn 提供的 LinearRegression 來求解。\n",
    "\n",
    "Parameters:\n",
    "*   fit_intercept: 是否有截距，如果沒有則直線過原點。\n",
    "\n",
    "Attributes:\n",
    "*   coef_: 取得係數。\n",
    "*   intercept_: 取得截距。\n",
    "\n",
    "Methods:\n",
    "*   fit: 放入X、y進行模型擬合。\n",
    "*   predict: 預測並回傳預測類別。\n",
    "*   score: R2 score 模型評估。"
   ]
  },
  {
   "cell_type": "code",
   "execution_count": 2,
   "metadata": {},
   "outputs": [
    {
     "name": "stdout",
     "output_type": "stream",
     "text": [
      "MSE: 21.894831181729202\n"
     ]
    }
   ],
   "source": [
    "import numpy as np\n",
    "import pandas as pd\n",
    "from sklearn.linear_model import LinearRegression\n",
    "\n",
    "\n",
    "# 載入 Sklearn 房價預測資料集 13個輸入特徵 1個輸出特徵\n",
    "data_url = \"http://lib.stat.cmu.edu/datasets/boston\"\n",
    "raw_df = pd.read_csv(data_url, sep=\"\\s+\", skiprows=22, header=None)\n",
    "# 輸入特徵共13個\n",
    "X = np.hstack([raw_df.values[::2, :], raw_df.values[1::2, :2]])\n",
    "# 輸出(房價)\n",
    "y = raw_df.values[1::2, 2]\n",
    "\n",
    "# 訓練模型\n",
    "linearModel = LinearRegression()\n",
    "linearModel.fit(X, y)\n",
    "\n",
    "y_pred = linearModel.predict(X)\n",
    "print('MSE:', mean_squared_error(y_pred, y))"
   ]
  },
  {
   "cell_type": "code",
   "execution_count": 3,
   "metadata": {},
   "outputs": [
    {
     "name": "stdout",
     "output_type": "stream",
     "text": [
      "係數 : [-1.08011358e-01  4.64204584e-02  2.05586264e-02  2.68673382e+00\n",
      " -1.77666112e+01  3.80986521e+00  6.92224640e-04 -1.47556685e+00\n",
      "  3.06049479e-01 -1.23345939e-02 -9.52747232e-01  9.31168327e-03\n",
      " -5.24758378e-01]\n",
      "截距 : 36.459488385089855\n"
     ]
    }
   ],
   "source": [
    "# 取得13個特徵係數\n",
    "print(\"係數 : %s\" %linearModel.coef_)\n",
    "# 取得截距\n",
    "print(\"截距 : %s\" %linearModel.intercept_)"
   ]
  },
  {
   "attachments": {},
   "cell_type": "markdown",
   "metadata": {},
   "source": [
    "---"
   ]
  },
  {
   "attachments": {},
   "cell_type": "markdown",
   "metadata": {},
   "source": [
    "### 迴歸分析的 ANOVA(變異數分析;方差) 表\n",
    "\n",
    "製作迴歸的 ANOVA 表的目的在於，檢定自變量是否能解釋依變量，也可以用來比較同依變量不同自變量的 p值(越低代表那些自變量較能解釋依變量)。\n",
    "\n",
    "其中，ANOVA 的 sum of squares(SS) 有分為 type I SS, type II SS 和 type III SS。\n",
    "*   type I : 按照順序將變異分配給不同的變項, 例如有 A, B 兩變項及 AB 的交互作用項, 依順序放入, 則各個變項的變異分別是 SSR(A), SSR(B|A), SSR(AB|B,A). 因為順序會影響結果, 所以必須決定變異放入的順序.\n",
    "*   type II : 沒有變項放入順序問題. 並且 type II 假設沒有交互作用(若檢定出來有交互作用項則無法使用 type II), 所以各變異分別為 SSR(A|B), SSR(B|A).\n",
    "*   type III: 和 type II 一樣沒有變項放入順序的問題, 但此 type 會考慮有交互作用項, 所以各變異分別為 SSR(A|B, AB), SSR(B|A, AB).\n",
    "*   type II 和 III 也可以說是看最後放入該變項後 SSR 的改變量.\n",
    "*   [參考網站 : Anova – Type I/II/III SS explained](https://www.r-bloggers.com/2011/03/anova-%E2%80%93-type-iiiiii-ss-explained/)\n",
    "*   [參考網站 : facebook](https://www.facebook.com/258972167562965/posts/2711039792356178/)\n",
    "\n",
    "為了決定要用那些自變量，可以使用不同方法，例如 forward、backward ，又稱逐步迴歸。\n",
    "*   Forward : 從完全沒有自變量開始，和所有未放入的自變量一一配對，選擇放入後決定係數最高的特徵, 重複直到決定係數上升率小於限制值(自己給定)或沒有特徵能放入.\n",
    "*   Backward : 和 Forward 類似，不過是從選擇所有自變量開始一一移除。\n",
    "*   Forward & Backward : 放入和刪除同時進行，選擇最高的決定係數\n",
    "*   [參考網站 : Understand Forward And Backward Stepwise Regression](https://quantifyinghealth.com/stepwise-selection/)\n",
    "\n",
    "<img src=\"https://imgur.com/3ygHs0q.png\" width=\"70%\" height=\"70%\">\n",
    "\n",
    "參考資料:\n",
    "*   [【统计学笔记】方差分析表和回归分析表的解读](https://blog.csdn.net/MYMarcoreus/article/details/111945748)\n",
    "*   [多元线性回归方差分析表理解](https://blog.51cto.com/u_14902625/5472080)\n",
    "\n",
    "其他程式:\n",
    "*   R : [ANOVA and model fit](https://bookdown.org/egarpor/SSS2-UC3M/multlin-aovfit.html)"
   ]
  },
  {
   "attachments": {},
   "cell_type": "markdown",
   "metadata": {},
   "source": [
    "#### python\n",
    "\n",
    "參考資料 :\n",
    "*   [Python回歸模型01─運用OLS做回歸](https://ithelp.ithome.com.tw/articles/10283807?sc=pt)\n",
    "*   [Python画图 %matplotlib inline语句的使用和作用](https://blog.csdn.net/leowinbow/article/details/86574159)"
   ]
  },
  {
   "cell_type": "code",
   "execution_count": 4,
   "metadata": {},
   "outputs": [],
   "source": [
    "import numpy as np\n",
    "import pandas as pd\n",
    "import statsmodels.api as sm     #回歸模型套件"
   ]
  },
  {
   "cell_type": "code",
   "execution_count": 5,
   "metadata": {},
   "outputs": [
    {
     "data": {
      "text/html": [
       "<div>\n",
       "<style scoped>\n",
       "    .dataframe tbody tr th:only-of-type {\n",
       "        vertical-align: middle;\n",
       "    }\n",
       "\n",
       "    .dataframe tbody tr th {\n",
       "        vertical-align: top;\n",
       "    }\n",
       "\n",
       "    .dataframe thead th {\n",
       "        text-align: right;\n",
       "    }\n",
       "</style>\n",
       "<table border=\"1\" class=\"dataframe\">\n",
       "  <thead>\n",
       "    <tr style=\"text-align: right;\">\n",
       "      <th></th>\n",
       "      <th>y</th>\n",
       "      <th>u</th>\n",
       "      <th>v</th>\n",
       "      <th>w</th>\n",
       "      <th>e</th>\n",
       "      <th>d</th>\n",
       "    </tr>\n",
       "    <tr>\n",
       "      <th>i</th>\n",
       "      <th></th>\n",
       "      <th></th>\n",
       "      <th></th>\n",
       "      <th></th>\n",
       "      <th></th>\n",
       "      <th></th>\n",
       "    </tr>\n",
       "  </thead>\n",
       "  <tbody>\n",
       "    <tr>\n",
       "      <th>1</th>\n",
       "      <td>18.008818</td>\n",
       "      <td>1.370958</td>\n",
       "      <td>5.401931</td>\n",
       "      <td>-5.000929</td>\n",
       "      <td>-0.013862</td>\n",
       "      <td>25.582814</td>\n",
       "    </tr>\n",
       "    <tr>\n",
       "      <th>2</th>\n",
       "      <td>14.088723</td>\n",
       "      <td>-0.564698</td>\n",
       "      <td>5.089502</td>\n",
       "      <td>-2.666223</td>\n",
       "      <td>2.280727</td>\n",
       "      <td>23.295497</td>\n",
       "    </tr>\n",
       "    <tr>\n",
       "      <th>3</th>\n",
       "      <td>5.948372</td>\n",
       "      <td>0.363128</td>\n",
       "      <td>0.993583</td>\n",
       "      <td>-1.828675</td>\n",
       "      <td>0.116973</td>\n",
       "      <td>4.950875</td>\n",
       "    </tr>\n",
       "    <tr>\n",
       "      <th>4</th>\n",
       "      <td>27.995704</td>\n",
       "      <td>0.632863</td>\n",
       "      <td>6.696964</td>\n",
       "      <td>-0.940461</td>\n",
       "      <td>2.205216</td>\n",
       "      <td>7.720191</td>\n",
       "    </tr>\n",
       "    <tr>\n",
       "      <th>5</th>\n",
       "      <td>1.844936</td>\n",
       "      <td>0.404268</td>\n",
       "      <td>1.666453</td>\n",
       "      <td>-4.376862</td>\n",
       "      <td>-0.439418</td>\n",
       "      <td>-9.403071</td>\n",
       "    </tr>\n",
       "    <tr>\n",
       "      <th>...</th>\n",
       "      <td>...</td>\n",
       "      <td>...</td>\n",
       "      <td>...</td>\n",
       "      <td>...</td>\n",
       "      <td>...</td>\n",
       "      <td>...</td>\n",
       "    </tr>\n",
       "    <tr>\n",
       "      <th>96</th>\n",
       "      <td>14.082475</td>\n",
       "      <td>-0.860793</td>\n",
       "      <td>5.171550</td>\n",
       "      <td>-3.477336</td>\n",
       "      <td>3.289540</td>\n",
       "      <td>8.206548</td>\n",
       "    </tr>\n",
       "    <tr>\n",
       "      <th>97</th>\n",
       "      <td>7.787811</td>\n",
       "      <td>-1.131739</td>\n",
       "      <td>3.807550</td>\n",
       "      <td>-3.166261</td>\n",
       "      <td>1.326039</td>\n",
       "      <td>-3.672839</td>\n",
       "    </tr>\n",
       "    <tr>\n",
       "      <th>98</th>\n",
       "      <td>6.940927</td>\n",
       "      <td>-1.459214</td>\n",
       "      <td>4.172975</td>\n",
       "      <td>-2.137437</td>\n",
       "      <td>0.723049</td>\n",
       "      <td>35.748248</td>\n",
       "    </tr>\n",
       "    <tr>\n",
       "      <th>99</th>\n",
       "      <td>18.760418</td>\n",
       "      <td>0.079983</td>\n",
       "      <td>6.630457</td>\n",
       "      <td>-2.902660</td>\n",
       "      <td>-0.766823</td>\n",
       "      <td>-38.404932</td>\n",
       "    </tr>\n",
       "    <tr>\n",
       "      <th>100</th>\n",
       "      <td>10.916389</td>\n",
       "      <td>0.653204</td>\n",
       "      <td>3.257643</td>\n",
       "      <td>-4.625617</td>\n",
       "      <td>2.793099</td>\n",
       "      <td>25.540092</td>\n",
       "    </tr>\n",
       "  </tbody>\n",
       "</table>\n",
       "<p>100 rows × 6 columns</p>\n",
       "</div>"
      ],
      "text/plain": [
       "             y         u         v         w         e          d\n",
       "i                                                                \n",
       "1    18.008818  1.370958  5.401931 -5.000929 -0.013862  25.582814\n",
       "2    14.088723 -0.564698  5.089502 -2.666223  2.280727  23.295497\n",
       "3     5.948372  0.363128  0.993583 -1.828675  0.116973   4.950875\n",
       "4    27.995704  0.632863  6.696964 -0.940461  2.205216   7.720191\n",
       "5     1.844936  0.404268  1.666453 -4.376862 -0.439418  -9.403071\n",
       "..         ...       ...       ...       ...       ...        ...\n",
       "96   14.082475 -0.860793  5.171550 -3.477336  3.289540   8.206548\n",
       "97    7.787811 -1.131739  3.807550 -3.166261  1.326039  -3.672839\n",
       "98    6.940927 -1.459214  4.172975 -2.137437  0.723049  35.748248\n",
       "99   18.760418  0.079983  6.630457 -2.902660 -0.766823 -38.404932\n",
       "100  10.916389  0.653204  3.257643 -4.625617  2.793099  25.540092\n",
       "\n",
       "[100 rows x 6 columns]"
      ]
     },
     "execution_count": 5,
     "metadata": {},
     "output_type": "execute_result"
    }
   ],
   "source": [
    "data = pd.read_csv('mranova_test.csv', index_col = 'i') \n",
    "\n",
    "# 此資料是用R隨便生成的, 程式如下(當然也能用python生成)\n",
    "'''\n",
    "set.seed(42)\n",
    "u <- rnorm(100)\n",
    "v <- rnorm(100, mean = 3,  sd = 2)\n",
    "w <- rnorm(100, mean = -3, sd = 1)\n",
    "e <- rnorm(100, mean = 0,  sd = 3)\n",
    "p <- rnorm(100, mean = 0,  sd = 1)\n",
    "d <- rnorm(100, mean = 5, sd = 20)\n",
    "y <- 5 + 4 * u + 3 * v + 2 * w + e + p\n",
    "'''\n",
    "data"
   ]
  },
  {
   "cell_type": "code",
   "execution_count": 6,
   "metadata": {},
   "outputs": [
    {
     "name": "stdout",
     "output_type": "stream",
     "text": [
      "          u         v         w         e         d\n",
      "u  1.000000  0.031280 -0.144777  0.074237 -0.042283\n",
      "v  0.031280  1.000000  0.071227  0.008645 -0.198933\n",
      "w -0.144777  0.071227  1.000000 -0.045980  0.100537\n",
      "e  0.074237  0.008645 -0.045980  1.000000  0.069408\n",
      "d -0.042283 -0.198933  0.100537  0.069408  1.000000\n"
     ]
    }
   ],
   "source": [
    "dfX = data.drop('y', axis=1) #刪除 y 那個 col 後，剩下的為自變數\n",
    "dfY = data[['y']]\n",
    "\n",
    "dfX_corr = dfX.corr() #查看數據間的相關係數\n",
    "print(dfX_corr)\n"
   ]
  },
  {
   "cell_type": "code",
   "execution_count": 7,
   "metadata": {},
   "outputs": [
    {
     "data": {
      "text/plain": [
       "<AxesSubplot:>"
      ]
     },
     "execution_count": 7,
     "metadata": {},
     "output_type": "execute_result"
    },
    {
     "data": {
      "image/png": "[encoded data removed]",
      "text/plain": [
       "<Figure size 576x576 with 2 Axes>"
      ]
     },
     "metadata": {},
     "output_type": "display_data"
    }
   ],
   "source": [
    "#視覺化\n",
    "%matplotlib inline \n",
    "#%matplotlib inline这一句是IPython的魔法函数，可以在IPython编译器里直接使用，作用是内嵌画图，省略掉plt.show()这一步，直接显示图像 \n",
    "import seaborn as sns\n",
    "sns.set(font_scale=1.5) #字體大小\n",
    "sns.set_context({\"figure.figsize\":(8,8)}) #圖形大小\n",
    "sns.heatmap(data = dfX_corr, square = True, cmap=\"RdBu_r\", annot = True) "
   ]
  },
  {
   "cell_type": "code",
   "execution_count": 8,
   "metadata": {},
   "outputs": [
    {
     "data": {
      "image/png": "[encoded data removed]",
      "text/plain": [
       "<Figure size 2016x504 with 5 Axes>"
      ]
     },
     "metadata": {},
     "output_type": "display_data"
    }
   ],
   "source": [
    "#檢視資料分布情形\n",
    "import seaborn as sns               #載入分布圖形套件\n",
    "import matplotlib.pyplot as plt     #載入畫圖套件\n",
    "\n",
    "sns.pairplot(data, x_vars=[\"u\", \"v\", \"w\", \"e\", 'd'], y_vars='y',height = 7, aspect = 0.8, kind='reg')  \n",
    "plt.show()"
   ]
  },
  {
   "cell_type": "code",
   "execution_count": 9,
   "metadata": {},
   "outputs": [
    {
     "name": "stdout",
     "output_type": "stream",
     "text": [
      "                            OLS Regression Results                            \n",
      "==============================================================================\n",
      "Dep. Variable:                      y   R-squared:                       0.984\n",
      "Model:                            OLS   Adj. R-squared:                  0.983\n",
      "Method:                 Least Squares   F-statistic:                     1181.\n",
      "Date:                Tue, 25 Jul 2023   Prob (F-statistic):           3.66e-83\n",
      "Time:                        23:15:25   Log-Likelihood:                -139.47\n",
      "No. Observations:                 100   AIC:                             290.9\n",
      "Df Residuals:                      94   BIC:                             306.6\n",
      "Df Model:                           5                                         \n",
      "Covariance Type:            nonrobust                                         \n",
      "==============================================================================\n",
      "                 coef    std err          t      P>|t|      [0.025      0.975]\n",
      "------------------------------------------------------------------------------\n",
      "const          5.2475      0.379     13.858      0.000       4.496       5.999\n",
      "u              4.0888      0.099     41.492      0.000       3.893       4.284\n",
      "v              2.9393      0.057     51.205      0.000       2.825       3.053\n",
      "w              2.0768      0.102     20.441      0.000       1.875       2.279\n",
      "e              1.0678      0.039     27.557      0.000       0.991       1.145\n",
      "d              0.0055      0.005      1.124      0.264      -0.004       0.015\n",
      "==============================================================================\n",
      "Omnibus:                        6.211   Durbin-Watson:                   1.945\n",
      "Prob(Omnibus):                  0.045   Jarque-Bera (JB):                5.596\n",
      "Skew:                           0.529   Prob(JB):                       0.0609\n",
      "Kurtosis:                       3.474   Cond. No.                         84.3\n",
      "==============================================================================\n",
      "\n",
      "Notes:\n",
      "[1] Standard Errors assume that the covariance matrix of the errors is correctly specified.\n"
     ]
    }
   ],
   "source": [
    "#建模\n",
    "dfX = sm.add_constant(dfX)   #增加模型的常數，使之更符合回歸模型\n",
    "\n",
    "model0 = sm.OLS(dfY, dfX)    #OLS (ordinary least square:最小平方法)回歸\n",
    "results0 = model0.fit()\n",
    "\n",
    "print(results0.summary())"
   ]
  },
  {
   "attachments": {},
   "cell_type": "markdown",
   "metadata": {},
   "source": [
    "由上可見，參數 p 不太能解釋 y (p_value = 0.844 > 0.05)。\n",
    "\n",
    "<font color = orange>使用 sklearn.linear_model.LinearRegression建模, 結果和上面一樣</font>"
   ]
  },
  {
   "cell_type": "code",
   "execution_count": 10,
   "metadata": {},
   "outputs": [],
   "source": [
    "import numpy as np\n",
    "import pandas as pd\n",
    "from sklearn.linear_model import LinearRegression\n",
    "import scipy.stats as ss"
   ]
  },
  {
   "cell_type": "code",
   "execution_count": 11,
   "metadata": {},
   "outputs": [],
   "source": [
    "data = pd.read_csv('mranova_test.csv', index_col = 'i') "
   ]
  },
  {
   "cell_type": "code",
   "execution_count": 12,
   "metadata": {},
   "outputs": [
    {
     "data": {
      "text/plain": [
       "5983.362623539313"
      ]
     },
     "execution_count": 12,
     "metadata": {},
     "output_type": "execute_result"
    }
   ],
   "source": [
    "#X = data.iloc[:,1:].values\n",
    "#y = data.iloc[:,0].values\n",
    "X = data.drop('y', axis=1).values\n",
    "y = data[['y']].values\n",
    "colnames = list(data.columns[1:])\n",
    "\n",
    "# 訓練模型\n",
    "linearModel = LinearRegression()\n",
    "linearModel.fit(X, y)\n",
    "linearModel.coef_  #迴歸的係數值\n",
    "\n",
    "y_pred = linearModel.predict(X)\n",
    "np.sum((np.mean(y) - y_pred)**2)"
   ]
  },
  {
   "attachments": {},
   "cell_type": "markdown",
   "metadata": {},
   "source": [
    "如果想要使用 sklearn.linear_model 的 LinearRegression 求和 statsmodels.api 的 summary 顯示的 p_value ，可以參考以下函數。\n",
    "\n",
    "忘記 ts_b 是為什麼的可以參考最上方的公式, 由 CI 轉換可以得到 $t_j^* = \\hat{\\beta}_j/\\hat{\\sigma}_j$ (因為這邊 $H_0$ 是$\\beta = 0$), 其中$\\hat{\\sigma}_j = \\sqrt{\\frac{S}{n-p}[(X^TX)^{-1}]_{jj}}$, 並且$\\frac{S}{n-p} = MSE$\n",
    "\n",
    "[def參考](https://stackoverflow.com/questions/27928275/find-p-value-significance-in-scikit-learn-linearregression)"
   ]
  },
  {
   "cell_type": "code",
   "execution_count": 13,
   "metadata": {},
   "outputs": [
    {
     "data": {
      "text/html": [
       "<div>\n",
       "<style scoped>\n",
       "    .dataframe tbody tr th:only-of-type {\n",
       "        vertical-align: middle;\n",
       "    }\n",
       "\n",
       "    .dataframe tbody tr th {\n",
       "        vertical-align: top;\n",
       "    }\n",
       "\n",
       "    .dataframe thead th {\n",
       "        text-align: right;\n",
       "    }\n",
       "</style>\n",
       "<table border=\"1\" class=\"dataframe\">\n",
       "  <thead>\n",
       "    <tr style=\"text-align: right;\">\n",
       "      <th></th>\n",
       "      <th>Coefficients</th>\n",
       "      <th>Standard Errors</th>\n",
       "      <th>t values</th>\n",
       "      <th>Probabilities</th>\n",
       "    </tr>\n",
       "  </thead>\n",
       "  <tbody>\n",
       "    <tr>\n",
       "      <th>0</th>\n",
       "      <td>5.2475</td>\n",
       "      <td>0.379</td>\n",
       "      <td>13.858</td>\n",
       "      <td>0.000</td>\n",
       "    </tr>\n",
       "    <tr>\n",
       "      <th>1</th>\n",
       "      <td>4.0888</td>\n",
       "      <td>0.099</td>\n",
       "      <td>41.492</td>\n",
       "      <td>0.000</td>\n",
       "    </tr>\n",
       "    <tr>\n",
       "      <th>2</th>\n",
       "      <td>2.9393</td>\n",
       "      <td>0.057</td>\n",
       "      <td>51.205</td>\n",
       "      <td>0.000</td>\n",
       "    </tr>\n",
       "    <tr>\n",
       "      <th>3</th>\n",
       "      <td>2.0768</td>\n",
       "      <td>0.102</td>\n",
       "      <td>20.441</td>\n",
       "      <td>0.000</td>\n",
       "    </tr>\n",
       "    <tr>\n",
       "      <th>4</th>\n",
       "      <td>1.0678</td>\n",
       "      <td>0.039</td>\n",
       "      <td>27.557</td>\n",
       "      <td>0.000</td>\n",
       "    </tr>\n",
       "    <tr>\n",
       "      <th>5</th>\n",
       "      <td>0.0055</td>\n",
       "      <td>0.005</td>\n",
       "      <td>1.124</td>\n",
       "      <td>0.264</td>\n",
       "    </tr>\n",
       "  </tbody>\n",
       "</table>\n",
       "</div>"
      ],
      "text/plain": [
       "   Coefficients  Standard Errors  t values  Probabilities\n",
       "0        5.2475            0.379    13.858          0.000\n",
       "1        4.0888            0.099    41.492          0.000\n",
       "2        2.9393            0.057    51.205          0.000\n",
       "3        2.0768            0.102    20.441          0.000\n",
       "4        1.0678            0.039    27.557          0.000\n",
       "5        0.0055            0.005     1.124          0.264"
      ]
     },
     "execution_count": 13,
     "metadata": {},
     "output_type": "execute_result"
    }
   ],
   "source": [
    "def coefficient_summary(linearModel,X): #可以使用此方法找各個係數的 p value, 但是這裡我不用這個去做, 而是一個一個慢慢找. 此方法當作參考用\n",
    "    params = np.append(linearModel.intercept_,linearModel.coef_) #係數\n",
    "    predictions = linearModel.predict(X) \n",
    "\n",
    "    newX = pd.DataFrame({\"Constant\":np.ones(len(X))}).join(pd.DataFrame(X))\n",
    "    MSE = (sum((y-predictions)**2))/(len(newX)-len(newX.columns))\n",
    "\n",
    "    var_b = MSE*(np.linalg.inv(np.dot(newX.T,newX)).diagonal())\n",
    "    sd_b = np.sqrt(var_b)\n",
    "    ts_b = params/ sd_b\n",
    "\n",
    "    p_values =[2*(1-ss.t.cdf(np.abs(i),(len(newX)-len(newX.columns)))) for i in ts_b]\n",
    "\n",
    "    sd_b = np.round(sd_b,3)\n",
    "    ts_b = np.round(ts_b,3)\n",
    "    p_values = np.round(p_values,3)\n",
    "    params = np.round(params,4)\n",
    "\n",
    "    myDF3 = pd.DataFrame()\n",
    "    myDF3[\"Coefficients\"],myDF3[\"Standard Errors\"],myDF3[\"t values\"],myDF3[\"Probabilities\"] = [params,sd_b,ts_b,p_values]\n",
    "    return myDF3\n",
    "\n",
    "coefficient_summary(linearModel, X)"
   ]
  },
  {
   "attachments": {},
   "cell_type": "markdown",
   "metadata": {},
   "source": [
    "---"
   ]
  },
  {
   "attachments": {},
   "cell_type": "markdown",
   "metadata": {},
   "source": [
    "##### ANOVA 表格製作\n",
    "\n",
    "<font color = red size = 5> 此 code 是舊的, 新的在 006.sklearn/007.ANOVA.ipynb</font> \n"
   ]
  },
  {
   "cell_type": "code",
   "execution_count": 4,
   "metadata": {},
   "outputs": [],
   "source": [
    "import numpy as np\n",
    "import pandas as pd\n",
    "from sklearn.linear_model import LinearRegression\n",
    "import scipy.stats as ss\n",
    "\n",
    "data = pd.read_csv('mranova_test.csv', index_col = 'i') \n",
    "\n",
    "X = data.iloc[:,1:].values\n",
    "y = data.iloc[:,0].values\n",
    "colnames = list(data.columns[1:])\n",
    "\n",
    "# 訓練模型\n",
    "linearModel = LinearRegression()\n",
    "linearModel.fit(X, y)\n",
    "linearModel.coef_  #迴歸的係數值\n",
    "\n",
    "y_pred = linearModel.predict(X)\n"
   ]
  },
  {
   "attachments": {},
   "cell_type": "markdown",
   "metadata": {},
   "source": [
    "##### type I\n",
    "\n",
    "如果使用 R 的 ANOVA 求的表格，因為 type I 是按照順序增加參數進去的意思。換句話說，如果改變放置參數順序，結果會不一樣。如下圖。\n",
    "\n",
    "<img src=\"https://imgur.com/rwZZ6ah.png\" width=\"40%\" height=\"40%\">\n",
    "\n",
    "<img src=\"https://imgur.com/n6fw1Pl.png\" width=\"40%\" height=\"40%\">\n",
    "\n"
   ]
  },
  {
   "attachments": {},
   "cell_type": "markdown",
   "metadata": {},
   "source": [
    "所以以下和 R ANOVA 的 SSR 結果不一樣是因為, <font color = orange>R 的 SSR 跟順序有關</font>, 並非每個參數去算的結果. \n",
    "\n",
    "例如按照順序放 u,v,w,e,d (和下面的順序一樣), R 的 SSR 結果為 1849.07, 2959.24, 394.09, 779.69, 95.27\n",
    "\n",
    "此 2959.24 是 放入 u, v 的 SS 去扣掉只放入 u 的 SSR, 並非如下 程式框 的3104, 而是下下個 程式框."
   ]
  },
  {
   "cell_type": "code",
   "execution_count": 15,
   "metadata": {},
   "outputs": [
    {
     "name": "stdout",
     "output_type": "stream",
     "text": [
      "1849.0682062531785\n",
      "3104.4185281282257\n",
      "305.63040829264725\n",
      "939.0990450493068\n",
      "50.322233121499984\n"
     ]
    }
   ],
   "source": [
    "for i in range(len(X[0])): \n",
    "    LM = LinearRegression()\n",
    "    X1 = X[:,[i]]\n",
    "\n",
    "    LM.fit(X1, y)\n",
    "    y1_pred = LM.predict(X1)\n",
    "    print(np.sum((np.mean(y) - y1_pred)**2))"
   ]
  },
  {
   "cell_type": "code",
   "execution_count": 16,
   "metadata": {},
   "outputs": [
    {
     "name": "stdout",
     "output_type": "stream",
     "text": [
      "4808.305314449755\n",
      "--------------------------------------------------\n",
      "4808.30 - 1849.06 = 2959.2400000000002\n"
     ]
    }
   ],
   "source": [
    "LM = LinearRegression()\n",
    "X1 = X[:,[0,1]]\n",
    "\n",
    "LM.fit(X1, y)\n",
    "y1_pred = LM.predict(X1)\n",
    "print(np.sum((np.mean(y) - y1_pred)**2))\n",
    "print('-'*50)\n",
    "print('4808.30 - 1849.06 = {}'.format(4808.30 - 1849.06))  #SSR(2|1) = SSR(1,2) - SSR(1)"
   ]
  },
  {
   "attachments": {},
   "cell_type": "markdown",
   "metadata": {},
   "source": [
    "##### Forward\n",
    "* 解釋Forward : 從完全沒有自變量開始，和所有未放入的自變量一一配對，選擇放入後決定係數最高的特徵, 重複直到決定係數上升率小於限制值(自己給定)或沒有特徵能放入.\n",
    "\n",
    "從上面 R 的結果可以知道, <font color = orange>特徵選擇的順序會影響特徵的 p_value</font>, 例如上面 R 圖左邊特徵 d 是不顯著的, 但是在右圖卻顯著. \n",
    "\n",
    "並且通常建立模型會避免過多且不重要的特徵, 特徵選擇(Feature selection) 的方法很多, 以下使用 Forward 為例子。判斷方法是使用 SSR, 結果和使用 $R^2$ 一樣, 因為 SST 固定所以 SSR越大 $R^2$ 越大."
   ]
  },
  {
   "cell_type": "code",
   "execution_count": 17,
   "metadata": {},
   "outputs": [
    {
     "name": "stdout",
     "output_type": "stream",
     "text": [
      "特徵選擇順序為 : ['v', 'u', 'e', 'w', 'd']\n"
     ]
    }
   ],
   "source": [
    "s = []\n",
    "while len(s) < len(X[0]) :\n",
    "    feature_list = [i for i in range(len(X[0])) if not(i in s)]\n",
    "    Max_i = 0\n",
    "    Max_v = 0\n",
    "    for i in feature_list:\n",
    "        LM = LinearRegression()\n",
    "        feature_i = s + [i]\n",
    "        X1 = X[:,feature_i]\n",
    "\n",
    "        LM.fit(X1, y)\n",
    "        y1_pred = LM.predict(X1)\n",
    "        SSR = np.sum((np.mean(y) - y1_pred)**2)\n",
    "        if SSR > Max_v : \n",
    "            Max_i = i\n",
    "            Max_v = SSR\n",
    "    s += [Max_i]\n",
    "\n",
    "print('特徵選擇順序為 : {}'.format([colnames[i] for i in s] ))"
   ]
  },
  {
   "attachments": {},
   "cell_type": "markdown",
   "metadata": {},
   "source": [
    "##### Backward\n",
    "Backward : 和 Forward 類似，不過是從選擇所有自變量開始一一移除。\n",
    "\n",
    "隨機扣掉一個特徵後, 選擇結果 SSR 最大的, 因為代表是選擇 SSR 降低最少的. 其選擇扣掉的順序和 Forward 選擇放入的順序相反."
   ]
  },
  {
   "cell_type": "code",
   "execution_count": 18,
   "metadata": {},
   "outputs": [
    {
     "name": "stdout",
     "output_type": "stream",
     "text": [
      "扣掉的特徵選擇順序為 : ['d', 'w', 'e', 'u', 'v']\n"
     ]
    }
   ],
   "source": [
    "s = [i for i in range(len(X[0]))]\n",
    "def_fea = []\n",
    "while len(s) > 1 : #不能為 > 0, 因為剩下一個後, 能扣掉的就只有剩下那個.\n",
    "    Max_i = 0\n",
    "    Max_v = 0\n",
    "    for i in s:\n",
    "        feature_list = [j for j in s if not(j == i)] #按照 s 的順序不選特徵\n",
    "\n",
    "        LM = LinearRegression()\n",
    "        X1 = X[:,feature_list]\n",
    "        LM.fit(X1, y)\n",
    "\n",
    "        y1_pred = LM.predict(X1)\n",
    "        SSR = np.sum((np.mean(y) - y1_pred)**2)\n",
    "        if SSR > Max_v : # SSR 最大的代表扣掉後 SSR 降低最少的\n",
    "            Max_i = i\n",
    "            Max_v = SSR\n",
    "\n",
    "    s = [j for j in s if not(j == Max_i)]\n",
    "    def_fea.append(Max_i)\n",
    "def_fea += s\n",
    "\n",
    "print('扣掉的特徵選擇順序為 : {}'.format([colnames[i] for i in def_fea] ))"
   ]
  },
  {
   "attachments": {},
   "cell_type": "markdown",
   "metadata": {},
   "source": [
    "Forward 和 Backward 也可以增加停止條件, 就不用全部特徵都算過一次.\n",
    "\n",
    "Forward & Backward 做法類似, 就是在算新增特徵同時也算刪除特徵的效益, 因為有些特徵會有交互作用等因素存在, 所以不一定按照得到的順序去放特徵就是最佳的結果.\n",
    "另外此方法如果直接去計算所有特徵結果, 可能會有重複計算 (同個特徵順序又算一次) 的問題, 所以如果要寫可以把每次結果記錄下來, 在算的時候也去看之前有沒有算過那個特徵順序, 可以減少計算時間.\n",
    "\n",
    "另外, 除了以上方法還有暴力法可以用, 就是直接算所有特徵的順序, 不過其計算成本太高, 不建議使用."
   ]
  },
  {
   "cell_type": "code",
   "execution_count": 1,
   "metadata": {},
   "outputs": [],
   "source": [
    "#class 有用到的 function\n",
    "\n",
    "def Forward(X, y):\n",
    "    s = []\n",
    "    while len(s) < len(X[0]) :\n",
    "        feature_list = [i for i in range(len(X[0])) if not(i in s)]\n",
    "        Max_i = 0\n",
    "        Max_v = 0\n",
    "        for i in feature_list:\n",
    "            LM = LinearRegression()\n",
    "            feature_i = s + [i]\n",
    "            X1 = X[:,feature_i]\n",
    "\n",
    "            LM.fit(X1, y)\n",
    "            y1_pred = LM.predict(X1)\n",
    "            SSR = np.sum((np.mean(y) - y1_pred)**2)\n",
    "            if SSR > Max_v : \n",
    "                Max_i = i\n",
    "                Max_v = SSR\n",
    "        s += [Max_i]\n",
    "    return s\n",
    "\n",
    "\n",
    "def value_code(x):\n",
    "    if x < 0.001:\n",
    "        return '***'\n",
    "    if x < 0.01:\n",
    "        return '**'\n",
    "    if x < 0.05:\n",
    "        return '*'\n",
    "    if x < 0.1:\n",
    "        return '.'\n",
    "    else:\n",
    "        return ''"
   ]
  },
  {
   "cell_type": "code",
   "execution_count": 2,
   "metadata": {},
   "outputs": [],
   "source": [
    "class regression_ANOVA:\n",
    "    def __init__(self, data):\n",
    "        \"\"\"\n",
    "        y : 應變數\n",
    "        y_hat : 預測結果\n",
    "        X : 參數值\n",
    "\n",
    "        \"\"\"\n",
    "        #raw data\n",
    "        self.y = data.iloc[:,0].values\n",
    "        self.X = data.iloc[:,1:].values\n",
    "        self.colnames = list(data.columns[1:])\n",
    "\n",
    "        linearModel = LinearRegression()\n",
    "        linearModel.fit(self.X, self.y)\n",
    "        self.y_hat = linearModel.predict(self.X)\n",
    "        self.Tl, self.Pl = np.shape(self.X)\n",
    "        self.Rl = self.Tl - self.Pl - 1\n",
    "\n",
    "    ### function\n",
    "    def Forward(self):\n",
    "        s = []\n",
    "        while len(s) < len(self.X[0]) :\n",
    "            feature_list = [i for i in range(len(self.X[0])) if not(i in s)]\n",
    "            Max_i = 0\n",
    "            Max_v = 0\n",
    "            for i in feature_list:\n",
    "                LM = LinearRegression()\n",
    "                feature_i = s + [i]\n",
    "                X1 = self.X[:,feature_i]\n",
    "\n",
    "                LM.fit(X1, self.y)\n",
    "                y1_pred = LM.predict(X1)\n",
    "                SSR = np.sum((np.mean(self.y) - y1_pred)**2)\n",
    "                if SSR > Max_v : \n",
    "                    Max_i = i\n",
    "                    Max_v = SSR\n",
    "            s += [Max_i]\n",
    "        return s\n",
    "    \n",
    "    def value_code(self, x):\n",
    "        if x < 0.001:\n",
    "            return '***'\n",
    "        if x < 0.01:\n",
    "            return '**'\n",
    "        if x < 0.05:\n",
    "            return '*'\n",
    "        if x < 0.1:\n",
    "            return '.'\n",
    "        else:\n",
    "            return ''\n",
    "\n",
    "    ### \n",
    "    def SST(self):\n",
    "        return round(np.sum((np.mean(self.y) - self.y)**2), 3)\n",
    "\n",
    "    def SSR(self):\n",
    "        return round(np.sum((np.mean(self.y) - self.y_hat)**2), 3)\n",
    "\n",
    "    def SSE(self):\n",
    "        return round(np.sum((self.y - self.y_hat)**2), 3)\n",
    "\n",
    "    def MSR(self):\n",
    "        return round(self.SSR()/self.Pl,3)\n",
    "    \n",
    "    def MSE(self):\n",
    "        return round(self.SSE()/self.Rl,3)\n",
    "    \n",
    "    def P_value(self):\n",
    "        return round(1 - ss.f.cdf(self.MSR()/self.MSE(), self.Pl, self.Rl), 5)\n",
    "\n",
    "\n",
    "    ### table\n",
    "    def ANOVA_table(self):\n",
    "        table = \\\n",
    "                '='*120 + '\\n' +\\\n",
    "                '{0:^16}'.format(\"變異來源\")  +'{0:^16}'.format(\"平方和(SS)\") +\\\n",
    "                     '{0:^16}'.format(\"自由度(DF)\") + '{0:^16}'.format(\"平均平方和(MS)\") +\\\n",
    "                        '{0:^16}'.format(\"檢定統計量(F value)\") + '{0:^16}'.format(\"p_value\") + '\\n' +\\\n",
    "                '-'*120 + '\\n' +\\\n",
    "                '{0:^18}'.format(\"迴歸(Predictors)\")+ '{0:>12}'.format(self.SSR()) +\\\n",
    "                     '{0:>17}'.format(self.Pl) + '{0:>22}'.format(self.MSR()) +\\\n",
    "                        '{0:>20}'.format(round(self.MSR()/self.MSE(),3)) + '{0:>17}'.format(self.P_value()) + '{0:>5}'.format(self.value_code(self.P_value())) +'\\n' +\\\n",
    "                '\\n' +\\\n",
    "                '{0:^18}'.format(\"殘差(Residuals)\")  + '{0:>12}'.format(self.SSE()) +\\\n",
    "                     '{0:>17}'.format(self.Rl) + '{0:>22}'.format(self.MSE()) +\\\n",
    "                        '{0:>20}'.format(\"\") + '{0:^10}'.format(\"\") + '\\n' +\\\n",
    "                '-'*120 +'\\n' +\\\n",
    "                '{0:^18}'.format(\"總和(Total)\") + '{0:>12}'.format(self.SST()) +\\\n",
    "                     '{0:>17}'.format(self.Tl - 1) + '{0:>22}'.format('') +\\\n",
    "                        '{0:^32}'.format(\"\") + '{0:^10}'.format(\"\") + '\\n' +\\\n",
    "                '='*120 + '\\n' +\\\n",
    "                \"Signif. codes : 0 '***' 0.001 '**' 0.01 '*' 0.05 '.' 0.1 '' 1 \"\n",
    "        print(table)\n",
    "\n",
    "\n",
    "    def ANOVA_table_typeI(self):\n",
    "        feature_order = self.Forward()\n",
    "        ## 計算各個 SSR 的遞增值\n",
    "        feature_i = []\n",
    "        SSR_list = [0]\n",
    "\n",
    "        for i in feature_order:\n",
    "            LM = LinearRegression()\n",
    "            feature_i.append(i)\n",
    "            X1 = self.X[:,feature_i]\n",
    "\n",
    "            LM.fit(X1, self.y)\n",
    "            y1_pred = LM.predict(X1)\n",
    "            SSR_list.append(round(np.sum(((np.mean(self.y) - y1_pred)**2))  - np.sum(SSR_list),3))\n",
    "        SSR_list = SSR_list[1:]\n",
    "\n",
    "\n",
    "        table = \\\n",
    "                '='*120 + '\\n' +\\\n",
    "                '{0:^16}'.format(\"變異來源\")  +'{0:^16}'.format(\"平方和(SS)\") +\\\n",
    "                     '{0:^16}'.format(\"自由度(DF)\") + '{0:^16}'.format(\"平均平方和(MS)\") +\\\n",
    "                        '{0:^16}'.format(\"檢定統計量(F value)\") + '{0:^16}'.format(\"p_value\") + '\\n' +\\\n",
    "                '-'*120 + '\\n' +\\\n",
    "                '{0:^18}'.format(\"迴歸(Predictors)\") + '{0:>12}'.format(self.SSR()) +\\\n",
    "                     '{0:>17}'.format(self.Pl) + '{0:>22}'.format(self.MSR()) +\\\n",
    "                        '{0:>20}'.format(round(self.MSR()/self.MSE(),3)) + '{0:>17}'.format(self.P_value()) + '{0:>5}'.format(self.value_code(self.P_value())) +'\\n' +\\\n",
    "                '\\n' \n",
    "\n",
    "        for i in range(len(feature_order)):\n",
    "            feature_index = feature_order[i]\n",
    "            F_value = round(SSR_list[i]/self.MSE(),3)\n",
    "            p_value = round(1 - ss.f.cdf(F_value, 1, self.Rl), 5)\n",
    "            table += '{0:>16}'.format(self.colnames[feature_index])  + '{0:>16}'.format(SSR_list[i]) +\\\n",
    "                     '{0:>17}'.format(1) + '{0:>22}'.format(SSR_list[i]) +\\\n",
    "                     '{0:>20}'.format(F_value) + '{0:>17}'.format(p_value) + '{0:>5}'.format(self.value_code(p_value)) +'\\n' +\\\n",
    "                '\\n' \n",
    "        \n",
    "\n",
    "        table +=\\\n",
    "                '{0:^18}'.format(\"殘差(Residuals)\")  + '{0:>12}'.format(self.SSE()) +\\\n",
    "                     '{0:>17}'.format(self.Rl) + '{0:>22}'.format(self.MSE()) +\\\n",
    "                        '{0:>20}'.format(\"\") + '{0:^10}'.format(\"\") + '\\n' +\\\n",
    "                '-'*120 +'\\n' +\\\n",
    "                '{0:^18}'.format(\"總和(Total)\") + '{0:>12}'.format(self.SST()) +\\\n",
    "                     '{0:>17}'.format(self.Tl - 1) + '{0:>22}'.format('') +\\\n",
    "                        '{0:>20}'.format(\"\") + '{0:^10}'.format(\"\") + '\\n' +\\\n",
    "                '='*120 + '\\n' +\\\n",
    "                \"Signif. codes : 0 '***' 0.001 '**' 0.01 '*' 0.05 '.' 0.1 '' 1 \"\n",
    "        \n",
    "        print(table)\n",
    "\n",
    "\n",
    "    def ANOVA_table_typeII(self):\n",
    "        feature_order = self.Forward()\n",
    "        ## 計算各個 SSR 的遞增值\n",
    "        feature_i = []\n",
    "        SSR_list = []\n",
    "        SSR = self.SSR()\n",
    "\n",
    "        for i in feature_order:\n",
    "            LM = LinearRegression()\n",
    "            feature_i = [j for j in range(len(feature_order)) if j != i]\n",
    "            X1 = self.X[:,feature_i]\n",
    "\n",
    "            LM.fit(X1, self.y)\n",
    "            y1_pred = LM.predict(X1)\n",
    "            SSR_list.append(round(SSR - np.sum(((np.mean(self.y) - y1_pred)**2)) ,3))\n",
    "\n",
    "\n",
    "        table = \\\n",
    "                '='*120 + '\\n' +\\\n",
    "                '{0:^16}'.format(\"變異來源\")  +'{0:^16}'.format(\"平方和(SS)\") +\\\n",
    "                     '{0:^16}'.format(\"自由度(DF)\") + '{0:^16}'.format(\"平均平方和(MS)\") +\\\n",
    "                        '{0:^16}'.format(\"檢定統計量(F value)\") + '{0:^16}'.format(\"p_value\") + '\\n' +\\\n",
    "                '-'*120 + '\\n' +\\\n",
    "                '{0:^18}'.format(\"迴歸(Predictors)\") + '{0:>12}'.format(self.SSR()) +\\\n",
    "                     '{0:>17}'.format(self.Pl) + '{0:>22}'.format(self.MSR()) +\\\n",
    "                        '{0:>20}'.format(round(self.MSR()/self.MSE(),3)) + '{0:>17}'.format(self.P_value()) + '{0:>5}'.format(self.value_code(self.P_value())) +'\\n' +\\\n",
    "                '\\n' \n",
    "\n",
    "        for i in range(len(feature_order)):\n",
    "            feature_index = feature_order[i]\n",
    "            F_value = round(SSR_list[i]/self.MSE(),3)\n",
    "            p_value = round(1 - ss.f.cdf(F_value, 1, self.Rl), 5)\n",
    "            table += '{0:>16}'.format(self.colnames[feature_index])  + '{0:>16}'.format(SSR_list[i]) +\\\n",
    "                     '{0:>17}'.format(1) + '{0:>22}'.format(SSR_list[i]) +\\\n",
    "                     '{0:>20}'.format(F_value) + '{0:>17}'.format(p_value) + '{0:>5}'.format(self.value_code(p_value)) +'\\n' +\\\n",
    "                '\\n' \n",
    "        \n",
    "\n",
    "        table +=\\\n",
    "                '{0:^18}'.format(\"殘差(Residuals)\")  + '{0:>12}'.format(self.SSE()) +\\\n",
    "                     '{0:>17}'.format(self.Rl) + '{0:>22}'.format(self.MSE()) +\\\n",
    "                        '{0:>20}'.format(\"\") + '{0:^10}'.format(\"\") + '\\n' +\\\n",
    "                '-'*120 +'\\n' +\\\n",
    "                '{0:^18}'.format(\"總和(Total)\") + '{0:>12}'.format(self.SST()) +\\\n",
    "                     '{0:>17}'.format(self.Tl - 1) + '{0:>22}'.format('') +\\\n",
    "                        '{0:>20}'.format(\"\") + '{0:^10}'.format(\"\") + '\\n' +\\\n",
    "                '='*120 + '\\n' +\\\n",
    "                \"Signif. codes : 0 '***' 0.001 '**' 0.01 '*' 0.05 '.' 0.1 '' 1 \"\n",
    "        \n",
    "        print(table)\n",
    "\n"
   ]
  },
  {
   "cell_type": "code",
   "execution_count": 5,
   "metadata": {},
   "outputs": [
    {
     "name": "stdout",
     "output_type": "stream",
     "text": [
      "========================================================================================================================\n",
      "      變異來源          平方和(SS)         自由度(DF)        平均平方和(MS)     檢定統計量(F value)     p_value     \n",
      "------------------------------------------------------------------------------------------------------------------------\n",
      "  迴歸(Predictors)      5983.363                5              1196.673            1180.151              0.0  ***\n",
      "\n",
      "  殘差(Residuals)         95.269               94                 1.014                              \n",
      "------------------------------------------------------------------------------------------------------------------------\n",
      "    總和(Total)         6078.632               99                                                                \n",
      "========================================================================================================================\n",
      "Signif. codes : 0 '***' 0.001 '**' 0.01 '*' 0.05 '.' 0.1 '' 1 \n"
     ]
    }
   ],
   "source": [
    "# anova table\n",
    "anova = regression_ANOVA(data)\n",
    "anova.ANOVA_table()"
   ]
  },
  {
   "cell_type": "code",
   "execution_count": 22,
   "metadata": {},
   "outputs": [
    {
     "name": "stdout",
     "output_type": "stream",
     "text": [
      "========================================================================================================================\n",
      "      變異來源          平方和(SS)         自由度(DF)        平均平方和(MS)     檢定統計量(F value)     p_value     \n",
      "------------------------------------------------------------------------------------------------------------------------\n",
      "  迴歸(Predictors)      5983.363                5              1196.673            1180.151              0.0  ***\n",
      "\n",
      "               v        3104.419                1              3104.419            3061.557              0.0  ***\n",
      "\n",
      "               u        1703.886                1              1703.886            1680.361              0.0  ***\n",
      "\n",
      "               e         738.965                1               738.965             728.762              0.0  ***\n",
      "\n",
      "               w         434.811                1               434.811             428.808              0.0  ***\n",
      "\n",
      "               d           1.282                1                 1.282               1.264          0.26376     \n",
      "\n",
      "  殘差(Residuals)         95.269               94                 1.014                              \n",
      "------------------------------------------------------------------------------------------------------------------------\n",
      "    總和(Total)         6078.632               99                                                    \n",
      "========================================================================================================================\n",
      "Signif. codes : 0 '***' 0.001 '**' 0.01 '*' 0.05 '.' 0.1 '' 1 \n"
     ]
    }
   ],
   "source": [
    "# type I\n",
    "anova = regression_ANOVA(data)\n",
    "anova.ANOVA_table_typeI()"
   ]
  },
  {
   "cell_type": "code",
   "execution_count": 23,
   "metadata": {},
   "outputs": [
    {
     "name": "stdout",
     "output_type": "stream",
     "text": [
      "========================================================================================================================\n",
      "      變異來源          平方和(SS)         自由度(DF)        平均平方和(MS)     檢定統計量(F value)     p_value     \n",
      "------------------------------------------------------------------------------------------------------------------------\n",
      "  迴歸(Predictors)      5983.363                5              1196.673            1180.151              0.0  ***\n",
      "\n",
      "               v        2657.318                1              2657.318            2620.629              0.0  ***\n",
      "\n",
      "               u        1744.852                1              1744.852            1720.761              0.0  ***\n",
      "\n",
      "               e          769.62                1                769.62             758.994              0.0  ***\n",
      "\n",
      "               w         423.484                1               423.484             417.637              0.0  ***\n",
      "\n",
      "               d           1.282                1                 1.282               1.264          0.26376     \n",
      "\n",
      "  殘差(Residuals)         95.269               94                 1.014                              \n",
      "------------------------------------------------------------------------------------------------------------------------\n",
      "    總和(Total)         6078.632               99                                                    \n",
      "========================================================================================================================\n",
      "Signif. codes : 0 '***' 0.001 '**' 0.01 '*' 0.05 '.' 0.1 '' 1 \n"
     ]
    }
   ],
   "source": [
    "# type II\n",
    "anova = regression_ANOVA(data)\n",
    "anova.ANOVA_table_typeII()"
   ]
  }
 ],
 "metadata": {
  "kernelspec": {
   "display_name": "Python 3",
   "language": "python",
   "name": "python3"
  },
  "language_info": {
   "codemirror_mode": {
    "name": "ipython",
    "version": 3
   },
   "file_extension": ".py",
   "mimetype": "text/x-python",
   "name": "python",
   "nbconvert_exporter": "python",
   "pygments_lexer": "ipython3",
   "version": "3.9.5"
  },
  "orig_nbformat": 4,
  "vscode": {
   "interpreter": {
    "hash": "4206480afc6f8f20a91f9b30d4e9d2907612993729e8a589e2c16a111e42b69c"
   }
  }
 },
 "nbformat": 4,
 "nbformat_minor": 2
}
