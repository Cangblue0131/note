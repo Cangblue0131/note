{
 "cells": [
  {
   "cell_type": "markdown",
   "metadata": {},
   "source": [
    "# between and within ratio (組間和組內比)\n",
    "\n",
    "<font size = 5 color = orange>此比較用於單個特徵, 去比較不同 label(y值) 對應的數值.</font>\n",
    "\n",
    "期望來說, 相同 labe 所對應的數值差異越小越好; 不同的 label 所對應的數值差異越大越好.\n",
    "\n",
    "比較方法是使用 ANOVA, 做法和 One-way ANOVA 一樣(參考 : 分析相關/015.假設檢定/03.ANOVA.ipynb). 但是我們要的是\"有差異\", 所以假設檢定得到的 p_value 越小越好. 主要是因為 $H_0$ 基本上是設 : 平均數相等.\n",
    "\n"
   ]
  },
  {
   "cell_type": "markdown",
   "metadata": {},
   "source": [
    "![參考圖片](https://imgur.com/QLUorPT.jpg)"
   ]
  },
  {
   "cell_type": "markdown",
   "metadata": {},
   "source": [
    "## One-way ANOVA table\n",
    "\n",
    "<font size = 5>符號 : </font>\n",
    "\n",
    "*   k : 組數\n",
    "\n",
    "*   N : 總樣本數 ( $\\sum n_i$ )\n",
    "\n",
    "*   $y_{k,i}$ : 第k組第i個觀察值 (上面表示成 $x_{i,k}$)\n",
    "\n",
    "*   $\\bar{y_{k}}$ : 第k組觀察值的平均值 (上面表示成 $\\bar{x_{k}}$)\n",
    "\n",
    "*   $\\bar{y}$    : 所有觀察值的平均值 (上面表示成 $\\bar{\\bar{x}}$)\n",
    "\n",
    "*   $SS_T (總變異) : \\sum\\limits_{k}\\sum\\limits_{i}(y_{k,i} - \\bar{y})^2 ~=~ n_T\\sigma_T^2 ~=~ (n_T-1)s_T^2 $\n",
    "\n",
    "*   $SS_G (組間變異, SS_A (A 因子的變異)) : \\sum\\limits_{k}n_k(\\bar{y_{k}} - \\bar{y})^2 = SS_T - SS_W = SS_T - SS_E$\n",
    "\n",
    "*   $SS_W (組內變異, SS_E) : \\sum\\limits_{k}\\sum\\limits_{i}(y_{k,i} - \\bar{y_{k}})^2  = \\sum\\limits_{k}(n_k-1)(\\frac{1}{n_k-1}\\sum\\limits_{i}(y_{k,i} - \\bar{y_{k}})^2) = \\sum\\limits_{k} (n_k-1)s_k^2$\n",
    "\n",
    "*   $SS_T = SS_G + SS_W$\n",
    "\n",
    "*   $F^*$   : 若 $F^* > F_\\alpha(k-1,n-k)$，則 $ reject ~~H_0 $ 。\n",
    "\n",
    "\n",
    "<img src=\"https://i.imgur.com/R2OoUE9.png\" width=\"60%\" height=\"60%\">"
   ]
  },
  {
   "cell_type": "markdown",
   "metadata": {},
   "source": [
    "### python"
   ]
  },
  {
   "cell_type": "code",
   "execution_count": 1,
   "metadata": {},
   "outputs": [
    {
     "data": {
      "text/html": [
       "<div>\n",
       "<style scoped>\n",
       "    .dataframe tbody tr th:only-of-type {\n",
       "        vertical-align: middle;\n",
       "    }\n",
       "\n",
       "    .dataframe tbody tr th {\n",
       "        vertical-align: top;\n",
       "    }\n",
       "\n",
       "    .dataframe thead th {\n",
       "        text-align: right;\n",
       "    }\n",
       "</style>\n",
       "<table border=\"1\" class=\"dataframe\">\n",
       "  <thead>\n",
       "    <tr style=\"text-align: right;\">\n",
       "      <th></th>\n",
       "      <th>平方和</th>\n",
       "      <th>自由度</th>\n",
       "      <th>平均平方和</th>\n",
       "      <th>F</th>\n",
       "    </tr>\n",
       "  </thead>\n",
       "  <tbody>\n",
       "    <tr>\n",
       "      <th>因子(組間)</th>\n",
       "      <td>7.445084</td>\n",
       "      <td>11.0</td>\n",
       "      <td>0.676826</td>\n",
       "      <td>0.629811</td>\n",
       "    </tr>\n",
       "    <tr>\n",
       "      <th>隨機(組內)</th>\n",
       "      <td>251.467837</td>\n",
       "      <td>234.0</td>\n",
       "      <td>1.074649</td>\n",
       "      <td>NaN</td>\n",
       "    </tr>\n",
       "    <tr>\n",
       "      <th>總和</th>\n",
       "      <td>258.912921</td>\n",
       "      <td>245.0</td>\n",
       "      <td>NaN</td>\n",
       "      <td>NaN</td>\n",
       "    </tr>\n",
       "  </tbody>\n",
       "</table>\n",
       "</div>"
      ],
      "text/plain": [
       "               平方和    自由度     平均平方和         F\n",
       "因子(組間)    7.445084   11.0  0.676826  0.629811\n",
       "隨機(組內)  251.467837  234.0  1.074649       NaN\n",
       "總和      258.912921  245.0       NaN       NaN"
      ]
     },
     "execution_count": 1,
     "metadata": {},
     "output_type": "execute_result"
    }
   ],
   "source": [
    "from pickle import FALSE\n",
    "import numpy as np\n",
    "import pandas as pd\n",
    "\n",
    "##input\n",
    "G = 12 #組別\n",
    "\n",
    "\n",
    "\n",
    "##建立資料\n",
    "data = {}\n",
    "n = []\n",
    "for i in range(G):\n",
    "    ni = np.random.randint(12,30)\n",
    "    data[\"母體{}\".format(i+1)] = np.random.normal(loc = 0, scale = 1 ,size = ni)\n",
    "    n.append(ni)\n",
    "N = np.sum(n) #總樣本數\n",
    "\n",
    "##處理資料(python 不同長度製作成data frame很麻煩，所以直接處理資料在製作，之後計算也比較方便)\n",
    "pre_data = {\"ni\"   : [ len(data[i]) for i in data.keys()],\n",
    "            'xbar' : [ np.mean(data[i]) for i in data.keys()] ,\n",
    "            's2'  :  [ np.var(data[i],ddof = 1) for i in data.keys()]}\n",
    "df = pd.DataFrame(pre_data)\n",
    "df.index = data.keys()\n",
    "df\n",
    "\n",
    "##run\n",
    "all_mean = df['ni'] * df['xbar']/np.sum(df['ni']) #sum(ni*xbar/sum(ni))\n",
    "\n",
    "SSG =np.sum(df['ni']*(df['xbar']-all_mean)**2)  #sum(nk(xbar-xbarbar))\n",
    "SSW = np.sum((df['ni']-1) * df['s2'] ) #sum((nk-1)*sk^2)\n",
    "SST = SSG + SSW\n",
    "\n",
    "SS = [SSG,SSW,SST]\n",
    "df = [G-1,N-G,N-1]\n",
    "MS = [SS[0]/df[0],SS[1]/df[1],np.NaN]\n",
    "F = [ MS[0]/MS[1],np.NaN,np.NAN]\n",
    "\n",
    "ANOVA_df = pd.DataFrame([SS,df,MS,F]).T\n",
    "ANOVA_df.index = [\"因子(組間)\",\"隨機(組內)\",\"總和\"]\n",
    "ANOVA_df.columns = [\"平方和\",\"自由度\",\"平均平方和\",\"F\"]\n",
    "\n",
    "ANOVA_df #用print 會沒對齊\n",
    "\n"
   ]
  }
 ],
 "metadata": {
  "kernelspec": {
   "display_name": "Python 3",
   "language": "python",
   "name": "python3"
  },
  "language_info": {
   "codemirror_mode": {
    "name": "ipython",
    "version": 3
   },
   "file_extension": ".py",
   "mimetype": "text/x-python",
   "name": "python",
   "nbconvert_exporter": "python",
   "pygments_lexer": "ipython3",
   "version": "3.9.5"
  },
  "orig_nbformat": 4
 },
 "nbformat": 4,
 "nbformat_minor": 2
}
