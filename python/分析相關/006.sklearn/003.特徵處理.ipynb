{
 "cells": [
  {
   "cell_type": "markdown",
   "metadata": {},
   "source": [
    "# 特徵處理\n",
    "\n",
    "當然除了這些還有其他方法, 參考 012.特徵相關.\n",
    "\n",
    "1. PCA : 降維\n",
    "    ```python\n",
    "    from sklearn.decomposition import PCA\n",
    "\n",
    "    # 创建PCA对象，并拟合数据\n",
    "    pca = PCA()\n",
    "    pca.fit(data) # 只有特徵值\n",
    "    ```\n",
    "---\n",
    "2. AutoFeat : 升維\n",
    "    ```python\n",
    "    from autofeat import AutoFeatRegressor\n",
    "\n",
    "    # 建立 AutoFeatRegressor 物件\n",
    "    reg = AutoFeatRegressor()\n",
    "\n",
    "    # 使用 fit 函數進行特徵提升\n",
    "    X_transformed = reg.fit_transform(X, y)\n",
    "    ```\n",
    "---\n",
    "3. RFE : 刪除不重要的特徵\n",
    "    ```python\n",
    "    from sklearn.feature_selection import RFE\n",
    "    # 使用 RFE 進行特徵選擇，選擇2個特徵\n",
    "    rfe = RFE(model, n_features_to_select=2)\n",
    "    X_selected = rfe.fit_transform(X, y)\n",
    "    ```\n",
    "---\n",
    "4. SelectKBest : 根據指定的統計測試方法選擇得分最高的 k 個特徵。\n",
    "    ```python\n",
    "    from sklearn.feature_selection import SelectKBest\n",
    "    from sklearn.feature_selection import f_regression   # 假設使用 f_regression 統計測試方法\n",
    "\n",
    "    # 假設 k = 5\n",
    "    k = 5\n",
    "    selector = SelectKBest(score_func=f_regression, k=k)\n",
    "\n",
    "    # 使用 SelectKBest 選擇 k 個最佳特徵\n",
    "    X_new = selector.fit_transform(X, y)\n",
    "    ```\n",
    "---\n",
    "5. SelectPercentile : 根據指定的評分函數選擇特定百分比的特徵。\n",
    "    ```python\n",
    "    from sklearn.feature_selection import SelectPercentile\n",
    "    from sklearn.feature_selection import mutual_info_classif   # 假設使用 mutual_info_classif 評分函數\n",
    "\n",
    "    # 假設選擇 30% 的特徵\n",
    "    percentile = 30\n",
    "    selector = SelectPercentile(score_func=mutual_info_classif, percentile=percentile)\n",
    "\n",
    "    # 使用 SelectPercentile 選擇指定百分比的特徵\n",
    "    X_new = selector.fit_transform(X, y)\n",
    "    ```\n",
    "---\n",
    "6. SelectFromModel :  根據模型中的特徵重要性或係數，選擇在設定的閾值以上的特徵。這使得 SelectFromModel 可以根據模型的特徵重要性自動選擇最佳的特徵子集。\n",
    "    ```python\n",
    "    from sklearn.feature_selection import SelectFromModel\n",
    "    # 初始化 SelectFromModel 並使用 RandomForestClassifier 作為模型\n",
    "    selector = SelectFromModel(estimator = model)\n",
    "    ```\n",
    "---\n",
    "7. VarianceThreshold : 用於特徵選擇的類別，它可以用來過濾掉低方差的特徵。\n",
    "    ```python\n",
    "    from sklearn.feature_selection import VarianceThreshold\n",
    "    # 初始化 VarianceThreshold 並設定閾值為0.1\n",
    "    selector = VarianceThreshold(threshold=0.1)\n",
    "    # 使用 VarianceThreshold 過濾低方差特徵\n",
    "    X_filtered = selector.fit_transform(X)\n",
    "    ```\n",
    "---\n",
    "8. Boruta : 是一種特徵選擇算法，用於挑選最重要的特徵，特別適用於處理高維數據的特徵選擇。它基於隨機森林的概念，通過比較原始特徵和隨機產生的特徵的重要性，來判斷哪些特徵對於目標變量的預測最有貢獻。\n",
    "    ```python\n",
    "    from boruta import BorutaPy\n",
    "    # 建立隨機森林迴歸模型\n",
    "    rf = RandomForestRegressor(n_jobs=-1, max_depth=5)\n",
    "    # 初始化 Boruta\n",
    "    boruta_selector = BorutaPy(estimator=rf, n_estimators='auto', verbose=2, random_state=42)\n",
    "    # 擬合 Boruta 模型\n",
    "    boruta_selector.fit(X.values, y.values)\n",
    "    ```"
   ]
  },
  {
   "cell_type": "markdown",
   "metadata": {},
   "source": [
    "## 篩選特徵時常用的評分函數\n",
    "\n",
    "1. mutual_info_classif：\n",
    "\n",
    "    * 優點：計算特徵和目標之間的互信息，對於特徵和類別目標的關聯性較好。\n",
    "    * 缺點：只能處理類別目標，無法處理連續目標。\n",
    "---\n",
    "2. mutual_info_regression：\n",
    "\n",
    "    * 優點：計算特徵和目標之間的互信息，對於特徵和連續目標的關聯性較好。\n",
    "    * 缺點：只能處理連續目標，無法處理類別目標。\n",
    "---\n",
    "3. f_classif：\n",
    "\n",
    "    * 優點：計算ANOVA F-statistic和p-value，對於特徵和類別目標的關聯性進行評估。\n",
    "    * 缺點：只能處理類別目標，無法處理連續目標。\n",
    "---\n",
    "4. f_regression：\n",
    "\n",
    "    * 優點：計算ANOVA F-statistic和p-value，對於特徵和連續目標的關聯性進行評估。\n",
    "    * 缺點：只能處理連續目標，無法處理類別目標。"
   ]
  },
  {
   "cell_type": "markdown",
   "metadata": {},
   "source": [
    "## PCA(主成分分析) : 降維\n",
    "\n",
    "用來降低維度, 且保留數據的主要訊息."
   ]
  },
  {
   "cell_type": "code",
   "execution_count": 25,
   "metadata": {},
   "outputs": [
    {
     "name": "stdout",
     "output_type": "stream",
     "text": [
      "每个维度的主成分(PC)值 : \n",
      "维度 1: [-0.31644095  0.38832581  0.37263919 -0.08200572 -0.3611503   0.14104365\n",
      " -0.24575502  0.08832903  0.48643738  0.38515135]\n",
      "维度 2: [-0.04233586  0.2798924   0.31062378 -0.14507819 -0.15805849 -0.49418697\n",
      " -0.18461535  0.45284893 -0.50331272 -0.20162139]\n",
      "维度 3: [-0.02214896  0.37802299  0.11591659  0.36181336  0.59020145  0.2330573\n",
      " -0.49203875 -0.16012417 -0.20412184  0.014192  ]\n",
      "\n",
      "每個维度的解釋度 : \n",
      "维度 1: 0.1611\n",
      "维度 2: 0.1390\n",
      "维度 3: 0.1180\n",
      "维度 4: 0.1063\n",
      "维度 5: 0.0968\n",
      "维度 6: 0.0883\n",
      "维度 7: 0.0859\n",
      "维度 8: 0.0775\n",
      "维度 9: 0.0679\n",
      "维度 10: 0.0593\n",
      "\n",
      "累積方差解釋率 : \n",
      "前 1 個维度累積方差解釋率：0.1611\n",
      "前 2 個维度累積方差解釋率：0.3001\n",
      "前 3 個维度累積方差解釋率：0.4181\n",
      "前 4 個维度累積方差解釋率：0.5244\n",
      "前 5 個维度累積方差解釋率：0.6212\n",
      "前 6 個维度累積方差解釋率：0.7095\n",
      "前 7 個维度累積方差解釋率：0.7953\n",
      "前 8 個维度累積方差解釋率：0.8728\n",
      "前 9 個维度累積方差解釋率：0.9407\n",
      "前 10 個维度累積方差解釋率：1.0000\n"
     ]
    }
   ],
   "source": [
    "import numpy as np\n",
    "from sklearn.decomposition import PCA\n",
    "\n",
    "# 生成示例数据\n",
    "np.random.seed(42)\n",
    "data = np.random.rand(100, 10)\n",
    "\n",
    "# 创建PCA对象，并拟合数据\n",
    "pca = PCA()\n",
    "pca.fit(data)\n",
    "\n",
    "# 获取每个维度的解释度和累计方差解释率\n",
    "explained_variance = pca.explained_variance_ratio_\n",
    "cumulative_explained_variance = np.cumsum(explained_variance)\n",
    "\n",
    "print(\"每个维度的主成分(PC)值 : \")\n",
    "for i in range(min(3,np.shape(data)[1])):\n",
    "    print(f\"维度 {i+1}: {pca.components_[i]}\")\n",
    "\n",
    "# 输出每个维度的解释度和累计方差解释率\n",
    "print(\"\\n每個维度的解釋度 : \")\n",
    "for i, ev in enumerate(explained_variance):\n",
    "    print(f\"维度 {i+1}: {ev:.4f}\")\n",
    "\n",
    "print(\"\\n累積方差解釋率 : \")\n",
    "for i, cev in enumerate(cumulative_explained_variance):\n",
    "    print(f\"前 {i+1} 個维度累積方差解釋率：{cev:.4f}\")"
   ]
  },
  {
   "cell_type": "code",
   "execution_count": 26,
   "metadata": {},
   "outputs": [
    {
     "name": "stdout",
     "output_type": "stream",
     "text": [
      "回歸模型系数： [-80.06685648  84.98259857  45.76534356 -32.28268893  66.9524704\n",
      "  68.45640835 -55.75366454]\n",
      "回歸模型截距： 11.013216414049733\n"
     ]
    }
   ],
   "source": [
    "import numpy as np\n",
    "from sklearn.datasets import make_regression\n",
    "from sklearn.decomposition import PCA\n",
    "from sklearn.linear_model import LinearRegression\n",
    "\n",
    "# 生成模拟数据\n",
    "X, y = make_regression(n_samples=100, n_features=10, noise=0.1, random_state=42)\n",
    "\n",
    "# 使用PCA进行降维\n",
    "pca = PCA()\n",
    "X_pca = pca.fit_transform(X)\n",
    "\n",
    "# 計算主成分的解釋度\n",
    "explained_variance_ratio = pca.explained_variance_ratio_\n",
    "\n",
    "# 計算累積解釋度\n",
    "cumulative_explained_variance_ratio = np.cumsum(explained_variance_ratio)\n",
    "\n",
    "# 找到累积解释方差大于等于0.8的主成分的数量\n",
    "n_components = np.argmax(cumulative_explained_variance_ratio >= 0.8) + 1 #求累積解釋率 >= 0.8 的位置\n",
    "\n",
    "# 取出累积解释方差大于等于0.8的主成分\n",
    "X_pca_selected = X_pca[:, :n_components]\n",
    "\n",
    "# 使用回归模型进行分析\n",
    "regression_model = LinearRegression()\n",
    "regression_model.fit(X_pca_selected, y)\n",
    "\n",
    "# 输出模型的系数和截距\n",
    "print(\"回歸模型系数：\", regression_model.coef_)\n",
    "print(\"回歸模型截距：\", regression_model.intercept_)"
   ]
  },
  {
   "cell_type": "markdown",
   "metadata": {},
   "source": [
    "## AutoFeat : 升維\n",
    "\n",
    "有些資料必須使用高維度去分析, 例如 y = X1^2 + X2^2"
   ]
  },
  {
   "cell_type": "code",
   "execution_count": 24,
   "metadata": {},
   "outputs": [
    {
     "name": "stdout",
     "output_type": "stream",
     "text": [
      "原始資料形狀： (5, 2)\n",
      "特徵提升後資料形狀： (5, 3)\n",
      "原始特徵名稱： Index(['X1', 'X2'], dtype='object')\n",
      "新特徵名稱： Index(['X1', 'X2', 'exp(X2)'], dtype='object')\n"
     ]
    }
   ],
   "source": [
    "import numpy as np\n",
    "import pandas as pd\n",
    "from autofeat import AutoFeatRegressor\n",
    "\n",
    "# 假設這是我們的資料\n",
    "data = pd.DataFrame({\n",
    "    'X1': [1, 2, 3, 4, 5],\n",
    "    'X2': [2, 3, 4, 5, 6],\n",
    "    'y': [5, 13, 25, 41, 61]\n",
    "})\n",
    "\n",
    "# 分割特徵和目標變數\n",
    "X = data[['X1', 'X2']]\n",
    "y = data['y']\n",
    "\n",
    "# 建立 AutoFeatRegressor 物件\n",
    "reg = AutoFeatRegressor()\n",
    "\n",
    "# 使用 fit 函數進行特徵提升\n",
    "X_transformed = reg.fit_transform(X, y)\n",
    "\n",
    "# 取得新特徵名稱\n",
    "new_feat_names = X_transformed.columns\n",
    "\n",
    "print(\"原始資料形狀：\", X.shape)\n",
    "print(\"特徵提升後資料形狀：\", X_transformed.shape)\n",
    "print(\"原始特徵名稱：\", X.columns)\n",
    "print(\"新特徵名稱：\", new_feat_names)\n"
   ]
  },
  {
   "cell_type": "markdown",
   "metadata": {},
   "source": [
    "## Recursive Feature Elimination (RFE)：\n",
    "\n",
    "RFE 是一種特徵選擇方法，它通過反覆選擇模型中最不重要的特徵，然後刪除它們，從而進行特徵選擇。\n",
    "\n",
    "sklearn.feature_selection.RFE(estimator, n_features_to_select=None, step=1, verbose=0)\n",
    "\n",
    "* estimator: 指定用於特徵選擇的基模型 (estimator)，這個模型需要實現 coef_ 或者 feature_importances_ 屬性來衡量特徵的重要性。常見的基模型包括線性回歸、SVM、決策樹等。\n",
    "\n",
    "* n_features_to_select: 指定希望選擇的特徵數量。預設值為 None，表示選擇一半的特徵數量。\n",
    "\n",
    "* step: 指定每次遞減特徵數量的步長，預設值為 1。如果 step 為整數，則在每次迭代中將刪除 step 個特徵；如果 step 為浮點數(0,1)，則每次迭代中將刪除當前特徵數量的 step 比例。\n",
    "\n",
    "* verbose: 控制過程是否輸出詳細信息。預設值為 0，表示不輸出詳細信息；如果設置為大於 0 的值，則會輸出相關信息。\n"
   ]
  },
  {
   "cell_type": "markdown",
   "metadata": {},
   "source": [
    "### python\n",
    "\n",
    "RFE 基本使用方法"
   ]
  },
  {
   "cell_type": "code",
   "execution_count": 4,
   "metadata": {},
   "outputs": [
    {
     "name": "stdout",
     "output_type": "stream",
     "text": [
      "Fitting estimator with 4 features.\n",
      "Fitting estimator with 3 features.\n",
      "選擇的特徵:\n",
      "[[1.4 0.2]\n",
      " [1.3 0.2]\n",
      " [1.5 0.2]\n",
      " [1.4 0.2]\n",
      " [1.7 0.4]\n",
      " [1.4 0.3]\n",
      " [1.5 0.2]\n",
      " [1.4 0.2]\n",
      " [1.5 0.1]]\n"
     ]
    },
    {
     "name": "stderr",
     "output_type": "stream",
     "text": [
      "c:\\Users\\bluesky\\AppData\\Local\\Programs\\Python\\Python39\\lib\\site-packages\\sklearn\\linear_model\\_logistic.py:460: ConvergenceWarning: lbfgs failed to converge (status=1):\n",
      "STOP: TOTAL NO. of ITERATIONS REACHED LIMIT.\n",
      "\n",
      "Increase the number of iterations (max_iter) or scale the data as shown in:\n",
      "    https://scikit-learn.org/stable/modules/preprocessing.html\n",
      "Please also refer to the documentation for alternative solver options:\n",
      "    https://scikit-learn.org/stable/modules/linear_model.html#logistic-regression\n",
      "  n_iter_i = _check_optimize_result(\n"
     ]
    }
   ],
   "source": [
    "import numpy as np\n",
    "from sklearn.datasets import load_iris\n",
    "from sklearn.feature_selection import RFE\n",
    "from sklearn.linear_model import LogisticRegression\n",
    "\n",
    "# 載入 iris 數據集\n",
    "iris = load_iris()\n",
    "X, y = iris.data, iris.target\n",
    "\n",
    "# 建立Logistic回歸模型作為基模型\n",
    "model = LogisticRegression()\n",
    "\n",
    "# 使用 RFE 進行特徵選擇，選擇2個特徵\n",
    "rfe = RFE(model, n_features_to_select=2, verbose = 1)\n",
    "X_selected = rfe.fit_transform(X, y)\n",
    "\n",
    "# 印出選擇的特徵\n",
    "print(\"選擇的特徵:\")\n",
    "print(X_selected[1:10,:])"
   ]
  },
  {
   "cell_type": "markdown",
   "metadata": {},
   "source": [
    "特徵數量普查"
   ]
  },
  {
   "cell_type": "code",
   "execution_count": 50,
   "metadata": {},
   "outputs": [
    {
     "name": "stdout",
     "output_type": "stream",
     "text": [
      "Fitting estimator with 4 features.\n",
      "Fitting estimator with 3 features.\n",
      "Fitting estimator with 2 features.\n",
      "score =  0.9666666666666667\n"
     ]
    },
    {
     "data": {
      "image/png": "[encoded data removed]",
      "text/plain": [
       "<Figure size 432x288 with 1 Axes>"
      ]
     },
     "metadata": {
      "needs_background": "light"
     },
     "output_type": "display_data"
    },
    {
     "name": "stdout",
     "output_type": "stream",
     "text": [
      "Fitting estimator with 4 features.\n",
      "Fitting estimator with 3 features.\n",
      "score =  1.0\n"
     ]
    },
    {
     "data": {
      "image/png": "[encoded data removed]",
      "text/plain": [
       "<Figure size 432x288 with 1 Axes>"
      ]
     },
     "metadata": {
      "needs_background": "light"
     },
     "output_type": "display_data"
    },
    {
     "name": "stdout",
     "output_type": "stream",
     "text": [
      "Fitting estimator with 4 features.\n",
      "score =  1.0\n"
     ]
    },
    {
     "data": {
      "image/png": "[encoded data removed]",
      "text/plain": [
       "<Figure size 432x288 with 1 Axes>"
      ]
     },
     "metadata": {
      "needs_background": "light"
     },
     "output_type": "display_data"
    },
    {
     "name": "stdout",
     "output_type": "stream",
     "text": [
      "score =  1.0\n"
     ]
    },
    {
     "data": {
      "image/png": "[encoded data removed]",
      "text/plain": [
       "<Figure size 432x288 with 1 Axes>"
      ]
     },
     "metadata": {
      "needs_background": "light"
     },
     "output_type": "display_data"
    }
   ],
   "source": [
    "import numpy as np\n",
    "from sklearn.datasets import load_iris\n",
    "from sklearn.model_selection import train_test_split, GridSearchCV\n",
    "from sklearn.feature_selection import RFE\n",
    "from sklearn.tree import DecisionTreeClassifier #決策樹\n",
    "import matplotlib.pyplot as plt\n",
    "\n",
    "# 載入 iris 數據集\n",
    "iris = load_iris()\n",
    "X, y = iris.data, iris.target\n",
    "\n",
    "# 將數據集分為訓練集和測試集\n",
    "X_train, X_test, y_train, y_test = train_test_split(X, y, test_size=0.2, random_state=42)\n",
    "\n",
    "for param_num in range(np.shape(X_train)[1]):\n",
    "    # 建立決策樹分類器\n",
    "    decision_tree = DecisionTreeClassifier(random_state=42)\n",
    "\n",
    "    # 使用 RFE 進行特徵選擇，選擇2個特徵\n",
    "    rfe = RFE(decision_tree, n_features_to_select = param_num + 1, verbose = 1)\n",
    "\n",
    "    # 減少 training 特徵數量\n",
    "    X_selected_train = rfe.fit_transform(X_train, y_train)\n",
    "\n",
    "    # 減少 test 特徵數量\n",
    "    X_selected_test = rfe.transform(X_test)\n",
    "\n",
    "    # 定義超參數網格，這裡我們只調整正則化參數 alpha\n",
    "    param_grid = {'min_samples_split': range(2, (len(X_selected_train) - 10), 10)}\n",
    "\n",
    "    # 使用 5-fold 交叉驗證進行網格搜索\n",
    "    grid_search_model = GridSearchCV(decision_tree, param_grid, cv=5)\n",
    "\n",
    "    # 求最佳超參數\n",
    "    grid_search_model.fit(X_selected_train, y_train)\n",
    "\n",
    "    # 使用最佳超參數 fit model\n",
    "    grid_search_model.best_estimator_.fit(X_selected_train, y_train) # 正確來說應該去比較所有特徵數量的最佳的cv score 再決定要用哪個model去fit\n",
    "\n",
    "    # score\n",
    "    print(\"score = \", grid_search_model.best_estimator_.score(X_selected_test, y_test))\n",
    "\n",
    "    # 绘制学习曲线\n",
    "    ratios = [0.1, 0.2, 0.5, 0.7, 1.0]\n",
    "    scores = []\n",
    "    for r in ratios:\n",
    "        X_sample = X_selected_train[:int(r*len(X_selected_train))]\n",
    "        y_sample = y_train[:int(r*len(y_train))]\n",
    "        \n",
    "        dtc = DecisionTreeClassifier(criterion='entropy') \n",
    "        dtc.fit(X_sample, y_sample)\n",
    "        score = dtc.score(X_selected_test, y_test)\n",
    "        scores.append(score)\n",
    "\n",
    "    plt.plot(ratios, scores)\n",
    "    plt.xlabel('Training set size')\n",
    "    plt.ylabel('Test set score')\n",
    "    plt.title('n_features = '+ str(param_num+1))\n",
    "    plt.show()\n"
   ]
  },
  {
   "cell_type": "markdown",
   "metadata": {},
   "source": [
    "## SelectKBest 和 SelectPercentile\n",
    "\n",
    "兩者方法類似, 前者是選擇特徵數量是使用整數, 後者使用比例"
   ]
  },
  {
   "cell_type": "markdown",
   "metadata": {},
   "source": [
    "### python\n",
    "\n",
    "SelectKBest"
   ]
  },
  {
   "cell_type": "code",
   "execution_count": 55,
   "metadata": {},
   "outputs": [
    {
     "name": "stdout",
     "output_type": "stream",
     "text": [
      "選擇的特徵的索引 =  [0 2 3]\n"
     ]
    }
   ],
   "source": [
    "from sklearn.feature_selection import SelectKBest\n",
    "from sklearn.feature_selection import f_regression   # 假設使用 f_regression 統計測試方法, 就是ANOVA, y是連續的則轉換成類別(?)\n",
    "from sklearn.datasets import load_iris\n",
    "\n",
    "# 載入 iris 數據集\n",
    "iris = load_iris()\n",
    "X, y = iris.data, iris.target\n",
    "\n",
    "# 假設 k = 5\n",
    "k = 3\n",
    "selector = SelectKBest(score_func = f_regression, k=k)\n",
    "\n",
    "# 使用 SelectKBest 選擇 k 個最佳特徵\n",
    "X_new = selector.fit_transform(X, y)\n",
    "\n",
    "# 獲取選擇的特徵的索引\n",
    "selected_feature_indices = selector.get_support(indices=True)\n",
    "\n",
    "print(\"選擇的特徵的索引 = \", selected_feature_indices)"
   ]
  },
  {
   "cell_type": "markdown",
   "metadata": {},
   "source": [
    "SelectPercentile"
   ]
  },
  {
   "cell_type": "code",
   "execution_count": 1,
   "metadata": {},
   "outputs": [
    {
     "name": "stdout",
     "output_type": "stream",
     "text": [
      "選擇的特徵的索引 =  [2 3]\n"
     ]
    }
   ],
   "source": [
    "from sklearn.feature_selection import SelectPercentile\n",
    "from sklearn.feature_selection import mutual_info_classif   # 假設使用 mutual_info_classif 評分函數\n",
    "from sklearn.datasets import load_iris\n",
    "\n",
    "# 載入 iris 數據集\n",
    "iris = load_iris()\n",
    "X, y = iris.data, iris.target\n",
    "\n",
    "# 假設選擇 50% 的特徵\n",
    "percentile = 50\n",
    "selector = SelectPercentile(score_func=mutual_info_classif, percentile=percentile)\n",
    "\n",
    "# 使用 SelectPercentile 選擇指定百分比的特徵\n",
    "X_new = selector.fit_transform(X, y)\n",
    "\n",
    "# 獲取選擇的特徵的索引\n",
    "selected_feature_indices = selector.get_support(indices=True)\n",
    "print(\"選擇的特徵的索引 = \", selected_feature_indices)"
   ]
  },
  {
   "cell_type": "markdown",
   "metadata": {},
   "source": [
    "## SelectFromModel\n",
    "\n",
    "SelectFromModel 根據模型中的特徵重要性或係數，選擇在設定的閾值以上的特徵。這使得 SelectFromModel 可以根據模型的特徵重要性自動選擇最佳的特徵子集。\n",
    "\n",
    "SelectFromModel 有幾個重要的參數：\n",
    "\n",
    "* estimator：指定用於特徵選擇的基礎模型。可以是回歸模型或分類模型，比如 LinearRegression、RandomForestRegressor、LogisticRegression、RandomForestClassifier 等。\n",
    "\n",
    "* threshold：設定特徵的閾值，只有當特徵重要性或係數大於該閾值時，才會被選擇。默認值為 None，這意味著所有特徵都會被保留。你可以根據需要調整閾值來控制保留的特徵數量。\n",
    "\n",
    "* prefit：默認為 False，表示 SelectFromModel 會自動擬合模型，並根據模型的特徵重要性或係數選擇特徵。如果將其設置為 True，則需要手動擬合模型，並將已擬合的模型傳遞給 SelectFromModel。"
   ]
  },
  {
   "cell_type": "code",
   "execution_count": 9,
   "metadata": {},
   "outputs": [
    {
     "name": "stdout",
     "output_type": "stream",
     "text": [
      "原始的特徵數 =  4\n",
      "修正後的特徵數 =  2\n"
     ]
    }
   ],
   "source": [
    "from sklearn.datasets import load_iris\n",
    "from sklearn.feature_selection import SelectFromModel\n",
    "from sklearn.ensemble import RandomForestClassifier\n",
    "import numpy as np\n",
    "\n",
    "# 載入 iris 數據集\n",
    "iris = load_iris()\n",
    "X, y = iris.data, iris.target\n",
    "\n",
    "# 初始化 RandomForestClassifier 作為模型\n",
    "clf = RandomForestClassifier()\n",
    "\n",
    "# 初始化 SelectFromModel 並使用 RandomForestClassifier 作為模型\n",
    "selector = SelectFromModel(estimator = clf, threshold = 0.1) # threshold 為閾值\n",
    "\n",
    "# 使用 SelectFromModel 選擇特徵\n",
    "X_selected = selector.fit_transform(X, y)\n",
    "\n",
    "# 打印選擇的特徵\n",
    "print(\"原始的特徵數 = \", np.shape(X)[1])\n",
    "print(\"修正後的特徵數 = \", np.shape(X_selected)[1])"
   ]
  },
  {
   "cell_type": "markdown",
   "metadata": {},
   "source": [
    "## VarianceThreshold\n",
    "\n",
    "用於特徵選擇的類別，是一种简单的特征选择方法，它根据特征的方差来进行选择, 可以用來過濾掉低方差的特徵。在機器學習中，有些特徵的方差很小，也就是說這些特徵的值在數據中幾乎不變化，對於建模來說並沒有太多信息量，因此可以被視為噪音或冗餘特徵。\n",
    "\n",
    "參數 :\n",
    "* threshold：設定方差的閾值，只有當特徵的方差大於該閾值時，才會被保留。預設值為 0，表示所有特徵都會被保留。\n"
   ]
  },
  {
   "cell_type": "markdown",
   "metadata": {},
   "source": [
    "### python\n",
    "\n",
    "VarianceThreshold"
   ]
  },
  {
   "cell_type": "code",
   "execution_count": 12,
   "metadata": {},
   "outputs": [
    {
     "name": "stdout",
     "output_type": "stream",
     "text": [
      "[[5.1 1.4 0.2]\n",
      " [4.9 1.4 0.2]\n",
      " [4.7 1.3 0.2]\n",
      " [4.6 1.5 0.2]\n",
      " [5.  1.4 0.2]\n",
      " [5.4 1.7 0.4]\n",
      " [4.6 1.4 0.3]\n",
      " [5.  1.5 0.2]\n",
      " [4.4 1.4 0.2]\n",
      " [4.9 1.5 0.1]\n",
      " [5.4 1.5 0.2]\n",
      " [4.8 1.6 0.2]\n",
      " [4.8 1.4 0.1]\n",
      " [4.3 1.1 0.1]\n",
      " [5.8 1.2 0.2]\n",
      " [5.7 1.5 0.4]\n",
      " [5.4 1.3 0.4]\n",
      " [5.1 1.4 0.3]\n",
      " [5.7 1.7 0.3]\n",
      " [5.1 1.5 0.3]]\n"
     ]
    }
   ],
   "source": [
    "from sklearn.datasets import load_iris\n",
    "from sklearn.feature_selection import VarianceThreshold\n",
    "\n",
    "# 載入 iris 數據集\n",
    "iris = load_iris()\n",
    "X, y = iris.data, iris.target\n",
    "\n",
    "# 初始化 VarianceThreshold 並設定閾值為0.1\n",
    "selector = VarianceThreshold(threshold=0.5)\n",
    "\n",
    "# 使用 VarianceThreshold 過濾低方差特徵\n",
    "X_filtered = selector.fit_transform(X)\n",
    "\n",
    "# 打印過濾後的特徵\n",
    "print(X_filtered[:20])"
   ]
  },
  {
   "cell_type": "markdown",
   "metadata": {},
   "source": [
    "# Boruta\n",
    "\n",
    "是一種特徵選擇算法，用於挑選最重要的特徵，特別適用於處理高維數據的特徵選擇。它基於隨機森林的概念，通過比較原始特徵和隨機產生的特徵的重要性，來判斷哪些特徵對於目標變量的預測最有貢獻。\n",
    "\n",
    "\n",
    "Boruta 算法的運作過程如下：\n",
    "\n",
    "1. 創建隨機特徵集：對於每個原始特徵，生成一個對應的隨機特徵，這些隨機特徵的值是原始特徵的隨機排列。\n",
    "\n",
    "2. 訓練隨機森林模型：使用原始特徵和隨機特徵訓練一個隨機森林模型。\n",
    "\n",
    "3. 計算特徵重要性：根據隨機森林模型，計算每個原始特徵的重要性分數。\n",
    "\n",
    "4. 比較重要性：將每個原始特徵的重要性分數與相應的隨機特徵的重要性分數進行比較。\n",
    "\n",
    "5. 判斷特徵重要性：如果原始特徵的重要性顯著高於隨機特徵的重要性，則保留該特徵；如果原始特徵的重要性與隨機特徵的重要性相當或低於隨機特徵的重要性，則將該特徵標記為不重要。\n",
    "\n",
    "6. 重複過程：重複上述步驟多次，直到所有特徵都被判斷為重要或不重要。"
   ]
  },
  {
   "cell_type": "markdown",
   "metadata": {},
   "source": [
    "### python\n",
    "\n",
    "Boruta"
   ]
  },
  {
   "cell_type": "code",
   "execution_count": 21,
   "metadata": {},
   "outputs": [
    {
     "name": "stdout",
     "output_type": "stream",
     "text": [
      "Iteration: \t1 / 100\n",
      "Confirmed: \t0\n",
      "Tentative: \t13\n",
      "Rejected: \t0\n",
      "Iteration: \t2 / 100\n",
      "Confirmed: \t0\n",
      "Tentative: \t13\n",
      "Rejected: \t0\n",
      "Iteration: \t3 / 100\n",
      "Confirmed: \t0\n",
      "Tentative: \t13\n",
      "Rejected: \t0\n",
      "Iteration: \t4 / 100\n",
      "Confirmed: \t0\n",
      "Tentative: \t13\n",
      "Rejected: \t0\n",
      "Iteration: \t5 / 100\n",
      "Confirmed: \t0\n",
      "Tentative: \t13\n",
      "Rejected: \t0\n",
      "Iteration: \t6 / 100\n",
      "Confirmed: \t0\n",
      "Tentative: \t13\n",
      "Rejected: \t0\n",
      "Iteration: \t7 / 100\n",
      "Confirmed: \t0\n",
      "Tentative: \t13\n",
      "Rejected: \t0\n",
      "Iteration: \t8 / 100\n",
      "Confirmed: \t9\n",
      "Tentative: \t1\n",
      "Rejected: \t3\n",
      "Iteration: \t9 / 100\n",
      "Confirmed: \t9\n",
      "Tentative: \t1\n",
      "Rejected: \t3\n",
      "Iteration: \t10 / 100\n",
      "Confirmed: \t9\n",
      "Tentative: \t1\n",
      "Rejected: \t3\n",
      "Iteration: \t11 / 100\n",
      "Confirmed: \t9\n",
      "Tentative: \t1\n",
      "Rejected: \t3\n",
      "Iteration: \t12 / 100\n",
      "Confirmed: \t9\n",
      "Tentative: \t1\n",
      "Rejected: \t3\n",
      "Iteration: \t13 / 100\n",
      "Confirmed: \t9\n",
      "Tentative: \t1\n",
      "Rejected: \t3\n",
      "Iteration: \t14 / 100\n",
      "Confirmed: \t9\n",
      "Tentative: \t1\n",
      "Rejected: \t3\n",
      "Iteration: \t15 / 100\n",
      "Confirmed: \t9\n",
      "Tentative: \t1\n",
      "Rejected: \t3\n",
      "Iteration: \t16 / 100\n",
      "Confirmed: \t9\n",
      "Tentative: \t1\n",
      "Rejected: \t3\n",
      "Iteration: \t17 / 100\n",
      "Confirmed: \t9\n",
      "Tentative: \t1\n",
      "Rejected: \t3\n",
      "Iteration: \t18 / 100\n",
      "Confirmed: \t9\n",
      "Tentative: \t1\n",
      "Rejected: \t3\n",
      "Iteration: \t19 / 100\n",
      "Confirmed: \t9\n",
      "Tentative: \t1\n",
      "Rejected: \t3\n",
      "Iteration: \t20 / 100\n",
      "Confirmed: \t9\n",
      "Tentative: \t1\n",
      "Rejected: \t3\n",
      "Iteration: \t21 / 100\n",
      "Confirmed: \t9\n",
      "Tentative: \t1\n",
      "Rejected: \t3\n",
      "Iteration: \t22 / 100\n",
      "Confirmed: \t9\n",
      "Tentative: \t1\n",
      "Rejected: \t3\n",
      "Iteration: \t23 / 100\n",
      "Confirmed: \t9\n",
      "Tentative: \t1\n",
      "Rejected: \t3\n",
      "Iteration: \t24 / 100\n",
      "Confirmed: \t9\n",
      "Tentative: \t1\n",
      "Rejected: \t3\n",
      "Iteration: \t25 / 100\n",
      "Confirmed: \t9\n",
      "Tentative: \t1\n",
      "Rejected: \t3\n",
      "Iteration: \t26 / 100\n",
      "Confirmed: \t9\n",
      "Tentative: \t0\n",
      "Rejected: \t4\n",
      "\n",
      "\n",
      "BorutaPy finished running.\n",
      "\n",
      "Iteration: \t27 / 100\n",
      "Confirmed: \t9\n",
      "Tentative: \t0\n",
      "Rejected: \t4\n",
      "------------------------------\n",
      "選擇的特徵:\n",
      "Index(['crim', 'nox', 'rm', 'age', 'dis', 'tax', 'ptratio', 'b', 'lstat'], dtype='object')\n"
     ]
    }
   ],
   "source": [
    "import pandas as pd\n",
    "from sklearn.ensemble import RandomForestRegressor\n",
    "from boruta import BorutaPy\n",
    "\n",
    "# 從 CSV 檔案讀取資料\n",
    "boston_data = pd.read_csv('BostonHousing.csv')\n",
    "\n",
    "# 分割特徵和目標變數\n",
    "X = boston_data.drop('medv', axis=1)  # 假設目標變數的欄位名稱為 'target_column'\n",
    "y = boston_data['medv']\n",
    "\n",
    "# 建立隨機森林迴歸模型\n",
    "rf = RandomForestRegressor(n_jobs=-1, max_depth=5)\n",
    "\n",
    "# 初始化 Boruta\n",
    "boruta_selector = BorutaPy(estimator=rf, n_estimators='auto', verbose=2, random_state=42)\n",
    "\n",
    "# 擬合 Boruta 模型\n",
    "boruta_selector.fit(X.values, y.values)\n",
    "\n",
    "# 取得選擇的特徵\n",
    "selected_features = X.columns[boruta_selector.support_]\n",
    "\n",
    "print(\"-\"*30)\n",
    "print(\"選擇的特徵:\")\n",
    "print(selected_features)"
   ]
  }
 ],
 "metadata": {
  "kernelspec": {
   "display_name": "Python 3",
   "language": "python",
   "name": "python3"
  },
  "language_info": {
   "codemirror_mode": {
    "name": "ipython",
    "version": 3
   },
   "file_extension": ".py",
   "mimetype": "text/x-python",
   "name": "python",
   "nbconvert_exporter": "python",
   "pygments_lexer": "ipython3",
   "version": "3.9.5"
  },
  "orig_nbformat": 4
 },
 "nbformat": 4,
 "nbformat_minor": 2
}
