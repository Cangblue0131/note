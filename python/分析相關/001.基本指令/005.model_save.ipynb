{
 "cells": [
  {
   "cell_type": "markdown",
   "metadata": {},
   "source": [
    "# model save\n",
    "\n",
    "訓練好的模型可以直接儲存, 幾乎所有model的寫法都相同."
   ]
  },
  {
   "cell_type": "markdown",
   "metadata": {},
   "source": [
    "## 儲存模型"
   ]
  },
  {
   "cell_type": "code",
   "execution_count": 1,
   "metadata": {},
   "outputs": [
    {
     "name": "stdout",
     "output_type": "stream",
     "text": [
      "0:\tlearn: 0.9813365\ttotal: 144ms\tremaining: 2m 23s\n",
      "100:\tlearn: 0.0482433\ttotal: 212ms\tremaining: 1.88s\n",
      "200:\tlearn: 0.0208260\ttotal: 286ms\tremaining: 1.14s\n",
      "300:\tlearn: 0.0129658\ttotal: 371ms\tremaining: 861ms\n",
      "400:\tlearn: 0.0092262\ttotal: 448ms\tremaining: 669ms\n",
      "500:\tlearn: 0.0071433\ttotal: 525ms\tremaining: 523ms\n",
      "600:\tlearn: 0.0058393\ttotal: 597ms\tremaining: 396ms\n",
      "700:\tlearn: 0.0049524\ttotal: 668ms\tremaining: 285ms\n",
      "800:\tlearn: 0.0043034\ttotal: 740ms\tremaining: 184ms\n",
      "900:\tlearn: 0.0037637\ttotal: 812ms\tremaining: 89.2ms\n",
      "999:\tlearn: 0.0033542\ttotal: 883ms\tremaining: 0us\n",
      "模型已儲存\n"
     ]
    }
   ],
   "source": [
    "from sklearn.datasets import load_iris\n",
    "from sklearn.model_selection import train_test_split\n",
    "from catboost import CatBoostClassifier\n",
    "\n",
    "# 載入Iris數據集\n",
    "iris = load_iris()\n",
    "X = iris.data\n",
    "y = iris.target\n",
    "\n",
    "# 分割訓練集和測試集\n",
    "X_train, X_test, y_train, y_test = train_test_split(X, y, test_size=0.2, random_state=42)\n",
    "\n",
    "# 初始化CatBoost分類器\n",
    "model = CatBoostClassifier(iterations=1000, depth=6, learning_rate=0.1, loss_function='MultiClass', cat_features=[])\n",
    "\n",
    "# 訓練模型\n",
    "model.fit(X_train, y_train, verbose=100)\n",
    "\n",
    "# 儲存模型\n",
    "model.save_model('catboost_model')\n",
    "\n",
    "print(\"模型已儲存\")"
   ]
  },
  {
   "cell_type": "markdown",
   "metadata": {},
   "source": [
    "## 讀取模型"
   ]
  },
  {
   "cell_type": "code",
   "execution_count": 1,
   "metadata": {},
   "outputs": [
    {
     "name": "stdout",
     "output_type": "stream",
     "text": [
      "模型已載入並使用於預測\n",
      "模型準確率: 1.0\n"
     ]
    }
   ],
   "source": [
    "from catboost import CatBoostClassifier\n",
    "from sklearn.datasets import load_iris\n",
    "from sklearn.model_selection import train_test_split\n",
    "from sklearn.metrics import accuracy_score\n",
    "\n",
    "# 載入Iris數據集\n",
    "iris = load_iris()\n",
    "X = iris.data\n",
    "y = iris.target\n",
    "\n",
    "# 分割訓練集和測試集\n",
    "X_train, X_test, y_train, y_test = train_test_split(X, y, test_size=0.2, random_state=42)\n",
    "\n",
    "# 載入模型\n",
    "loaded_model = CatBoostClassifier()\n",
    "loaded_model.load_model('catboost_model')\n",
    "\n",
    "# 使用載入的模型進行預測\n",
    "predictions = loaded_model.predict(X_test)\n",
    "\n",
    "print(\"模型已載入並使用於預測\")\n",
    "\n",
    "# 預測測試集\n",
    "y_pred = loaded_model.predict(X_test)\n",
    "\n",
    "# 計算準確率\n",
    "accuracy = accuracy_score(y_test, y_pred)\n",
    "print(\"模型準確率:\", accuracy)"
   ]
  }
 ],
 "metadata": {
  "kernelspec": {
   "display_name": "Python 3",
   "language": "python",
   "name": "python3"
  },
  "language_info": {
   "codemirror_mode": {
    "name": "ipython",
    "version": 3
   },
   "file_extension": ".py",
   "mimetype": "text/x-python",
   "name": "python",
   "nbconvert_exporter": "python",
   "pygments_lexer": "ipython3",
   "version": "3.9.5"
  },
  "orig_nbformat": 4
 },
 "nbformat": 4,
 "nbformat_minor": 2
}
