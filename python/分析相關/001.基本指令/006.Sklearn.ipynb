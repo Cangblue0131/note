{
 "cells": [
  {
   "cell_type": "markdown",
   "metadata": {},
   "source": [
    "# scikit-learn (sklearn)\n",
    "\n",
    "它是一個開源的機器學習庫，被廣泛用於數據科學和機器學習任務。scikit-learn 提供了許多常用的機器學習算法、數據處理工具和評估指標，讓用戶能夠快速構建並訓練機器學習模型。\n",
    "\n",
    "主要特點：\n",
    "\n",
    "1. 簡單易用：scikit-learn 設計簡單直觀，提供一致的 API 接口，易於學習和使用。\n",
    "\n",
    "2. 豐富的算法：scikit-learn 支持多種監督式和非監督式學習算法，包括線性回歸、邏輯回歸、支持向量機、決策樹、隨機森林、k-近鄰算法、聚類算法等等。\n",
    "\n",
    "3. 數據預處理：scikit-learn 提供了一系列功能來進行數據預處理，包括特徵縮放、特徵選擇、缺失值處理等。\n",
    "\n",
    "4. 模型評估：scikit-learn 提供了評估模型性能的工具，例如交叉驗證、混淆矩陣、ROC曲線等。\n",
    "\n",
    "5. 多種數據格式支持：scikit-learn 支持 NumPy 數組、Pandas 數據框和 SciPy 稀疏矩陣等多種數據格式。\n",
    "\n",
    "6. 集成方法：scikit-learn 提供了用於特徵選擇、數據處理和模型選擇的方便工具。\n",
    "\n",
    "7. 社群支持：scikit-learn 是一個活躍的開源項目，擁有廣泛的用戶社群和豐富的文檔，您可以在官方網站和 GitHub 上找到詳細的文檔和示例。"
   ]
  },
  {
   "cell_type": "markdown",
   "metadata": {},
   "source": [
    "## sklearn 的一些子模塊\n",
    "\n",
    "1. sklearn.datasets：用於加載和生成示例數據集的子模塊。它包含了一些內置的測試數據集，如Iris（鳶尾花）數據集、Boston房價數據集等，可以用於練習和測試機器學習模型。\n",
    "\n",
    "2. sklearn.feature_extraction：特徵提取相關的子模塊，用於從文本或其他非數字數據中提取特徵。包括文本特徵提取（如TfidfVectorizer）和圖像特徵提取等。\n",
    "\n",
    "3. sklearn.pipeline：用於構建和管理機器學習工作流程的子模塊。可以將多個數據處理步驟和模型構建步驟組合成一個Pipeline，使代碼更加模組化和易於管理。\n",
    "\n",
    "4. sklearn.metrics：評估指標相關的子模塊，用於評估機器學習模型的性能。包含了各種分類、回歸和聚類模型的性能指標，如準確率、精確率、召回率、F1分數等。\n",
    "\n",
    "5. sklearn.preprocessing：數據預處理相關的子模塊，用於對數據進行預處理，如標準化、正規化、編碼類別變量等。\n",
    "\n",
    "6. sklearn.model_selection：模型選擇和評估相關工具，包括交叉驗證、網格搜索、參數調整和分割資料等。\n",
    "\n",
    "7. sklearn.naive_bayes：朴素貝葉斯相關的子模塊，包含了多種朴素貝葉斯分類器，如高斯朴素貝葉斯、多項式朴素貝葉斯等。\n",
    "\n",
    "8. sklearn.cluster：聚類相關的子模塊，包括K-Means、DBSCAN等聚類算法。\n",
    "\n",
    "9. sklearn.ensemble：集成學習相關的子模塊，包含隨機森林、梯度提升機等。\n",
    "\n",
    "10. sklearn.svm：支持向量機相關的子模塊，用於建立和訓練支持向量機模型。\n",
    "\n",
    "11. sklearn.tree：決策樹相關的子模塊，用於建立和訓練決策樹模型。\n",
    "\n",
    "12. sklearn.neural_network：神經網絡相關的子模塊，包含多層感知器（MLP）等神經網絡模型。\n",
    "\n",
    "13. sklearn.manifold：流形學習相關的子模塊，用於非線性降維和流形學習，如t-SNE算法。\n",
    "\n",
    "14. sklearn.metrics.cluster：用於評估聚類模型的性能指標，如Adjusted Rand Index、Normalized Mutual Information等。\n",
    "\n",
    "15. sklearn.multiclass：多類別分類相關的子模塊，用於處理多類別分類問題。\n",
    "\n",
    "16. sklearn.multioutput：多輸出分類和回歸相關的子模塊，用於處理多輸出問題。\n",
    "\n",
    "17. sklearn.kernel_approximation：用於核近似的子模塊，將核方法應用於高維數據。\n",
    "\n",
    "18. sklearn.impute：缺失值填補相關的子模塊，用於處理缺失值。\n",
    "\n",
    "19. sklearn.compose：用於組合多個估計器的子模塊，如將多個預處理步驟和模型構建步驟組合成一個管道。\n",
    "\n",
    "20. sklearn.externals：包含一些過時的功能和模塊，由於版本更新，這些功能可能不再推薦使用。"
   ]
  },
  {
   "cell_type": "markdown",
   "metadata": {},
   "source": [
    "### 提取練習用資料\n",
    "```python\n",
    "from sklearn.datasets import \"dataset\"\n",
    "```"
   ]
  },
  {
   "cell_type": "code",
   "execution_count": 11,
   "metadata": {},
   "outputs": [],
   "source": [
    "from sklearn.datasets import load_iris\n",
    "\n",
    "# 加載 Iris（鳶尾花）數據集\n",
    "iris = load_iris()\n",
    "\n",
    "# 數據集中的特徵和標籤\n",
    "X = iris.data   # 特徵矩陣\n",
    "y = iris.target # 標籤向量\n",
    "\n",
    "# 打印數據集的描述\n",
    "#print(iris.DESCR)"
   ]
  },
  {
   "cell_type": "markdown",
   "metadata": {},
   "source": [
    "### model_selection\n",
    "\n",
    "用於模型選擇和評估。這個子模塊提供了一系列函數和工具，幫助用戶進行模型的選擇、優化和評估，以提高機器學習模型的性能和泛化能力。\n",
    "\n",
    "常用的函數\n",
    "\n",
    "1. train_test_split：用於將數據集分割為訓練集和測試集。\n",
    "\n",
    "    * train_test_split(arrays, test_size, train_size, random_state, shuffle, stratify)\n",
    "\n",
    "    * arrays：要分割的數據集和標籤（特徵矩陣和目標向量）。\n",
    "    \n",
    "    * test_size（float 或 int 或 None）：測試集大小，可以是浮點數（表示測試集的比例）或整數（表示測試集的樣本數）。\n",
    "    \n",
    "    * random_state（int 或 RandomState 或 None）：隨機種子，用於控制隨機分割的結果。\n",
    "    \n",
    "    * shuffle（bool）：是否在分割之前對數據進行隨機打亂。\n",
    "    \n",
    "    * stratify（array-like 或 None）：用於分層抽樣，確保訓練集和測試集中的類別比例與原始數據集一致（僅在分類問題中使用）。\n",
    "---\n",
    "2. StratifiedShuffleSplit：分層隨機抽樣分割器，用於將數據集進行分層隨機抽樣，生成訓練集和測試集。\n",
    "\n",
    "    * StratifiedShuffleSplit(n_splits, test_size, train_size, random_state)\n",
    "\n",
    "    * n_splits（int）：分割數量，即要劃分的訓練集和測試集對的數量。\n",
    "---\n",
    "3. cross_val_score：交叉驗證函數，用於對模型進行交叉驗證，評估模型的性能。它將數據集分成 k 折，進行 k 次訓練和測試，得到 k 個評估指標，用於衡量模型的性能。\n",
    "\n",
    "    * cross_val_score(estimator, X, y, cv, scoring, n_jobs, ...)\n",
    "\n",
    "    * X（array-like）：特徵矩陣。\n",
    "\n",
    "    * y（array-like）：目標向量。\n",
    "\n",
    "    * cv（int 或 交叉驗證生成器）：交叉驗證策略，可以是整數（表示 K 折交叉驗證）或交叉驗證生成器。\n",
    "\n",
    "    * scoring（string 或 callable）：評估指標，用於計算得分。cross_val_score 會更具指定的模型選擇評分方式, 回歸是使用r2 score, 分類問題是使用 Classification Accuracy\n",
    "\n",
    "    * n_jobs（int）：並行運算的作業數。如果設置為 -1，則使用所有可用的 CPU。\n",
    "\n",
    "    * 其他參數：例如 groups（用於群組交叉驗證）等。\n",
    "---\n",
    "3. KFold 和 StratifiedKFold：交叉驗證的分割器類，用於將數據集分成 k 折進行交叉驗證。KFold 是普通的 k 折交叉驗證，StratifiedKFold 是分層抽樣的 k 折交叉驗證，確保每個折中的類別比例與原始數據集保持一致。\n",
    "\n",
    "    * KFold(n_splits, shuffle, random_state)\n",
    "\n",
    "    * n_splits（int）：折數 K。\n",
    "\n",
    "    * shuffle（bool）：是否在分割之前對數據進行隨機打亂。默認為 False。\n",
    "---\n",
    "4. GridSearchCV：網格搜索交叉驗證，用於對模型進行超參數的網格搜索和交叉驗證，尋找最佳的超參數組合，以提高模型性能。\n",
    "\n",
    "    * GridSearchCV(estimator, param_grid, cv, scoring, n_jobs, ...)\n",
    "\n",
    "    * estimator：待調參的模型。\n",
    "\n",
    "    * param_grid：參數網格，需要嘗試的參數組合。\n",
    "\n",
    "    * cv：交叉驗證策略，可以是整數（表示 K 折交叉驗證）或交叉驗證生成器。\n",
    "\n",
    "    * scoring：評估指標，用於選擇最佳參數。\n",
    "---\n",
    "5. RandomizedSearchCV：隨機搜索交叉驗證，與 GridSearchCV 類似，但是它是對超參數進行隨機搜索，適用於超參數空間很大的情況。\n",
    "\n",
    "    * RandomizedSearchCV(estimator, param_distributions, n_iter, cv, scoring, n_jobs, ...)\n",
    "\n",
    "    * param_distributions：一個字典，包含了待搜索的超參數和其對應的取值範圍。字典的 key 是超參數的名稱，value 是一個取值範圍，可以是單一數值、數值範圍、列表等。\n",
    "\n",
    "    * n_iter：進行隨機搜索的迭代次數。隨機搜索會在 param_distributions 定義的超參數空間中隨機選取 n_iter 組參數組合進行評估。\n",
    "---\n",
    "6. learning_curve：學習曲線函數，用於繪製模型的學習曲線，顯示模型在訓練集和測試集上的性能隨著數據量的變化。\n",
    "\n",
    "    * learning_curve(estimator, X, y, train_sizes, cv, scoring, n_jobs, ...)\n",
    "---\n",
    "7. validation_curve：驗證曲線函數，用於繪製模型的驗證曲線，顯示模型在不同超參數下的性能變化，幫助選擇最佳的超參數。\n",
    "\n",
    "    * validation_curve(estimator, X, y, param_name, param_range, cv, scoring, n_jobs, ...)\n",
    "\n",
    "    * param_name（string）：參數名稱。\n",
    "\n",
    "    * param_range（array-like）：參數值範圍。"
   ]
  },
  {
   "cell_type": "markdown",
   "metadata": {},
   "source": [
    "#### 分割\n",
    "[參考資料](https://ithelp.ithome.com.tw/articles/10290884)\n",
    "\n",
    "train_test_split 和 StratifiedShuffleSplit 的差別在於 :\n",
    "* train_test_split : 一次只能分割整組資料\n",
    "* StratifiedShuffleSplit : 可以依照給定的組別, 每組個別去分割. 這又能有效讓資料跟接近原始資料.\n",
    "\n",
    "兩種分割皆可以依照 label 的比例去分割(分割後 label 的比例接近).\n"
   ]
  },
  {
   "cell_type": "code",
   "execution_count": 1,
   "metadata": {},
   "outputs": [],
   "source": [
    "import pandas as pd\n",
    "import numpy as np\n",
    "import matplotlib.pyplot as plt\n",
    "from sklearn.model_selection import StratifiedShuffleSplit, train_test_split\n",
    "\n",
    "housing = pd.read_csv(\"https://raw.githubusercontent.com/ageron/handson-ml2/master/datasets/housing/housing.csv\")"
   ]
  },
  {
   "cell_type": "code",
   "execution_count": 9,
   "metadata": {},
   "outputs": [],
   "source": [
    "# 新增 \"income_cat\" 的 col, 其值為 1 至 5, 分別對應 median_income 那個 col 上值介於0~1.5、1.5~3.0,...,6.0~inf 的值.\n",
    "housing[\"income_cat\"] = pd.cut(housing[\"median_income\"],\n",
    "                               bins=[0., 1.5, 3.0, 4.5, 6., np.inf],\n",
    "                               labels=[1, 2, 3, 4, 5])\n",
    "\n",
    "#每個分組都取20%放入測試集\n",
    "Split = StratifiedShuffleSplit(n_splits = 1, test_size = 0.2, random_state = 42)  #設定分割方法, n_splits 為交叉驗證的折(fold)數.\n",
    "\n",
    "for train_index, test_index in Split.split(housing, housing[\"income_cat\"]): #雖然寫成for, 不過只會進行一次運算, 因為前面 n_splits 為 1\n",
    "    strat_train_set = housing.loc[train_index]\n",
    "    strat_test_set = housing.loc[test_index]"
   ]
  },
  {
   "cell_type": "code",
   "execution_count": 10,
   "metadata": {},
   "outputs": [
    {
     "data": {
      "text/html": [
       "<div>\n",
       "<style scoped>\n",
       "    .dataframe tbody tr th:only-of-type {\n",
       "        vertical-align: middle;\n",
       "    }\n",
       "\n",
       "    .dataframe tbody tr th {\n",
       "        vertical-align: top;\n",
       "    }\n",
       "\n",
       "    .dataframe thead th {\n",
       "        text-align: right;\n",
       "    }\n",
       "</style>\n",
       "<table border=\"1\" class=\"dataframe\">\n",
       "  <thead>\n",
       "    <tr style=\"text-align: right;\">\n",
       "      <th></th>\n",
       "      <th>Overall</th>\n",
       "      <th>Stratified</th>\n",
       "      <th>Random</th>\n",
       "    </tr>\n",
       "  </thead>\n",
       "  <tbody>\n",
       "    <tr>\n",
       "      <th>1</th>\n",
       "      <td>0.039826</td>\n",
       "      <td>0.039971</td>\n",
       "      <td>0.040213</td>\n",
       "    </tr>\n",
       "    <tr>\n",
       "      <th>2</th>\n",
       "      <td>0.318847</td>\n",
       "      <td>0.318798</td>\n",
       "      <td>0.324370</td>\n",
       "    </tr>\n",
       "    <tr>\n",
       "      <th>3</th>\n",
       "      <td>0.350581</td>\n",
       "      <td>0.350533</td>\n",
       "      <td>0.358527</td>\n",
       "    </tr>\n",
       "    <tr>\n",
       "      <th>4</th>\n",
       "      <td>0.176308</td>\n",
       "      <td>0.176357</td>\n",
       "      <td>0.167393</td>\n",
       "    </tr>\n",
       "    <tr>\n",
       "      <th>5</th>\n",
       "      <td>0.114438</td>\n",
       "      <td>0.114341</td>\n",
       "      <td>0.109496</td>\n",
       "    </tr>\n",
       "  </tbody>\n",
       "</table>\n",
       "</div>"
      ],
      "text/plain": [
       "    Overall  Stratified    Random\n",
       "1  0.039826    0.039971  0.040213\n",
       "2  0.318847    0.318798  0.324370\n",
       "3  0.350581    0.350533  0.358527\n",
       "4  0.176308    0.176357  0.167393\n",
       "5  0.114438    0.114341  0.109496"
      ]
     },
     "execution_count": 10,
     "metadata": {},
     "output_type": "execute_result"
    }
   ],
   "source": [
    "# 比較比例\n",
    "def income_cat_proportions(data):\n",
    "    return data[\"income_cat\"].value_counts() / len(data)\n",
    "\n",
    "train_set, test_set = train_test_split(housing, test_size = 0.2, random_state=42) # 使用 train_test_split 分割的結果\n",
    "\n",
    "compare_props = pd.DataFrame({\n",
    "                \"Overall\": income_cat_proportions(housing), # 原始比例\n",
    "                \"Stratified\": income_cat_proportions(strat_test_set), # 使用 StratifiedShuffleSplit 分割後的比例\n",
    "                \"Random\": income_cat_proportions(test_set) # 使用 train_test_split 分割後的比例\n",
    "                }).sort_index() # 依照index 排序\n",
    "compare_props"
   ]
  },
  {
   "cell_type": "markdown",
   "metadata": {},
   "source": [
    "#### 交叉驗證\n",
    "\n",
    "交叉驗證在 sklearn.model_selection 有以下幾個函數可以使用, 函數若使計算 score, 回歸的默認方式是 R^2, 分類問題是使用 Classification Accuracy.\n",
    "\n",
    "* cross_val_score(estimator, X, y, cv, scoring, n_jobs, ...) :\n",
    "\n",
    "  會直接算出 estimator 的 cv score.\n",
    "\n",
    "* KFold(n_splits, shuffle, random_state)\n",
    "\n",
    "  得到的會是 train 和 test 的 index, 必須自己去 fit model 求 cv score.\n",
    "\n",
    "* GridSearchCV(estimator, param_grid, cv, scoring, n_jobs, ...)\n",
    "\n",
    "  會計算各個超參數的 cv score, \n",
    "\n",
    "* RandomizedSearchCV(estimator, param_distributions, n_iter, cv, scoring, n_jobs, ...)\n",
    "\n",
    "---\n",
    "\n",
    "Score 的計算方式有以下幾個, 以 GridSearchCV 為例 :\n",
    "\n",
    "* R^2 :\n",
    "```python\n",
    "    GridSearchCV(estimator, param_grid, scoring='r2', cv=5)\n",
    "```\n",
    "* 平均絕對誤差（Mean Absolute Error，MAE） :\n",
    "```python\n",
    "    from sklearn.metrics import make_scorer, mean_absolute_error\n",
    "    \n",
    "    scoring = make_scorer(mean_absolute_error)\n",
    "    grid_search = GridSearchCV(estimator, param_grid, scoring=scoring, cv=5)\n",
    "```\n",
    "* 均方誤差（Mean Squared Error，MSE） :\n",
    "```python\n",
    "    from sklearn.metrics import make_scorer, mean_squared_error\n",
    "\n",
    "    scoring = make_scorer(mean_squared_error)\n",
    "    grid_search = GridSearchCV(estimator, param_grid, scoring=scoring, cv=5)\n",
    "```\n",
    "* 對數似然（Log Likelihood） :\n",
    "```python\n",
    "    from sklearn.metrics import make_scorer, log_loss\n",
    "\n",
    "    scoring = make_scorer(log_loss)\n",
    "    grid_search = GridSearchCV(estimator, param_grid, scoring=scoring, cv=5)\n",
    "```\n",
    "\n",
    "---\n",
    "\n",
    "make_scorer 函數的作用是將一個原始的評分函數轉換成 Scikit-learn 中的評分器（scorer）\n",
    "\n",
    "使用範例\n",
    "```python\n",
    "from sklearn.metrics import make_scorer, mean_squared_error\n",
    "\n",
    "# 定義自定義的評分函數，例如均方誤差（MSE）\n",
    "def custom_mse(y_true, y_pred):\n",
    "    return mean_squared_error(y_true, y_pred)\n",
    "\n",
    "# 將自定義的評分函數轉換為評分器\n",
    "scorer = make_scorer(custom_mse)\n",
    "\n",
    "# 現在 scorer 就是一個符合 Scikit-learn 評分器接口的對象，可以用於交叉驗證或網格搜索\n",
    "```"
   ]
  },
  {
   "cell_type": "markdown",
   "metadata": {},
   "source": [
    "#### python\n",
    "\n",
    "分析 boston data.\n",
    "1. 使用分割(train_test_split) 將資料分成 train 和 test\n",
    "2. model 使用 ridge 或 lasso, 超參數(alpha) 從 np.logspace(-3, 3, 13) 這 13 個值決定\n",
    "3. 交叉驗證的評分(score) 方式為 R^2 (默認方式)\n",
    "\n",
    "使用 GridSearchCV :"
   ]
  },
  {
   "cell_type": "code",
   "execution_count": 26,
   "metadata": {},
   "outputs": [
    {
     "name": "stdout",
     "output_type": "stream",
     "text": [
      "Ridge 最佳超參數組合: {'alpha': 0.31622776601683794}\n",
      "Ridge 交叉驗證: 0.7189676987418181\n",
      "Lasso 最佳超參數組合: {'alpha': 0.0031622776601683794}\n",
      "Lasso 交叉驗證: 0.7185312058831054\n",
      "--------------------\n",
      "Ridge 均方誤差: 34.620632912364236\n",
      "Lasso 均方誤差: 34.509845273708855\n"
     ]
    }
   ],
   "source": [
    "import numpy as np\n",
    "import pandas as pd\n",
    "from sklearn.datasets import load_boston\n",
    "from sklearn.linear_model import Ridge, Lasso\n",
    "from sklearn.model_selection import GridSearchCV, cross_val_score, train_test_split\n",
    "import warnings\n",
    "\n",
    "# 忽略警告訊息\n",
    "warnings.filterwarnings(\"ignore\")\n",
    "\n",
    "# 載入波士頓房價數據集\n",
    "boston = load_boston()\n",
    "X, y = boston.data, boston.target\n",
    "\n",
    "# 將數據集分為訓練集和測試集\n",
    "X_train, X_test, y_train, y_test = train_test_split(X, y, test_size=0.2, random_state = 10) # 分割資料\n",
    "\n",
    "# 建立 Ridge 和 Lasso 回歸模型\n",
    "ridge = Ridge()\n",
    "lasso = Lasso()\n",
    "\n",
    "# 定義超參數網格，這裡我們只調整正則化參數 alpha\n",
    "param_grid = {'alpha': np.logspace(-3, 3, 13)}\n",
    "\n",
    "# 使用 5-fold 交叉驗證進行網格搜索\n",
    "grid_search_ridge = GridSearchCV(ridge, param_grid, scoring='r2', cv=5)\n",
    "grid_search_lasso = GridSearchCV(lasso, param_grid, scoring='r2', cv=5)\n",
    "\n",
    "# 訓練 Ridge 和 Lasso 回歸模型\n",
    "grid_search_ridge.fit(X_train, y_train)\n",
    "grid_search_lasso.fit(X_train, y_train)\n",
    "\n",
    "# 打印最佳超參數組合和交叉驗證得分\n",
    "print(\"Ridge 最佳超參數組合:\", grid_search_ridge.best_params_)\n",
    "print(\"Ridge 交叉驗證:\", cross_val_score(grid_search_ridge.best_estimator_, X_train, y_train, cv=5).mean())\n",
    "\n",
    "print(\"Lasso 最佳超參數組合:\", grid_search_lasso.best_params_)\n",
    "print(\"Lasso 交叉驗證:\", cross_val_score(grid_search_lasso.best_estimator_, X_train, y_train, cv=5).mean())\n",
    "\n",
    "print('-'*20)\n",
    "\n",
    "# 使用超參數分析資料\n",
    "grid_search_ridge.best_estimator_.fit(X_train, y_train)\n",
    "y_ridge_pred = grid_search_ridge.best_estimator_.predict(X_test)\n",
    "\n",
    "grid_search_lasso.best_estimator_.fit(X_train, y_train)\n",
    "y_lasso_pred = grid_search_lasso.best_estimator_.predict(X_test)\n",
    "\n",
    "# 計算均方誤差\n",
    "ridge_mse = np.mean((y_test - y_ridge_pred) ** 2)\n",
    "lasso_mse = np.mean((y_test - y_lasso_pred) ** 2)\n",
    "\n",
    "print(\"Ridge 均方誤差:\", ridge_mse)\n",
    "print(\"Lasso 均方誤差:\", lasso_mse)"
   ]
  },
  {
   "cell_type": "markdown",
   "metadata": {},
   "source": [
    "\n",
    "---\n",
    "使用 cross_val_score"
   ]
  },
  {
   "cell_type": "code",
   "execution_count": 37,
   "metadata": {},
   "outputs": [
    {
     "name": "stdout",
     "output_type": "stream",
     "text": [
      "Ridge 最佳超參數組合: 0.31622776601683794\n",
      "Ridge 交叉驗證: 0.7189676987418181\n",
      "Lasso 最佳超參數組合: 0.31622776601683794\n",
      "Lasso 交叉驗證: 0.7185312058831054\n",
      "--------------------\n",
      "Ridge 均方誤差: 34.620632912364236\n",
      "Lasso 均方誤差: 34.509845273708855\n"
     ]
    }
   ],
   "source": [
    "import numpy as np\n",
    "import pandas as pd\n",
    "from sklearn.datasets import load_boston\n",
    "from sklearn.linear_model import Ridge, Lasso\n",
    "from sklearn.model_selection import cross_val_score, train_test_split\n",
    "import warnings\n",
    "\n",
    "# 忽略警告訊息\n",
    "warnings.filterwarnings(\"ignore\")\n",
    "\n",
    "# 載入波士頓房價數據集\n",
    "boston = load_boston()\n",
    "X, y = boston.data, boston.target\n",
    "\n",
    "# 將數據集分為訓練集和測試集\n",
    "X_train, X_test, y_train, y_test = train_test_split(X, y, test_size=0.2, random_state = 10) # 分割資料\n",
    "\n",
    "# 建立 Ridge 和 Lasso 回歸模型\n",
    "ridge = Ridge()\n",
    "lasso = Lasso()\n",
    "\n",
    "# 定義超參數收尋列表\n",
    "param_grid = np.logspace(-3, 3, 13)\n",
    "ridge_score_mean = []\n",
    "lasso_score_mean = []\n",
    "for Param in param_grid:\n",
    "    \n",
    "    # 建立 Ridge 和 Lasso 回歸模型\n",
    "    ridge_model = Ridge(alpha = Param)\n",
    "    lasso_model = Lasso(alpha = Param)\n",
    "\n",
    "    ridge_score_mean.append(cross_val_score(ridge_model, X_train, y_train, cv = 5).mean())\n",
    "    lasso_score_mean.append(cross_val_score(lasso_model, X_train, y_train, cv = 5).mean())\n",
    "\n",
    "# R^2 最大值之超參數位置\n",
    "ridge_min_index = ridge_score_mean.index(max(ridge_score_mean))\n",
    "lasso_min_index = lasso_score_mean.index(max(lasso_score_mean))\n",
    "\n",
    "# 最佳超參數\n",
    "ridge_best_params = param_grid[ridge_min_index]\n",
    "lasso_best_params = param_grid[lasso_min_index]\n",
    "\n",
    "# 使用最佳的 cv socre 得到的超參數, 建立模型\n",
    "ridge_model = Ridge(alpha = ridge_best_params)\n",
    "lasso_model = Lasso(alpha = lasso_best_params)\n",
    "\n",
    "print(\"Ridge 最佳超參數組合:\", ridge_best_params)\n",
    "print(\"Ridge 交叉驗證:\", cross_val_score(ridge_model, X_train, y_train, cv=5).mean())\n",
    "\n",
    "print(\"Lasso 最佳超參數組合:\", ridge_best_params)\n",
    "print(\"Lasso 交叉驗證:\", cross_val_score(lasso_model, X_train, y_train, cv=5).mean())\n",
    "\n",
    "print('-'*20)\n",
    "\n",
    "# 模型使用最佳的超參數去fit data\n",
    "ridge_model.fit(X_train, y_train)\n",
    "y_ridge_pred = ridge_model.predict(X_test)\n",
    "\n",
    "lasso_model.fit(X_train, y_train)\n",
    "y_lasso_pred = lasso_model.predict(X_test)\n",
    "\n",
    "# 計算均方誤差\n",
    "ridge_mse = np.mean((y_test - y_ridge_pred) ** 2)\n",
    "lasso_mse = np.mean((y_test - y_lasso_pred) ** 2)\n",
    "\n",
    "print(\"Ridge 均方誤差:\", ridge_mse)\n",
    "print(\"Lasso 均方誤差:\", lasso_mse)\n"
   ]
  },
  {
   "cell_type": "markdown",
   "metadata": {},
   "source": [
    "\n",
    "---\n",
    "使用 KFold"
   ]
  },
  {
   "cell_type": "code",
   "execution_count": 44,
   "metadata": {},
   "outputs": [
    {
     "name": "stdout",
     "output_type": "stream",
     "text": [
      "Ridge 最佳超參數組合: 0.31622776601683794\n",
      "Ridge 交叉驗證: 0.7189676987418181\n",
      "Lasso 最佳超參數組合: 0.31622776601683794\n",
      "Lasso 交叉驗證: 0.7185312058831054\n",
      "--------------------\n",
      "Ridge 均方誤差: 34.620632912364236\n",
      "Lasso 均方誤差: 34.509845273708855\n"
     ]
    }
   ],
   "source": [
    "import numpy as np\n",
    "import pandas as pd\n",
    "from sklearn.datasets import load_boston\n",
    "from sklearn.linear_model import Ridge, Lasso\n",
    "from sklearn.model_selection import cross_val_score, train_test_split, KFold\n",
    "import warnings\n",
    "\n",
    "# 忽略警告訊息\n",
    "warnings.filterwarnings(\"ignore\")\n",
    "\n",
    "# 載入波士頓房價數據集\n",
    "boston = load_boston()\n",
    "X, y = boston.data, boston.target\n",
    "\n",
    "# 將數據集分為訓練集和測試集\n",
    "X_train, X_test, y_train, y_test = train_test_split(X, y, test_size=0.2, random_state = 10) # 分割資料\n",
    "\n",
    "# 建立 Ridge 和 Lasso 回歸模型\n",
    "ridge = Ridge()\n",
    "lasso = Lasso()\n",
    "\n",
    "# 定義超參數收尋列表\n",
    "param_grid = np.logspace(-3, 3, 13)\n",
    "ridge_score_mean = []\n",
    "lasso_score_mean = []\n",
    "\n",
    "kf = KFold(n_splits = 5, shuffle = True, random_state = 20)\n",
    "for Param in param_grid:\n",
    "    # 建立模型\n",
    "    ridge_model = Ridge(alpha = Param)\n",
    "    lasso_model = Lasso(alpha = Param)\n",
    "    ridge_score_list = [] #放置 score\n",
    "    lasso_score_list = []\n",
    "\n",
    "    for train_index, test_index in kf.split(X_train):\n",
    "        # 分割\n",
    "        CV_X_train, CV_X_test = X_train[train_index], X_train[test_index]\n",
    "        CV_y_train, CV_y_test = y_train[train_index], y_train[test_index]\n",
    "\n",
    "        # fit model\n",
    "        ridge_model.fit(CV_X_train, CV_y_train) \n",
    "        lasso_model.fit(CV_X_train, CV_y_train)\n",
    "\n",
    "        # 計算 cv scores\n",
    "        ridge_score_list.append(ridge_model.score(CV_X_test, CV_y_test))\n",
    "        lasso_score_list.append(lasso_model.score(CV_X_test, CV_y_test))\n",
    "    \n",
    "    # 計算平均的 cv score\n",
    "    ridge_score_mean.append(np.mean(ridge_score_list))\n",
    "    lasso_score_mean.append(np.mean(lasso_score_list))\n",
    "\n",
    "# R^2 最大值之超參數位置\n",
    "ridge_min_index = ridge_score_mean.index(max(ridge_score_mean))\n",
    "lasso_min_index = lasso_score_mean.index(max(lasso_score_mean))\n",
    "\n",
    "# 最佳超參數\n",
    "ridge_best_params = param_grid[ridge_min_index]\n",
    "lasso_best_params = param_grid[lasso_min_index]\n",
    "\n",
    "# 使用最佳的 cv socre 得到的超參數, 建立模型\n",
    "ridge_model = Ridge(alpha = ridge_best_params)\n",
    "lasso_model = Lasso(alpha = lasso_best_params)\n",
    "\n",
    "print(\"Ridge 最佳超參數組合:\", ridge_best_params)\n",
    "print(\"Ridge 交叉驗證:\", cross_val_score(ridge_model, X_train, y_train, cv=5).mean())\n",
    "\n",
    "print(\"Lasso 最佳超參數組合:\", ridge_best_params)\n",
    "print(\"Lasso 交叉驗證:\", cross_val_score(lasso_model, X_train, y_train, cv=5).mean())\n",
    "\n",
    "print('-'*20)\n",
    "\n",
    "# 模型使用最佳的超參數去fit data\n",
    "ridge_model.fit(X_train, y_train)\n",
    "y_ridge_pred = ridge_model.predict(X_test)\n",
    "\n",
    "lasso_model.fit(X_train, y_train)\n",
    "y_lasso_pred = lasso_model.predict(X_test)\n",
    "\n",
    "# 計算均方誤差\n",
    "ridge_mse = np.mean((y_test - y_ridge_pred) ** 2)\n",
    "lasso_mse = np.mean((y_test - y_lasso_pred) ** 2)\n",
    "\n",
    "print(\"Ridge 均方誤差:\", ridge_mse)\n",
    "print(\"Lasso 均方誤差:\", lasso_mse)"
   ]
  },
  {
   "cell_type": "markdown",
   "metadata": {},
   "source": [
    "### sklearn.linear_model\n",
    "\n",
    "1. Linear Regression : \n",
    "\n",
    "    * 線性回歸是一種用於建立線性模型的方法，通常用於預測數值型目標變量。\n",
    "    * 參數：fit_intercept（是否計算截距，預設為 True）\n",
    "    * 超參數：無\n",
    "    * 可用於 polynomial regression, 需使用 PolynomialFeatures(degree = n) 創造參數\n",
    "\n",
    "```python\n",
    "    # 多項式回歸\n",
    "    X_poly = df[['X1']]\n",
    "    y_poly = df['y']\n",
    "    poly_features = PolynomialFeatures(degree=2)  # 二次多項式\n",
    "    X_poly_transformed = poly_features.fit_transform(X_poly)\n",
    "    reg_poly = LinearRegression()\n",
    "    reg_poly.fit(X_poly_transformed, y_poly)\n",
    "```\n",
    "---\n",
    "2. Ridge Regression:\n",
    "\n",
    "    * Ridge 回歸是一種線性回歸的擴展，它使用 L2 正則化來控制模型的複雜度，以防止過度擬合。\n",
    "    * 參數：alpha（正則化參數，預設為 1.0），fit_intercept（是否計算截距，預設為 True）\n",
    "    * 超參數：alpha（正則化參數，用於控制模型的複雜度）\n",
    "\n",
    "---\n",
    "3. Lasso Regression:\n",
    "\n",
    "    * Lasso 回歸是一種線性回歸的擴展，它使用 L1 正則化來控制模型的複雜度，同時具有特徵選擇的效果。\n",
    "    * 參數：alpha（正則化參數，預設為 1.0），fit_intercept（是否計算截距，預設為 True）\n",
    "    * 超參數：alpha（正則化參數，用於控制模型的複雜度）\n",
    "\n",
    "---\n",
    "4. Logistic Regression:\n",
    "\n",
    "    * 邏輯回歸是一種用於分類問題的線性模型，它通常用於預測二元或多元目標變量的概率。\n",
    "    * 參數：C（正則化參數的倒數，預設為 1.0），fit_intercept（是否計算截距，預設為 True）, solver (模型中用於優化參數的演算法選項)\n",
    "    * solver = liblinear: 這是一個內置的優化算法，適用於小型數據集。它使用坐標下降法和拟牛頓法（Limited-memory Broyden-Fletcher-Goldfarb-Shanno algorithm，L-BFGS）來優化參數，適合二元分類或多類別分類問題。\n",
    "    * solver = lbfgs: 這也是一個內置的優化算法，適用於較大的數據集。它使用拟牛頓法來優化參數，對於多類別分類問題也是有效的。\n",
    "    * solver = saga: 這是一個支持L1和L2正則化的優化算法，適用於大型數據集。它使用序列最小角回歸算法（Sequential Minimal Optimization algorithm，SMO）來優化參數。\n",
    "    * 超參數：C（正則化參數，用於控制模型的複雜度）\n",
    "\n",
    "---\n",
    "5. ElasticNet Regression:\n",
    "\n",
    "    * ElasticNet 回歸是 Ridge 和 Lasso 回歸的結合，它同時使用 L1 和 L2 正則化來控制模型的複雜度，可以在具有高度相關特徵的數據集上取得良好的效果。\n",
    "    * $\\frac{1}{2n}\\sum({y_i - \\hat{y})}^2 + \\alpha(l1_{ratio}\\sum{|\\beta_j|} + \\frac{1}{2}(1-l1_{ratio})\\sum{\\beta_j^2})$\n",
    "    * 參數：alpha（正則化參數，預設為 1.0），l1_ratio（L1 正則化在綜合正則化中的比例，預設為 0.5），fit_intercept（是否計算截距，預設為 True）\n",
    "    * 超參數：alpha（正則化參數，用於控制模型的複雜度），l1_ratio（L1 正則化在綜合正則化中的比例，用於控制 L1 和 L2 正則化的相對比例）\n",
    "\n",
    "---\n",
    "6. PassiveAggressiveRegressor:\n",
    "\n",
    "    * PassiveAggressive 回歸是一種適用於線性回歸的算法，它可以處理大量數據，並在線上學習過程中進行模型的更新。\n",
    "    * 參數：C（正則化參數，預設為 1.0），fit_intercept（是否計算截距，預設為 True）\n",
    "    * 超參數：C（正則化參數，用於控制模型的複雜度）\n",
    "\n",
    "---\n",
    "7. BayesianRidge:\n",
    "\n",
    "    * BayesianRidge 回歸是一種貝葉斯線性回歸模型，它通過引入先驗分佈來估計模型的參數，並通過最大後驗概率（MAP）估計來進行回歸分析。\n",
    "    * 參數：alpha_1（L1 正則化的精度，預設為 1e-6），alpha_2（L2 正則化的精度，預設為 1e-6），lambda_1（截距的精度，預設為 1e-6），lambda_2（斜率的精度，預設為 1e-6），fit_intercept（是否計算截距，預設為 True）\n",
    "    * 超參數：alpha_1（L1 正則化的精度，用於控制 L1 正則化的強度），alpha_2（L2 正則化的精度，用於控制 L2 正則化的強度），lambda_1（截距的精度，用於控制截距的估計精度），lambda_2（斜率的精度，用於控制斜率的估計精度）\n",
    "\n",
    "---\n",
    "8. HuberRegressor:\n",
    "\n",
    "    * HuberRegressor 回歸是一種對異常值具有魯棒性的回歸算法，它使用 Huber 損失函數來平衡平方損失和絕對損失。\n",
    "    * 參數：epsilon（Huber 損失的閾值，預設為 1.35），fit_intercept（是否計算截距，預設為 True）\n",
    "    * 超參數：epsilon（Huber 損失的閾值，用於控制對異常值的敏感度）\n",
    "\n",
    "---\n",
    "9. RANSACRegressor:\n",
    "\n",
    "    * RANSACRegressor 回歸是一種穩健(魯棒)性回歸算法，它通過隨機抽樣子集來擬合模型，以應對包含異常值的數據。\n",
    "    * 參數：min_samples（樣本最小值，預設為 None），residual_threshold（殘差閾值，預設為 None），is_data_valid（樣本是否有效的函數，預設為 None），max_trials（最大迭代次數，預設為 100），fit_intercept（是否計算截距，預設為 True）\n",
    "    * 超參數：無\n",
    "\n",
    "---"
   ]
  },
  {
   "cell_type": "markdown",
   "metadata": {},
   "source": [
    "### sklearn.linear_model 以外的迴歸\n",
    "\n",
    "1. 支持向量回歸(SVR)\n",
    "\n",
    "    * 它通過在特徵空間中找到一條線（對於線性SVR）或一個超平面（對於非線性SVR）來進行回歸預測。\n",
    "    ```python\n",
    "        from sklearn.svm import SVR\n",
    "        SVR(kernel='linear', C=1.0, epsilon=0.1)\n",
    "    ```\n",
    "    * 參數 : \n",
    "    * kernel：用於指定SVM的核函數。可以是'linear'（線性核函數）、'poly'（多項式核函數）、'rbf'（高斯核函數）等。默認是'rbf'。\n",
    "    * 超參數 :\n",
    "    * C：用於控制錯誤項的懲罰參數。較小的C值表示容忍較多的錯誤，較大的C值表示更嚴格地避免錯誤。默認值為1.0。\n",
    "    * epsilon：SVR中的ε，也稱為ε-tube。它用於確定损失函數中允許的預測值和實際值之間的誤差。默認值為0.1。"
   ]
  },
  {
   "cell_type": "markdown",
   "metadata": {},
   "source": [
    "#### python\n",
    "Logistic Regression"
   ]
  },
  {
   "cell_type": "code",
   "execution_count": 8,
   "metadata": {},
   "outputs": [],
   "source": [
    "#######\n",
    "## 1. 獲得資料並把資料分為 training 和 test\n",
    "#######\n",
    "\n",
    "import numpy as np\n",
    "from sklearn.model_selection import train_test_split\n",
    "from sklearn.datasets import load_iris\n",
    "\n",
    "# 載入數據集\n",
    "iris = load_iris()\n",
    "X, y = iris.data, iris.target # 注: 這邊y的變量有3個\n",
    "\n",
    "# 將數據集分成訓練集和測試集\n",
    "X_train, X_test, y_train, y_test = train_test_split(X, y, test_size=0.2, random_state=42)"
   ]
  },
  {
   "cell_type": "code",
   "execution_count": 10,
   "metadata": {},
   "outputs": [
    {
     "name": "stdout",
     "output_type": "stream",
     "text": [
      "Logistic Regression 最佳超參數組合: {'C': 1, 'solver': 'saga'}\n",
      "Logistic Regression 交叉驗證: 0.975\n"
     ]
    }
   ],
   "source": [
    "#######\n",
    "## 2. 使用GridSearchCV來尋找最佳的超參數組合\n",
    "#######\n",
    "\n",
    "from sklearn.linear_model import LogisticRegression\n",
    "from sklearn.model_selection import GridSearchCV\n",
    "import warnings\n",
    "\n",
    "# 忽略警告訊息\n",
    "warnings.filterwarnings(\"ignore\")\n",
    "\n",
    "# 建立Logistic Regression模型\n",
    "logistic_model = LogisticRegression()\n",
    "\n",
    "# 定義超參數網格，這裡我們調整正則化參數C和solver\n",
    "param_grid = {'C': [0.001, 0.01, 0.1, 1, 10, 100],\n",
    "              'solver': ['liblinear', 'lbfgs', 'saga']}\n",
    "\n",
    "# 使用5折交叉驗證進行網格搜索\n",
    "grid_search = GridSearchCV(logistic_model, param_grid, cv=5)\n",
    "\n",
    "# 訓練模型\n",
    "grid_search.fit(X_train, y_train)\n",
    "\n",
    "# 打印最佳超參數組合和交叉驗證得分\n",
    "print(\"Logistic Regression 最佳超參數組合:\", grid_search.best_params_)\n",
    "print(\"Logistic Regression 交叉驗證:\", grid_search.best_score_)"
   ]
  },
  {
   "cell_type": "code",
   "execution_count": 11,
   "metadata": {},
   "outputs": [
    {
     "name": "stdout",
     "output_type": "stream",
     "text": [
      "最終模型的準確率: 1.0\n"
     ]
    }
   ],
   "source": [
    "# 使用最佳超參數組合來建立最終的Logistic Regression模型\n",
    "best_logistic_model = LogisticRegression(C=grid_search.best_params_['C'], solver=grid_search.best_params_['solver'])\n",
    "\n",
    "# 訓練最終的模型\n",
    "best_logistic_model.fit(X_train, y_train)\n",
    "\n",
    "# 使用測試集來評估模型的性能\n",
    "accuracy = best_logistic_model.score(X_test, y_test)\n",
    "print(\"最終模型的準確率:\", accuracy)"
   ]
  },
  {
   "cell_type": "markdown",
   "metadata": {},
   "source": [
    "### sklearn.linear_model 以外的分類器\n",
    "\n",
    "1. 支持向量機（Support Vector Machine, SVM）：\n",
    "\n",
    "    * SVM是一種用於二元分類和多元分類的分類算法，通過找到最優的超平面來區分不同類別的數據點。\n",
    "    * from sklearn.svm import SVC\n",
    "    * 參數：\n",
    "    * kernel: 核函數，可選擇'linear'（線性核函數）、'rbf'（高斯核函數）等。\n",
    "    * C: 正則化參數，控制模型的複雜度，C值越小，正則化越強。\n",
    "    * 超參數：\n",
    "    * gamma: 核函數的參數，影響核函數的彎曲程度。\n",
    "---\n",
    "2. 決策樹（Decision Tree）：決策樹是一種用於二元分類和多元分類的非線性分類算法，通過樹狀結構進行分類。\n",
    "\n",
    "    * 決策樹是一種用於二元分類和多元分類的非線性分類算法，通過樹狀結構進行分類。\n",
    "    * from sklearn.tree import DecisionTreeClassifier\n",
    "    * 參數：\n",
    "    * criterion: 分割節點的標準，可選擇'gini'（基尼係數）或'entropy'（信息熵）。\n",
    "    * max_depth: 樹的最大深度，控制樹的複雜度。\n",
    "    * 超參數：\n",
    "    * min_samples_split: 分裂內部節點所需的最小樣本數。\n",
    "---\n",
    "3. 隨機森林（Random Forest）：\n",
    "\n",
    "    * 隨機森林是一種集成學習算法，結合多個決策樹進行分類，通常可以提高模型的準確率。\n",
    "    * from sklearn.ensemble import RandomForestClassifier\n",
    "    * 參數：\n",
    "    * n_estimators: 森林中樹的數量，越多越好，但也會增加計算成本。\n",
    "    * max_features: 每個決策樹使用的最大特徵數，可以控制模型的複雜度。\n",
    "    * 超參數：\n",
    "    * min_samples_split: 分裂內部節點所需的最小樣本數。\n",
    "---\n",
    "4. K近鄰算法（K-Nearest Neighbors, KNN）：\n",
    "\n",
    "    * KNN是一種基於距離的分類算法，通過找到最近的K個鄰居來進行分類。\n",
    "    * from sklearn.neighbors import KNeighborsClassifier\n",
    "    * 參數：\n",
    "    * n_neighbors: 鄰居數量K，控制分類的精確程度。\n",
    "    * metric: 距離度量方法，可選擇'euclidean'（歐氏距離）等。\n",
    "---\n",
    "5. 朴素貝葉斯（Naive Bayes）：\n",
    "\n",
    "    * 朴素貝葉斯是一種基於貝葉斯定理的分類算法，假設特徵之間是獨立的，通常用於文本分類等問題。\n",
    "    * from sklearn.naive_bayes import GaussianNB\n",
    "    * 參數：無。\n",
    "    * 超參數：無。\n",
    "---"
   ]
  },
  {
   "cell_type": "markdown",
   "metadata": {},
   "source": [
    "#### python\n",
    "\n",
    "<font size = 5>SVM</font>\n"
   ]
  },
  {
   "cell_type": "code",
   "execution_count": 12,
   "metadata": {},
   "outputs": [
    {
     "name": "stdout",
     "output_type": "stream",
     "text": [
      "最佳超參數組合: {'C': 1, 'kernel': 'linear'}\n",
      "交叉驗證準確率: 0.9583333333333334\n"
     ]
    }
   ],
   "source": [
    "import numpy as np\n",
    "import pandas as pd\n",
    "from sklearn.datasets import load_iris\n",
    "from sklearn.model_selection import train_test_split, GridSearchCV\n",
    "from sklearn.svm import SVC\n",
    "\n",
    "# 載入 iris 數據集\n",
    "iris = load_iris()\n",
    "X, y = iris.data, iris.target\n",
    "\n",
    "# 將數據集分為訓練集和測試集\n",
    "X_train, X_test, y_train, y_test = train_test_split(X, y, test_size=0.2, random_state=42)\n",
    "\n",
    "# 建立支持向量機分類器\n",
    "svm = SVC()\n",
    "\n",
    "# 定義超參數網格，包含 C 和 kernel 兩個超參數\n",
    "param_grid = {\n",
    "    'C': [0.1, 1, 10],\n",
    "    'kernel': ['linear', 'rbf', 'poly']\n",
    "}\n",
    "\n",
    "# 使用 5 折交叉驗證進行網格搜索\n",
    "grid_search = GridSearchCV(svm, param_grid, scoring='accuracy', cv=5)\n",
    "grid_search.fit(X_train, y_train)\n",
    "\n",
    "print(\"最佳超參數組合:\", grid_search.best_params_)\n",
    "print(\"交叉驗證準確率:\", grid_search.best_score_)"
   ]
  },
  {
   "cell_type": "code",
   "execution_count": 13,
   "metadata": {},
   "outputs": [
    {
     "name": "stdout",
     "output_type": "stream",
     "text": [
      "最終模型的準確率: 1.0\n"
     ]
    }
   ],
   "source": [
    "# 使用最佳超參數組合來訓練支持向量機模型\n",
    "best_svm = SVC(C=grid_search.best_params_['C'], kernel=grid_search.best_params_['kernel'])\n",
    "best_svm.fit(X_train, y_train)\n",
    "\n",
    "# 使用測試集來評估模型的性能\n",
    "accuracy = best_svm.score(X_test, y_test)\n",
    "print(\"最終模型的準確率:\", accuracy)"
   ]
  },
  {
   "cell_type": "markdown",
   "metadata": {},
   "source": [
    "<font size = 5>決策樹 和 隨機森林</font>"
   ]
  },
  {
   "cell_type": "code",
   "execution_count": 14,
   "metadata": {},
   "outputs": [],
   "source": [
    "import numpy as np\n",
    "import pandas as pd\n",
    "from sklearn.datasets import load_iris\n",
    "from sklearn.model_selection import train_test_split\n",
    "from sklearn.tree import DecisionTreeClassifier #決策樹\n",
    "from sklearn.ensemble import RandomForestClassifier #隨機森林\n",
    "from sklearn.metrics import accuracy_score\n",
    "\n",
    "# 載入鳶尾花數據集\n",
    "iris = load_iris()\n",
    "X, y = iris.data[:, 2:], iris.target\n",
    "\n",
    "# 將數據集分為訓練集和測試集\n",
    "X_train, X_test, y_train, y_test = train_test_split(X, y, test_size=0.2, random_state=42)\n"
   ]
  },
  {
   "cell_type": "code",
   "execution_count": 15,
   "metadata": {},
   "outputs": [
    {
     "name": "stdout",
     "output_type": "stream",
     "text": [
      "決策樹分類器的準確率： 1.0\n"
     ]
    }
   ],
   "source": [
    "# 建立決策樹分類器\n",
    "decision_tree = DecisionTreeClassifier(random_state=42)\n",
    "\n",
    "# 訓練模型\n",
    "decision_tree.fit(X_train, y_train)\n",
    "\n",
    "# 在測試集上進行預測\n",
    "y_pred_decision_tree = decision_tree.predict(X_test)\n",
    "\n",
    "# 計算準確率\n",
    "accuracy_decision_tree = accuracy_score(y_test, y_pred_decision_tree)\n",
    "print(\"決策樹分類器的準確率：\", accuracy_decision_tree) # decision_tree.score(X_test, y_test)\n"
   ]
  },
  {
   "cell_type": "code",
   "execution_count": 16,
   "metadata": {},
   "outputs": [
    {
     "name": "stdout",
     "output_type": "stream",
     "text": [
      "隨機森林分類器的準確率： 1.0\n"
     ]
    }
   ],
   "source": [
    "# 建立隨機森林分類器\n",
    "random_forest = RandomForestClassifier(random_state=42)\n",
    "\n",
    "# 訓練模型\n",
    "random_forest.fit(X_train, y_train)\n",
    "\n",
    "# 在測試集上進行預測\n",
    "y_pred_random_forest = random_forest.predict(X_test)\n",
    "\n",
    "# 計算準確率\n",
    "accuracy_random_forest = accuracy_score(y_test, y_pred_random_forest)\n",
    "print(\"隨機森林分類器的準確率：\", accuracy_random_forest) # random_forest.score(X_test, y_test)\n"
   ]
  },
  {
   "cell_type": "markdown",
   "metadata": {},
   "source": [
    "<font size = 5>KNN</font>"
   ]
  },
  {
   "cell_type": "code",
   "execution_count": 19,
   "metadata": {},
   "outputs": [],
   "source": [
    "import numpy as np\n",
    "import pandas as pd\n",
    "from sklearn.datasets import make_classification\n",
    "from sklearn.model_selection import train_test_split\n",
    "from sklearn.neighbors import KNeighborsClassifier\n",
    "from sklearn.metrics import accuracy_score\n",
    "\n",
    "# 創建一個簡單的資料集\n",
    "X, y = make_classification(n_samples=100, n_features=2, n_classes=2, n_clusters_per_class=1, n_redundant=0, random_state=42)\n",
    "\n",
    "# 將資料集分為訓練集和測試集\n",
    "X_train, X_test, y_train, y_test = train_test_split(X, y, test_size=0.2, random_state=42)\n"
   ]
  },
  {
   "cell_type": "code",
   "execution_count": 23,
   "metadata": {},
   "outputs": [
    {
     "name": "stdout",
     "output_type": "stream",
     "text": [
      "準確性： 1.0\n"
     ]
    }
   ],
   "source": [
    "# 建立KNN分類器，指定鄰居數為3\n",
    "knn = KNeighborsClassifier(n_neighbors=3) # n_neighbors 為超參數, 這裡直接帶了\n",
    "\n",
    "# 訓練KNN分類器\n",
    "knn.fit(X_train, y_train)\n",
    "\n",
    "# 使用測試集進行預測\n",
    "y_pred = knn.predict(X_test)\n",
    "\n",
    "# 計算模型的準確性\n",
    "accuracy = accuracy_score(y_test, y_pred)\n",
    "print(\"準確性：\", accuracy)"
   ]
  },
  {
   "cell_type": "markdown",
   "metadata": {},
   "source": [
    "<font size = 5>Naive Bayes</font>"
   ]
  },
  {
   "cell_type": "code",
   "execution_count": 24,
   "metadata": {},
   "outputs": [],
   "source": [
    "import numpy as np\n",
    "import pandas as pd\n",
    "from sklearn.datasets import make_classification\n",
    "from sklearn.model_selection import train_test_split\n",
    "from sklearn.naive_bayes import GaussianNB\n",
    "from sklearn.metrics import accuracy_score\n",
    "\n",
    "# 創建一個簡單的資料集\n",
    "X, y = make_classification(n_samples=100, n_features=2, n_classes=2, n_clusters_per_class=1, n_redundant=0, random_state=42)\n",
    "\n",
    "# 將資料集分為訓練集和測試集\n",
    "X_train, X_test, y_train, y_test = train_test_split(X, y, test_size=0.2, random_state=42)"
   ]
  },
  {
   "cell_type": "code",
   "execution_count": 25,
   "metadata": {},
   "outputs": [
    {
     "name": "stdout",
     "output_type": "stream",
     "text": [
      "準確性： 0.9\n"
     ]
    }
   ],
   "source": [
    "# 建立Naive Bayes分類器\n",
    "naive_bayes = GaussianNB()\n",
    "\n",
    "# 訓練Naive Bayes分類器\n",
    "naive_bayes.fit(X_train, y_train)\n",
    "\n",
    "# 使用測試集進行預測\n",
    "y_pred = naive_bayes.predict(X_test)\n",
    "\n",
    "# 計算模型的準確性\n",
    "accuracy = accuracy_score(y_test, y_pred)\n",
    "print(\"準確性：\", accuracy)"
   ]
  },
  {
   "cell_type": "markdown",
   "metadata": {},
   "source": [
    "### sklearn.preprocessing\n",
    "\n",
    "<font size = 5 >處理缺失值</font>\n",
    "\n",
    "1. SimpleImputer：用於填補缺失值的類別。可以使用均值、中位數、最常見值等方法進行填補。\n",
    "\n",
    "    * strategy：指定填補缺失值的策略，可以是以下幾種之一：\n",
    "        * \"mean\"：使用特徵的均值填補缺失值。\n",
    "        * \"median\"：使用特徵的中位數填補缺失值。\n",
    "        * \"most_frequent\"：使用特徵的最常見值填補缺失值。\n",
    "        * \"constant\"：使用指定的常數值填補缺失值（需要指定fill_value參數）。\n",
    "    * fill_value：當strategy為\"constant\"時，指定要填補的常數值。\n",
    "\n",
    "---\n",
    "2. KNNImputer：用於使用k最近鄰居算法填補缺失值。\n",
    "\n",
    "    * n_neighbors：指定k最近鄰居算法中的k值，即填補缺失值時要考慮的鄰居數量。\n",
    "    * weights：指定k最近鄰居算法中的權重方式，可以是以下幾種之一：\n",
    "        * \"uniform\"：所有鄰居的權重相同。\n",
    "        * \"distance\"：鄰居的權重與其距離成反比。\n",
    "    * metric：指定計算鄰居距離的度量方式，例如\"euclidean\"、\"manhattan\"等。\n",
    "\n",
    "---\n",
    "3. IterativeImputer：用於使用迭代算法填補缺失值。\n",
    "\n",
    "    * estimator：指定用於估計缺失值的機器學習模型，可以是任何支持fit和predict方法的模型。\n",
    "    * max_iter：指定迭代的最大次數。\n",
    "    * initial_strategy：指定初始的填補策略，可以是\"mean\"、\"median\"、\"most_frequent\"或者\"constant\"。\n",
    "    * imputation_order：指定填補缺失值的順序，可以是\"ascending\"（從第一個特徵開始填補）或\"descending\"（從最後一個特徵開始填補）\n",
    "\n",
    "---\n",
    "\n",
    "<font size = 5 >data 調整</font>\n",
    "\n",
    "1. StandardScaler: 將特徵縮放成標準正態分佈，即平均值為0，標準差為1。\n",
    "\n",
    "    * 參數：\n",
    "    * with_mean: bool, 默認為True，是否將特徵縮放成平均值為0。\n",
    "    * with_std: bool, 默認為True，是否將特徵縮放成標準差為1。\n",
    "\n",
    "---\n",
    "2. MinMaxScaler: 將特徵縮放到給定的最小值和最大值之間。\n",
    "\n",
    "    * 參數：\n",
    "    * feature_range: tuple, 默認為(0, 1)，指定特徵的最小值和最大值。\n",
    "\n",
    "---\n",
    "3. RobustScaler: 將特徵縮放成中位數和四分位距的比例，能夠處理離群值。\n",
    "\n",
    "    * 參數：\n",
    "    * with_centering: bool, 默認為True，是否將特徵縮放成中位數為0。\n",
    "    * with_scaling: bool, 默認為True，是否將特徵縮放成四分位距為1。\n",
    "\n",
    "---\n",
    "4. LabelEncoder: 將目標變數（類別）轉換成數字標籤。\n",
    "\n",
    "    * 參數：無。\n",
    "\n",
    "---\n",
    "5. OneHotEncoder: 將目標變數（類別）轉換成二進制的稀疏矩陣表示。\n",
    "\n",
    "    * 參數：\n",
    "    * drop: str, 默認為None，指定是否刪除一個特徵類別，以避免共線性。\n",
    "\n",
    "---\n",
    "6. PolynomialFeatures: 創建原特徵的高次多項式特徵。\n",
    "\n",
    "    * 參數：\n",
    "    * degree: int, 默認為2，指定多項式的次數。\n",
    "\n",
    "---\n",
    "7. KBinsDiscretizer: 將連續特徵切割成指定的區間，並將其轉換成整數類別。\n",
    "\n",
    "    * 參數：\n",
    "    * n_bins: int or list of ints, 默認為5，指定切割的區間數量或指定每個特徵的切割區間數量。"
   ]
  },
  {
   "cell_type": "markdown",
   "metadata": {},
   "source": [
    "#### python\n",
    "\n",
    "<font size = 5>處理缺失值</font>\n",
    "\n",
    "<font size = 5>SimpleImputer 的例子：</font>\n",
    "\n",
    "1. 使用 DataFrame.values"
   ]
  },
  {
   "cell_type": "code",
   "execution_count": 1,
   "metadata": {},
   "outputs": [
    {
     "name": "stdout",
     "output_type": "stream",
     "text": [
      "[[1.  2.  7.5]\n",
      " [4.  5.  6. ]\n",
      " [7.  8.  9. ]]\n"
     ]
    }
   ],
   "source": [
    "import numpy as np\n",
    "import pandas as pd\n",
    "from sklearn.impute import SimpleImputer\n",
    "\n",
    "# 假设有一个带有缺失值的 DataFrame\n",
    "data = pd.DataFrame({'A': [1, 4, 7],\n",
    "                     'B': [2, np.nan, 8],\n",
    "                     'C': [np.nan, 6, 9]})\n",
    "\n",
    "# 将 DataFrame 转换为 NumPy 数组\n",
    "data_array = data.values\n",
    "\n",
    "# 建立 SimpleImputer 对象，使用均值填补缺失值\n",
    "imputer = SimpleImputer(strategy='mean')\n",
    "\n",
    "# 对数据进行填补\n",
    "imputed_data_array = imputer.fit_transform(data_array)\n",
    "\n",
    "print(imputed_data_array)"
   ]
  },
  {
   "cell_type": "markdown",
   "metadata": {},
   "source": [
    "2. 使用 apply"
   ]
  },
  {
   "cell_type": "code",
   "execution_count": 2,
   "metadata": {},
   "outputs": [
    {
     "name": "stdout",
     "output_type": "stream",
     "text": [
      "     A    B    C\n",
      "0  1.0  2.0  7.5\n",
      "1  4.0  5.0  6.0\n",
      "2  7.0  8.0  9.0\n"
     ]
    }
   ],
   "source": [
    "import pandas as pd\n",
    "from sklearn.impute import SimpleImputer\n",
    "\n",
    "# 假设有一个带有缺失值的 DataFrame\n",
    "data = pd.DataFrame({'A': [1, 4, 7],\n",
    "                     'B': [2, np.nan, 8],\n",
    "                     'C': [np.nan, 6, 9]})\n",
    "\n",
    "# 建立 SimpleImputer 对象，使用均值填补缺失值\n",
    "imputer = SimpleImputer(strategy='mean')\n",
    "\n",
    "# 对 DataFrame 的每一列应用填充方法\n",
    "imputed_data = data.apply(lambda col: imputer.fit_transform(col.values.reshape(-1, 1)).flatten())\n",
    "\n",
    "print(imputed_data)"
   ]
  },
  {
   "cell_type": "markdown",
   "metadata": {},
   "source": [
    "<font size = 5>IterativeImputer 的例子：</font>"
   ]
  },
  {
   "cell_type": "code",
   "execution_count": 3,
   "metadata": {},
   "outputs": [
    {
     "name": "stdout",
     "output_type": "stream",
     "text": [
      "[[1.         2.         3.00203009]\n",
      " [4.         4.99796991 6.        ]\n",
      " [7.         8.         9.        ]]\n"
     ]
    }
   ],
   "source": [
    "import numpy as np\n",
    "from sklearn.experimental import enable_iterative_imputer\n",
    "from sklearn.impute import IterativeImputer\n",
    "from sklearn.linear_model import LinearRegression\n",
    "\n",
    "# 假設有一個帶有缺失值的數據\n",
    "data = np.array([[1, 2, np.nan],\n",
    "                 [4, np.nan, 6],\n",
    "                 [7, 8, 9]])\n",
    "\n",
    "# 建立 IterativeImputer 對象，使用線性回歸模型估計缺失值\n",
    "imputer = IterativeImputer(estimator=LinearRegression())\n",
    "\n",
    "# 對數據進行填補\n",
    "imputed_data = imputer.fit_transform(data)\n",
    "\n",
    "print(imputed_data)"
   ]
  },
  {
   "cell_type": "markdown",
   "metadata": {},
   "source": [
    "#### python\n",
    "\n",
    "<font size = 5> data 調整</font>\n",
    "\n",
    "<font size = 5> StandardScaler </font>\n",
    "\n",
    "StandardScaler：使用StandardScaler对数据进行标准化。"
   ]
  },
  {
   "cell_type": "code",
   "execution_count": 5,
   "metadata": {},
   "outputs": [
    {
     "name": "stdout",
     "output_type": "stream",
     "text": [
      "StandardScaler:\n",
      "[[-0.41978194  0.28482986 -1.2879095  ... -1.45900038  0.44105193\n",
      "  -1.0755623 ]\n",
      " [-0.41733926 -0.48772236 -0.59338101 ... -0.30309415  0.44105193\n",
      "  -0.49243937]\n",
      " [-0.41734159 -0.48772236 -0.59338101 ... -0.30309415  0.39642699\n",
      "  -1.2087274 ]\n",
      " ...\n",
      " [-0.41344658 -0.48772236  0.11573841 ...  1.17646583  0.44105193\n",
      "  -0.98304761]\n",
      " [-0.40776407 -0.48772236  0.11573841 ...  1.17646583  0.4032249\n",
      "  -0.86530163]\n",
      " [-0.41500016 -0.48772236  0.11573841 ...  1.17646583  0.44105193\n",
      "  -0.66905833]]\n"
     ]
    }
   ],
   "source": [
    "from sklearn.datasets import load_boston\n",
    "from sklearn.preprocessing import StandardScaler, RobustScaler, LabelEncoder, PolynomialFeatures, KBinsDiscretizer\n",
    "import warnings\n",
    "\n",
    "# 忽略警告訊息\n",
    "warnings.filterwarnings(\"ignore\")\n",
    "\n",
    "# Load the Boston dataset\n",
    "data = load_boston().data\n",
    "\n",
    "# StandardScaler\n",
    "scaler = StandardScaler()\n",
    "scaled_data = scaler.fit_transform(data)\n",
    "print(\"StandardScaler:\")\n",
    "print(scaled_data)"
   ]
  },
  {
   "cell_type": "markdown",
   "metadata": {},
   "source": [
    "<font size = 5> RobustScaler </font>\n",
    "\n",
    "RobustScaler：使用RobustScaler对数据进行缩放，可以处理含有异常值的数据。"
   ]
  },
  {
   "cell_type": "code",
   "execution_count": 6,
   "metadata": {},
   "outputs": [
    {
     "name": "stdout",
     "output_type": "stream",
     "text": [
      "RobustScaler:\n",
      "[[-0.06959315  1.44       -0.57164988 ... -1.33928571  0.26190191\n",
      "  -0.63768116]\n",
      " [-0.06375455  0.         -0.20294345 ... -0.44642857  0.26190191\n",
      "  -0.22188906]\n",
      " [-0.06376011  0.         -0.20294345 ... -0.44642857  0.06667466\n",
      "  -0.73263368]\n",
      " ...\n",
      " [-0.05445006  0.          0.17350891 ...  0.69642857  0.26190191\n",
      "  -0.57171414]\n",
      " [-0.04086745  0.          0.17350891 ...  0.69642857  0.09641444\n",
      "  -0.48775612]\n",
      " [-0.05816351  0.          0.17350891 ...  0.69642857  0.26190191\n",
      "  -0.34782609]]\n"
     ]
    }
   ],
   "source": [
    "from sklearn.datasets import load_boston\n",
    "from sklearn.preprocessing import StandardScaler, RobustScaler, LabelEncoder, PolynomialFeatures, KBinsDiscretizer\n",
    "import warnings\n",
    "\n",
    "# 忽略警告訊息\n",
    "warnings.filterwarnings(\"ignore\")\n",
    "# Load the Boston dataset\n",
    "data = load_boston().data\n",
    "\n",
    "# RobustScaler\n",
    "robust_scaler = RobustScaler()\n",
    "robust_scaled_data = robust_scaler.fit_transform(data)\n",
    "print(\"RobustScaler:\")\n",
    "print(robust_scaled_data)\n"
   ]
  },
  {
   "cell_type": "markdown",
   "metadata": {},
   "source": [
    "<font size = 5> LabelEncoder </font>\n",
    "\n",
    "LabelEncoder：使用LabelEncoder对一个具有三个以上不同类别的分类变量进行编码。"
   ]
  },
  {
   "cell_type": "code",
   "execution_count": 1,
   "metadata": {},
   "outputs": [
    {
     "name": "stdout",
     "output_type": "stream",
     "text": [
      "LabelEncoder:\n",
      "[0 1 2]\n"
     ]
    }
   ],
   "source": [
    "from sklearn.preprocessing import StandardScaler, RobustScaler, LabelEncoder, PolynomialFeatures, KBinsDiscretizer\n",
    "\n",
    "# LabelEncoder\n",
    "# Assuming 'data' contains a categorical variable with at least three unique categories\n",
    "le = LabelEncoder()\n",
    "categorical_variable = [\"category1\", \"category2\", \"category3\"]\n",
    "encoded_labels = le.fit_transform(categorical_variable)\n",
    "print(\"LabelEncoder:\")\n",
    "print(encoded_labels)"
   ]
  },
  {
   "cell_type": "markdown",
   "metadata": {},
   "source": [
    "<font size = 5> PolynomialFeatures </font>\n",
    "\n",
    "PolynomialFeatures：使用PolynomialFeatures将数据转换为多项式特征。在这个例子中，我们假设原始数据有两个特征(a, b)，转换后会添加额外的特征(a^2, b^2, ab)。"
   ]
  },
  {
   "cell_type": "code",
   "execution_count": 2,
   "metadata": {},
   "outputs": [
    {
     "name": "stdout",
     "output_type": "stream",
     "text": [
      "PolynomialFeatures:\n",
      "[[6.32000000e-03 1.80000000e+01 2.31000000e+00 ... 1.57529610e+05\n",
      "  1.97656200e+03 2.48004000e+01]\n",
      " [2.73100000e-02 0.00000000e+00 7.07000000e+00 ... 1.57529610e+05\n",
      "  3.62766600e+03 8.35396000e+01]\n",
      " [2.72900000e-02 0.00000000e+00 7.07000000e+00 ... 1.54315409e+05\n",
      "  1.58310490e+03 1.62409000e+01]\n",
      " ...\n",
      " [6.07600000e-02 0.00000000e+00 1.19300000e+01 ... 1.57529610e+05\n",
      "  2.23851600e+03 3.18096000e+01]\n",
      " [1.09590000e-01 0.00000000e+00 1.19300000e+01 ... 1.54802902e+05\n",
      "  2.54955600e+03 4.19904000e+01]\n",
      " [4.74100000e-02 0.00000000e+00 1.19300000e+01 ... 1.57529610e+05\n",
      "  3.12757200e+03 6.20944000e+01]]\n"
     ]
    }
   ],
   "source": [
    "from sklearn.datasets import load_boston\n",
    "from sklearn.preprocessing import StandardScaler, RobustScaler, LabelEncoder, PolynomialFeatures, KBinsDiscretizer\n",
    "import warnings\n",
    "\n",
    "# 忽略警告訊息\n",
    "warnings.filterwarnings(\"ignore\")\n",
    "# Load the Boston dataset\n",
    "data = load_boston().data\n",
    "\n",
    "# PolynomialFeatures\n",
    "poly = PolynomialFeatures(degree=2, include_bias=False)\n",
    "transformed_data = poly.fit_transform(data)\n",
    "print(\"PolynomialFeatures:\")\n",
    "print(transformed_data)"
   ]
  },
  {
   "cell_type": "markdown",
   "metadata": {},
   "source": [
    "<font size = 5> KBinsDiscretizer </font>\n",
    "\n",
    "KBinsDiscretizer：使用KBinsDiscretizer将一个具有至少四个不同值的数值变量进行离散化。在这个例子中，我们对第一个特征进行离散化，设定为四个bins，按quantile策略分箱。"
   ]
  },
  {
   "cell_type": "code",
   "execution_count": 5,
   "metadata": {},
   "outputs": [
    {
     "name": "stdout",
     "output_type": "stream",
     "text": [
      "KBinsDiscretizer:\n",
      "[[0.]\n",
      " [0.]\n",
      " [0.]\n",
      " [0.]\n",
      " [0.]\n",
      " [1.]\n",
      " [1.]\n",
      " [1.]\n",
      " [1.]\n",
      " [1.]\n",
      " [1.]\n",
      " [1.]\n",
      " [2.]\n",
      " [2.]\n",
      " [2.]\n",
      " [2.]\n",
      " [2.]\n",
      " [2.]\n",
      " [2.]]\n"
     ]
    }
   ],
   "source": [
    "from sklearn.datasets import load_boston\n",
    "from sklearn.preprocessing import StandardScaler, RobustScaler, LabelEncoder, PolynomialFeatures, KBinsDiscretizer\n",
    "import warnings\n",
    "\n",
    "# 忽略警告訊息\n",
    "warnings.filterwarnings(\"ignore\")\n",
    "# Load the Boston dataset\n",
    "data = load_boston().data\n",
    "\n",
    "# KBinsDiscretizer\n",
    "# Assuming 'data' contains a numerical variable with at least four distinct values\n",
    "discretizer = KBinsDiscretizer(n_bins=4, encode='ordinal', strategy='quantile')\n",
    "discretized_data = discretizer.fit_transform(data[:, 0].reshape(-1, 1))\n",
    "print(\"KBinsDiscretizer:\")\n",
    "print(discretized_data[1:20])\n"
   ]
  }
 ],
 "metadata": {
  "kernelspec": {
   "display_name": "Python 3",
   "language": "python",
   "name": "python3"
  },
  "language_info": {
   "codemirror_mode": {
    "name": "ipython",
    "version": 3
   },
   "file_extension": ".py",
   "mimetype": "text/x-python",
   "name": "python",
   "nbconvert_exporter": "python",
   "pygments_lexer": "ipython3",
   "version": "3.9.5"
  },
  "orig_nbformat": 4
 },
 "nbformat": 4,
 "nbformat_minor": 2
}
