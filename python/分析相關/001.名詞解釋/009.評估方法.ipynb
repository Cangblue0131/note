{
 "cells": [
  {
   "cell_type": "markdown",
   "metadata": {},
   "source": [
    "# 簡述\n",
    "\n",
    "model 進行預測後都要對模型進行評估, 看模型的預測能力為何."
   ]
  },
  {
   "cell_type": "markdown",
   "metadata": {},
   "source": [
    "## $R^2$\n",
    "\n",
    "由 002. 可以知道, $R^2 = 1 - SSE/SST$.\n",
    "\n",
    "其中 $SSE = \\sum{(y-\\hat{y})^2}$; $SST = \\sum{(y - \\bar{y})^2}$"
   ]
  },
  {
   "cell_type": "markdown",
   "metadata": {},
   "source": [
    "## MSE\n",
    "\n",
    "$MSE = mean(SSE) = \\frac{1}{n}\\sum{(y-\\hat{y})^2}$ \n",
    "\n",
    "$RMSE = \\sqrt{\\frac{1}{n}\\sum{(y-\\hat{y})^2}}$"
   ]
  },
  {
   "cell_type": "markdown",
   "metadata": {},
   "source": [
    "## Brier score\n",
    "\n",
    "一個用於評估機器學習分類模型（尤其是二元分類）預測準確性的指標。它衡量了模型預測的概率值（或分數）與實際觀測值之間的差距，越小的Brier分數表示模型的預測越準確。\n",
    "\n",
    "Brier分數的計算方式如下：\n",
    "\n",
    "1. 對每個觀測樣本：\n",
    "    * 計算模型預測的概率值（通常在0到1之間）。\n",
    "    * 計算實際的類別標籤（通常是0或1）。\n",
    "2. 對於每個樣本，計算以下兩個值的平方差：\n",
    "    * 預測的概率值和實際類別標籤之間的差距（即預測值 - 實際值）。\n",
    "    * 預測概率值和1减去實際類別標籤之間的差距（即預測值 - (1 - 實際值)）。\n",
    "3. 將這些平方差值相加，然後除以觀測樣本的總數，得到Brier分數。"
   ]
  },
  {
   "cell_type": "code",
   "execution_count": null,
   "metadata": {},
   "outputs": [],
   "source": []
  }
 ],
 "metadata": {
  "language_info": {
   "name": "python"
  },
  "orig_nbformat": 4
 },
 "nbformat": 4,
 "nbformat_minor": 2
}
