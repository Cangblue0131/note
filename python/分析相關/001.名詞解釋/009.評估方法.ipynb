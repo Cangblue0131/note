{
 "cells": [
  {
   "cell_type": "markdown",
   "metadata": {},
   "source": [
    "# 簡述\n",
    "\n",
    "model 進行預測後都要對模型進行評估, 看模型的預測能力為何."
   ]
  },
  {
   "cell_type": "markdown",
   "metadata": {},
   "source": [
    "## $R^2$\n",
    "\n",
    "由 002. 可以知道, $R^2 = 1 - SSE/SST$.\n",
    "\n",
    "其中 $SSE = \\sum{(y-\\hat{y})^2}$; $SST = \\sum{(y - \\bar{y})^2}$"
   ]
  },
  {
   "cell_type": "markdown",
   "metadata": {},
   "source": [
    "## MSE\n",
    "\n",
    "$MSE = mean(SSE) = \\frac{1}{n}\\sum{(y-\\hat{y})^2}$ \n",
    "\n",
    "$RMSE = \\sqrt{\\frac{1}{n}\\sum{(y-\\hat{y})^2}}$"
   ]
  },
  {
   "cell_type": "markdown",
   "metadata": {},
   "source": [
    "## Brier score\n",
    "\n",
    "一個用於評估機器學習分類模型（尤其是二元分類）預測準確性的指標。它衡量了模型預測的概率值（或分數）與實際觀測值之間的差距，越小的Brier分數表示模型的預測越準確。\n",
    "\n"
   ]
  },
  {
   "cell_type": "code",
   "execution_count": null,
   "metadata": {},
   "outputs": [],
   "source": []
  }
 ],
 "metadata": {
  "language_info": {
   "name": "python"
  },
  "orig_nbformat": 4
 },
 "nbformat": 4,
 "nbformat_minor": 2
}
