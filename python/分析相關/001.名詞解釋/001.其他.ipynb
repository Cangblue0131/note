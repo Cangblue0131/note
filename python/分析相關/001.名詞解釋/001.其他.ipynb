{
 "cells": [
  {
   "cell_type": "markdown",
   "metadata": {},
   "source": [
    "# 其他"
   ]
  },
  {
   "attachments": {},
   "cell_type": "markdown",
   "metadata": {},
   "source": [
    "## 變數\n",
    "*   自變數(又稱解釋變數、獨立變數、自變量) : 簡單來說就是X\n",
    "*   依變數(又稱應變數、因變數、依變量) : 簡單來說就是Y\n",
    "\n",
    "---"
   ]
  },
  {
   "cell_type": "markdown",
   "metadata": {},
   "source": [
    "## 超參數\n",
    "\n",
    "超參數（Hyperparameters）是機器學習算法中的一種參數，但與模型的權重和偏差（model parameters）有所不同。超參數是在訓練模型之前需要手動指定的參數，而不是由模型的優化算法學習得到。\n",
    "\n",
    "常見的機器學習模型超參數包括：\n",
    "\n",
    "1. 正則化參數：用於控制模型的複雜度，例如 L1 正則化和 L2 正則化的參數。\n",
    "2. 決策樹和隨機森林的樹的深度和分支條件。\n",
    "3. 支持向量機（SVM）的 C 和 γ 參數。\n",
    "4. k 近鄰算法的鄰居數量 k。\n",
    "5. 神經網絡的隱藏層的神經元數量、學習率等。\n",
    "\n",
    "---"
   ]
  },
  {
   "attachments": {},
   "cell_type": "markdown",
   "metadata": {},
   "source": [
    "## [誤差 (error) 與殘差 (residual)](https://zh.wikipedia.org/zh-tw/%E8%AF%AF%E5%B7%AE)\n",
    "\n",
    "*   誤差 (error) : 樣本與母體平均數的差 $ e_i = X_i - \\mu$，其期望值為０。\n",
    "*   殘差 (residual) : 樣本與樣本平均數的差 $r_i = X_i - \\bar{X}$\n",
    "\n",
    "---"
   ]
  },
  {
   "attachments": {},
   "cell_type": "markdown",
   "metadata": {},
   "source": [
    "## [效益值 (effect size) ](https://zh.wikipedia.org/wiki/%E6%95%88%E5%BA%94%E5%80%BC)\n",
    "效應值（英語：effect size，或譯效果量）是量化現象強度的數值。效應值實際的統計量包括了兩個變數間的相關程度、迴歸模型中的迴歸係數、不同處理間平均值的差異……等等。<font color = red>無論哪種效應值，其絕對值越大表示效應越強</font>，也就是現象越明顯。\\\n",
    "效應值與特效檢驗的概念是互補的。在估算統計檢定力、需要的樣本數與進行統合分析時，效應值經常扮演重要角色。\n",
    "\n",
    "---"
   ]
  },
  {
   "cell_type": "markdown",
   "metadata": {},
   "source": [
    "##   交互作用 \n",
    "待補\n",
    "\n",
    "---"
   ]
  },
  {
   "attachments": {},
   "cell_type": "markdown",
   "metadata": {},
   "source": [
    "## 資料型態\n",
    "1.  名目尺度(Nominal Scale) : 資料分類無屬性大小之分 (沒有數學上的意義)。根據特徵的性質做分類，純粹用來分辨不同的性質。\n",
    "    *   例如 : 性別、星座\n",
    "    *   分析時以數值代表，例如以 1,0 表示 男,女，但是沒有大小之分(也可改以0,1表示)\n",
    "\n",
    "    $\\\\$\n",
    "2.  順序尺度（Ordinal Scale）: 除了可區分類別外，尚具備順序的概念(資料的排序是具意義的)，可能為互斥或週延。\n",
    "    *   例如 : 金銀銅牌\n",
    "    *   分析時可以轉換為數值，例如金銀銅轉換為0,1,2，有順序之分(不可轉為2,0,1，會失去排序上的意義。)\n",
    "\n",
    "    $\\\\$\n",
    "3.  區間尺度（Interval Scale）\n",
    "    *   例如 : 年分、智商\n",
    "    *   為數字型態的資料，且數字有真正數學上的意義，但是缺乏實質意義，只有相對的零點，並無絕對的零點。區間尺度的資料本身反應了相對的差距，是具標準化單位的測量工具，必須避免做乘除上的比較。例如年分可以做差的運算，但乘除則無意義。\n",
    "\n",
    "    $\\\\$\n",
    "4.  比例尺度（Ratio Scale） : 有以上三種尺度的所有特性外，各數值間具有等差與比率的關係，能衡量數值之間實質的差異，因此可做加減乘除所有的數學運算。\n",
    "    *   例如 : 長度、質量等。\n",
    "    *   為數字型態的資料，具備數字及實質上的意義，也有絕對零點的概念。\n",
    "\n",
    "| 名稱 | 可用的邏輯與數學運算公式              | 集中趨勢的計算                                       | 離散趨勢的計算  | 屬性/計算  |\n",
    "| ---- |:------------------------------------:| ----------------------------------------------------:|:---------------:| -----:|\n",
    "| 名目 | 等於、不等於                          | 眾數                                                 |   無            | 屬性 |\n",
    "| 順序 | 等於、不等於、大小於                  | 眾數、中位數                                         | 分位數          | 屬性 |\n",
    "| 區間 | 等於、不等於、大小於、加、減          | 眾數、中位數、算術平均數                             | 分位數、全距     | 計算 |\n",
    "| 比例 | 等於、不等於、大小於、加、減、乘、除  | 眾數、中位數、算術平均數、幾何平均數、調和平均數等    | 分位數、全距、標準差、變異係數等 | 計算 |\n",
    "\n",
    "\n",
    "[資料分析前，必須知道的四種數據類型 - 知勢](https://edge.aif.tw/data-lab-data-type/)\n",
    "\n",
    "---"
   ]
  },
  {
   "attachments": {},
   "cell_type": "markdown",
   "metadata": {},
   "source": [
    "## 研究方法\n",
    "[參考資料](https://chungyizhen.medium.com/%E7%82%BA%E4%BB%80%E9%BA%BC%E9%83%BD%E7%94%A8-%E5%8B%9D%E7%AE%97%E6%AF%94-odds-ratio-or-%E8%80%8C%E4%B8%8D%E6%98%AF-%E7%9B%B8%E5%B0%8D%E9%A2%A8%E9%9A%AA-rr-%E5%91%A2-5c62fe84787c)\n",
    "*   前瞻性研究：主要是長時間的研究調查，觀察某些因素在長時間的影響。\n",
    "*   回溯性研究：在已有資料中，尋找過去以前的相關因素及其結果，時間跟成本上較為節省。\n",
    "\n",
    "---"
   ]
  },
  {
   "cell_type": "markdown",
   "metadata": {},
   "source": [
    "## 混淆矩陣(confusion matrix)\n",
    "\n",
    "[參考資料](https://zh.wikipedia.org/wiki/%E6%B7%B7%E6%B7%86%E7%9F%A9%E9%98%B5)\n",
    "\n",
    "\n",
    "用於觀看預測資料和真實資料的相關性之模型, 如下.\n"
   ]
  },
  {
   "cell_type": "markdown",
   "metadata": {},
   "source": [
    "![1](figure\\confusion_matrix_1.png)"
   ]
  },
  {
   "cell_type": "markdown",
   "metadata": {},
   "source": [
    "### 混淆矩陣相關名詞說明\n",
    "\n",
    "* Reference : 參考資料(真實資料), 有些表格的 Reference 和 Prediction 會交換位置.\n",
    "* Prediction : 預測資料\n",
    "* Sensitive : 這邊也有可能放 True 之類的, 用於表示二分類預測為 1 之結果.\n",
    "* Resistant : 同上.\n",
    "* TP (True Positives): 正確預測為 True 的數量。\n",
    "* TN (True Negatives): 正確預測為 False 的數量。\n",
    "* FP (False Positives): 錯誤預測為 True 的數量（實際上是 False）。\n",
    "* FN (False Negatives): 錯誤預測為 False 的數量（實際上是 True）。\n",
    "* N : 總數\n",
    "\n",
    "#### Sensitivity : 敏感性\n",
    "\n",
    "也稱為召回率 (Recall) 或真陽性率 (True Positive Rate, TPR)，衡量的是所有實際正類中，被正確識別為正類的比例。\n",
    "\n",
    "公式 : $\\frac{TP}{TP+FN}$\n",
    "\n",
    "#### Specificity : 特異性\n",
    "\n",
    "也稱為真負性率 (True Negative Rate, TNR)，衡量的是所有實際負類中，被正確識別為負類的比例。\n",
    "\n",
    "公式 : $\\frac{TN}{TN+FP}$\n",
    "\n",
    "#### Precision : 精確度\n",
    "\n",
    "精確度衡量的是被預測為正類的案例中，實際上為正類的比例。\n",
    "\n",
    "公式 : $\\frac{TP}{TP+FP}$\n",
    "\n",
    "#### Negative Predictive : 負預測值\n",
    "\n",
    "負預測值衡量的是被預測為負類的案例中，實際上為負類的比例。\n",
    "\n",
    "公式 : $\\frac{TN}{TN+FN}$\n",
    "\n",
    "#### Accuracy : 準確度\n",
    "\n",
    "準確度衡量的是所有案例中，被正確預測的比例，無論是正類還是負類。\n",
    "\n",
    "公式 : $\\frac{TP+TN}{N}$\n",
    "\n",
    "#### 補充 : F1 score\n",
    "\n",
    "是一種結合了精確度（Precision）和召回率（Recall）的指標，用於衡量分類器的準確性。它是精確度和召回率的調和平均數，因此能夠平衡這兩者之間的關係。尤其在不同的評估指標之間需要取得平衡時，F分數是一個非常有用的度量。\n",
    "\n",
    "F1分數的值範圍從0到1，1表示最佳可能的性能，0表示最差。\n",
    "\n",
    "公式 : $2 * \\frac{Precision*Recall}{Precision+Recall}$\n",
    "\n",
    "註 : Recall 就是 Sensitivity\n"
   ]
  }
 ],
 "metadata": {
  "kernelspec": {
   "display_name": "Python 3.9.5 64-bit",
   "language": "python",
   "name": "python3"
  },
  "language_info": {
   "codemirror_mode": {
    "name": "ipython",
    "version": 3
   },
   "file_extension": ".py",
   "mimetype": "text/x-python",
   "name": "python",
   "nbconvert_exporter": "python",
   "pygments_lexer": "ipython3",
   "version": "3.9.5"
  },
  "orig_nbformat": 4,
  "vscode": {
   "interpreter": {
    "hash": "4206480afc6f8f20a91f9b30d4e9d2907612993729e8a589e2c16a111e42b69c"
   }
  }
 },
 "nbformat": 4,
 "nbformat_minor": 2
}
