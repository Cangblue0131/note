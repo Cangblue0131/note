{
 "cells": [
  {
   "cell_type": "markdown",
   "metadata": {},
   "source": [
    "# 簡述\n",
    "\n",
    "AIC（Akaike信息准則）和BIC（Bayesian信息准則）是用於模型選擇的兩種常見統計標準。它們有助於在給定數據集上確定哪個模型更適合，以及是否需要考慮模型的複雜性。"
   ]
  },
  {
   "cell_type": "markdown",
   "metadata": {},
   "source": [
    "## AIC\n",
    "\n",
    "$AIC = -2ln(L) + 2k$, L是概似估計值, k 是參數數量\n",
    "\n",
    "目標是 AIC 越小越好. 若多個模型結論相似, 選擇是以 AIC 越小越好."
   ]
  },
  {
   "cell_type": "markdown",
   "metadata": {},
   "source": [
    "## BIC\n",
    "\n",
    "$BIC = -2ln(L) + kln(n) $, n 是樣本大小\n",
    "\n",
    "BIC 同樣也是越小越好"
   ]
  },
  {
   "cell_type": "code",
   "execution_count": 1,
   "metadata": {},
   "outputs": [
    {
     "name": "stdout",
     "output_type": "stream",
     "text": [
      "AIC for Model 1: 254.0513159314317\n",
      "BIC for Model 1: 259.2616563034079\n",
      "AIC for Model 2: 48.355646053144284\n",
      "BIC for Model 2: 56.17115661110856\n",
      "Model 2 is preferred based on AIC.\n",
      "Model 2 is preferred based on BIC.\n"
     ]
    }
   ],
   "source": [
    "import numpy as np\n",
    "import pandas as pd\n",
    "import statsmodels.api as sm\n",
    "\n",
    "# 創建一個示例數據集\n",
    "np.random.seed(0)\n",
    "X1 = np.random.rand(100)\n",
    "X2 = np.random.rand(100)\n",
    "Y = 2 * X1 + 3 * X2 + np.random.rand(100)\n",
    "\n",
    "# 將數據轉換為DataFrame\n",
    "data = pd.DataFrame({'X1': X1, 'X2': X2, 'Y': Y})\n",
    "\n",
    "# 模型1：Y = β0 + β1 * X1\n",
    "X1_model = sm.add_constant(data['X1'])\n",
    "model1 = sm.OLS(data['Y'], X1_model).fit()\n",
    "AIC1 = model1.aic\n",
    "BIC1 = model1.bic\n",
    "\n",
    "# 模型2：Y = β0 + β1 * X1 + β2 * X2\n",
    "X2_model = sm.add_constant(data[['X1', 'X2']])\n",
    "model2 = sm.OLS(data['Y'], X2_model).fit()\n",
    "AIC2 = model2.aic\n",
    "BIC2 = model2.bic\n",
    "\n",
    "print(\"AIC for Model 1:\", AIC1)\n",
    "print(\"BIC for Model 1:\", BIC1)\n",
    "print(\"AIC for Model 2:\", AIC2)\n",
    "print(\"BIC for Model 2:\", BIC2)\n",
    "\n",
    "# 選擇較小AIC或BIC的模型\n",
    "if AIC1 < AIC2:\n",
    "    print(\"Model 1 is preferred based on AIC.\")\n",
    "else:\n",
    "    print(\"Model 2 is preferred based on AIC.\")\n",
    "    \n",
    "if BIC1 < BIC2:\n",
    "    print(\"Model 1 is preferred based on BIC.\")\n",
    "else:\n",
    "    print(\"Model 2 is preferred based on BIC.\")\n"
   ]
  },
  {
   "cell_type": "code",
   "execution_count": 2,
   "metadata": {},
   "outputs": [
    {
     "name": "stdout",
     "output_type": "stream",
     "text": [
      "似然性: 0.009052695991472468\n"
     ]
    }
   ],
   "source": [
    "import numpy as np\n",
    "import scipy.stats as stats\n",
    "\n",
    "# 假設你有一個觀測值和模型預測值的數組\n",
    "observed_values = np.array([2.5, 3.1, 4.0, 5.2, 6.8])\n",
    "predicted_values = np.array([2.3, 3.0, 3.8, 5.0, 6.5])\n",
    "\n",
    "# 計算每個觀測值的似然性\n",
    "likelihoods = stats.norm.pdf(observed_values, loc=predicted_values, scale=1.0)\n",
    "\n",
    "# 計算整個數據集的似然性\n",
    "total_likelihood = np.prod(likelihoods)\n",
    "\n",
    "print(\"似然性:\", total_likelihood)\n"
   ]
  }
 ],
 "metadata": {
  "kernelspec": {
   "display_name": "Python 3",
   "language": "python",
   "name": "python3"
  },
  "language_info": {
   "codemirror_mode": {
    "name": "ipython",
    "version": 3
   },
   "file_extension": ".py",
   "mimetype": "text/x-python",
   "name": "python",
   "nbconvert_exporter": "python",
   "pygments_lexer": "ipython3",
   "version": "3.9.5"
  },
  "orig_nbformat": 4
 },
 "nbformat": 4,
 "nbformat_minor": 2
}
