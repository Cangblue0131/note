{
 "cells": [
  {
   "cell_type": "markdown",
   "metadata": {},
   "source": [
    "# Bagged Decision Trees\n",
    "\n",
    "是一種集成學習方法，它結合了決策樹和重複抽樣（bootstrap aggregating）的概念。Bagging 通常用於改善單個決策樹的穩定性和泛化能力。以下是 Bagged Decision Trees 的基本概念和運作方式：\n",
    "\n",
    "1. 重複抽樣（Bootstrap Aggregating）：\n",
    "   \n",
    "   Bagged Decision Trees 使用重複抽樣方法，也稱為 bootstrap，從原始訓練數據集中隨機選取多個子樣本，每個子樣本的大小通常與原始數據集相同。這樣可以創建多個不同的子數據集。\n",
    "\n",
    "2. 多個決策樹：\n",
    "   \n",
    "   對於每個子樣本，建立一個獨立的決策樹模型。由於每個決策樹在不同的子樣本上訓練，它們之間有差異，因此每個決策樹都可以捕捉到不同的特徵和模式。\n",
    "\n",
    "3. 結合預測：\n",
    "   \n",
    "   在預測階段，對於分類問題，Bagged Decision Trees 會將每個決策樹的預測結果進行投票，選擇得票最多的類別作為最終預測結果。對於回歸問題，則是計算所有決策樹的預測值的平均值。"
   ]
  },
  {
   "cell_type": "markdown",
   "metadata": {},
   "source": [
    "## 和 Random Frests 的差異\n",
    "\n",
    "1. 特徵選擇：\n",
    "\n",
    "    * Bagged Decision Trees：每個決策樹在訓練時，使用所有特徵來進行切割。這意味著每個決策樹可能會選擇相同的特徵來進行切割，導致模型間的相似性較高。\n",
    "    * Random Forests：每個決策樹在切割特徵時，只會從隨機選定的特徵子集中選擇。這種隨機性使得每個決策樹更加多樣化，提高了整體模型的性能。\n",
    "---\n",
    "2. 決策樹數量：\n",
    "\n",
    "    * Bagged Decision Trees：通常會使用較多的決策樹，因為每個決策樹的多樣性較低，需要更多的模型來進行平均。\n",
    "    * Random Forests：由於決策樹的多樣性較高，通常可以使用較少的決策樹來達到類似的性能。\n",
    "---\n",
    "3. 預測方式：\n",
    "\n",
    "    * Bagged Decision Trees：對於分類問題，通常採用多數決的方式進行預測。對於回歸問題，則取決於平均預測值。\n",
    "    * Random Forests：同樣的預測方式，但通常由於每個決策樹使用隨機特徵，它們的預測結果之間的相關性較低。\n",
    "---\n",
    "4. 效能：\n",
    "\n",
    "    * Random Forests：由於使用了特徵隨機性，通常比單純的 \n",
    "    * Bagged Decision Trees 有更好的性能。它更容易抵抗過擬合，並且能夠捕捉更複雜的模式。"
   ]
  },
  {
   "cell_type": "markdown",
   "metadata": {},
   "source": [
    "## 優缺點\n",
    "\n",
    "### 優點\n",
    "\n",
    "* 減少過擬合：由於每個決策樹都在不同的子樣本上訓練，它們的泛化能力更好，有助於減少過擬合的風險。\n",
    "* 提高穩定性：Bagging 可以降低單個模型的方差，提高整體模型的穩定性。\n",
    "* 容易平行化：每個決策樹的訓練是獨立的，因此容易在多核心或分布式環境中平行運行。\n",
    "\n",
    "### 缺點\n",
    "\n",
    "* 由於模型之間的相似性，它可能無法捕捉到複雜的非線性模式。這在某些情況下可能導致性能不佳。"
   ]
  },
  {
   "cell_type": "markdown",
   "metadata": {},
   "source": [
    "## python\n",
    "\n",
    "```python\n",
    "from sklearn.ensemble import BaggingClassifier\n",
    "...\n",
    "bagged_model = BaggingClassifier(base_model, n_estimators=10, random_state=42)\n",
    "...\n",
    "```\n",
    "\n",
    "* estimator: 基模型，即要進行 Bagging 的基本學習器，預設為 DecisionTreeClassifier()。\n",
    "\n",
    "* n_estimators: 基模型的數量，即要生成多少個基模型進行集成。\n",
    "\n",
    "* max_samples: 每個基模型訓練時的樣本數，可以是絕對數量，也可以是小數（例如 0.5 表示使用 50% 的樣本）。\n",
    "\n",
    "* max_features: 每個基模型訓練時的特徵數，可以是絕對數量，也可以是小數。\n",
    "\n",
    "* bootstrap: 是否使用重複抽樣，預設為 True。\n",
    "\n",
    "* bootstrap_features: 是否對特徵進行重複抽樣，預設為 False。\n",
    "\n",
    "* random_state: 隨機種子，用於確保結果的可重現性。\n",
    "\n",
    "* n_jobs: 同時運行的作業數，預設為 1。如果設置為 -1，則使用所有的可用 CPU。"
   ]
  },
  {
   "cell_type": "code",
   "execution_count": 2,
   "metadata": {},
   "outputs": [
    {
     "name": "stdout",
     "output_type": "stream",
     "text": [
      "Bagged Decision Trees 模型的準確率: 1.0\n"
     ]
    }
   ],
   "source": [
    "from sklearn.datasets import load_iris\n",
    "from sklearn.ensemble import BaggingClassifier\n",
    "from sklearn.tree import DecisionTreeClassifier\n",
    "from sklearn.model_selection import train_test_split\n",
    "from sklearn.metrics import accuracy_score\n",
    "\n",
    "# 載入 Iris 資料集\n",
    "iris = load_iris()\n",
    "X = iris.data\n",
    "y = iris.target\n",
    "\n",
    "# 分割資料集為訓練集和測試集\n",
    "X_train, X_test, y_train, y_test = train_test_split(X, y, test_size=0.2, random_state=42)\n",
    "\n",
    "# 創建單一 Decision Tree 分類器作為基模型\n",
    "base_model = DecisionTreeClassifier(random_state=42)\n",
    "\n",
    "# 創建 Bagging 分類模型，使用 10 個基模型\n",
    "bagged_model = BaggingClassifier(base_model, n_estimators=10, random_state=42)\n",
    "\n",
    "# 訓練模型\n",
    "bagged_model.fit(X_train, y_train)\n",
    "\n",
    "# 預測測試集\n",
    "y_pred = bagged_model.predict(X_test)\n",
    "\n",
    "# 計算準確率\n",
    "accuracy = accuracy_score(y_test, y_pred)\n",
    "print(\"Bagged Decision Trees 模型的準確率:\", accuracy)\n"
   ]
  },
  {
   "cell_type": "markdown",
   "metadata": {},
   "source": [
    "## python\n",
    "\n",
    "手動寫 bagged"
   ]
  },
  {
   "cell_type": "code",
   "execution_count": 3,
   "metadata": {},
   "outputs": [
    {
     "name": "stdout",
     "output_type": "stream",
     "text": [
      "手動實現 Bagged Decision Trees 模型的準確率: 1.0\n"
     ]
    }
   ],
   "source": [
    "import numpy as np\n",
    "from sklearn.datasets import load_iris\n",
    "from sklearn.tree import DecisionTreeClassifier\n",
    "from sklearn.model_selection import train_test_split\n",
    "from sklearn.metrics import accuracy_score\n",
    "\n",
    "# 載入 Iris 資料集\n",
    "iris = load_iris()\n",
    "X = iris.data\n",
    "y = iris.target\n",
    "\n",
    "# 分割資料集為訓練集和測試集\n",
    "X_train, X_test, y_train, y_test = train_test_split(X, y, test_size=0.2, random_state=42)\n",
    "\n",
    "# 定義 Bagging 集成的基模型數量\n",
    "n_estimators = 10\n",
    "\n",
    "# 創建空的預測結果列表\n",
    "y_pred_bagged = []\n",
    "\n",
    "# 創建 Bagging 集成\n",
    "for _ in range(n_estimators):\n",
    "    # 隨機取樣訓練集，可以使用 replacement=True 表示有放回取樣\n",
    "    indices = np.random.choice(len(X_train), size=len(X_train), replace=True)\n",
    "    X_sampled = X_train[indices]\n",
    "    y_sampled = y_train[indices]\n",
    "    \n",
    "    # 創建單一 Decision Tree 分類器作為基模型\n",
    "    base_model = DecisionTreeClassifier(random_state=42)\n",
    "    \n",
    "    # 訓練基模型\n",
    "    base_model.fit(X_sampled, y_sampled)\n",
    "    \n",
    "    # 預測測試集並將結果添加到預測結果列表中\n",
    "    y_pred = base_model.predict(X_test)\n",
    "    y_pred_bagged.append(y_pred)\n",
    "\n",
    "# 對預測結果進行投票，取最多票的類別為最終預測結果\n",
    "y_pred_bagged = np.array(y_pred_bagged)\n",
    "final_predictions = np.apply_along_axis(lambda x: np.bincount(x).argmax(), axis=0, arr=y_pred_bagged)\n",
    "\n",
    "# 計算準確率\n",
    "accuracy = accuracy_score(y_test, final_predictions)\n",
    "print(\"手動實現 Bagged Decision Trees 模型的準確率:\", accuracy)\n"
   ]
  }
 ],
 "metadata": {
  "kernelspec": {
   "display_name": "Python 3",
   "language": "python",
   "name": "python3"
  },
  "language_info": {
   "codemirror_mode": {
    "name": "ipython",
    "version": 3
   },
   "file_extension": ".py",
   "mimetype": "text/x-python",
   "name": "python",
   "nbconvert_exporter": "python",
   "pygments_lexer": "ipython3",
   "version": "3.9.5"
  },
  "orig_nbformat": 4
 },
 "nbformat": 4,
 "nbformat_minor": 2
}
