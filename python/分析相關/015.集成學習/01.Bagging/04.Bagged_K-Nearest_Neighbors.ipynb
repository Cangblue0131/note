{
 "cells": [
  {
   "cell_type": "markdown",
   "metadata": {},
   "source": [
    "# Bagged K Nearest Neighbors\n",
    "\n",
    "是一種基於 K 最近鄰居分類器的集成學習方法。在 Bagged KNN 中，我們通常會創建多個 KNN 分類器，然後對每個分類器進行獨立的訓練，最終的預測結果是由這些分類器的投票結果決定的。"
   ]
  },
  {
   "cell_type": "markdown",
   "metadata": {},
   "source": [
    "## 優缺點\n",
    "\n",
    "### 優點：\n",
    "\n",
    "* 降低過擬合風險： Bagging 可以降低模型的過擬合風險，因為它通過隨機抽樣和平均化投票的方式，降低了單一模型的變異性。\n",
    "* 增強模型穩定性： Bagged KNN 可以改善 KNN 分類器對噪聲和異常值的敏感性，提高了模型的穩定性和魯棒性。\n",
    "* 廣泛應用： Bagging 是一種通用的集成方法，不僅可以應用在 KNN 上，還可以用於其他基本模型。\n",
    "\n",
    "### 缺點：\n",
    "\n",
    "* 計算成本較高： Bagging 需要訓練多個模型，因此在計算成本方面會比單一模型更高。\n",
    "* 多樣性不足： Bagged KNN 中的基本模型是 KNN 分類器，它們可能在特徵空間中對數據進行相似的切割，導致模型之間的差異不大，可能降低集成的多樣性。\n",
    "* 不適用於高維數據： KNN 在高維數據中可能效果不佳，因為高維度數據中的鄰居數可能變得非常稀疏，影響模型的性能。"
   ]
  },
  {
   "cell_type": "markdown",
   "metadata": {},
   "source": [
    "## python\n",
    "和 Bagged Decision Trees 一樣, 只是把 estimator 改為 KNN\n",
    "```python\n",
    "from sklearn.ensemble import BaggingClassifier\n",
    "...\n",
    "bagged_model = BaggingClassifier(base_model, n_estimators=10, random_state=42)\n",
    "...\n",
    "```\n",
    "\n",
    "* estimator: 基模型，即要進行 Bagging 的基本學習器，預設為 DecisionTreeClassifier()。\n",
    "\n",
    "* n_estimators: 基模型的數量，即要生成多少個基模型進行集成。\n",
    "\n",
    "* max_samples: 每個基模型訓練時的樣本數，可以是絕對數量，也可以是小數（例如 0.5 表示使用 50% 的樣本）。\n",
    "\n",
    "* max_features: 每個基模型訓練時的特徵數，可以是絕對數量，也可以是小數。\n",
    "\n",
    "* bootstrap: 是否使用重複抽樣，預設為 True。\n",
    "\n",
    "* bootstrap_features: 是否對特徵進行重複抽樣，預設為 False。\n",
    "\n",
    "* random_state: 隨機種子，用於確保結果的可重現性。\n",
    "\n",
    "* n_jobs: 同時運行的作業數，預設為 1。如果設置為 -1，則使用所有的可用 CPU。"
   ]
  },
  {
   "cell_type": "code",
   "execution_count": 2,
   "metadata": {},
   "outputs": [
    {
     "name": "stdout",
     "output_type": "stream",
     "text": [
      "Accuracy: 1.0\n"
     ]
    }
   ],
   "source": [
    "from sklearn.datasets import load_iris\n",
    "from sklearn.ensemble import BaggingClassifier\n",
    "from sklearn.neighbors import KNeighborsClassifier\n",
    "from sklearn.model_selection import train_test_split\n",
    "from sklearn.metrics import accuracy_score\n",
    "\n",
    "# 載入 Iris 數據集\n",
    "iris = load_iris()\n",
    "X, y = iris.data, iris.target\n",
    "\n",
    "# 分割數據集\n",
    "X_train, X_test, y_train, y_test = train_test_split(X, y, test_size=0.2, random_state=42)\n",
    "\n",
    "# 創建 Bagged KNN 分類器\n",
    "bagged_knn = BaggingClassifier(estimator=KNeighborsClassifier(), n_estimators=10, random_state=42)\n",
    "\n",
    "# 訓練模型\n",
    "bagged_knn.fit(X_train, y_train)\n",
    "\n",
    "# 預測測試集\n",
    "y_pred = bagged_knn.predict(X_test)\n",
    "\n",
    "# 計算準確率\n",
    "accuracy = accuracy_score(y_test, y_pred)\n",
    "print(\"Accuracy:\", accuracy)"
   ]
  }
 ],
 "metadata": {
  "kernelspec": {
   "display_name": "Python 3",
   "language": "python",
   "name": "python3"
  },
  "language_info": {
   "codemirror_mode": {
    "name": "ipython",
    "version": 3
   },
   "file_extension": ".py",
   "mimetype": "text/x-python",
   "name": "python",
   "nbconvert_exporter": "python",
   "pygments_lexer": "ipython3",
   "version": "3.9.5"
  },
  "orig_nbformat": 4
 },
 "nbformat": 4,
 "nbformat_minor": 2
}
