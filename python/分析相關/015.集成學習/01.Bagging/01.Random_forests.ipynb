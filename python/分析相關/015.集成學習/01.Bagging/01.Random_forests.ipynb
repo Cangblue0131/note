{
 "cells": [
  {
   "cell_type": "markdown",
   "metadata": {},
   "source": [
    "# 隨機森林(Random Forests)\n",
    "\n",
    "為 Decision tree 使用 bagging"
   ]
  },
  {
   "cell_type": "markdown",
   "metadata": {},
   "source": [
    "步驟 :\n",
    "1. 從原始數據中隨機有放回地抽取多個樣本，用這些樣本來構建一棵決策樹。\n",
    "2. 隨機選擇一部分特徵，用這些特徵來構建決策樹的分支。\n",
    "3. 重複上述步驟多次，建立多棵決策樹。\n",
    "4. 對於新的數據，讓每棵決策樹進行預測，最後透過投票（分類問題）或平均（回歸問題）來得到整體的預測結果。"
   ]
  },
  {
   "cell_type": "markdown",
   "metadata": {},
   "source": [
    "## python code\n",
    "\n",
    "```python\n",
    "from sklearn.tree import DecisionTreeClassifier\n",
    "...\n",
    "random_forest = RandomForestClassifier(n_estimators=10, max_depth=3)  # 可以調整參數\n",
    "random_forest.fit(X_train, y_train)\n",
    "...\n",
    "```\n",
    "\n",
    "* n_estimators（預設值=100）：指定隨機森林中的決策樹數量。\n",
    "\n",
    "* criterion（預設值=\"gini\"）：用於測量分割質量的指標。可以是 \"gini\"（基尼不純度）或 \"entropy\"（信息熵）。\n",
    "\n",
    "* max_depth（預設值=None）：單棵決策樹的最大深度。如果不指定，則樹會生長到所有葉節點都是純的或包含 min_samples_split 個樣本。\n",
    "\n",
    "* min_samples_split（預設值=2）：分割內部節點所需的最小樣本數。\n",
    "\n",
    "* min_samples_leaf（預設值=1）：每個葉節點所需的最小樣本數。\n",
    "\n",
    "* max_features（預設值=\"auto\"）：在分割節點時要考慮的特徵數量。\n",
    "\n",
    "* bootstrap（預設值=True）：是否在建立每棵樹時進行 bootstrap 抽樣（隨機抽樣）。\n",
    "\n",
    "* random_state（預設值=None）：隨機種子，用於控制隨機性。\n",
    "\n",
    "* n_jobs（預設值=None）：並行處理的作業數量。設置為 -1 可以使用所有 CPU 核心。\n",
    "\n",
    "* class_weight（預設值=None）：用於平衡不均衡類別的權重。"
   ]
  },
  {
   "cell_type": "markdown",
   "metadata": {},
   "source": [
    "## Python\n",
    "\n",
    "使用 Decision tree 製作 Random Forests"
   ]
  },
  {
   "cell_type": "code",
   "execution_count": 1,
   "metadata": {},
   "outputs": [
    {
     "name": "stdout",
     "output_type": "stream",
     "text": [
      "準確率: 0.9866666666666667\n"
     ]
    }
   ],
   "source": [
    "from sklearn.datasets import load_iris\n",
    "from sklearn.tree import DecisionTreeClassifier\n",
    "import numpy as np\n",
    "\n",
    "# 載入 iris 數據集\n",
    "iris = load_iris()\n",
    "X, y = iris.data, iris.target\n",
    "\n",
    "# 建立多棵 Decision Tree\n",
    "num_trees = 10\n",
    "trees = []\n",
    "\n",
    "for _ in range(num_trees):\n",
    "    # 隨機抽樣創建新的訓練集\n",
    "    indices = np.random.choice(len(X), size=len(X), replace=True) # 抽樣大小不一定要是全長, 通常於50%~80%間, 可以使用交叉驗證去調整\n",
    "    X_sampled = X[indices]\n",
    "    y_sampled = y[indices]\n",
    "    \n",
    "    # 建立 Decision Tree 分類器\n",
    "    tree = DecisionTreeClassifier()\n",
    "    tree.fit(X_sampled, y_sampled)\n",
    "    trees.append(tree)\n",
    "\n",
    "# 進行預測\n",
    "predictions = np.array([tree.predict(X) for tree in trees])\n",
    "\n",
    "# 進行投票，取最多票的類別為最終預測結果\n",
    "# np.apply_along_axis: 這是 NumPy 提供的函數，用於在指定的軸上應用特定的函數。\n",
    "'''\n",
    "lambda x: np.bincount(x).argmax(): 這是一個使用 Lambda 函數定義的操作，該操作對傳入的每一列進行處理。\n",
    "在每一列中，它首先使用 np.bincount(x) 函數計算每個元素的出現次數，\n",
    "然後使用 argmax() 函數找出出現次數最高的元素的索引，即最常見的元素。換句話說，它找到該列中出現最多的元素。\n",
    "'''\n",
    "# axis=0: 這個參數指定了在哪個軸上應用函數。在這個例子中，它是指應用在每一col上。\n",
    "# arr=predictions: 這是要應用操作的輸入陣列。predictions 是一個二維陣列，每一col代表一個預測值。\n",
    "final_predictions = np.apply_along_axis(lambda x: np.bincount(x).argmax(), axis=0, arr=predictions)\n",
    "\n",
    "# 計算準確率\n",
    "accuracy = np.mean(final_predictions == y)\n",
    "print(\"準確率:\", accuracy)\n"
   ]
  },
  {
   "cell_type": "markdown",
   "metadata": {},
   "source": [
    "## Python\n",
    "\n",
    "使用 Random Forest 的函數"
   ]
  },
  {
   "cell_type": "code",
   "execution_count": 24,
   "metadata": {},
   "outputs": [
    {
     "name": "stdout",
     "output_type": "stream",
     "text": [
      "Random Forest Accuracy: 1.0\n"
     ]
    }
   ],
   "source": [
    "from sklearn.datasets import load_iris\n",
    "from sklearn.ensemble import RandomForestClassifier\n",
    "from sklearn.model_selection import train_test_split\n",
    "from sklearn.metrics import accuracy_score\n",
    "\n",
    "# 載入 Iris 數據集\n",
    "iris = load_iris()\n",
    "X = iris.data\n",
    "y = iris.target\n",
    "\n",
    "# 分割數據集為訓練集和測試集\n",
    "X_train, X_test, y_train, y_test = train_test_split(X, y, test_size=0.2, random_state=42)\n",
    "\n",
    "# 創建 Random Forest 分類器\n",
    "random_forest = RandomForestClassifier(n_estimators=10, max_depth=3)  # 可以調整參數\n",
    "random_forest.fit(X_train, y_train)\n",
    "\n",
    "# 進行預測\n",
    "predictions = random_forest.predict(X_test)\n",
    "\n",
    "# 計算準確率\n",
    "accuracy = accuracy_score(y_test, predictions)\n",
    "print(\"Random Forest Accuracy:\", accuracy)\n"
   ]
  }
 ],
 "metadata": {
  "kernelspec": {
   "display_name": "Python 3",
   "language": "python",
   "name": "python3"
  },
  "language_info": {
   "codemirror_mode": {
    "name": "ipython",
    "version": 3
   },
   "file_extension": ".py",
   "mimetype": "text/x-python",
   "name": "python",
   "nbconvert_exporter": "python",
   "pygments_lexer": "ipython3",
   "version": "3.9.5"
  },
  "orig_nbformat": 4
 },
 "nbformat": 4,
 "nbformat_minor": 2
}
