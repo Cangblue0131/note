{
 "cells": [
  {
   "cell_type": "markdown",
   "metadata": {},
   "source": [
    "# LightGBM\n",
    "\n",
    "LightGBM 是另一種基於 Gradient Boosting 的高效機器學習框架。\n",
    "\n",
    "LightGBM（Light Gradient Boosting Machine）是一種梯度提升框架，專為處理大規模數據和高維特徵而設計，用於構建高效率、高性能的機器學習模型。相較於傳統的梯度提升方法，LightGBM採用了一些創新的技術，例如基於直方圖的梯度提升和leaf-wise的樹生長策略，從而在保持預測性能的同時，提高了訓練和預測的速度。"
   ]
  },
  {
   "cell_type": "markdown",
   "metadata": {},
   "source": [
    "## 執行步驟\n",
    "\n",
    "1. 數據準備：將數據集分成訓練集和測試集，確保特徵和目標變數都被正確地準備。\n",
    "\n",
    "2. 建立數據集：將數據轉換為 LightGBM 專用的數據集格式，這有助於提高模型的訓練效率。LightGBM 支持的數據集格式有 Dataset 和 DMatrix。\n",
    "\n",
    "3. 設置參數：設置 LightGBM 的超參數，這些參數將影響模型的性能和訓練過程。例如：學習率、樹的數量、深度、最小數據樣本數等。\n",
    "\n",
    "4. 訓練模型：使用 train 函數訓練 LightGBM 模型。訓練過程中，模型會根據訓練集的特徵和目標變數逐步構建樹，每棵樹都儘量減少訓練集的殘差。\n",
    "\n",
    "5. 預測結果：使用訓練好的 LightGBM 模型對新的數據進行預測。你可以使用 predict 函數得到預測的目標變數值。\n",
    "\n",
    "6. 評估模型：使用測試集評估模型的性能，可以使用不同的評估指標，如均方誤差（MSE）、平均絕對誤差（MAE）等。\n",
    "\n",
    "7. 調整參數（選擇性）：基於模型的性能，你可以調整超參數以改進模型的預測性能。\n",
    "\n",
    "8. 模型解釋（選擇性）：LightGBM 提供了一些工具，如特徵重要性分析，可以幫助你理解模型的預測過程。"
   ]
  },
  {
   "cell_type": "markdown",
   "metadata": {},
   "source": [
    "## 和 XGBoost 的差別\n",
    "\n",
    "LightGBM 和 XGBoost 都是梯度提升樹（Gradient Boosting Trees）的變種，它們在許多方面相似，但也有一些重要的差異：\n",
    "\n",
    "1. 訓練效率：LightGBM 在處理大規模數據時通常比 XGBoost 更快，這是因為 LightGBM 使用了基於直方圖的劃分技術，減少了計算特徵分裂點的時間。\n",
    "\n",
    "2. 內存使用：LightGBM 通常使用更少的內存，這使其能夠處理更大的數據集。\n",
    "\n",
    "3. 特徵分裂策略：LightGBM 使用直方圖劃分技術，將連續特徵離散化為直方圖。而 XGBoost 使用的是精確分位數劃分，這可能在某些情況下需要更多計算。\n",
    "\n",
    "4. 正則化：XGBoost 在設置正則化參數（如 alpha 和 lambda）方面更簡單直觀，而 LightGBM 使用的是 min_child_samples 參數來達到類似的效果。\n",
    "\n",
    "5. 特徵重要性：LightGBM 提供了兩種不同的特徵重要性計算方法：基於樹的特徵重要性和基於分裂點的特徵重要性。\n",
    "\n",
    "6. 遺失值處理：LightGBM 可以直接處理遺失值，而 XGBoost 需要在預處理遺失值後才能進行訓練。\n",
    "\n",
    "7. 佔用的儲存空間：LightGBM 在模型訓練完後佔用的儲存空間較小，這對於生產環境中的部署是有利的。"
   ]
  },
  {
   "cell_type": "markdown",
   "metadata": {},
   "source": [
    "## 優缺點\n",
    "\n",
    "LightGBM 是一個在大數據處理和高效模型訓練方面表現優越的算法，但用戶需要注意適當的超參數調整，以及可能的過擬合問題。\n",
    "\n",
    "### 優點：\n",
    "\n",
    "* 高效性：LightGBM 使用了基於直方圖的劃分技術，這使得它在訓練和預測時都表現出色，特別是在處理大規模數據集時。\n",
    "\n",
    "* 低內存消耗：LightGBM 在特徵分裂時使用直方圖劃分，因此能夠有效地減少內存的使用，適用於處理大型數據。\n",
    "\n",
    "* 可處理遺失值：LightGBM 可以直接處理遺失值，不需要額外的預處理步驟。\n",
    "\n",
    "* 高準確性：由於 LightGBM 通常能夠學習複雜的數據關係，因此在多數情況下具有高準確性。\n",
    "\n",
    "* 自訂分位數劃分：LightGBM 允許用戶自訂分位數劃分，這有助於更好地捕捉數據的分布。\n",
    "\n",
    "* 特徵重要性：LightGBM 提供了兩種特徵重要性的計算方法，有助於理解模型的特徵重要性。\n",
    "\n",
    "### 缺點：\n",
    "\n",
    "* 過擬合風險：由於 LightGBM 在訓練過程中能夠擬合複雜的模型，如果不適當地調整超參數，有時可能會導致過擬合。\n",
    "\n",
    "* 超參數調整複雜：LightGBM 的超參數較多，調整這些超參數可能需要較多的實驗和時間。\n",
    "\n",
    "* 遺失值的處理：雖然 LightGBM 可以處理遺失值，但在特定情況下，可能需要特別的配置來處理不完全的數據。"
   ]
  },
  {
   "cell_type": "markdown",
   "metadata": {},
   "source": [
    "## python\n",
    "\n",
    "[code參考網站](https://ithelp.ithome.com.tw/m/articles/10274577)\n",
    "\n",
    "[lightgbm.LGBMClassifier](https://lightgbm.readthedocs.io/en/latest/pythonapi/lightgbm.LGBMClassifier.html)\n",
    "\n",
    "[lightgbm.LGBMRegressor](https://lightgbm.readthedocs.io/en/latest/pythonapi/lightgbm.LGBMRegressor.html)\n",
    "\n",
    "```python\n",
    "...\n",
    "import lightgbm as lgb\n",
    "model = lgb.LGBMClassifier(is_unbalance=True)\n",
    "model.fit(X_train,y_train)\n",
    "...\n",
    "```"
   ]
  },
  {
   "cell_type": "markdown",
   "metadata": {},
   "source": [
    "### lgb.LGBMClassifier 的參數解釋\n",
    "\n",
    "* boosting_type (string, default='gbdt'):\n",
    "\n",
    "    指定使用的提升類型，可以是 'gbdt'（梯度提升樹）、'dart'（Dropouts meet Multiple Additive Regression Trees）或'goss'（Gradient-based One-Side Sampling）。\n",
    "\n",
    "* num_leaves (int, default=31):\n",
    "\n",
    "    決定每棵樹上的最大葉子數量，過高可能導致過擬合。\n",
    "\n",
    "* learning_rate (float, default=0.1):\n",
    "\n",
    "    控制每個弱模型的貢獻程度，較小的值需要更多的迭代，通常和n_estimators一起調整。\n",
    "\n",
    "* n_estimators (int, default=100):\n",
    "\n",
    "    弱模型的數量，即迭代的次數。\n",
    "\n",
    "* max_depth (int, default=-1):\n",
    "\n",
    "    樹的最大深度，-1表示無限制。\n",
    "\n",
    "* min_child_samples (int, default=20):\n",
    "\n",
    "    每個葉子最少樣本數，避免過小的值導致過擬合。\n",
    "\n",
    "* subsample (float, default=1.0):\n",
    "\n",
    "    每次迭代中隨機選擇子樣本的比例，可以降低過擬合。\n",
    "\n",
    "* colsample_bytree (float, default=1.0):\n",
    "\n",
    "    每次迭代中隨機選擇特徵的比例。\n",
    "\n",
    "* reg_alpha (float, default=0.0):\n",
    "\n",
    "    L1 正則化項，可以用來防止過擬合。\n",
    "\n",
    "* reg_lambda (float, default=0.0):\n",
    "\n",
    "    L2 正則化項，可以用來防止過擬合。\n",
    "\n",
    "* class_weight (dict, 'balanced' or None, default=None):\n",
    "\n",
    "    類別權重，可以用來處理類別不平衡問題。\n",
    "\n",
    "* is_unbalance (bool, default = True)\n",
    "\n",
    "    用於處理類別不平衡的情況。當設置為 True 時，它會自動根據類別的樣本數量來調整模型中正負樣本的權重，使得較少數量的類別在訓練中具有更大的權重，以平衡不均衡的數據分佈。\n",
    "    \n",
    "    如果同時設置 class_weight 和 is_unbalance 時, 會以 class_weight 優先.\n",
    "\n",
    "* min_child_weight (float, default=1e-3):\n",
    "\n",
    "    每個葉子的最小權重和，避免過深的樹。\n",
    "\n",
    "* scale_pos_weight (float, default=1.0):\n",
    "\n",
    "    正樣本權重，用於處理類別不平衡問題。\n",
    "\n",
    "* n_jobs (int, default=-1):\n",
    "\n",
    "    同時運行的作業數。\n",
    "\n",
    "* objective (string or callable, default=None):\n",
    "\n",
    "    定義要最小化的目標函數，常用的有 'binary'（二元分類）、'multiclass'（多類分類）等。"
   ]
  },
  {
   "cell_type": "markdown",
   "metadata": {},
   "source": [
    "creditcard 的 Y 為信用卡是否被盜刷, {0:沒有, 1:有}"
   ]
  },
  {
   "cell_type": "code",
   "execution_count": 4,
   "metadata": {},
   "outputs": [
    {
     "name": "stdout",
     "output_type": "stream",
     "text": [
      "X: (284807, 30)\n",
      "Y: (284807,)\n"
     ]
    }
   ],
   "source": [
    "import pandas as pd\n",
    "raw_df = pd.read_csv('https://storage.googleapis.com/download.tensorflow.org/data/creditcard.csv')\n",
    "X=raw_df.drop(columns = ['Class'])\n",
    "y=raw_df['Class']\n",
    "print('X:', X.shape)\n",
    "print('Y:', y.shape)"
   ]
  },
  {
   "cell_type": "code",
   "execution_count": 14,
   "metadata": {},
   "outputs": [
    {
     "name": "stdout",
     "output_type": "stream",
     "text": [
      "訓練和測試集的大小\n",
      "X_train: (199364, 30)\n",
      "X_test: (85443, 30)\n",
      "\n",
      "查看訓練集的分布\n",
      "Class\n",
      "0    0.998275\n",
      "1    0.001725\n",
      "Name: proportion, dtype: float64\n",
      "\n",
      "查看測試集的分布\n",
      "Class\n",
      "0    0.998268\n",
      "1    0.001732\n",
      "Name: proportion, dtype: float64\n"
     ]
    }
   ],
   "source": [
    "from sklearn.model_selection import train_test_split\n",
    "X_train, X_test, y_train, y_test = train_test_split(X, y, test_size=0.3, random_state=42, stratify=y) # 分割資料\n",
    "print(\"訓練和測試集的大小\")\n",
    "print('X_train:', X_train.shape)\n",
    "print('X_test:', X_test.shape)\n",
    "\n",
    "# 查看訓練集的分布\n",
    "print('\\n查看訓練集的分布')\n",
    "print(pd.Series(y_train).value_counts(normalize = True))\n",
    "\n",
    "# 查看測試集的分布\n",
    "print('\\n查看測試集的分布')\n",
    "print(pd.Series(y_test).value_counts(normalize = True))"
   ]
  },
  {
   "cell_type": "code",
   "execution_count": 24,
   "metadata": {},
   "outputs": [
    {
     "name": "stdout",
     "output_type": "stream",
     "text": [
      "[LightGBM] [Info] Number of positive: 344, number of negative: 199020\n",
      "[LightGBM] [Warning] Auto-choosing col-wise multi-threading, the overhead of testing was 0.015058 seconds.\n",
      "You can set `force_col_wise=true` to remove the overhead.\n",
      "[LightGBM] [Info] Total Bins 7650\n",
      "[LightGBM] [Info] Number of data points in the train set: 199364, number of used features: 30\n",
      "[LightGBM] [Info] [binary:BoostFromScore]: pavg=0.016991 -> initscore=-4.057934\n",
      "[LightGBM] [Info] Start training from score -4.057934\n",
      "\n"
     ]
    }
   ],
   "source": [
    "import lightgbm as lgb\n",
    "#model = lgb.LGBMClassifier(is_unbalance=True) # is_unbalance = True 時會根據各類別數量調整權重\n",
    "class_weights = {0: 1, 1: 10}\n",
    "model = lgb.LGBMClassifier(class_weight=class_weights)\n",
    "model.fit(X_train,y_train)\n",
    "print()"
   ]
  },
  {
   "cell_type": "markdown",
   "metadata": {},
   "source": [
    "查看準確性"
   ]
  },
  {
   "cell_type": "code",
   "execution_count": 25,
   "metadata": {},
   "outputs": [
    {
     "name": "stdout",
     "output_type": "stream",
     "text": [
      "Accuracy: 0.9994733330992591\n"
     ]
    }
   ],
   "source": [
    "from sklearn.metrics import accuracy_score\n",
    "pred=model.predict(X_test)\n",
    "print(\"Accuracy:\", accuracy_score(y_test, pred))"
   ]
  },
  {
   "cell_type": "markdown",
   "metadata": {},
   "source": [
    "### 混淆矩陣\n",
    "\n",
    "不能只看 Accuracy 就當作分類器的好壞, 原因是若一組 data 全部集中在某個 label, 這時分類器全猜那個 label 的話 Accuracy 很容易很高."
   ]
  },
  {
   "cell_type": "code",
   "execution_count": 26,
   "metadata": {},
   "outputs": [],
   "source": [
    "import seaborn as sns\n",
    "import matplotlib.pyplot as plt\n",
    "def plot_confusion_matrix(actual_val, pred_val, title=None):\n",
    "    confusion_matrix = pd.crosstab(actual_val, pred_val,\n",
    "                                   rownames=['Actual'],\n",
    "                                   colnames=['Predicted'])\n",
    "    \n",
    "    plot = sns.heatmap(confusion_matrix, annot=True, fmt=',.0f')\n",
    "    \n",
    "    if title is None:\n",
    "        pass\n",
    "    else:\n",
    "        plot.set_title(title)\n",
    "        \n",
    "    plt.show()"
   ]
  },
  {
   "cell_type": "code",
   "execution_count": 27,
   "metadata": {},
   "outputs": [
    {
     "data": {
      "text/plain": [
       "{0: 85295, 1: 148}"
      ]
     },
     "execution_count": 27,
     "metadata": {},
     "output_type": "execute_result"
    }
   ],
   "source": [
    "import numpy as np\n",
    "unique, counts = np.unique(y_test, return_counts=True)\n",
    "dict(zip(unique, counts))"
   ]
  },
  {
   "cell_type": "code",
   "execution_count": 28,
   "metadata": {},
   "outputs": [
    {
     "data": {
      "image/png": "[encoded data removed]",
      "text/plain": [
       "<Figure size 432x288 with 2 Axes>"
      ]
     },
     "metadata": {
      "needs_background": "light"
     },
     "output_type": "display_data"
    }
   ],
   "source": [
    "plot_confusion_matrix(y_test, pred)"
   ]
  }
 ],
 "metadata": {
  "kernelspec": {
   "display_name": "Python 3",
   "language": "python",
   "name": "python3"
  },
  "language_info": {
   "codemirror_mode": {
    "name": "ipython",
    "version": 3
   },
   "file_extension": ".py",
   "mimetype": "text/x-python",
   "name": "python",
   "nbconvert_exporter": "python",
   "pygments_lexer": "ipython3",
   "version": "3.9.5"
  },
  "orig_nbformat": 4
 },
 "nbformat": 4,
 "nbformat_minor": 2
}
