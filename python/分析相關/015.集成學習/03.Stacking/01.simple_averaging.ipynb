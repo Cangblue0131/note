{
 "cells": [
  {
   "cell_type": "markdown",
   "metadata": {},
   "source": [
    "# Simple Averaging \n",
    "\n",
    "Stacking的Simple Averaging是一種簡單且直觀的集成方法，它的思想是將多個基本模型的預測結果進行平均來得到最終的預測結果。"
   ]
  },
  {
   "cell_type": "markdown",
   "metadata": {},
   "source": [
    "## 步驟\n",
    "\n",
    "1. 基本模型訓練：訓練多個不同的基本模型，每個模型都使用相同的訓練數據。\n",
    "\n",
    "2. 基本模型預測：對測試數據使用每個基本模型進行預測，得到一系列不同的預測結果。\n",
    "\n",
    "3. 預測結果平均：將各個基本模型的預測結果進行簡單平均，得到最終的預測結果。"
   ]
  },
  {
   "cell_type": "markdown",
   "metadata": {},
   "source": [
    "## 優缺點\n",
    "\n"
   ]
  },
  {
   "cell_type": "code",
   "execution_count": null,
   "metadata": {},
   "outputs": [],
   "source": []
  }
 ],
 "metadata": {
  "language_info": {
   "name": "python"
  },
  "orig_nbformat": 4
 },
 "nbformat": 4,
 "nbformat_minor": 2
}
