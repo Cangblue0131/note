{
 "cells": [
  {
   "cell_type": "markdown",
   "metadata": {},
   "source": [
    "# Meta-Features Selection (元特徵選擇)\n",
    "\n",
    "這不太能說是一個獨立的方法, 此方法用於選擇基模型, 而不是全部基模型的結果都拿去 fit meta model."
   ]
  },
  {
   "cell_type": "markdown",
   "metadata": {},
   "source": [
    "## 選擇方法\n",
    "\n",
    "* 選擇全部基模型預測結果： 一種簡單的方法是使用所有基模型預測的結果作為元特徵。然而，這可能會引入一些噪聲，降低元模型的性能。\n",
    "\n",
    "* 選擇最佳性能的基模型： 可以通過交叉驗證等方法，選擇在訓練集上性能最好的幾個基模型，並使用它們的預測結果作為元特徵。\n",
    "\n",
    "* 選擇相關性最高的基模型： 可以通過計算基模型預測結果與目標變量之間的相關性，選擇與目標變量相關性最高的基模型的預測結果作為元特徵。\n",
    "\n",
    "* 使用正則化方法： 可以使用正則化方法，如 LASSO 或 Ridge，來選擇最具有影響力的基模型預測結果作為元特徵。"
   ]
  }
 ],
 "metadata": {
  "kernelspec": {
   "display_name": "Python 3",
   "language": "python",
   "name": "python3"
  },
  "language_info": {
   "codemirror_mode": {
    "name": "ipython",
    "version": 3
   },
   "file_extension": ".py",
   "mimetype": "text/x-python",
   "name": "python",
   "nbconvert_exporter": "python",
   "pygments_lexer": "ipython3",
   "version": "3.9.5"
  },
  "orig_nbformat": 4
 },
 "nbformat": 4,
 "nbformat_minor": 2
}
