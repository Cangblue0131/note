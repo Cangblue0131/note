{
 "cells": [
  {
   "cell_type": "markdown",
   "metadata": {},
   "source": [
    "# Iterative Stacking\n",
    "\n",
    "在Iterative Stacking中，我們使用類似交叉驗證的方法，將數據集分為多個折（folds）進行多輪的模型訓練和預測。每輪訓練後，我們將基模型的預測結果加入到原始數據中，然後用這些新的特徵來訓練元模型。這樣的過程可以進行多次，從而達到模型的迭代優化。"
   ]
  },
  {
   "cell_type": "markdown",
   "metadata": {},
   "source": [
    "## 步驟\n",
    "\n",
    "1. 將數據集分成若干折（folds），比如K折交叉驗證。\n",
    "2. 在每個折上，使用部分數據來訓練基模型，然後在該折上進行預測，得到基模型的預測結果。\n",
    "3. 將每個折的基模型預測結果合併，得到一個新的特徵集。\n",
    "4. 使用這個新的特徵集來訓練元模型。"
   ]
  },
  {
   "cell_type": "markdown",
   "metadata": {},
   "source": [
    "## 優缺點\n",
    "\n",
    "### 優點：\n",
    "\n",
    "* 泛化能力提升： 透過多次迭代的訓練和預測，可以減少過擬合的風險，從而提高模型的泛化能力。\n",
    "\n",
    "* 特徵優化： 每輪迭代都會生成新的特徵集，這些特徵可能更能捕捉數據的模式，從而提升模型性能。\n",
    "\n",
    "* 彌補模型弱點： 通過不斷的迭代，可以有機會逐步補償不同基模型的弱點，使得整體模型更加強大。\n",
    "\n",
    "### 缺點：\n",
    "\n",
    "* 計算成本高： 由於需要進行多次的模型訓練和預測，所以計算成本相對較高，可能需要更多的計算資源和時間。\n",
    "\n",
    "* 超參數調整難度增加： 在每輪迭代中，不僅需要調整基模型的超參數，還需要調整元模型的超參數，這增加了參數調整的難度。\n",
    "\n",
    "* 可能出現過擬合： 雖然迭代可以減少過擬合的風險，但如果不恰當地設計迭代策略，仍然可能導致過擬合的問題。"
   ]
  },
  {
   "cell_type": "markdown",
   "metadata": {},
   "source": [
    "## python code\n",
    "\n",
    "```python\n",
    "from sklearn.ensemble import StackingClassifier\n",
    "...\n",
    "stacking_model = StackingClassifier(estimators=base_models, final_estimator=meta_model)\n",
    "...\n",
    "```"
   ]
  },
  {
   "cell_type": "code",
   "execution_count": 1,
   "metadata": {},
   "outputs": [
    {
     "name": "stdout",
     "output_type": "stream",
     "text": [
      "Accuracy: 1.0\n"
     ]
    }
   ],
   "source": [
    "from sklearn.datasets import load_iris\n",
    "from sklearn.model_selection import train_test_split\n",
    "from sklearn.ensemble import StackingClassifier\n",
    "from sklearn.neighbors import KNeighborsClassifier\n",
    "from sklearn.ensemble import RandomForestClassifier\n",
    "from sklearn.svm import SVC\n",
    "from sklearn.linear_model import LogisticRegression\n",
    "\n",
    "# 載入數據集\n",
    "iris = load_iris()\n",
    "X, y = iris.data, iris.target\n",
    "\n",
    "# 將數據集分為訓練集和測試集\n",
    "X_train, X_test, y_train, y_test = train_test_split(X, y, test_size=0.2, random_state=42)\n",
    "\n",
    "# 定義基模型\n",
    "base_models = [\n",
    "    ('knn', KNeighborsClassifier(n_neighbors=3)),\n",
    "    ('rf', RandomForestClassifier(n_estimators=100, random_state=42)),\n",
    "    ('svm', SVC(kernel='linear', probability=True))\n",
    "]\n",
    "\n",
    "# 定義元模型\n",
    "meta_model = LogisticRegression()\n",
    "\n",
    "# 定義 Iterative Stacking 模型\n",
    "stacking_model = StackingClassifier(estimators=base_models, final_estimator=meta_model)\n",
    "\n",
    "# 訓練 Iterative Stacking 模型\n",
    "stacking_model.fit(X_train, y_train)\n",
    "\n",
    "# 預測測試集數據\n",
    "y_pred = stacking_model.predict(X_test)\n",
    "\n",
    "# 計算準確率\n",
    "accuracy = (y_pred == y_test).mean()\n",
    "print(\"Accuracy:\", accuracy)\n"
   ]
  }
 ],
 "metadata": {
  "kernelspec": {
   "display_name": "Python 3",
   "language": "python",
   "name": "python3"
  },
  "language_info": {
   "codemirror_mode": {
    "name": "ipython",
    "version": 3
   },
   "file_extension": ".py",
   "mimetype": "text/x-python",
   "name": "python",
   "nbconvert_exporter": "python",
   "pygments_lexer": "ipython3",
   "version": "3.9.5"
  },
  "orig_nbformat": 4
 },
 "nbformat": 4,
 "nbformat_minor": 2
}
