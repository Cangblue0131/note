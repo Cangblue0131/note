{
 "cells": [
  {
   "attachments": {},
   "cell_type": "markdown",
   "metadata": {},
   "source": [
    "### Student's t-test"
   ]
  },
  {
   "attachments": {},
   "cell_type": "markdown",
   "metadata": {},
   "source": [
    "參考資料 :\n",
    "*   [維基百科](https://zh.wikipedia.org/zh-tw/%E5%8F%B8%E5%BE%92%E9%A0%93t%E6%AA%A2%E5%AE%9A)\n"
   ]
  },
  {
   "attachments": {},
   "cell_type": "markdown",
   "metadata": {},
   "source": [
    "t-test 常作為檢定<font color = red>一群來自常態分配母體</font>的<font color = red>獨立樣本之期望值是否為某一實數</font>，或是二（兩）群<font color = red>來自常態分配母體</font>的<font color = red>獨立樣本之期望值的差是否為某一實數</font>。\n",
    "\n",
    "<font color = red>注意</font> : 常態為必要條件，通常會搭配 KS-test 去檢定是否為常態。\n"
   ]
  },
  {
   "attachments": {},
   "cell_type": "markdown",
   "metadata": {},
   "source": [
    "Probability density function ( v 是自由度)\n",
    "\n",
    "<img src=\"https://upload.wikimedia.org/wikipedia/commons/thumb/4/41/Student_t_pdf.svg/1024px-Student_t_pdf.svg.png\" width=\"30%\" height=\"30%\">"
   ]
  },
  {
   "attachments": {},
   "cell_type": "markdown",
   "metadata": {},
   "source": [
    "\n",
    "#### 應用 : \n",
    "*   獨立單樣本T檢定\\\n",
    "    檢定虛無假說為一群來自常態分配獨立樣本$x_i$之母體期望值$\\mu$為$\\mu_0$可利用以下統計量\\\n",
    "    $ t = \\frac{\\bar{x} - \\mu_0}{s/\\sqrt{n}} = \\frac{|\\bar{x} - \\mu_0|}{s_{\\bar{x}}} $\\\n",
    "    其中 n 為樣本數， $s = \\sqrt{\\frac{\\sum^n_{i=1}(x_i-\\bar{x})^2}{n-1}}$為樣本標準差，\\\n",
    "    統計量 t 在虛無假設 $H_0 : \\mu = \\mu_0 $ 為真的條件下服從自由度 $n-1$ 之t分布\n"
   ]
  },
  {
   "attachments": {},
   "cell_type": "markdown",
   "metadata": {},
   "source": [
    "*   成對樣本T檢定\\\n",
    "    成對樣本t檢定可視為單樣本t檢定的擴展，不過檢定的對象由一群來自常態分配獨立樣本更改為<font color = red>兩成對樣本之觀測值之差</font>。\\\n",
    "    若兩成對樣本$x_{1i}$與$x_{2i}$之差為$d_i = x_{1i} − x_{2i}$獨立且來自常態分配，則$d_i$之母體期望值$\\mu$是否為$\\mu_0$可利用以下統計量：\\\n",
    "    $ t = \\frac{\\bar{d} - \\mu_0}{s_d/\\sqrt{n}}$\n",
    "    其中 n 為樣本數， $s_d = \\sqrt{\\frac{\\sum^n_{i=1}(d_i-\\bar{d})^2}{n-1}}$為樣本標準差，\\\n",
    "    統計量 t 在虛無假設 $H_0 : \\mu = \\mu_0 $ 為真的條件下服從自由度 $n-1$ 之t分布"
   ]
  },
  {
   "attachments": {},
   "cell_type": "markdown",
   "metadata": {},
   "source": [
    "\n",
    "*   獨立雙樣本T檢定\n",
    "\n",
    "    *  同質變異數假設 (Homoscedasticity)、樣本數相等\\\n",
    "    若兩獨立樣本$x_{1i}$與$x_{2i}$具有相同之樣本數$n$，且來自兩個母體變異數相同（同質變異數假設）的常態分配，則兩母體之期望值差$\\mu_1 - \\mu_2$是否為$\\mu_0$可利用以下統計量\\\n",
    "    $ t = \\frac{\\bar{x}_1 - \\bar{x}_2 - \\mu_0}{\\sqrt{2s_p^2/n}}$\\\n",
    "    其中 n 為樣本數， $s^2_p = \\frac{ (\\sum^n_{i=1}(x_{1i}-\\bar{x_1})^2 + \\sum^n_{i=1}(x_{2i}-\\bar{x_2})^2) }{2n-2}$\n",
    "    為樣本之共同變異數，\\\n",
    "    統計量 t 在虛無假設 $H_0 : \\mu_1 - \\mu_2 = \\mu_0 $ 為真的條件下服從自由度 $2n-2$ 之t分布\n",
    "\n",
    "    &emsp;\n",
    "\n",
    "    *  同質變異數假設 (Homoscedasticity)、樣本數不相等\\\n",
    "    若兩獨立樣本$x_{1i}$與$x_{2j}具有不相同之樣本數$n_1$與$n_2$，且來自兩個母體變異數相同（同質變異數假設）的常態分配，則兩母體之期望值之差$\\mu_1 - \\mu_2$是否為$\\mu_0$可利用以下統計量\\\n",
    "    $ t = \\frac{\\bar{x}_1 - \\bar{x}_2 - \\mu_0}{\\sqrt{s_p^2/n_1 + s_p^2/n_2}}$\\\n",
    "    其中 $n_1,n_2$ 為樣本數， $s^2_p = \\frac{ (\\sum^{n_1}_{i=1}(x_{1i}-\\bar{x_1})^2 + \\sum^{n_2}_{j=1}(x_{2j}-\\bar{x_2})^2) }{n_1+n_2-2}$\n",
    "    為樣本之共同變異數，\\\n",
    "    統計量 t 在虛無假設 $H_0 : \\mu_1 - \\mu_2 = \\mu_0 $ 為真的條件下服從自由度 $n_1+n_2-2$ 之t分布\n",
    "\n",
    "    &emsp;\n",
    "    \n",
    "    *  異質變異數假設 (Heteroscedasticity, 或稱Welch檢定)、樣本數相等或不相等皆可\\\n",
    "    若兩獨立樣本$x_{1i}$與$x_{2j}$具有相同或不相同之樣本數$n_1$與$n_2$，且兩者母體變異數不相等（異質變異數假設）的常態分配，則兩母體之期望值之差$\\mu_1 - \\mu_2$是否為$\\mu_0$可利用以下統計量\\\n",
    "    $ t = \\frac{\\bar{x}_1 - \\bar{x}_2 - \\mu_0}{\\sqrt{s_1^2/n_1 + s_2^2/n_2}}$\\\n",
    "    其中 $n_1,n_2$ 為樣本數， $s^2_1 = \\frac{ (\\sum^{n_1}_{i=1}(x_{1i}-\\bar{x_1})^2 }{n_1-1}$ 及 $s^2_2 = \\frac{ (\\sum^{n_2}_{i=1}(x_{2i}-\\bar{x_2})^2 }{n_2-1}$\n",
    "    分別為兩樣本之變異數，\\\n",
    "    統計量 t 在虛無假設 $H_0 : \\mu_1 - \\mu_2 = \\mu_0 $ 為真的條件下服從自由度為 \n",
    "    $df = \\frac{ (s^2_1/n_1 + s^2_2/n_2)^2 }{ (s^2_1/n_1)^2/(n_1-1) + (s^2_2/n_2)^2/(n_2-1) }$ 之t分布\n",
    "\n",
    "\n"
   ]
  },
  {
   "cell_type": "markdown",
   "metadata": {},
   "source": [
    "#### python - 獨立單樣本 t test\n",
    "\n",
    "使用套件"
   ]
  },
  {
   "cell_type": "code",
   "execution_count": 41,
   "metadata": {},
   "outputs": [
    {
     "name": "stdout",
     "output_type": "stream",
     "text": [
      "單樣本t統計量: -0.1171889526149318\n",
      "p-value: 0.9067574728651253\n"
     ]
    }
   ],
   "source": [
    "import numpy as np\n",
    "from scipy.stats import ttest_1samp\n",
    "\n",
    "# 建立單樣本\n",
    "np.random.seed(100)\n",
    "sample = np.random.normal(size = 500, loc = 0, scale = 2)\n",
    "\n",
    "# H0\n",
    "null_mean = 0.0\n",
    "\n",
    "# 執行 t test\n",
    "t_stat, p_value = ttest_1samp(sample, null_mean)\n",
    "\n",
    "print(\"單樣本t統計量:\", t_stat)\n",
    "print(\"p-value:\", p_value)"
   ]
  },
  {
   "cell_type": "markdown",
   "metadata": {},
   "source": [
    "自己編寫"
   ]
  },
  {
   "cell_type": "code",
   "execution_count": 42,
   "metadata": {},
   "outputs": [
    {
     "name": "stdout",
     "output_type": "stream",
     "text": [
      "單樣本t統計量: -0.11718895261493183\n",
      "p-value: 0.9067574728651253\n"
     ]
    }
   ],
   "source": [
    "import numpy as np\n",
    "import scipy.stats as ss\n",
    "\n",
    "# 建立單樣本\n",
    "np.random.seed(100)\n",
    "sample = np.random.normal(size = 500, loc = 0, scale = 2)\n",
    "\n",
    "def find_t_stat(sample, mu_0):\n",
    "    sample_mean = np.mean(sample)\n",
    "    sample_std = np.std(sample, ddof = 1)\n",
    "    t = (sample_mean - mu_0)/( sample_std / np.sqrt(len(sample)) )\n",
    "    return t\n",
    "\n",
    "t_stat = find_t_stat(sample, 0.0)\n",
    "p_value = 1 - abs(0.5 - ss.t.cdf(t_stat,len(sample) -1)) * 2\n",
    "print(\"單樣本t統計量:\", t_stat)\n",
    "print(\"p-value:\", p_value)"
   ]
  },
  {
   "cell_type": "markdown",
   "metadata": {},
   "source": [
    "\n",
    "---\n",
    "#### python - 獨立雙樣本 t test"
   ]
  },
  {
   "cell_type": "code",
   "execution_count": 54,
   "metadata": {},
   "outputs": [
    {
     "name": "stdout",
     "output_type": "stream",
     "text": [
      "單樣本t統計量: 0.3424235063436489\n",
      "p-value: 0.7321028861193735\n"
     ]
    }
   ],
   "source": [
    "import numpy as np\n",
    "from scipy.stats import ttest_ind\n",
    "\n",
    "# 建立兩個樣本\n",
    "np.random.seed(100)\n",
    "sample_A = np.random.normal(size = 500, loc = 0, scale = 1)\n",
    "sample_B = np.random.normal(size = 520, loc = 0, scale = 2)\n",
    "\n",
    "# 執行 t test ( H0 為 兩sample 平均數相同) \n",
    "# ttest_ind 會自動判斷 樣本數 和 平均數是否相同, 來去選擇方法\n",
    "t_stat, p_value = ttest_ind(sample_A, sample_B)\n",
    "\n",
    "print(\"單樣本t統計量:\", t_stat)\n",
    "print(\"p-value:\", p_value)"
   ]
  },
  {
   "cell_type": "markdown",
   "metadata": {},
   "source": [
    "#### python - 成對樣本 t test"
   ]
  },
  {
   "cell_type": "code",
   "execution_count": 51,
   "metadata": {},
   "outputs": [
    {
     "name": "stdout",
     "output_type": "stream",
     "text": [
      "單樣本t統計量: -3.6268305315233853\n",
      "p-value: 0.00031643059583179653\n"
     ]
    }
   ],
   "source": [
    "import numpy as np\n",
    "from scipy.stats import ttest_rel\n",
    "\n",
    "# 建立兩個樣本\n",
    "np.random.seed(100)\n",
    "sample_A = np.random.normal(size = 500, loc = 0, scale = 1)\n",
    "sample_B = sample_A + np.random.normal(size = 500, loc = 0.2, scale = 1)\n",
    "\n",
    "# 執行 t test ( H0 為 兩sample 平均數相同 -> 藥物或方法無法改變sample)\n",
    "t_stat, p_value = ttest_rel(sample_A, sample_B)\n",
    "\n",
    "print(\"單樣本t統計量:\", t_stat)\n",
    "print(\"p-value:\", p_value)"
   ]
  },
  {
   "attachments": {},
   "cell_type": "markdown",
   "metadata": {},
   "source": [
    "\n",
    "---\n",
    "### 偏迴歸係數是否為零之檢定\n",
    "待補(可能補在T-test)\\\n",
    "[參考](http://web.ncyu.edu.tw/~lanjc/lesson/C7/class/ch07-AN.pdf)"
   ]
  }
 ],
 "metadata": {
  "kernelspec": {
   "display_name": "Python 3.9.5 64-bit",
   "language": "python",
   "name": "python3"
  },
  "language_info": {
   "codemirror_mode": {
    "name": "ipython",
    "version": 3
   },
   "file_extension": ".py",
   "mimetype": "text/x-python",
   "name": "python",
   "nbconvert_exporter": "python",
   "pygments_lexer": "ipython3",
   "version": "3.9.5"
  },
  "orig_nbformat": 4,
  "vscode": {
   "interpreter": {
    "hash": "4206480afc6f8f20a91f9b30d4e9d2907612993729e8a589e2c16a111e42b69c"
   }
  }
 },
 "nbformat": 4,
 "nbformat_minor": 2
}
