{
 "cells": [
  {
   "cell_type": "markdown",
   "metadata": {},
   "source": [
    "# sklearn.datasets\n",
    "\n",
    "用於加載和生成示例數據集的子模塊。它包含了一些內置的測試數據集，如Iris（鳶尾花）數據集、Boston房價數據集等，可以用於練習和測試機器學習模型。"
   ]
  },
  {
   "cell_type": "code",
   "execution_count": 1,
   "metadata": {},
   "outputs": [],
   "source": [
    "from sklearn.datasets import load_iris\n",
    "\n",
    "# 加載 Iris（鳶尾花）數據集\n",
    "iris = load_iris()\n",
    "\n",
    "# 數據集中的特徵和標籤\n",
    "X = iris.data   # 特徵矩陣\n",
    "y = iris.target # 標籤向量\n",
    "\n",
    "# 打印數據集的描述\n",
    "#print(iris.DESCR)"
   ]
  }
 ],
 "metadata": {
  "kernelspec": {
   "display_name": "Python 3",
   "language": "python",
   "name": "python3"
  },
  "language_info": {
   "codemirror_mode": {
    "name": "ipython",
    "version": 3
   },
   "file_extension": ".py",
   "mimetype": "text/x-python",
   "name": "python",
   "nbconvert_exporter": "python",
   "pygments_lexer": "ipython3",
   "version": "3.9.5"
  },
  "orig_nbformat": 4
 },
 "nbformat": 4,
 "nbformat_minor": 2
}
