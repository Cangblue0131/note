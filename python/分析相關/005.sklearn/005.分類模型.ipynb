{
 "cells": [
  {
   "cell_type": "markdown",
   "metadata": {},
   "source": [
    "# 分類模型\n",
    "\n",
    "模型預測的結果以離散結果為主"
   ]
  },
  {
   "cell_type": "markdown",
   "metadata": {},
   "source": [
    "1. 支持向量機（Support Vector Machine, SVM）：\n",
    "\n",
    "    * SVM是一種用於二元分類和多元分類的分類算法，通過找到最優的超平面來區分不同類別的數據點。\n",
    "    * from sklearn.svm import SVC\n",
    "    * 參數：\n",
    "    * kernel: 核函數，可選擇'linear'（線性核函數）、'rbf'（高斯核函數）等。\n",
    "    * C: 正則化參數，控制模型的複雜度，C值越小，正則化越強。\n",
    "    * 超參數：\n",
    "    * gamma: 核函數的參數，影響核函數的彎曲程度。\n",
    "---\n",
    "2. 決策樹（Decision Tree）：決策樹是一種用於二元分類和多元分類的非線性分類算法，通過樹狀結構進行分類。\n",
    "\n",
    "    * 決策樹是一種用於二元分類和多元分類的非線性分類算法，通過樹狀結構進行分類。\n",
    "    * from sklearn.tree import DecisionTreeClassifier\n",
    "    * 參數：\n",
    "    * criterion: 分割節點的標準，可選擇'gini'（基尼係數）或'entropy'（信息熵）。\n",
    "    * max_depth: 樹的最大深度，控制樹的複雜度。\n",
    "    * 超參數：\n",
    "    * min_samples_split: 分裂內部節點所需的最小樣本數。\n",
    "---\n",
    "3. 隨機森林（Random Forest）：\n",
    "\n",
    "    * 隨機森林是一種集成學習算法，結合多個決策樹進行分類，通常可以提高模型的準確率。\n",
    "    * from sklearn.ensemble import RandomForestClassifier\n",
    "    * 參數：\n",
    "    * n_estimators: 森林中樹的數量，越多越好，但也會增加計算成本。\n",
    "    * max_features: 每個決策樹使用的最大特徵數，可以控制模型的複雜度。\n",
    "    * 超參數：\n",
    "    * min_samples_split: 分裂內部節點所需的最小樣本數。\n",
    "---\n",
    "4. K近鄰算法（K-Nearest Neighbors, KNN）：\n",
    "\n",
    "    * KNN是一種基於距離的分類算法，通過找到最近的K個鄰居來進行分類。\n",
    "    * from sklearn.neighbors import KNeighborsClassifier\n",
    "    * 參數：\n",
    "    * n_neighbors: 鄰居數量K，控制分類的精確程度。\n",
    "    * metric: 距離度量方法，可選擇'euclidean'（歐氏距離）等。\n",
    "---\n",
    "5. 朴素貝葉斯（Naive Bayes）：\n",
    "\n",
    "    * 朴素貝葉斯是一種基於貝葉斯定理的分類算法，假設特徵之間是獨立的，通常用於文本分類等問題。\n",
    "    * from sklearn.naive_bayes import GaussianNB\n",
    "    * 參數：無。\n",
    "    * 超參數：無。\n",
    "---"
   ]
  },
  {
   "cell_type": "markdown",
   "metadata": {},
   "source": [
    "### python\n",
    "\n",
    "#### SVM\n"
   ]
  },
  {
   "cell_type": "code",
   "execution_count": 1,
   "metadata": {},
   "outputs": [
    {
     "name": "stdout",
     "output_type": "stream",
     "text": [
      "最佳超參數組合: {'C': 1, 'kernel': 'linear'}\n",
      "交叉驗證準確率: 0.9583333333333334\n"
     ]
    }
   ],
   "source": [
    "import numpy as np\n",
    "import pandas as pd\n",
    "from sklearn.datasets import load_iris\n",
    "from sklearn.model_selection import train_test_split, GridSearchCV\n",
    "from sklearn.svm import SVC\n",
    "\n",
    "# 載入 iris 數據集\n",
    "iris = load_iris()\n",
    "X, y = iris.data, iris.target\n",
    "\n",
    "# 將數據集分為訓練集和測試集\n",
    "X_train, X_test, y_train, y_test = train_test_split(X, y, test_size=0.2, random_state=42)\n",
    "\n",
    "# 建立支持向量機分類器\n",
    "svm = SVC()\n",
    "\n",
    "# 定義超參數網格，包含 C 和 kernel 兩個超參數\n",
    "param_grid = {\n",
    "    'C': [0.1, 1, 10],\n",
    "    'kernel': ['linear', 'rbf', 'poly']\n",
    "}\n",
    "\n",
    "# 使用 5 折交叉驗證進行網格搜索\n",
    "grid_search = GridSearchCV(svm, param_grid, scoring='accuracy', cv=5)\n",
    "grid_search.fit(X_train, y_train)\n",
    "\n",
    "print(\"最佳超參數組合:\", grid_search.best_params_)\n",
    "print(\"交叉驗證準確率:\", grid_search.best_score_)"
   ]
  },
  {
   "cell_type": "code",
   "execution_count": 2,
   "metadata": {},
   "outputs": [
    {
     "name": "stdout",
     "output_type": "stream",
     "text": [
      "最終模型的準確率: 1.0\n"
     ]
    }
   ],
   "source": [
    "# 使用最佳超參數組合來訓練支持向量機模型\n",
    "best_svm = SVC(C=grid_search.best_params_['C'], kernel=grid_search.best_params_['kernel'])\n",
    "best_svm.fit(X_train, y_train)\n",
    "\n",
    "# 使用測試集來評估模型的性能\n",
    "accuracy = best_svm.score(X_test, y_test)\n",
    "print(\"最終模型的準確率:\", accuracy)"
   ]
  },
  {
   "cell_type": "markdown",
   "metadata": {},
   "source": [
    "#### 決策樹 和 隨機森林"
   ]
  },
  {
   "cell_type": "code",
   "execution_count": 3,
   "metadata": {},
   "outputs": [],
   "source": [
    "import numpy as np\n",
    "import pandas as pd\n",
    "from sklearn.datasets import load_iris\n",
    "from sklearn.model_selection import train_test_split\n",
    "from sklearn.tree import DecisionTreeClassifier #決策樹\n",
    "from sklearn.ensemble import RandomForestClassifier #隨機森林\n",
    "from sklearn.metrics import accuracy_score\n",
    "\n",
    "# 載入鳶尾花數據集\n",
    "iris = load_iris()\n",
    "X, y = iris.data[:, 2:], iris.target\n",
    "\n",
    "# 將數據集分為訓練集和測試集\n",
    "X_train, X_test, y_train, y_test = train_test_split(X, y, test_size=0.2, random_state=42)\n"
   ]
  },
  {
   "cell_type": "code",
   "execution_count": 4,
   "metadata": {},
   "outputs": [
    {
     "name": "stdout",
     "output_type": "stream",
     "text": [
      "決策樹分類器的準確率： 1.0\n"
     ]
    }
   ],
   "source": [
    "# 建立決策樹分類器\n",
    "decision_tree = DecisionTreeClassifier(random_state=42)\n",
    "\n",
    "# 訓練模型\n",
    "decision_tree.fit(X_train, y_train)\n",
    "\n",
    "# 在測試集上進行預測\n",
    "y_pred_decision_tree = decision_tree.predict(X_test)\n",
    "\n",
    "# 計算準確率\n",
    "accuracy_decision_tree = accuracy_score(y_test, y_pred_decision_tree)\n",
    "print(\"決策樹分類器的準確率：\", accuracy_decision_tree) # decision_tree.score(X_test, y_test)\n"
   ]
  },
  {
   "cell_type": "code",
   "execution_count": 5,
   "metadata": {},
   "outputs": [
    {
     "name": "stdout",
     "output_type": "stream",
     "text": [
      "隨機森林分類器的準確率： 1.0\n"
     ]
    }
   ],
   "source": [
    "# 建立隨機森林分類器\n",
    "random_forest = RandomForestClassifier(random_state=42)\n",
    "\n",
    "# 訓練模型\n",
    "random_forest.fit(X_train, y_train)\n",
    "\n",
    "# 在測試集上進行預測\n",
    "y_pred_random_forest = random_forest.predict(X_test)\n",
    "\n",
    "# 計算準確率\n",
    "accuracy_random_forest = accuracy_score(y_test, y_pred_random_forest)\n",
    "print(\"隨機森林分類器的準確率：\", accuracy_random_forest) # random_forest.score(X_test, y_test)\n"
   ]
  },
  {
   "cell_type": "markdown",
   "metadata": {},
   "source": [
    "#### KNN"
   ]
  },
  {
   "cell_type": "code",
   "execution_count": 6,
   "metadata": {},
   "outputs": [],
   "source": [
    "import numpy as np\n",
    "import pandas as pd\n",
    "from sklearn.datasets import make_classification\n",
    "from sklearn.model_selection import train_test_split\n",
    "from sklearn.neighbors import KNeighborsClassifier\n",
    "from sklearn.metrics import accuracy_score\n",
    "\n",
    "# 創建一個簡單的資料集\n",
    "X, y = make_classification(n_samples=100, n_features=2, n_classes=2, n_clusters_per_class=1, n_redundant=0, random_state=42)\n",
    "\n",
    "# 將資料集分為訓練集和測試集\n",
    "X_train, X_test, y_train, y_test = train_test_split(X, y, test_size=0.2, random_state=42)\n"
   ]
  },
  {
   "cell_type": "code",
   "execution_count": 7,
   "metadata": {},
   "outputs": [
    {
     "name": "stdout",
     "output_type": "stream",
     "text": [
      "準確性： 1.0\n"
     ]
    }
   ],
   "source": [
    "# 建立KNN分類器，指定鄰居數為3\n",
    "knn = KNeighborsClassifier(n_neighbors=3) # n_neighbors 為超參數, 這裡直接帶了\n",
    "\n",
    "# 訓練KNN分類器\n",
    "knn.fit(X_train, y_train)\n",
    "\n",
    "# 使用測試集進行預測\n",
    "y_pred = knn.predict(X_test)\n",
    "\n",
    "# 計算模型的準確性\n",
    "accuracy = accuracy_score(y_test, y_pred)\n",
    "print(\"準確性：\", accuracy)"
   ]
  },
  {
   "cell_type": "markdown",
   "metadata": {},
   "source": [
    "#### Naive Bayes"
   ]
  },
  {
   "cell_type": "code",
   "execution_count": 8,
   "metadata": {},
   "outputs": [],
   "source": [
    "import numpy as np\n",
    "import pandas as pd\n",
    "from sklearn.datasets import make_classification\n",
    "from sklearn.model_selection import train_test_split\n",
    "from sklearn.naive_bayes import GaussianNB\n",
    "from sklearn.metrics import accuracy_score\n",
    "\n",
    "# 創建一個簡單的資料集\n",
    "X, y = make_classification(n_samples=100, n_features=2, n_classes=2, n_clusters_per_class=1, n_redundant=0, random_state=42)\n",
    "\n",
    "# 將資料集分為訓練集和測試集\n",
    "X_train, X_test, y_train, y_test = train_test_split(X, y, test_size=0.2, random_state=42)"
   ]
  },
  {
   "cell_type": "code",
   "execution_count": 9,
   "metadata": {},
   "outputs": [
    {
     "name": "stdout",
     "output_type": "stream",
     "text": [
      "準確性： 0.9\n"
     ]
    }
   ],
   "source": [
    "# 建立Naive Bayes分類器\n",
    "naive_bayes = GaussianNB()\n",
    "\n",
    "# 訓練Naive Bayes分類器\n",
    "naive_bayes.fit(X_train, y_train)\n",
    "\n",
    "# 使用測試集進行預測\n",
    "y_pred = naive_bayes.predict(X_test)\n",
    "\n",
    "# 計算模型的準確性\n",
    "accuracy = accuracy_score(y_test, y_pred)\n",
    "print(\"準確性：\", accuracy)"
   ]
  }
 ],
 "metadata": {
  "kernelspec": {
   "display_name": "Python 3",
   "language": "python",
   "name": "python3"
  },
  "language_info": {
   "codemirror_mode": {
    "name": "ipython",
    "version": 3
   },
   "file_extension": ".py",
   "mimetype": "text/x-python",
   "name": "python",
   "nbconvert_exporter": "python",
   "pygments_lexer": "ipython3",
   "version": "3.9.5"
  },
  "orig_nbformat": 4
 },
 "nbformat": 4,
 "nbformat_minor": 2
}
