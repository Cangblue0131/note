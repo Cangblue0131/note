{
 "cells": [
  {
   "cell_type": "code",
   "execution_count": 30,
   "metadata": {},
   "outputs": [
    {
     "data": {
      "text/plain": [
       "10"
      ]
     },
     "execution_count": 30,
     "metadata": {},
     "output_type": "execute_result"
    }
   ],
   "source": [
    "Root = [1,2,3,4,5,6,7,8,9]\n",
    "\n",
    "\n",
    "class Tree:\n",
    "    def __init__(self, val = None):\n",
    "        if val != None :\n",
    "            self.val = val\n",
    "        else:\n",
    "            self.val = None\n",
    "        \n",
    "        self.left = None\n",
    "        self.right = None\n",
    "\n",
    "    def left_insert(self, val):\n",
    "        self.left = val\n",
    "    \n",
    "\n",
    "\n",
    "T = Tree(20)\n",
    "T.left_insert(10)\n",
    "\n",
    "\n"
   ]
  }
 ],
 "metadata": {
  "kernelspec": {
   "display_name": "Python 3.9.5 64-bit",
   "language": "python",
   "name": "python3"
  },
  "language_info": {
   "codemirror_mode": {
    "name": "ipython",
    "version": 3
   },
   "file_extension": ".py",
   "mimetype": "text/x-python",
   "name": "python",
   "nbconvert_exporter": "python",
   "pygments_lexer": "ipython3",
   "version": "3.9.5"
  },
  "orig_nbformat": 4,
  "vscode": {
   "interpreter": {
    "hash": "4206480afc6f8f20a91f9b30d4e9d2907612993729e8a589e2c16a111e42b69c"
   }
  }
 },
 "nbformat": 4,
 "nbformat_minor": 2
}
