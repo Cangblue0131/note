{
 "cells": [
  {
   "cell_type": "code",
   "execution_count": 2,
   "metadata": {},
   "outputs": [],
   "source": [
    "#pip install mysql-connector-python"
   ]
  },
  {
   "attachments": {},
   "cell_type": "markdown",
   "metadata": {},
   "source": [
    "Cursor 物件通常具有以下常見方法：\n",
    "\n",
    "* fetchone(): 擷取結果集中的下一行作為一個 tuple。\n",
    "* fetchall(): 擷取結果集中的所有行作為一個 list，每行表示為一個 tuple。\n",
    "* execute(): 執行 SQL 查詢。\n",
    "* executemany(): 批次執行多個 SQL 查詢。\n",
    "* fetchmany(size): 擷取指定數量的行作為一個 list，每行表示為一個 tuple。"
   ]
  },
  {
   "cell_type": "code",
   "execution_count": 13,
   "metadata": {},
   "outputs": [
    {
     "name": "stdout",
     "output_type": "stream",
     "text": [
      "('0001', 'T侐', '衣物', 1000, 500, datetime.date(2009, 9, 20))\n",
      "('0002', '打孔機', '辦公用品', 500, 320, datetime.date(2009, 9, 11))\n",
      "('0003', '襯衫', '衣物', 4000, 2800, None)\n",
      "('0004', '菜刀', '廚房用品', 3000, 2800, datetime.date(2009, 9, 20))\n",
      "('0005', '壓力鍋', '廚房用品', 6800, 5000, datetime.date(2009, 1, 15))\n",
      "('0006', '叉子', '廚房用品', 500, None, datetime.date(2009, 9, 20))\n",
      "('0007', '刨絲器', '廚房用品', 880, 790, datetime.date(2008, 4, 28))\n",
      "('0008', '鋼珠筆', '辦公用品', 100, None, datetime.date(2009, 11, 11))\n"
     ]
    }
   ],
   "source": [
    "import mysql.connector\n",
    "\n",
    "# 建立與資料庫的連線\n",
    "cnx = mysql.connector.connect(\n",
    "    host = 'localhost',\n",
    "    user = 'root',\n",
    "    password = '', # 輸入密碼\n",
    "    database = 'shop'\n",
    ")\n",
    "\n",
    "# 建立 cursor 物件\n",
    "cursor = cnx.cursor()\n",
    "\n",
    "# 執行 SQL 查詢\n",
    "query = \\\n",
    "    \"SELECT * FROM shohin\"\n",
    "cursor.execute(query)\n",
    "\n",
    "# 擷取查詢結果\n",
    "result = cursor.fetchall()\n",
    "for row in result:\n",
    "    print(row)\n",
    "\n",
    "# 關閉 cursor 和連線\n",
    "cursor.close()\n",
    "cnx.close()"
   ]
  },
  {
   "cell_type": "code",
   "execution_count": null,
   "metadata": {},
   "outputs": [],
   "source": []
  }
 ],
 "metadata": {
  "kernelspec": {
   "display_name": "Python 3",
   "language": "python",
   "name": "python3"
  },
  "language_info": {
   "codemirror_mode": {
    "name": "ipython",
    "version": 3
   },
   "file_extension": ".py",
   "mimetype": "text/x-python",
   "name": "python",
   "nbconvert_exporter": "python",
   "pygments_lexer": "ipython3",
   "version": "3.9.5"
  },
  "orig_nbformat": 4
 },
 "nbformat": 4,
 "nbformat_minor": 2
}
