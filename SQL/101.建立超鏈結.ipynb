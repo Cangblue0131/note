{
 "cells": [
  {
   "cell_type": "code",
   "execution_count": 27,
   "metadata": {},
   "outputs": [],
   "source": [
    "import pyperclip\n",
    "\n",
    "filename = \"101.建立超鏈結項目.txt\"\n",
    "encoding = \"utf-8\"\n",
    "\n",
    "with open(filename, \"r\", encoding=encoding) as file:\n",
    "    content = file.read()\n",
    "content = content.split('\\n')\n",
    "\n",
    "# 修改的str\n",
    "replace_dict ={\n",
    "    \"#\" : \"\",\n",
    "    \"h2\" : \"a\",\n",
    "    \"id\" : \"href\"\n",
    "}\n",
    "\n",
    "for i in range(len(content)):\n",
    "    Str = content[i]\n",
    "    for old_value, new_value in replace_dict.items():\n",
    "        Str = Str.replace(old_value, new_value)\n",
    "    try:\n",
    "        Str = Str[:Str.index(\"'\") + 1] +'#' + Str[Str.index(\"'\")+1 :]\n",
    "    except:\n",
    "        Str = Str[:Str.index('\"') + 1] +'#' + Str[Str.index('\"')+1 :]\n",
    "    if Str[0] == ' ':\n",
    "        Str = Str[1:]\n",
    "    content[i] = Str\n",
    "    \n",
    "pyperclip.copy(''.join(content))\n"
   ]
  },
  {
   "cell_type": "code",
   "execution_count": null,
   "metadata": {},
   "outputs": [],
   "source": []
  }
 ],
 "metadata": {
  "kernelspec": {
   "display_name": "Python 3",
   "language": "python",
   "name": "python3"
  },
  "language_info": {
   "codemirror_mode": {
    "name": "ipython",
    "version": 3
   },
   "file_extension": ".py",
   "mimetype": "text/x-python",
   "name": "python",
   "nbconvert_exporter": "python",
   "pygments_lexer": "ipython3",
   "version": "3.9.5"
  },
  "orig_nbformat": 4
 },
 "nbformat": 4,
 "nbformat_minor": 2
}
