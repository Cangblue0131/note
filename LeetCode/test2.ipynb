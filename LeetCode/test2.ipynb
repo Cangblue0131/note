{
 "cells": [
  {
   "cell_type": "code",
   "execution_count": null,
   "metadata": {},
   "outputs": [],
   "source": [
    "#https://leetcode.com/problems/max-sum-of-rectangle-no-larger-than-k/"
   ]
  },
  {
   "cell_type": "code",
   "execution_count": 87,
   "metadata": {},
   "outputs": [
    {
     "name": "stdout",
     "output_type": "stream",
     "text": [
      "[[2, 2, -1]]\n",
      "[2]\n",
      "[[2, 2, -1]]\n",
      "[2]\n",
      "[[2, 2, -1]]\n",
      "[-1]\n",
      "[[2, 2, -1]]\n",
      "[2, 2]\n",
      "[[2, 2, -1]]\n",
      "[2, -1]\n",
      "[[2, 2, -1]]\n",
      "[2, 2, -1]\n",
      "-1\n"
     ]
    }
   ],
   "source": [
    "\n",
    "matrix = [[2,2,-1]]\n",
    "k = 0\n",
    "m = len(matrix)\n",
    "n = len(matrix[0])\n",
    "Sum = -999\n",
    "\n",
    "\n",
    "#def F(Matrix,i,j,Sum,k):\n",
    "\n",
    "\n",
    "H = 1\n",
    "W = 1\n",
    "while H <= m:\n",
    "    for i in (range(m - H + 1)): #左上角位置m\n",
    "        for j in (range(n - W + 1)): #左上角位置n\n",
    "            Mat = matrix[i : i + H]\n",
    "            S = 0\n",
    "            print(Mat)\n",
    "            for M in Mat:\n",
    "                print(M[j : j + W])\n",
    "                S += sum(M[j : j + W])\n",
    "            if Sum < S and S <= k:\n",
    "                Sum = S\n",
    "    W += 1\n",
    "    if W > n :\n",
    "        W = 1\n",
    "        H += 1\n",
    "    \n",
    "print(Sum)\n",
    "\n"
   ]
  },
  {
   "cell_type": "code",
   "execution_count": 181,
   "metadata": {},
   "outputs": [
    {
     "name": "stdout",
     "output_type": "stream",
     "text": [
      "-1\n"
     ]
    }
   ],
   "source": [
    "import numpy as np\n",
    "\n",
    "#matrix = np.array([[i,i+1,i+2,i+3] for i in range(5)])\n",
    "#k = 3\n",
    "matrix = np.array([[2,2,-1]])\n",
    "k = 0\n",
    "\n",
    "m = len(matrix)\n",
    "n = len(matrix[0])\n",
    "Sum = float('-inf')\n",
    "\n",
    "def sum_matrix(matrix,k):\n",
    "    LM = len(matrix)\n",
    "    S = np.zeros((LM - k + 1, len(matrix[0])), dtype = 'int')\n",
    "    for i in range(k):\n",
    "        S += matrix[ i : ( len(matrix) - k + 1 + i)]\n",
    "    return S\n",
    "\n",
    "for i in range(m):\n",
    "    for j in range(n):\n",
    "        new_matrix = sum_matrix(sum_matrix(matrix,i+1).T,j+1)\n",
    "        ind = (new_matrix <= k)\n",
    "        \n",
    "        if np.sum(ind) > 0:\n",
    "            max_S = np.max(new_matrix[new_matrix <= k])\n",
    "            if Sum < max_S :\n",
    "                Sum = max_S\n",
    "\n",
    "print(Sum)\n",
    "\n",
    "\n",
    "\n"
   ]
  },
  {
   "cell_type": "code",
   "execution_count": 219,
   "metadata": {},
   "outputs": [
    {
     "name": "stdout",
     "output_type": "stream",
     "text": [
      "-1\n"
     ]
    }
   ],
   "source": [
    "import numpy as np\n",
    "\n",
    "#matrix = np.array([[i,i+1,i+2,i+3] for i in range(5)])\n",
    "#k = 3\n",
    "matrix = np.array([[2,2,-1]])\n",
    "k = 0\n",
    "\n",
    "\n",
    "\n",
    "m = len(matrix)\n",
    "n = len(matrix[0])\n",
    "Sum = float('-inf')\n",
    "\n",
    "\n",
    "matrix_i = np.zeros((n, m+1), dtype = 'int')\n",
    "for i in range(m):\n",
    "    New_h = (len(matrix_i.T)-1)\n",
    "    matrix_i = (matrix_i.T[ : New_h] + matrix[i:]).T\n",
    "    matrix_j = np.zeros(( n+1 , New_h), dtype = 'int')\n",
    "    for j in range(n):\n",
    "        matrix_j = (matrix_j[ : (len(matrix_j)-1)] + matrix_i[ j: ])\n",
    "        ind = (matrix_j <= k)\n",
    "        \n",
    "        if np.sum(ind) > 0:\n",
    "            max_S = np.max(matrix_j[matrix_j <= k])\n",
    "            if Sum < max_S :\n",
    "                Sum = max_S\n",
    "\n",
    "print(Sum)\n",
    "\n",
    "\n",
    "\n"
   ]
  }
 ],
 "metadata": {
  "kernelspec": {
   "display_name": "Python 3.9.5 64-bit",
   "language": "python",
   "name": "python3"
  },
  "language_info": {
   "codemirror_mode": {
    "name": "ipython",
    "version": 3
   },
   "file_extension": ".py",
   "mimetype": "text/x-python",
   "name": "python",
   "nbconvert_exporter": "python",
   "pygments_lexer": "ipython3",
   "version": "3.9.5"
  },
  "orig_nbformat": 4,
  "vscode": {
   "interpreter": {
    "hash": "4206480afc6f8f20a91f9b30d4e9d2907612993729e8a589e2c16a111e42b69c"
   }
  }
 },
 "nbformat": 4,
 "nbformat_minor": 2
}
