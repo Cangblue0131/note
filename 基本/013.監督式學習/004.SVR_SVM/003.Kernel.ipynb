{
 "cells": [
  {
   "attachments": {},
   "cell_type": "markdown",
   "metadata": {},
   "source": [
    "# 核函數(kernel function)\n",
    "\n",
    "<font size = 5>簡述 : 核函數是用來將輸入空間映射到高維特徵空間。</font>\n",
    "\n",
    "\n",
    "如下圖, 無法在原始空間(Rd)中適當的找到一個線性分類器將兩類區隔開，這時後此需要找到一個非線性投影($\\varphi$)將資料進行轉換到更高維度的空間，此時在高維度的空間中只需要一個線性分類器(hyperplane)就可以完美分類。映射後的高維度空間稱為 Hilbert space(H)。\n",
    "\n",
    "但我們又很難直接去設計一個好的非線性投影($\\varphi$)公式，因此需要kernel函數來輔助。\n",
    "\n",
    "<img src=\"https://imgur.com/HQzA81k.png\" width=\"50%\" height=\"50%\">\n",
    "\n",
    "[圖片來源](https://ithelp.ithome.com.tw/articles/10216802)\n",
    "\n",
    "[參考資料1 : 機器學習: Kernel 函數](https://chih-sheng-huang821.medium.com/%E6%A9%9F%E5%99%A8%E5%AD%B8%E7%BF%92-kernel-%E5%87%BD%E6%95%B8-47c94095171)\n",
    "\n",
    "[參考資料2 : 核方法(Kernel Methods)與支持向量機-ML簡史](https://ithelp.ithome.com.tw/articles/10216802)\n",
    "\n",
    "[參考資料3 : 机器学习有很多关于核函数的说法，核函数的定义和作用是什么？](https://www.zhihu.com/question/24627666)"
   ]
  },
  {
   "attachments": {},
   "cell_type": "markdown",
   "metadata": {},
   "source": [
    "### Kernel函數定義:\n",
    "\n",
    "只要對所有的資料，有一個函數可以滿足\n",
    "$k(x,y)=⟨\\phi(x),\\phi(y)⟩$，\n",
    "這個$k(x,y)$就是一個 kernel 函數，其中$⟨a, b⟩$表示向量a和b做內積。\n",
    "\n",
    "定理(Mercer’s theorem) : 如果有一個函數($\\varphi$)存在，這個k必需滿足Mercer’s condition，k就是kernel函數。\n",
    "*   理論上，一個Kernel matrix(K, Gram matrix)是半正定矩陣(positive semi-definite)，這個k就是kernel function。\n",
    "*   簡化說就是如果所有的資料帶到這個kernel function中的和必須大於等於0：$\\sum\\sum k(x_i,x_j) \\geq 0$，k就滿足Mercer’s condition。"
   ]
  },
  {
   "attachments": {},
   "cell_type": "markdown",
   "metadata": {},
   "source": [
    "較常使用的 Kernel function\n",
    "1.  Linear Kernel : $k(x,y) = <x,y>$\n",
    "2.  Polynomial kernel : $k(x,y) = (<x,y> + c)^d$, $d$ 為整數\n",
    "3.  Gaussian Radial Basis Function kernel (RBF) : $k(x,y) = e^{-\\frac{||x-y||^2}{2\\sigma^2}}$"
   ]
  },
  {
   "cell_type": "code",
   "execution_count": null,
   "metadata": {},
   "outputs": [],
   "source": []
  }
 ],
 "metadata": {
  "kernelspec": {
   "display_name": "Python 3",
   "language": "python",
   "name": "python3"
  },
  "language_info": {
   "name": "python",
   "version": "3.9.5"
  },
  "orig_nbformat": 4,
  "vscode": {
   "interpreter": {
    "hash": "4206480afc6f8f20a91f9b30d4e9d2907612993729e8a589e2c16a111e42b69c"
   }
  }
 },
 "nbformat": 4,
 "nbformat_minor": 2
}
