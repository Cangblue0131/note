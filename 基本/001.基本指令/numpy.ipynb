{
 "cells": [
  {
   "cell_type": "markdown",
   "metadata": {},
   "source": [
    "## numpy"
   ]
  },
  {
   "cell_type": "markdown",
   "metadata": {},
   "source": [
    "#### 合併array\n",
    "* np.r_ : 按列連接兩個矩陣,類似pandas中的concat()\n",
    "* np.c_ : 按行連接兩個矩陣,類似pandas中的merge()"
   ]
  },
  {
   "cell_type": "code",
   "execution_count": 15,
   "metadata": {},
   "outputs": [
    {
     "name": "stdout",
     "output_type": "stream",
     "text": [
      "np.r_[[1 2 3],[4 5 6]] : \n",
      "[1 2 3 4 5 6]\n",
      "\n",
      "\n",
      "np.c_[[1 2 3],[4 5 6]] : \n",
      "[[1 4]\n",
      " [2 5]\n",
      " [3 6]]\n",
      "\n",
      "\n",
      "np.c_[np.c_[[1 2 3],[4 5 6]],[1 2 3]] : \n",
      "[[1 4 1]\n",
      " [2 5 2]\n",
      " [3 6 3]]\n"
     ]
    }
   ],
   "source": [
    "import numpy as np\n",
    "a = np.array([1,2,3])\n",
    "b = np.array([4,5,6])\n",
    "c = np.c_[a,b]\n",
    "\n",
    "print(\"np.r_[%s,%s] : \" %(a,b))\n",
    "print(np.r_[a,b])\n",
    "print('\\n')\n",
    "print(\"np.c_[%s,%s] : \" %(a,b))\n",
    "print(c)\n",
    "print('\\n')\n",
    "print(\"np.c_[np.c_[%s,%s],%s] : \" %(a,b,a))\n",
    "print(np.c_[c,a])"
   ]
  },
  {
   "cell_type": "markdown",
   "metadata": {},
   "source": [
    "#### 矩陣乘法\n",
    "*   A.dot(B)"
   ]
  },
  {
   "cell_type": "code",
   "execution_count": 12,
   "metadata": {},
   "outputs": [
    {
     "name": "stdout",
     "output_type": "stream",
     "text": [
      "A = \n",
      " [[1]\n",
      " [2]\n",
      " [3]]\n",
      "B = \n",
      " [[1 2 3]]\n",
      "A.dot(B) = \n",
      " [[1 2 3]\n",
      " [2 4 6]\n",
      " [3 6 9]]\n"
     ]
    }
   ],
   "source": [
    "import numpy as np\n",
    "A = np.array([[1],[2],[3]])\n",
    "print(\"A = \\n\", A)\n",
    "B = np.array([[1,2,3]])\n",
    "print(\"B = \\n\", B)\n",
    "print(\"A.dot(B) = \\n\", A.dot(B))"
   ]
  },
  {
   "cell_type": "markdown",
   "metadata": {},
   "source": [
    "#### 維度變換\n",
    "\n",
    "*   np.reshape(array, (i,j)) : 分成i列j行"
   ]
  },
  {
   "cell_type": "code",
   "execution_count": 5,
   "metadata": {},
   "outputs": [
    {
     "data": {
      "text/plain": [
       "array([[ 0,  1,  2,  3,  4],\n",
       "       [ 5,  6,  7,  8,  9],\n",
       "       [10, 11, 12, 13, 14]])"
      ]
     },
     "execution_count": 5,
     "metadata": {},
     "output_type": "execute_result"
    }
   ],
   "source": [
    "import numpy as np\n",
    "np.reshape(np.arange(15),(3,5))"
   ]
  },
  {
   "cell_type": "markdown",
   "metadata": {},
   "source": [
    "#### 增加維度\n",
    "*   np.newaxis : 放入[ , ]中，增加那個row或col的維度"
   ]
  },
  {
   "cell_type": "code",
   "execution_count": 7,
   "metadata": {},
   "outputs": [
    {
     "name": "stdout",
     "output_type": "stream",
     "text": [
      "[1 2 3 4]\n",
      "A[np.newaxis,:] 增加列的維度(0->1) \n",
      " [[1 2 3 4]]\n",
      "A.shape =  (1, 4)\n",
      "A[:,np.newaxis] 增加行的維度(0->1) \n",
      " [[1]\n",
      " [2]\n",
      " [3]\n",
      " [4]]\n",
      "A.shape =  (4, 1)\n"
     ]
    }
   ],
   "source": [
    "import numpy as np\n",
    "A = np.array([1,2,3,4])\n",
    "print(A)\n",
    "print(\"A[np.newaxis,:] 增加列的維度(0->1) \\n\" ,A[np.newaxis,:])\n",
    "print(\"A.shape = \" ,A[np.newaxis,:].shape)\n",
    "print(\"A[:,np.newaxis] 增加行的維度(0->1) \\n\" ,A[:,np.newaxis])\n",
    "print(\"A.shape = \" ,A[:,np.newaxis].shape)\n"
   ]
  },
  {
   "cell_type": "markdown",
   "metadata": {},
   "source": [
    "### np.set_printoptions( 列印選項 )\n",
    "[參考資料1](https://www.brilliantcode.net/1045/numpy-tutorial-how-to-print-array/)\\\n",
    "[參考資料2](https://numpy.org/doc/stable/reference/generated/numpy.set_printoptions.html)\n",
    "\n",
    "\n",
    "Parameters\n",
    "*   threshold : 元素門檻值 (default 1000)\n",
    "*   precision : 浮點數列印精度 (default 8)\n",
    "*   edgeitems : 省略列印內容時要顯示的元素數量 (default 3)\n",
    "*   linewidth : 每一行要印出幾個字元 (default 75)\n",
    "*   suppress  : 是否要抑制顯示小數位 (default False)\n",
    "*   nanstr    : 當陣列元素值出現NaN時所顯示的字串 (default nan)\n",
    "*   infstr    : 當陣列元素值出現inf時所顯示的字串 (default inf)\n",
    "*   sign      : 控制正負號  (default ‘-‘)\n",
    "*   formatter={ 使用lambda函數客製列印陣列元素的格式 }\n"
   ]
  },
  {
   "cell_type": "markdown",
   "metadata": {},
   "source": [
    "* np.set_printoptions( threshold=元素門檻值 ) : NumPy預設值是1000。意思是如果陣列元素值沒有超過門檻值的話，NumPy就會讓Python將所有元素列印出來"
   ]
  },
  {
   "cell_type": "code",
   "execution_count": 9,
   "metadata": {},
   "outputs": [
    {
     "name": "stdout",
     "output_type": "stream",
     "text": [
      "NumPy set_printoptions(threshold=20)\n",
      " [ 0  1  2  3  4  5  6  7  8  9 10 11 12 13 14 15 16 17 18 19]\n",
      "\n",
      "NumPy set_printoptions(threshold=15)\n",
      " [ 0  1  2  3  4 ... 15 16 17 18 19]\n"
     ]
    }
   ],
   "source": [
    "import numpy as np\n",
    "np.set_printoptions(precision=None, threshold=None, edgeitems=None, linewidth=None, suppress=None, nanstr=None, infstr=None, formatter=None, sign=None, floatmode=None)  # reset print options\n",
    "np.set_printoptions(threshold=20)\n",
    "print(\"NumPy set_printoptions(threshold=20)\\n\", np.arange(20))\n",
    "print()\n",
    "# 陣列大小:20，門檻值15 => 陣列元素數量大於門檻值，應省略部分內容\n",
    "np.set_printoptions(threshold=15)\n",
    "print(\"NumPy set_printoptions(threshold=15)\\n\", np.arange(20))"
   ]
  },
  {
   "cell_type": "markdown",
   "metadata": {},
   "source": [
    "* np.set_printoptions( precision=浮點數列印精度 ) : 控制陣列內容微幅點數時的列印精度(小數位數)，下列範例看得出來這個方法是會自動四捨五入"
   ]
  },
  {
   "cell_type": "code",
   "execution_count": 8,
   "metadata": {},
   "outputs": [
    {
     "name": "stdout",
     "output_type": "stream",
     "text": [
      "NumPy set_printoptions(precision=1)\n",
      " [3.  3.2 3.4 3.7 3.9 4.1 4.3 4.6 4.8 5. ]\n",
      "\n",
      "NumPy set_printoptions(precision=3)\n",
      " [3.    3.222 3.444 3.667 3.889 4.111 4.333 4.556 4.778 5.   ]\n"
     ]
    }
   ],
   "source": [
    "np.set_printoptions(precision=None, threshold=None, edgeitems=None, linewidth=None, suppress=None, nanstr=None, infstr=None, formatter=None, sign=None, floatmode=None)  # reset print options\n",
    "## precision:控制陣列內容微幅點數時的列印精度(小數位數)\n",
    "np.set_printoptions(precision=1)\n",
    "print(\"NumPy set_printoptions(precision=1)\\n\", np.linspace(3, 5, 10))\n",
    "print()\n",
    "np.set_printoptions(precision=3)\n",
    "print(\"NumPy set_printoptions(precision=3)\\n\", np.linspace(3, 5, 10))"
   ]
  },
  {
   "cell_type": "markdown",
   "metadata": {},
   "source": [
    "* np.set_printoptions( edgeitems=省略列印內容時要顯示的元素數量 )：當列印陣列時需要省略內容，edgeitems會決定要印出來的元素有幾個。"
   ]
  },
  {
   "cell_type": "code",
   "execution_count": 7,
   "metadata": {},
   "outputs": [
    {
     "name": "stdout",
     "output_type": "stream",
     "text": [
      "NumPy set_printoptions(edgeitems=3)\n",
      " [ 0  1  2 ... 12 13 14]\n",
      "\n",
      "NumPy set_printoptions(edgeitems=5)\n",
      " [ 0  1  2  3  4 ... 10 11 12 13 14]\n"
     ]
    }
   ],
   "source": [
    "np.set_printoptions(precision=None, threshold=None, edgeitems=None, linewidth=None, suppress=None, nanstr=None, infstr=None, formatter=None, sign=None, floatmode=None)  # reset print options\n",
    "## edgeitems:當列印陣列時需要省略內容，edgeitems會決定要印出來的元素有幾個\n",
    "np.set_printoptions(threshold=10, edgeitems=3)\n",
    "print(\"NumPy set_printoptions(edgeitems=3)\\n\", np.arange(15))\n",
    "print()\n",
    "np.set_printoptions(threshold=10, edgeitems=5)\n",
    "print(\"NumPy set_printoptions(edgeitems=5)\\n\", np.arange(15))"
   ]
  },
  {
   "cell_type": "markdown",
   "metadata": {},
   "source": [
    "* np.set_printoptions( linewidth=每一行要印出幾個字元 )：這只是單純決定列印陣列時每一行字的字元數上限，並不影響列印其他內容的每一行字元數上限"
   ]
  },
  {
   "cell_type": "code",
   "execution_count": 10,
   "metadata": {},
   "outputs": [
    {
     "name": "stdout",
     "output_type": "stream",
     "text": [
      "NumPy set_printoptions(linewidth=10)\n",
      " [ 0  1  2\n",
      "  3  4  5\n",
      "  6  7  8\n",
      "  9 10 11\n",
      " 12 13 14]\n",
      "\n",
      "NumPy set_printoptions(linewidth=25)\n",
      " [ 0  1  2  3  4  5\n",
      "  6  7  8  9 10 11\n",
      " 12 13 14]\n"
     ]
    }
   ],
   "source": [
    "np.set_printoptions(precision=None, threshold=None, edgeitems=None, linewidth=None, suppress=None, nanstr=None, infstr=None, formatter=None, sign=None, floatmode=None)  # reset print options\n",
    "## linewidth\n",
    "np.set_printoptions(linewidth=10)\n",
    "print(\"NumPy set_printoptions(linewidth=10)\\n\", np.arange(15))\n",
    "print()\n",
    "np.set_printoptions(linewidth=20)\n",
    "print(\"NumPy set_printoptions(linewidth=25)\\n\", np.arange(15))"
   ]
  },
  {
   "cell_type": "markdown",
   "metadata": {},
   "source": [
    "* np.set_printoptions( suppress=是否要抑制顯示小數位 )："
   ]
  },
  {
   "cell_type": "code",
   "execution_count": 11,
   "metadata": {},
   "outputs": [
    {
     "name": "stdout",
     "output_type": "stream",
     "text": [
      "NumPy set_printoptions(suppress=True)\n",
      " [0. 0. 0. 0. 0. ...\n",
      " 1. 1. 1. 1. 1.]\n",
      "\n",
      "NumPy set_printoptions(suppress=False)\n",
      " [0.e+00 1.e-05\n",
      " 2.e-05 3.e-05\n",
      " 4.e-05 ... 1.e+00\n",
      " 1.e+00 1.e+00\n",
      " 1.e+00 1.e+00]\n"
     ]
    }
   ],
   "source": [
    "np.set_printoptions(precision=None, threshold=None, edgeitems=None, linewidth=None, suppress=None, nanstr=None, infstr=None, formatter=None, sign=None, floatmode=None)  # reset print options\n",
    "# suppress\n",
    "np.set_printoptions(suppress=True)\n",
    "print(\"NumPy set_printoptions(suppress=True)\\n\", np.arange(0, 1, 0.00001))\n",
    "print()\n",
    "np.set_printoptions(suppress=False)\n",
    "print(\"NumPy set_printoptions(suppress=False)\\n\", np.arange(0, 1, 0.00001))"
   ]
  },
  {
   "cell_type": "markdown",
   "metadata": {},
   "source": [
    "* np.set_printoptions( nanstr=當陣列元素值出現NaN時所顯示的字串 )：當陣列元素值出現not-a-number時要顯示的內容為何。"
   ]
  },
  {
   "cell_type": "code",
   "execution_count": 12,
   "metadata": {},
   "outputs": [
    {
     "name": "stdout",
     "output_type": "stream",
     "text": [
      "NumPy set_printoptions(nanstr=\"Oops!\")\n",
      " [Oops!    1. Oops!]\n"
     ]
    }
   ],
   "source": [
    "np.set_printoptions(precision=None, threshold=None, edgeitems=None, linewidth=None, suppress=None, nanstr=None, infstr=None, formatter=None, sign=None, floatmode=None)  # reset print options\n",
    "## nanstr\n",
    "# 當陣列元素值出現not-a-number時要顯示的內容為何\n",
    "np.set_printoptions(nanstr=\"Oops!\")\n",
    "a = np.array([np.nan, 1, np.nan], dtype=np.float16)\n",
    "print(\"NumPy set_printoptions(nanstr=\\\"Oops!\\\")\\n\", a)"
   ]
  },
  {
   "cell_type": "markdown",
   "metadata": {},
   "source": [
    "* np.set_printoptions( infstr=當陣列元素值出現inf時所顯示的字串 )：當陣列元素值出現inf(無限大)時要顯示的內容為何。"
   ]
  },
  {
   "cell_type": "code",
   "execution_count": 13,
   "metadata": {},
   "outputs": [
    {
     "name": "stdout",
     "output_type": "stream",
     "text": [
      "NumPy set_printoptions(infstr=\"∞\")\n",
      " [    ∞    8.    -∞]\n"
     ]
    }
   ],
   "source": [
    "np.set_printoptions(precision=None, threshold=None, edgeitems=None, linewidth=None, suppress=None, nanstr=None, infstr=None, formatter=None, sign=None, floatmode=None)  # reset print options\n",
    "## infstr\n",
    "# 當陣列元素值出現inf(無限大)時要顯示的內容為何\n",
    "np.set_printoptions(infstr=\"∞\")\n",
    "a = np.array([np.inf, 8, -np.inf])\n",
    "print(\"NumPy set_printoptions(infstr=\\\"∞\\\")\\n\", a)"
   ]
  },
  {
   "cell_type": "markdown",
   "metadata": {},
   "source": [
    "* np.set_printoptions( sign=控制正負號 )：當sign=’+’時，就會連正數都會加上正號；當sign=’-‘時(預設值)，就是只有數值<0時，才會加上負號"
   ]
  },
  {
   "cell_type": "code",
   "execution_count": 14,
   "metadata": {},
   "outputs": [
    {
     "name": "stdout",
     "output_type": "stream",
     "text": [
      "NumPy set_printoptions(sign=\"+\")\n",
      " [+9. +8. -6. -7.]\n",
      "\n",
      "NumPy set_printoptions(sign=\"-\")\n",
      " [ 9.  8. -6. -7.]\n"
     ]
    }
   ],
   "source": [
    "np.set_printoptions(precision=None, threshold=None, edgeitems=None, linewidth=None, suppress=None, nanstr=None, infstr=None, formatter=None, sign=None, floatmode=None)  # reset print options\n",
    "## sign\n",
    "# 當sign='+'時，就會連正數都會加上正號\n",
    "np.set_printoptions(sign='+')\n",
    "a = np.array([9, 8, -6, -7], dtype=np.float16)\n",
    "print(\"NumPy set_printoptions(sign=\\\"+\\\")\\n\", a)\n",
    "print()\n",
    "# 當sign='-'時(預設值)，就是只有數值<0時，才會加上負號\n",
    "np.set_printoptions(sign='-')\n",
    "a = np.array([9, 8, -6, -7], dtype=np.float16)\n",
    "print(\"NumPy set_printoptions(sign=\\\"-\\\")\\n\", a)"
   ]
  },
  {
   "cell_type": "markdown",
   "metadata": {},
   "source": [
    "* np.set_printoptions( formatter={ 使用lambda函數客製列印陣列元素的格式 } )：元素內容格式也能客製，甚至能在列印時改變數值\\\n",
    "型別關鍵字\n",
    "    - all：各種型別都套用格式\n",
    "    - float_kind：只套用floatxx\n",
    "    - int_kind：只套用intxx\n",
    "    - str_kind：只套用字串\\\n",
    "\n",
    "參考 : https://numpy.org/doc/stable/reference/generated/numpy.set_printoptions.html"
   ]
  },
  {
   "cell_type": "code",
   "execution_count": 24,
   "metadata": {},
   "outputs": [
    {
     "name": "stdout",
     "output_type": "stream",
     "text": [
      "NumPy set_printoptions(formatter={all: i:})\n",
      " [i:0 i:1 i:2 i:3\n",
      " i:4]\n",
      "\n",
      "NumPy set_printoptions(formatter={float_kind: f:})\n",
      " [0 1 2 3 4]\n",
      "NumPy set_printoptions(formatter={float_kind: f:})\n",
      " [f:0.0 f:1.0 f:2.0\n",
      " f:3.0 f:4.0]\n",
      "\n",
      "NumPy set_printoptions({int_kind: i:, float_kind: f:})\n",
      " [i:0 i:1 i:2 i:3\n",
      " i:4]\n",
      "NumPy set_printoptions({int_kind: i:, float_kind: f:})\n",
      " [f:0.0 f:1.0 f:2.0\n",
      " f:3.0 f:4.0]\n"
     ]
    }
   ],
   "source": [
    "np.set_printoptions(precision=None, threshold=None, edgeitems=None, linewidth=None, suppress=None, nanstr=None, infstr=None, formatter=None, sign=None, floatmode=None)  # reset print options\n",
    "## formatter\n",
    "# 使用lambda函數客製列印陣列元素的格式\n",
    "np.set_printoptions()  # reset print options\n",
    "np.set_printoptions(formatter={'all': lambda x: 'i:' + str(x)})\n",
    "print(\"NumPy set_printoptions(formatter={all: i:})\\n\", np.arange(0,5))\n",
    "print()\n",
    "# 這邊可以看出來，只設定了float的格式，是不會對int產生影響的\n",
    "np.set_printoptions(formatter={'float_kind': lambda x: 'f:' + str(x)})\n",
    "print(\"NumPy set_printoptions(formatter={float_kind: f:})\\n\", np.arange(0,5))\n",
    "print(\"NumPy set_printoptions(formatter={float_kind: f:})\\n\", np.arange(0,5, dtype=np.float16))\n",
    "print()\n",
    "# 如果同時只想要客製float和int的格式，可以用逗號隔開設定值\n",
    "np.set_printoptions(formatter={'int_kind': lambda x: 'i:' + str(x), 'float_kind': lambda x: 'f:' + str(x)})\n",
    "print(\"NumPy set_printoptions({int_kind: i:, float_kind: f:})\\n\", np.arange(0,5))\n",
    "print(\"NumPy set_printoptions({int_kind: i:, float_kind: f:})\\n\", np.arange(0,5, dtype=np.float16))"
   ]
  }
 ],
 "metadata": {
  "kernelspec": {
   "display_name": "Python 3.9.5 64-bit",
   "language": "python",
   "name": "python3"
  },
  "language_info": {
   "codemirror_mode": {
    "name": "ipython",
    "version": 3
   },
   "file_extension": ".py",
   "mimetype": "text/x-python",
   "name": "python",
   "nbconvert_exporter": "python",
   "pygments_lexer": "ipython3",
   "version": "3.9.5"
  },
  "orig_nbformat": 4,
  "vscode": {
   "interpreter": {
    "hash": "4206480afc6f8f20a91f9b30d4e9d2907612993729e8a589e2c16a111e42b69c"
   }
  }
 },
 "nbformat": 4,
 "nbformat_minor": 2
}
