{
 "cells": [
  {
   "cell_type": "markdown",
   "metadata": {},
   "source": [
    "## Pandas\n",
    "import pandas as pd\n",
    "\n"
   ]
  },
  {
   "cell_type": "markdown",
   "metadata": {},
   "source": [
    "### 建立Data frame\n",
    "\n",
    "*   pd.DataFrame(字典或陣列資料) #建造data frame"
   ]
  },
  {
   "cell_type": "code",
   "execution_count": 1,
   "metadata": {},
   "outputs": [
    {
     "name": "stdout",
     "output_type": "stream",
     "text": [
      "使用字典來建立df：\n",
      "     name  math  chinese\n",
      "0    Mike    80       63\n",
      "1  Sherry    75       90\n",
      "2   Cindy    93       85\n",
      "3    John    86       70\n",
      "=====================\n",
      "使用陣列來建立df：\n",
      "        0   1   2\n",
      "0    Mike  80  63\n",
      "1  Sherry  75  90\n",
      "2   Cindy  93  85\n",
      "3    John  86  70\n"
     ]
    }
   ],
   "source": [
    "import pandas as pd\n",
    " \n",
    " \n",
    "grades = {\n",
    "    \"name\": [\"Mike\", \"Sherry\", \"Cindy\", \"John\"],\n",
    "    \"math\": [80, 75, 93, 86],\n",
    "    \"chinese\": [63, 90, 85, 70]\n",
    "}\n",
    " \n",
    "df = pd.DataFrame(grades)\n",
    " \n",
    "print(\"使用字典來建立df：\")\n",
    "print(df)\n",
    " \n",
    "print(\"=====================\")\n",
    " \n",
    "grades = [\n",
    "    [\"Mike\", 80, 63],\n",
    "    [\"Sherry\", 75, 90],\n",
    "    [\"Cindy\", 93, 85],\n",
    "    [\"John\", 86, 70]\n",
    "]\n",
    " \n",
    "new_df = pd.DataFrame(grades)\n",
    " \n",
    "print(\"使用陣列來建立df：\")\n",
    "print(new_df)"
   ]
  },
  {
   "cell_type": "markdown",
   "metadata": {},
   "source": [
    "### 更改 col 和 row names\n",
    "\n",
    "*   .index = [rownames]  #更改rownames\n",
    "*   .columns = [colnames]  #更改colnames\n"
   ]
  },
  {
   "cell_type": "code",
   "execution_count": 2,
   "metadata": {},
   "outputs": [
    {
     "name": "stdout",
     "output_type": "stream",
     "text": [
      "   student_name  math_score  chinese_score\n",
      "s1         Mike          80             63\n",
      "s2       Sherry          75             90\n",
      "s3        Cindy          93             85\n",
      "s4         John          86             70\n"
     ]
    }
   ],
   "source": [
    "import pandas as pd\n",
    " \n",
    " \n",
    "grades = {\n",
    "    \"name\": [\"Mike\", \"Sherry\", \"Cindy\", \"John\"],\n",
    "    \"math\": [80, 75, 93, 86],\n",
    "    \"chinese\": [63, 90, 85, 70]\n",
    "}\n",
    " \n",
    "df = pd.DataFrame(grades)\n",
    "df.index = [\"s1\", \"s2\", \"s3\", \"s4\"]  #自訂索引值\n",
    "df.columns = [\"student_name\", \"math_score\", \"chinese_score\"]  #自訂欄位名稱\n",
    "print(df)"
   ]
  },
  {
   "cell_type": "markdown",
   "metadata": {},
   "source": [
    "### 合併數據\n",
    "[參考資料](http://violin-tao.blogspot.com/2017/06/pandas-2-concat-merge.html)\n",
    "1.  pd.concat([df1,df2,...],Parameters) : \n",
    "    *   axis : = 0 為直向合併(列合併) ; = 1 為橫向合併(行合併) 。 default 0\n",
    "    *   ignore_index : = True 可以忽略合併時舊的 index 欄位，改採用自動產生的 index (不管之前如何，都改成0,1,2,...) 。default False\n",
    "    *   join : 'inner', 'outer' 。\n",
    "        *   join 模式是 'outer'，會直接把沒有的資料用 NaN 代替\n",
    "        *   join 模式為 'inner'，會直接把沒有完整資料的刪除掉\n",
    "        *   default 'outer'\n",
    "\n",
    "2.  pd.append([df1,df2,...],Parameters) : \n",
    "\n",
    "3.  pd.merge(df1,df2, on = 'key',Parameters):\n",
    "    *   how : 'inner','outer',選擇df \n",
    "        *   inner 和 outer 跟 concat 的效果一樣\n",
    "        *   選擇 df1 或 df2 ，則在多重合併時會依照那個 df 的 key 去合併\n",
    "\n",
    "    [待補](http://violin-tao.blogspot.com/2017/06/pandas-2-concat-merge.html)"
   ]
  },
  {
   "cell_type": "markdown",
   "metadata": {},
   "source": [
    "##### pd.concat"
   ]
  },
  {
   "cell_type": "code",
   "execution_count": 17,
   "metadata": {},
   "outputs": [
    {
     "name": "stdout",
     "output_type": "stream",
     "text": [
      "df1:\n",
      "   name  math  chinese\n",
      "s1    A    80       63\n",
      "s2    B    86       70\n",
      "df2:\n",
      "   name  math  chinese\n",
      "s2    A    50       23\n",
      "s3    B    30       60\n",
      "\n",
      "pd.concat([df1,df2], axis = 0):\n",
      "   name  math  chinese\n",
      "s1    A    80       63\n",
      "s2    B    86       70\n",
      "s2    A    50       23\n",
      "s3    B    30       60\n",
      "\n",
      "pd.concat([df1,df2], axis = 1):\n",
      "   name  math  chinese name  math  chinese\n",
      "s1    A  80.0     63.0  NaN   NaN      NaN\n",
      "s2    B  86.0     70.0    A  50.0     23.0\n",
      "s3  NaN   NaN      NaN    B  30.0     60.0\n"
     ]
    }
   ],
   "source": [
    "import pandas as pd\n",
    "\n",
    "grades = {\n",
    "    \"name\": [\"A\", \"B\"],\n",
    "    \"math\": [80, 86],\n",
    "    \"chinese\": [63, 70]\n",
    "}\n",
    " \n",
    "df1 = pd.DataFrame(grades)\n",
    "df1.index = [\"s1\", \"s2\"]  #自訂索引值\n",
    "\n",
    "print(\"df1:\" )\n",
    "print(df1)\n",
    "\n",
    "grades = {\n",
    "    \"name\": [\"A\", \"B\"],\n",
    "    \"math\": [50, 30],\n",
    "    \"chinese\": [23, 60]\n",
    "}\n",
    " \n",
    "df2 = pd.DataFrame(grades)\n",
    "df2.index = [\"s2\", \"s3\"]  #自訂索引值\n",
    "\n",
    "print(\"df2:\" )\n",
    "print(df2)\n",
    "\n",
    "print()\n",
    "print(\"pd.concat([df1,df2], axis = 0):\")\n",
    "print(pd.concat([df1,df2], axis = 0))\n",
    "\n",
    "print()\n",
    "print(\"pd.concat([df1,df2], axis = 1):\")\n",
    "print(pd.concat([df1,df2], axis = 1))\n"
   ]
  },
  {
   "cell_type": "markdown",
   "metadata": {},
   "source": [
    "##### pd.append"
   ]
  },
  {
   "cell_type": "code",
   "execution_count": 20,
   "metadata": {},
   "outputs": [
    {
     "name": "stdout",
     "output_type": "stream",
     "text": [
      "append 預設是往下加\n",
      "     a    b    c    d\n",
      "0  0.0  0.0  0.0  0.0\n",
      "1  0.0  0.0  0.0  0.0\n",
      "2  0.0  0.0  0.0  0.0\n",
      "3  1.0  1.0  1.0  1.0\n",
      "4  1.0  1.0  1.0  1.0\n",
      "5  1.0  1.0  1.0  1.0\n",
      "append 多個\n",
      "     a    b    c    d\n",
      "0  0.0  0.0  0.0  0.0\n",
      "1  0.0  0.0  0.0  0.0\n",
      "2  0.0  0.0  0.0  0.0\n",
      "3  1.0  1.0  1.0  1.0\n",
      "4  1.0  1.0  1.0  1.0\n",
      "5  1.0  1.0  1.0  1.0\n",
      "6  3.0  3.0  3.0  3.0\n",
      "7  3.0  3.0  3.0  3.0\n",
      "8  3.0  3.0  3.0  3.0\n",
      "直接 append 一組資料\n",
      "     a    b    c    d\n",
      "0  0.0  0.0  0.0  0.0\n",
      "1  0.0  0.0  0.0  0.0\n",
      "2  0.0  0.0  0.0  0.0\n",
      "3  1.0  2.0  3.0  4.0\n"
     ]
    },
    {
     "name": "stderr",
     "output_type": "stream",
     "text": [
      "C:\\Users\\bluesky\\AppData\\Local\\Temp\\ipykernel_11800\\1498882070.py:11: FutureWarning: The frame.append method is deprecated and will be removed from pandas in a future version. Use pandas.concat instead.\n",
      "  res = df1.append(df2, ignore_index=True)\n",
      "C:\\Users\\bluesky\\AppData\\Local\\Temp\\ipykernel_11800\\1498882070.py:17: FutureWarning: The frame.append method is deprecated and will be removed from pandas in a future version. Use pandas.concat instead.\n",
      "  res = df1.append([df2,df3], ignore_index=True)\n",
      "C:\\Users\\bluesky\\AppData\\Local\\Temp\\ipykernel_11800\\1498882070.py:23: FutureWarning: The frame.append method is deprecated and will be removed from pandas in a future version. Use pandas.concat instead.\n",
      "  res = df1.append(s1, ignore_index=True)\n"
     ]
    }
   ],
   "source": [
    "#coding=utf-8\n",
    "import pandas as pd \n",
    "import numpy as np \n",
    "\n",
    "# concat 的 append 功能\n",
    "df1 = pd.DataFrame(np.ones((3,4))*0, columns=['a','b','c','d'])\n",
    "df2 = pd.DataFrame(np.ones((3,4))*1, columns=['a','b','c','d'])\n",
    "\n",
    "# append 預設是往下加\n",
    "print(\"append 預設是往下加\")\n",
    "res = df1.append(df2, ignore_index=True)\n",
    "print(res)\n",
    "\n",
    "# append 多個\n",
    "print(\"append 多個\")\n",
    "df3 = pd.DataFrame(np.ones((3,4))*3, columns=['a','b','c','d'])\n",
    "res = df1.append([df2,df3], ignore_index=True)\n",
    "print(res)\n",
    "\n",
    "# 直接 append 一組資料\n",
    "print(\"直接 append 一組資料\")\n",
    "s1 = pd.Series([1,2,3,4],index=['a','b','c','d'])\n",
    "res = df1.append(s1, ignore_index=True)\n",
    "print(res)\n"
   ]
  },
  {
   "cell_type": "markdown",
   "metadata": {},
   "source": [
    "##### pd.merge\n"
   ]
  },
  {
   "cell_type": "markdown",
   "metadata": {},
   "source": [
    "*   merge by 一個 key"
   ]
  },
  {
   "cell_type": "code",
   "execution_count": 21,
   "metadata": {},
   "outputs": [
    {
     "name": "stdout",
     "output_type": "stream",
     "text": [
      "  key   A   B   C   D\n",
      "0  K0  A0  B0  C0  D0\n",
      "1  K1  A1  B1  C1  D1\n",
      "2  K2  A2  B2  C2  D2\n",
      "3  K3  A3  B3  C3  D3\n"
     ]
    }
   ],
   "source": [
    "import pandas as pd \n",
    "import numpy as np \n",
    "\n",
    "left = pd.DataFrame({\n",
    "    'key':['K0','K1','K2','K3'],\n",
    "    'A':['A0','A1','A2','A3'],\n",
    "    'B':['B0','B1','B2','B3']})\n",
    "\n",
    "right = pd.DataFrame({\n",
    "    'key':['K0','K1','K2','K3'],\n",
    "    'C':['C0','C1','C2','C3'],\n",
    "    'D':['D0','D1','D2','D3']})\n",
    "\n",
    "res = pd.merge(left,right, on='key')\n",
    "print(res)"
   ]
  },
  {
   "cell_type": "markdown",
   "metadata": {},
   "source": [
    "*   merge by 多個 key"
   ]
  },
  {
   "cell_type": "code",
   "execution_count": 22,
   "metadata": {},
   "outputs": [],
   "source": [
    "import pandas as pd \n",
    "import numpy as np \n",
    "\n",
    "left = pd.DataFrame({\n",
    "    'key1':['K0','K0','K1','K2'],\n",
    "    'key2':['K0','K1','K0','K1'],\n",
    "    'A':['A0','A1','A2','A3'],\n",
    "    'B':['B0','B1','B2','B3']})\n",
    "\n",
    "right = pd.DataFrame({\n",
    "    'key1':['K0','K1','K1','K2'],\n",
    "    'key2':['K0','K0','K0','K0'],\n",
    "    'C':['C0','C1','C2','C3'],\n",
    "    'D':['D0','D1','D2','D3']})"
   ]
  },
  {
   "cell_type": "markdown",
   "metadata": {},
   "source": [
    "1.  inner 模式 : #NaN去掉"
   ]
  },
  {
   "cell_type": "code",
   "execution_count": 23,
   "metadata": {},
   "outputs": [
    {
     "name": "stdout",
     "output_type": "stream",
     "text": [
      "  key1 key2   A   B   C   D\n",
      "0   K0   K0  A0  B0  C0  D0\n",
      "1   K1   K0  A2  B2  C1  D1\n",
      "2   K1   K0  A2  B2  C2  D2\n"
     ]
    }
   ],
   "source": [
    "res = pd.merge(left,right, on=['key1','key2'])           # 這兩行效果一樣\n",
    "res = pd.merge(left,right, on=['key1','key2'],how='inner')  # 這兩行效果一樣\n",
    "print(res)"
   ]
  },
  {
   "cell_type": "markdown",
   "metadata": {},
   "source": [
    "2.  outer 模式 : NaN保留"
   ]
  },
  {
   "cell_type": "code",
   "execution_count": 24,
   "metadata": {},
   "outputs": [
    {
     "name": "stdout",
     "output_type": "stream",
     "text": [
      "  key1 key2    A    B    C    D\n",
      "0   K0   K0   A0   B0   C0   D0\n",
      "1   K0   K1   A1   B1  NaN  NaN\n",
      "2   K1   K0   A2   B2   C1   D1\n",
      "3   K1   K0   A2   B2   C2   D2\n",
      "4   K2   K1   A3   B3  NaN  NaN\n",
      "5   K2   K0  NaN  NaN   C3   D3\n"
     ]
    }
   ],
   "source": [
    "res = pd.merge(left,right, on=['key1','key2'],how='outer')\n",
    "print(res)"
   ]
  },
  {
   "cell_type": "markdown",
   "metadata": {},
   "source": [
    "3.  right 模式 : 依照 right 的 key"
   ]
  },
  {
   "cell_type": "code",
   "execution_count": 26,
   "metadata": {},
   "outputs": [
    {
     "name": "stdout",
     "output_type": "stream",
     "text": [
      "  key1 key2    A    B   C   D\n",
      "0   K0   K0   A0   B0  C0  D0\n",
      "1   K1   K0   A2   B2  C1  D1\n",
      "2   K1   K0   A2   B2  C2  D2\n",
      "3   K2   K0  NaN  NaN  C3  D3\n"
     ]
    }
   ],
   "source": [
    "res = pd.merge(left,right, on=['key1','key2'],how='right') #依照right的格式\n",
    "print(res)"
   ]
  },
  {
   "cell_type": "markdown",
   "metadata": {},
   "source": [
    "4.  left 模式 : 依照 left 的 key"
   ]
  },
  {
   "cell_type": "code",
   "execution_count": 27,
   "metadata": {},
   "outputs": [
    {
     "name": "stdout",
     "output_type": "stream",
     "text": [
      "  key1 key2   A   B    C    D\n",
      "0   K0   K0  A0  B0   C0   D0\n",
      "1   K0   K1  A1  B1  NaN  NaN\n",
      "2   K1   K0  A2  B2   C1   D1\n",
      "3   K1   K0  A2  B2   C2   D2\n",
      "4   K2   K1  A3  B3  NaN  NaN\n"
     ]
    }
   ],
   "source": [
    "res = pd.merge(left,right, on=['key1','key2'],how='left') #依照right的格式\n",
    "print(res)"
   ]
  }
 ],
 "metadata": {
  "kernelspec": {
   "display_name": "Python 3.9.5 64-bit",
   "language": "python",
   "name": "python3"
  },
  "language_info": {
   "codemirror_mode": {
    "name": "ipython",
    "version": 3
   },
   "file_extension": ".py",
   "mimetype": "text/x-python",
   "name": "python",
   "nbconvert_exporter": "python",
   "pygments_lexer": "ipython3",
   "version": "3.9.5"
  },
  "orig_nbformat": 4,
  "vscode": {
   "interpreter": {
    "hash": "4206480afc6f8f20a91f9b30d4e9d2907612993729e8a589e2c16a111e42b69c"
   }
  }
 },
 "nbformat": 4,
 "nbformat_minor": 2
}
