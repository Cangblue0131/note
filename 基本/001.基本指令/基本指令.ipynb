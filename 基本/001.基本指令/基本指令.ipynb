{
 "cells": [
  {
   "cell_type": "markdown",
   "metadata": {},
   "source": [
    "## function"
   ]
  },
  {
   "cell_type": "markdown",
   "metadata": {},
   "source": [
    "#### python 函數的可變參數 *args 和 **kwargs\n",
    "一般函數的參數個數都是固定的，但如果遇到參數數量不固定的狀況，通常會將某些參數填上預設值，在 python function 可以支援兩種可變數量的參數 <font color=red>*args</font> 和 <font color=red>**kwargs</font>。\n",
    "\n",
    "*   *args是可變的positional arguments列表。\n",
    "*   **kwargs是可變的keyword arguments列表。\n",
    "\n",
    "兩個可以同時使用，但在使用時，<font color=red>*args必須在 **kwargs的前面</font>，因為<font color=red>positional arguments有位置順序的對應</font>，必須位於keyword arguments之前。\n",
    "\n",
    "[參考網站](https://blog.maxkit.com.tw/2018/12/python-args-kwargs.html)\n"
   ]
  },
  {
   "cell_type": "markdown",
   "metadata": {},
   "source": [
    "##### *args 範例"
   ]
  },
  {
   "cell_type": "code",
   "execution_count": 1,
   "metadata": {},
   "outputs": [
    {
     "name": "stdout",
     "output_type": "stream",
     "text": [
      "a=1\n",
      "Optional argument: 22\n",
      "Optional argument: 33\n"
     ]
    }
   ],
   "source": [
    "def fun(a, *args):\n",
    "    print(\"a={}\".format(a))\n",
    "    for arg in args:\n",
    "        print('Optional argument: {}'.format( arg ) )\n",
    "\n",
    "fun(1,22,33)"
   ]
  },
  {
   "cell_type": "markdown",
   "metadata": {},
   "source": [
    "##### *args, **kwargs 範例"
   ]
  },
  {
   "cell_type": "code",
   "execution_count": 2,
   "metadata": {},
   "outputs": [
    {
     "name": "stdout",
     "output_type": "stream",
     "text": [
      "a=1\n",
      "Optional argument: 22\n",
      "Optional argument: 33\n",
      "Optional kwargs argument key: k1 value 44\n",
      "Optional kwargs argument key: k2 value 55\n"
     ]
    }
   ],
   "source": [
    "def fun(a, *args, **kwargs):\n",
    "    print(\"a={}\".format(a))\n",
    "    for arg in args:\n",
    "        print('Optional argument: {}'.format( arg ) )\n",
    "\n",
    "    for k, v in kwargs.items():\n",
    "        print('Optional kwargs argument key: {} value {}'.format(k, v))\n",
    "\n",
    "fun(1,22,33, k1=44, k2=55)"
   ]
  },
  {
   "cell_type": "markdown",
   "metadata": {},
   "source": [
    "### 除了在定義函數的部分，在呼叫函數時，也可以使用 *args 及 **kwargs\n",
    "<font color=red>注意第一個例子，若有需輸入的參數沒輸入，會依照*args的順序補上。</font>"
   ]
  },
  {
   "cell_type": "code",
   "execution_count": 3,
   "metadata": {},
   "outputs": [
    {
     "name": "stdout",
     "output_type": "stream",
     "text": [
      "\n",
      "a=1\n",
      "Optional argument: 2\n",
      "Optional argument: 3\n",
      "Optional argument: 4\n",
      "\n",
      "a=1\n",
      "Optional kwargs argument key: k1 value 10\n",
      "Optional kwargs argument key: k2 value 11\n",
      "\n",
      "a=1\n",
      "Optional argument: 1\n",
      "Optional argument: 2\n",
      "Optional argument: 3\n",
      "Optional argument: 4\n",
      "Optional kwargs argument key: k1 value 10\n",
      "Optional kwargs argument key: k2 value 11\n"
     ]
    }
   ],
   "source": [
    "print(\"\")\n",
    "args = [1,2,3,4]\n",
    "fun(*args)\n",
    "\n",
    "print(\"\")\n",
    "kwargs = {'k1':10, 'k2':11}\n",
    "fun(1, **kwargs)\n",
    "\n",
    "print(\"\")\n",
    "fun(1, *args, **kwargs)"
   ]
  },
  {
   "cell_type": "markdown",
   "metadata": {},
   "source": [
    "#### 當然參數名稱可以隨便設,*要記得"
   ]
  },
  {
   "cell_type": "code",
   "execution_count": 9,
   "metadata": {},
   "outputs": [
    {
     "name": "stdout",
     "output_type": "stream",
     "text": [
      "a=1\n",
      "Optional argument: 2\n",
      "Optional argument: 3\n",
      "Optional kwargs argument key: k1 value 4\n",
      "Optional kwargs argument key: k2 value 5\n"
     ]
    }
   ],
   "source": [
    "a = [1,2,3]\n",
    "b = {'k1' : 4,'k2' : 5}\n",
    "fun(*a,**b)"
   ]
  },
  {
   "cell_type": "markdown",
   "metadata": {},
   "source": []
  },
  {
   "cell_type": "markdown",
   "metadata": {},
   "source": []
  },
  {
   "cell_type": "markdown",
   "metadata": {},
   "source": []
  },
  {
   "cell_type": "code",
   "execution_count": null,
   "metadata": {},
   "outputs": [],
   "source": []
  }
 ],
 "metadata": {
  "kernelspec": {
   "display_name": "Python 3.9.5 64-bit",
   "language": "python",
   "name": "python3"
  },
  "language_info": {
   "codemirror_mode": {
    "name": "ipython",
    "version": 3
   },
   "file_extension": ".py",
   "mimetype": "text/x-python",
   "name": "python",
   "nbconvert_exporter": "python",
   "pygments_lexer": "ipython3",
   "version": "3.9.5 (tags/v3.9.5:0a7dcbd, May  3 2021, 17:27:52) [MSC v.1928 64 bit (AMD64)]"
  },
  "orig_nbformat": 4,
  "vscode": {
   "interpreter": {
    "hash": "4206480afc6f8f20a91f9b30d4e9d2907612993729e8a589e2c16a111e42b69c"
   }
  }
 },
 "nbformat": 4,
 "nbformat_minor": 2
}
