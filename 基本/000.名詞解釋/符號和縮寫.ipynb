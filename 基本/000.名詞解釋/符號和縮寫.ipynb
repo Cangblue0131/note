{
 "cells": [
  {
   "cell_type": "markdown",
   "metadata": {},
   "source": [
    "#### 常用符號\n",
    "$\\quad X : 隨機變數 $\n",
    "\n",
    "$\\quad y : 真實值$\n",
    "\n",
    "$\\quad \\hat y : 預測(predict)值$\n",
    "\n",
    "$\\quad \\bar y : 平均值$\n",
    "\n"
   ]
  },
  {
   "cell_type": "markdown",
   "metadata": {},
   "source": [
    "#### SST : Sum of Squares Total\n",
    "$ \\qquad SS_{tot} \\quad = \\quad  \\sum_i(y_i - \\bar y )^2 \\quad = \\quad  ( y - \\bar y )'( y - \\bar y )$\n",
    "\n",
    "#### SSR : Sum of Squares Regression\n",
    "$ \\qquad SS_{reg} \\quad = \\quad  \\sum_i(\\hat  y_i - \\bar y )^2  \\quad = \\quad  ( \\hat  y - \\bar y  )'(\\hat  y - \\bar y  )$\n",
    "\n",
    "#### SSE : Sum of Squares Error\n",
    "$ \\qquad SS_{res} \\quad = \\quad  \\sum_i( y_i - \\hat  y_i )^2  \\quad = \\quad  ( y - \\hat  y )'( y - \\hat  y )$\n",
    "\n",
    "#### 決定係數 (Coefficient of determination), 或稱 $R^2$ score\n",
    "$ \\qquad R^2 \\quad = \\quad SS_{reg} / SS_{tot} \\quad = \\quad 1 - SS_{res} / SS_{tot}　$\n",
    "\n",
    "- 可以當成解釋程度"
   ]
  },
  {
   "cell_type": "markdown",
   "metadata": {},
   "source": [
    "#### bias(偏誤)\n",
    "$\\qquad bias(T) = E(T) - \\theta$\n",
    "\n",
    "#### MSE : Mean square error (均方誤差)\n",
    "$\\qquad MSE(T) \\quad = \\quad E((T-\\theta)^2) \\quad = \\quad var(T) + (bias(T))^2$\n",
    "  *  注:此處 $\\theta$ 為一統計量，例如 $\\bar X$\n",
    "  *  MSE 是 SSE 取 mean 後的結果\n",
    "\n"
   ]
  },
  {
   "cell_type": "markdown",
   "metadata": {},
   "source": []
  },
  {
   "cell_type": "code",
   "execution_count": null,
   "metadata": {},
   "outputs": [],
   "source": []
  }
 ],
 "metadata": {
  "kernelspec": {
   "display_name": "Python 3.9.5 64-bit",
   "language": "python",
   "name": "python3"
  },
  "language_info": {
   "codemirror_mode": {
    "name": "ipython",
    "version": 3
   },
   "file_extension": ".py",
   "mimetype": "text/x-python",
   "name": "python",
   "nbconvert_exporter": "python",
   "pygments_lexer": "ipython3",
   "version": "3.9.5"
  },
  "orig_nbformat": 4,
  "vscode": {
   "interpreter": {
    "hash": "4206480afc6f8f20a91f9b30d4e9d2907612993729e8a589e2c16a111e42b69c"
   }
  }
 },
 "nbformat": 4,
 "nbformat_minor": 2
}
