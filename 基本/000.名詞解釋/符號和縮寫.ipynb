{
 "cells": [
  {
   "cell_type": "markdown",
   "metadata": {},
   "source": [
    "#### 常用符號\n",
    "$\\quad X : 隨機變數 $\n",
    "\n",
    "$\\quad y : 真實值$\n",
    "\n",
    "$\\quad \\hat y : 預測(predict)值$\n",
    "\n",
    "$\\quad \\bar y : 平均值$\n",
    "\n",
    "---"
   ]
  },
  {
   "cell_type": "markdown",
   "metadata": {},
   "source": [
    "#### SST : Sum of Squares Total\n",
    "$ \\qquad SS_{tot} \\quad = \\quad  \\sum_i(y_i - \\bar y )^2 \\quad = \\quad  ( y - \\bar y )'( y - \\bar y )$　#不管放入多少變數，值都不會變\n",
    "\n",
    "#### SSR : Sum of Squares Regression\n",
    "$ \\qquad SS_{reg} \\quad = \\quad  \\sum_i(\\hat  y_i - \\bar y )^2  \\quad = \\quad  ( \\hat  y - \\bar y  )'(\\hat  y - \\bar y  )$\n",
    "*   $SSR(X_2|X_1) = SSR(X1,X2) - SSR(X1) = SSE(X1) - SSE(X1,X2)$ : 可以利用下圖去想像，SSR 的參數越多，值越大 (SSE 則是參數越多值越少)。但是 SST 值固定，所以 SSR 的增加量(或SSE的減少量) 就是條件變化量。\n",
    "\n",
    "#### SSE : Sum of Squares Error\n",
    "$ \\qquad SS_{res} \\quad = \\quad  \\sum_i( y_i - \\hat  y_i )^2  \\quad = \\quad  ( y - \\hat  y )'( y - \\hat  y )$\n",
    "\n",
    "\n",
    "<img src=\"https://www.researchgate.net/profile/Christian-Gold/publication/322398615/figure/fig17/AS:581620512903169@1515680544091/Visualization-of-SSE-SSR-SST.png\" width=\"40%\" height=\"40%\">\n",
    "\n",
    "[圖片參考網站](https://www.researchgate.net/figure/Visualization-of-SSE-SSR-SST_fig17_322398615)\n",
    "\n",
    "---"
   ]
  },
  {
   "cell_type": "markdown",
   "metadata": {},
   "source": [
    "#### 決定係數 (Coefficient of determination), 或稱 $R^2$ score, 判定係數\n",
    "$ \\qquad R^2 \\quad = \\quad SS_{reg} / SS_{tot} \\quad = \\quad 1 - SS_{res} / SS_{tot} \\quad = \\quad SSR/SST \\quad = \\quad 1 - SSE/SST　$\n",
    "\n",
    "- 可以當成解釋程度\n",
    "\n",
    "#### 偏判定係數 : 誤差平方(SSE) 縮減比率\n",
    "\n",
    "*   $R^2_{Y,1|23} = \\frac{SSE(X_2,X_3) - SSE(X_1,X_2,X_3)}{SSE(X_2,X_3)} =\\frac{SSR(X_1|X_2,X_3)}{SSE(X_2,X_3)}$\n",
    "*   偏判定係數的平方根稱為偏相關係數（coefficients of partial correlation），其符號的正負與迴歸函數中對應的迴歸係數相同\n",
    "\n",
    "[參考網址](http://web.ncyu.edu.tw/~lanjc/lesson/C7/class/ch07-AN.pdf)\n",
    "\n",
    "---"
   ]
  },
  {
   "cell_type": "markdown",
   "metadata": {},
   "source": [
    "#### type I/II/III SSR\n",
    "\n",
    "使用Multiple regression 製作 ANOVA 時，若要計算增加變量後SSE的改變量，則會使用到 SSR 的條件式。\n",
    "\n",
    "已知 \n",
    "1.  $SSR(X_1,X_2,X_3) = SSR(X_1) + SSR(X_2|X_1) + SSR(X_3|X_1+X_2) = SSR(X_1,X_2) + SSR(X_3|X_1,X_2)$\n",
    "2.  $SSR(X_1,X_2,X_3) = SSR(X_1|X_2,X_3)+SSR(X_2|X_1,X_3)+SSR(X_3|X_1,X_2)$\n",
    "\n",
    "*   type I : 假設變量間獨立\n",
    "    \n",
    "    使用 $SSR(X_1,X_2,X_3) = SSR(X_1) + SSR(X_2|X_1) + SSR(X_3|X_1+X_2)$ 的等式，把 SSR 拆成 n 個自由度為 1 的SSR，<font color = red>type I 可以知道依序增加變量，SSR 的改變(上升)量，SSE 的改變(下降)量為多少。</font>\n",
    "\n",
    "*   type II : 假設變量間獨立\n",
    "\n",
    "    使用 $SSR(X_1,X_2,X_3) = SSR(X_1|X_2,X_3)+SSR(X_2|X_1,X_3)+SSR(X_3|X_1,X_2)$ 的等式，把 SSR 拆成 n 個自由度為 1 的SSR，type II 可以看到每個變量最後加入後 SSE 的改變(下降)值為多少。\n",
    "\n",
    "*   type III : 假設變量間不獨立\n",
    "\n",
    "    使用 $SS(A|B,AB)$ 把 SSR 拆成 n 個自由度為 1 的SSR。\n",
    "\n",
    "[參考資料](https://towardsdatascience.com/anovas-three-types-of-estimating-sums-of-squares-don-t-make-the-wrong-choice-91107c77a27a)\n",
    "\n",
    "---"
   ]
  },
  {
   "cell_type": "markdown",
   "metadata": {},
   "source": [
    "#### bias(偏誤)\n",
    "$\\qquad bias(T) = E(T) - \\theta$\n",
    "\n",
    "---"
   ]
  },
  {
   "cell_type": "markdown",
   "metadata": {},
   "source": [
    "#### MSE : Mean square error (均方誤差)\n",
    "$\\qquad MSE(T) \\quad = \\quad E((T-\\theta)^2) \\quad = \\quad var(T) + (bias(T))^2$\n",
    "  *  注:此處 $\\theta$ 為一統計量，例如 $\\bar X$\n",
    "  *  MSE 是 SSE 取 mean 後的結果\n",
    "\n",
    "---"
   ]
  }
 ],
 "metadata": {
  "kernelspec": {
   "display_name": "Python 3.9.5 64-bit",
   "language": "python",
   "name": "python3"
  },
  "language_info": {
   "codemirror_mode": {
    "name": "ipython",
    "version": 3
   },
   "file_extension": ".py",
   "mimetype": "text/x-python",
   "name": "python",
   "nbconvert_exporter": "python",
   "pygments_lexer": "ipython3",
   "version": "3.9.5"
  },
  "orig_nbformat": 4,
  "vscode": {
   "interpreter": {
    "hash": "4206480afc6f8f20a91f9b30d4e9d2907612993729e8a589e2c16a111e42b69c"
   }
  }
 },
 "nbformat": 4,
 "nbformat_minor": 2
}
