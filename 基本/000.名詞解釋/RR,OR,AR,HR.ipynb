{
 "cells": [
  {
   "cell_type": "markdown",
   "metadata": {},
   "source": [
    "[參考資料1](https://doctor.get.com.tw/m/Journal/detail.aspx?no=404979)\n",
    "\n",
    "[參考資料2](https://www.medsci.cn/article/show_article.do?id=f22e1920083)\n",
    "\n",
    "[參考資料3](https://chungyizhen.medium.com/%E7%82%BA%E4%BB%80%E9%BA%BC%E9%83%BD%E7%94%A8-%E5%8B%9D%E7%AE%97%E6%AF%94-odds-ratio-or-%E8%80%8C%E4%B8%8D%E6%98%AF-%E7%9B%B8%E5%B0%8D%E9%A2%A8%E9%9A%AA-rr-%E5%91%A2-5c62fe84787c)\n",
    "\n",
    "[wiki](https://en.wikipedia.org/wiki/Odds_ratio)\n",
    "\n",
    "[youtube1](https://www.youtube.com/watch?v=G5sqDwiwm68)\n",
    "\n",
    "[youtube2](https://www.youtube.com/watch?v=76W4Wymv2Ec)"
   ]
  },
  {
   "cell_type": "markdown",
   "metadata": {},
   "source": [
    "以下皆已此表為例\n",
    "\n",
    "|           |  病例 | 非病例  | 合計  |\n",
    "| --------- |:-------:| ---------:|------:|\n",
    "| 暴露組    | a       |     b     | a + b |\n",
    "| 非暴露組  | c       |     d     | c + d |\n",
    "| 合計      | a + c   |   b + d   | N     |"
   ]
  },
  {
   "cell_type": "markdown",
   "metadata": {},
   "source": [
    "## Relative Risk (相對危險性,RR)\n",
    "\n",
    "<font color = red size = 5>相對環境對於感興趣的事件發生率的比率</font>，例如VIP和非VIP會員的用戶流失率比率，或暴露組與非暴露組的發病率比率。\n",
    "\n",
    "以表為例即為 : $RR = $ 暴露組的發病率 / 非暴露組的發病率 <font size = 5>$ = \\frac{ a/(a+b) }{ c/(c+d) } $ </font>\n",
    "\n",
    "*   若 $RR = 1$ : 暴露因素和發病率無關\n",
    "*   若 $RR > 1$ : 暴露因素和疾病的發生是正相關，即暴露因素是疾病的危險因素。\n",
    "*   若 $RR < 1$ : 暴露因素和疾病的發生是負相關，即暴露因素是疾病的保護因素。"
   ]
  },
  {
   "cell_type": "markdown",
   "metadata": {},
   "source": [
    "## Attributable Risk (可歸因風險, AR):又稱 rate difference(率差),excess risk(超額危險度)\n",
    "\n",
    "<font size = 5 color = red> 相對環境對於事件發生率的變化量 (差的絕對值) </font>\n",
    "\n",
    "以表為例即為 : $AR =$ 暴露組的發病率 - 非暴露組的發病率 <font size = 5> $ = \\frac{a}{a+b} - \\frac{c}{c+d}$ </font>"
   ]
  },
  {
   "cell_type": "markdown",
   "metadata": {},
   "source": [
    "## odds ratio (勝算比,OR)\n",
    "\n",
    "<font size = 5 color = red> 用於表示環境與事件的關聯性之指標 </font>，以勝算的比例來表示不同環境下有無發病比率的倍率。 \n",
    "\n",
    "odds (勝算) : 事件發生比率 / 事件不發生比率，以上表的暴露組為例則為 暴露組發病率 / 暴露組不發病率 $ = \\frac{a}{a+b} / \\frac{b}{a+b} = \\frac{a}{b}$，即為暴露組有無發病比率。<font color = red size = 5> 也可能以發病組去計算勝算，變成 $ \\frac{a}{c} $，就 OR 來說結論都一樣，但是在勝算的解釋上不同。</font>\n",
    "\n",
    "以表為例即為 : $OR =$ 暴露組有無發病比率 / 非暴露組有無發病比率 <font size = 5> $ = \\frac{a/b}{c/d} = \\frac{ad}{bc}$ </font>\n",
    "\n",
    "*   若 $OR = 1$ : 暴露與發病無關\n",
    "*   若 $OR > 1$ : 暴露與發病正相關\n",
    "*   若 $OR < 1$ : 暴露與發病負相關\n",
    "\n",
    "*   95% CI 計算方式 $ = e^{ln(OR)\\pm 1.96 \\sqrt{1/a+1/b+1/c+1/d}}$\n",
    "*   upper 95% CI $ = e^{ln(OR) + 1.96 \\sqrt{1/a+1/b+1/c+1/d}}$\n",
    "*   lower 95% CI $ = e^{ln(OR) - 1.96 \\sqrt{1/a+1/b+1/c+1/d}}$"
   ]
  },
  {
   "cell_type": "code",
   "execution_count": null,
   "metadata": {},
   "outputs": [],
   "source": []
  }
 ],
 "metadata": {
  "kernelspec": {
   "display_name": "Python 3.9.5 64-bit",
   "language": "python",
   "name": "python3"
  },
  "language_info": {
   "name": "python",
   "version": "3.9.5"
  },
  "orig_nbformat": 4,
  "vscode": {
   "interpreter": {
    "hash": "4206480afc6f8f20a91f9b30d4e9d2907612993729e8a589e2c16a111e42b69c"
   }
  }
 },
 "nbformat": 4,
 "nbformat_minor": 2
}
