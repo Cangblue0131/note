{
 "cells": [
  {
   "cell_type": "markdown",
   "metadata": {},
   "source": [
    "## 多重比較法(Multiple-Comparison Procedure)\n",
    "目的 : 若ANOVA分析結果為顯著時，可以用來找出哪幾組和其他組間有顯著差異。\n"
   ]
  },
  {
   "cell_type": "markdown",
   "metadata": {},
   "source": [
    "### Fisher 最小顯著差異法 (least significant difference, LSD) \n",
    "參考 : 統計學 - 李德治、童惠玲 p616\n",
    "\n",
    "*   優點 : 簡單\n",
    "*   缺點 :\n",
    "    1.  需要進行 $\\tbinom{k}{2}$ 次LSD，所以容易發生型Ｉ誤差。\n",
    "    2.  若多數組樣本數不相同，則計算速度相對於傳統統計來得慢。\n",
    "\n",
    "此 $H_0 $ 皆為母體平均數相等\n",
    "1.  單一母體平均數之區間估計\\\n",
    "    因為ANOVA過程假設每個小母體的變異數都相等，所以若要估計某個小母體平均數的信賴區間時，須以 MSE 取代母體變異數。\\\n",
    "    單一母體 (第k組) 的 95% 信賴區間 :\\\n",
    "     <font size =5>$ \\bar{x}_k - t_{\\frac{\\alpha}{2},n-k} \\sqrt{\\frac{MSE}{n_k}}\\leq \\mu_k \\leq \\bar{x}_k + t_{\\frac{\\alpha}{2},n-k}\\sqrt{\\frac{MSE}{n_k}}$</font>\n",
    "\n",
    "2.  $\\mu_i - \\mu_j$ 之區間估計\\\n",
    "    因為已知兩獨立母體之平均數差的信賴區間 : \n",
    "    <font size =4>$ (\\bar{x}_1 - \\bar{x}_2) - t_{\\frac{\\alpha}{2},n_1+n_2-2} \\sqrt{\\frac{s_p^2}{n_1}+\\frac{s_p^2}{n_2}}\\leq \\mu_1-\\mu_2 \\leq \n",
    "    (\\bar{x}_1 - \\bar{x}_2) + t_{\\frac{\\alpha}{2},n_1+n_2-2}\\sqrt{\\frac{s_p^2}{n_1}+\\frac{s_p^2}{n_2}}$</font>\n",
    "    \n",
    "    所以把樣本變異數 $s_p^2$ 修改為MSE即可 : \\\n",
    "    <font size =5>$ (\\bar{x}_i - \\bar{x}_j) - t_{\\frac{\\alpha}{2},n-k} \\sqrt{\\frac{MSE}{n_i}+\\frac{MSE}{n_j}}\\leq \\mu_1-\\mu_2 \\leq \n",
    "    (\\bar{x}_i - \\bar{x}_j) + t_{\\frac{\\alpha}{2},n-k} \\sqrt{\\frac{MSE}{n_i}+\\frac{MSE}{n_j}}$</font>\n",
    "    \n",
    "3.  LSD \\\n",
    "    由(2)可得<font size =4>$t^* = \\frac{(\\bar{x}_i - \\bar{x}_j)}{\\sqrt{\\frac{MSE}{n_i}+\\frac{MSE}{n_j}}}$</font> ，所以當$|t^*| > t_{\\frac{\\alpha}{2},n-k}$ (信賴區間不包含$H_0$) 時，拒絕虛無假設(reject $H_0$)。\n",
    "    \n",
    "    可以改寫成 : 當$  |\\bar{x}_i - \\bar{x}_j| > t_{\\frac{\\alpha}{2},n-k} \\sqrt{\\frac{MSE}{n_i}+\\frac{MSE}{n_j}}$ 時，拒絕虛無假設(reject $H_0$)。\n",
    "    \n",
    "    而此定義LSD為 :\\\n",
    "    <font color = red>$LSD = t_{\\frac{\\alpha}{2},n-k} \\sqrt{\\frac{MSE}{n_i}+\\frac{MSE}{n_j}} $</font>\n",
    "\n"
   ]
  },
  {
   "cell_type": "markdown",
   "metadata": {},
   "source": []
  },
  {
   "cell_type": "markdown",
   "metadata": {},
   "source": [
    "常用的多重比較法 : Bonferroni, Sheffee, Tukey, Newman-Keuls與Dunnett方法\n",
    "\n",
    "*   Fisher 最小顯著差異法 (least significant difference, LSD) \n",
    "\n",
    "\n",
    "\n",
    "*   LSD(Least Significant Difference)法 :相當於進行所有配對組多重比較的 t 檢定 優點是容易找到較多\"顯著\"的兩兩比較結果. 缺點則是犯型一錯誤的機率會增加.\n",
    "\n",
    "*   費雪法（Scheffe's Method) : [待補](https://www.youtube.com/watch?v=OXC0iXeMJts)\n",
    "\n",
    "*   Tukey法 : Tukey多重比較法是將每一個試驗組與每一個試驗組逐一比較。如果試驗組與控制組的樣本數目不相等，Tukey法是最佳選擇。\\\n",
    "待補 : [參考網址2](https://en.wikipedia.org/wiki/Tukey's_range_test)\n",
    "\n",
    "*   Newman – Keuls法 : Newman- Keuls法與Tukey法非常相似，但是Newman- Keuls法對於每一個比較可以都有各自的α值。此方法因此可以執行更多的比對，因此其檢定力比Tukey法更強大。\n",
    "待補 : [參考網址2](https://en.wikipedia.org/wiki/Newman%E2%80%93Keuls_method)\n"
   ]
  }
 ],
 "metadata": {
  "kernelspec": {
   "display_name": "Python 3.9.5 64-bit",
   "language": "python",
   "name": "python3"
  },
  "language_info": {
   "name": "python",
   "version": "3.9.5"
  },
  "orig_nbformat": 4,
  "vscode": {
   "interpreter": {
    "hash": "4206480afc6f8f20a91f9b30d4e9d2907612993729e8a589e2c16a111e42b69c"
   }
  }
 },
 "nbformat": 4,
 "nbformat_minor": 2
}
