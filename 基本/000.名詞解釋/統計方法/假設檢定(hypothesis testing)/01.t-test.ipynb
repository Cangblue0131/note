{
 "cells": [
  {
   "cell_type": "markdown",
   "metadata": {},
   "source": [
    "### Student's t-test"
   ]
  },
  {
   "cell_type": "markdown",
   "metadata": {},
   "source": [
    "t-test 常作為檢定一群<font color = red> 來自常態分配母體</font>的<font color = red>獨立樣本之期望值是否為某一實數</font>，或是二（兩）群<font color = red>來自常態分配母體</font>的<font color = red>獨立樣本之期望值的差是否為某一實數</font>。\\\n",
    "<font color = red>注意</font> : 常態為必要條件，通常會搭配 KS-test 去檢定是否為常態。\n",
    "\n",
    "#### 應用 : \n",
    "*   獨立單樣本T檢定\\\n",
    "    檢定虛無假說為一群來自常態分配獨立樣本$x_i$之母體期望值$\\mu$為$\\mu_0$可利用以下統計量\\\n",
    "    <font size=6>$ t = \\frac{\\bar{x} - \\mu_0}{s/\\sqrt{n}}$</font>\\\n",
    "    其中 n 為樣本數，<font size=5> $s = \\sqrt{\\frac{\\sum^n_{i=1}(x_i-\\bar{x})^2}{n-1}}$</font>為樣本標準差，\\\n",
    "    統計量 t 在虛無假設 $H_0 : \\mu = \\mu_0 $ 為真的條件下服從自由度 $n-1$ 之t分布\n"
   ]
  },
  {
   "cell_type": "markdown",
   "metadata": {},
   "source": [
    "*   成對樣本T檢定\\\n",
    "    成對樣本t檢定可視為單樣本t檢定的擴展，不過檢定的對象由一群來自常態分配獨立樣本更改為<font color = red>兩成對樣本之觀測值之差</font>。\\\n",
    "    若兩成對樣本$x_{1i}$與$x_{2i}$之差為$d_i = x_{1i} − x_{2i}$獨立且來自常態分配，則$d_i$之母體期望值$\\mu$是否為$\\mu_0$可利用以下統計量：\\\n",
    "    <font size=6>$ t = \\frac{\\bar{d} - \\mu_0}{s_d/\\sqrt{n}}$</font>\n",
    "    其中 n 為樣本數，<font size=5> $s_d = \\sqrt{\\frac{\\sum^n_{i=1}(d_i-\\bar{d})^2}{n-1}}$</font>為樣本標準差，\\\n",
    "    統計量 t 在虛無假設 $H_0 : \\mu = \\mu_0 $ 為真的條件下服從自由度 $n-1$ 之t分布"
   ]
  },
  {
   "cell_type": "markdown",
   "metadata": {},
   "source": [
    "\n",
    "*   獨立雙樣本T檢定\n",
    "\n",
    "    *  同質變異數假設 (Homoscedasticity)、樣本數相等\\\n",
    "    若兩獨立樣本$x_{1i}$與$x_{2i}$具有相同之樣本數$n$，且來自兩個母體變異數相同（同質變異數假設）的常態分配，則兩母體之期望值差$\\mu_1 - \\mu_2$是否為$\\mu_0$可利用以下統計量\\\n",
    "    <font size=6>$ t = \\frac{\\bar{x}_1 - \\bar{x}_2 - \\mu_0}{\\sqrt{2s_p^2/n}}$</font>\\\n",
    "    其中 n 為樣本數，<font size=5> $s^2_p = \\frac{ (\\sum^n_{i=1}(x_{1i}-\\bar{x_1})^2 + \\sum^n_{i=1}(x_{2i}-\\bar{x_2})^2) }{2n-2}$\n",
    "    </font>為樣本之共同變異數，\\\n",
    "    統計量 t 在虛無假設 $H_0 : \\mu_1 - \\mu_2 = \\mu_0 $ 為真的條件下服從自由度 $2n-2$ 之t分布\n",
    "\n",
    "    &emsp;\n",
    "\n",
    "    *  同質變異數假設 (Homoscedasticity)、樣本數不相等\\\n",
    "    若兩獨立樣本$x_{1i}$與$x_{2j}具有不相同之樣本數$n_1$與$n_2$，且來自兩個母體變異數相同（同質變異數假設）的常態分配，則兩母體之期望值之差$\\mu_1 - \\mu_2$是否為$\\mu_0$可利用以下統計量\\\n",
    "    <font size=6>$ t = \\frac{\\bar{x}_1 - \\bar{x}_2 - \\mu_0}{\\sqrt{s_p^2/n_1 + s_p^2/n_2}}$</font>\\\n",
    "    其中 $n_1,n_2$ 為樣本數，<font size=5> $s^2_p = \\frac{ (\\sum^{n_1}_{i=1}(x_{1i}-\\bar{x_1})^2 + \\sum^{n_2}_{j=1}(x_{2j}-\\bar{x_2})^2) }{n_1+n_2-2}$\n",
    "    </font>為樣本之共同變異數，\\\n",
    "    統計量 t 在虛無假設 $H_0 : \\mu_1 - \\mu_2 = \\mu_0 $ 為真的條件下服從自由度 $n_1+n_2-2$ 之t分布\n",
    "\n",
    "    &emsp;\n",
    "    \n",
    "    *  異質變異數假設 (Heteroscedasticity, 或稱Welch檢定)、樣本數相等或不相等皆可\\\n",
    "    若兩獨立樣本$x_{1i}$與$x_{2j}$具有相同或不相同之樣本數$n_1$與$n_2$，且兩者母體變異數不相等（異質變異數假設）的常態分配，則兩母體之期望值之差$\\mu_1 - \\mu_2$是否為$\\mu_0$可利用以下統計量\\\n",
    "    <font size=6>$ t = \\frac{\\bar{x}_1 - \\bar{x}_2 - \\mu_0}{\\sqrt{s_1^2/n_1 + s_2^2/n_2}}$</font>\\\n",
    "    其中 $n_1,n_2$ 為樣本數，<font size=5> $s^2_1 = \\frac{ (\\sum^{n_1}_{i=1}(x_{1i}-\\bar{x_1})^2 }{n_1-1}$ 及 $s^2_2 = \\frac{ (\\sum^{n_2}_{i=1}(x_{2i}-\\bar{x_2})^2 }{n_2-1}$\n",
    "    </font>分別為兩樣本之變異數，\\\n",
    "    統計量 t 在虛無假設 $H_0 : \\mu_1 - \\mu_2 = \\mu_0 $ 為真的條件下服從自由度為 \n",
    "    $df = \\frac{ (s^2_1/n_1 + s^2_2/n_2)^2 }{ (s^2_1/n_1)^2/(n_1-1) + (s^2_2/n_2)^2/(n_2-1) }$ 之t分布\n",
    "\n",
    "\n",
    "參考資料 :\n",
    "*   [維基百科](https://zh.wikipedia.org/zh-tw/%E5%8F%B8%E5%BE%92%E9%A0%93t%E6%AA%A2%E5%AE%9A)"
   ]
  },
  {
   "cell_type": "markdown",
   "metadata": {},
   "source": [
    "### 偏迴歸係數是否為零之檢定\n",
    "待補(可能補在T-test)\\\n",
    "[參考](http://web.ncyu.edu.tw/~lanjc/lesson/C7/class/ch07-AN.pdf)"
   ]
  }
 ],
 "metadata": {
  "kernelspec": {
   "display_name": "Python 3.9.5 64-bit",
   "language": "python",
   "name": "python3"
  },
  "language_info": {
   "name": "python",
   "version": "3.9.5"
  },
  "orig_nbformat": 4,
  "vscode": {
   "interpreter": {
    "hash": "4206480afc6f8f20a91f9b30d4e9d2907612993729e8a589e2c16a111e42b69c"
   }
  }
 },
 "nbformat": 4,
 "nbformat_minor": 2
}
