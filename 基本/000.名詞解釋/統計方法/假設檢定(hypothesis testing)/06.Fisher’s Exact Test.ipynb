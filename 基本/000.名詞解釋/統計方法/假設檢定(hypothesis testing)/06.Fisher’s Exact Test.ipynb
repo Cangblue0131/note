{
 "cells": [
  {
   "cell_type": "markdown",
   "metadata": {},
   "source": [
    "## Fisher’s Exact Test (費雪爾正確概率檢定)\n",
    "\n",
    "[參考資料1](https://math.nsysu.edu.tw/var/file/183/1183/img/495/h.pdf)\\\n",
    "[參考資料2](https://highscope.ch.ntu.edu.tw/wordpress/?p=73478)\\\n",
    "[參考資料3](https://blog.pulipuli.info/2017/05/fishers-exact-test-example.html)\\\n",
    "[wiki](https://en.wikipedia.org/wiki/Fisher%27s_exact_test)"
   ]
  },
  {
   "cell_type": "markdown",
   "metadata": {},
   "source": [
    "<font color = red size = 5>若單元格的期望次數小於$5$，則使用卡方效果不佳，此時會採用 Fisher's Exact Test。</font>\n",
    "\n",
    "<font color =red size = 5 >目的 : 分析兩組數據是否顯著相關</font>\n",
    "\n",
    "以下皆已此表為例\n",
    "\n",
    "|           | 組別A   |  組別B    | 合計  |\n",
    "| --------- |:-------:| ---------:|------:|\n",
    "| 事件1     | a       |     b     | a + b |\n",
    "| 事件2     | c       |     d     | c + d |\n",
    "| 合計      | a + c   |   b + d   | N     |"
   ]
  },
  {
   "cell_type": "markdown",
   "metadata": {},
   "source": [
    "### 機率計算方式\n",
    "\n",
    "此方法會<font color = red>固定所有合計欄位</font> (各事件和組別的合計欄位，其值為分析目標當前的狀態)，在此情況下，我們假設所有單元格在固定事件或組別的情況下，其發生機率皆相同 (eg. P(組別A事件1|組別A)=P(組別A事件2|組別A) 或 P(組別A事件1|事件1)=P(組別B事件1|事件1))，此時可以計算所有可能發生的機率。\n",
    "\n",
    "因固定所有合計欄位，所以改變一個單元格的值則其他單元格也會跟著改變，所以以 $P(A)$ 的A表示組別A事件1的單元格的值，而其發生機率為 : <font size = 5>$\\frac{\\tbinom{a+b}{A}\\tbinom{c+d}{a+c-A}}{\\tbinom{N}{a+c}}$</font>, 其中 $A\\in [0,\\min\\{a+b,a+c\\}]$"
   ]
  }
 ],
 "metadata": {
  "kernelspec": {
   "display_name": "Python 3.9.5 64-bit",
   "language": "python",
   "name": "python3"
  },
  "language_info": {
   "name": "python",
   "version": "3.9.5"
  },
  "orig_nbformat": 4,
  "vscode": {
   "interpreter": {
    "hash": "4206480afc6f8f20a91f9b30d4e9d2907612993729e8a589e2c16a111e42b69c"
   }
  }
 },
 "nbformat": 4,
 "nbformat_minor": 2
}
