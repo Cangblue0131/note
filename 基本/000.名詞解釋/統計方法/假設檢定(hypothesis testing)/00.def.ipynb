{
 "cells": [
  {
   "cell_type": "markdown",
   "metadata": {},
   "source": [
    "## hypothesis testing (假設檢定)\n",
    "\n",
    "基本名詞\n",
    "*   虛無假設(Null hypothesis，常以$H_0$表示)：\\\n",
    "    一般是希望能證明為錯誤的假設。因為在假設檢定上會先假設$H_0$為真，再進行推論，所以常以有助於推論的假設為$H_0$，例如\"母體平均數相同\"。\\\n",
    "    若沒有足夠證據拒絕虛無假設時，則結論為<font color=red>不拒絕</font>虛無假設，在統計上以接受過於肯定。\n",
    "    \n",
    "*   對立假設(Alternative hypothesis，常以$H_\\alpha$或$H_1$表示)\\\n",
    "    和$H_0$對立的假設，例如\"母體平均數不相同\"。此假設用於計算 (參考p-value)。\\\n",
    "    若有足夠證據拒絕虛無假設($H_0$)時，則結論為<font color=red>拒絕</font>虛無假設。\n",
    "\n",
    "*   型I錯誤(Type I Error)\\\n",
    "    $H_0$為真確拒絕$H_0$的情況，其發生機率以<font color=red>$\\alpha$</font>表示。\n",
    "\n",
    "*   型II錯誤(Type II Error)\\\n",
    "    $H_\\alpha$為真確不拒絕$H_0$的情況，其發生機率以<font color=red>$\\beta$</font>表示。。\n",
    "\n",
    "*   顯著水準(Significance level，常以<font color=red>$\\alpha$</font>表示)\\\n",
    "    發生型I錯誤的機率，在假設檢定上為可控制項，<font color=red>檢定時依照研究內容去決定最多可容許發生型I錯誤的機率為多少</font>。\\\n",
    "    其中，<font color=red>$1-\\alpha$又稱為信賴水準</font>。\n",
    "\n",
    "*   統計檢定力(statistical power，<font color=red>$1-\\beta$</font>)\\\n",
    "    當對立假設$H_\\alpha$為真時正確的拒絕虛無假設$H_0$的機率，即$~power = Pr(reject~H_0~|~H_\\alpha~ is~ true)$，換句話說檢定力越高，型二錯誤出現機率越低。"
   ]
  },
  {
   "cell_type": "markdown",
   "metadata": {},
   "source": [
    "<img src=\"https://pic.pimg.tw/yourgene/1484708489-54953476.png\" width=\"50%\" height=\"50%\">\\\n",
    "[圖片來源](https://yourgene.pixnet.net/blog/post/116944086-%E5%81%87%E8%A8%AD%E6%AA%A2%E5%AE%9A(hypothesis-testing))"
   ]
  },
  {
   "cell_type": "markdown",
   "metadata": {},
   "source": [
    "*   p值(p-value)\\\n",
    "    假設虛無假設為真的情況下，觀測到的檢定統計量發生的機率。<font color = red>若 p-value $<\\alpha$，則 reject $~H_0$</font>。\\\n",
    "    以平均數為例，\\\n",
    "    已知母體為常態，且 (樣本平均數,樣本變異數,樣本數) $=(\\hat{\\mu},\\hat{\\sigma},n)$，虛無假設和對立假設為$(H_0:母體平均數=\\mu~;~H_1:母體平均數>\\mu)$，則\\\n",
    "    p-value $ = p(\\bar{X}>\\hat{\\mu}) \n",
    "    = p(\\frac{\\bar{X}-\\mu}{\\sigma\\sqrt{n}}>\\frac{\\hat{\\mu}-\\mu}{\\hat{\\sigma}\\sqrt{n}}) \n",
    "    = p(Z>\\frac{\\hat{\\mu}-\\mu}{\\hat{\\sigma}\\sqrt{n}}) $\n",
    "\n",
    "    雙尾 : $P-value = 2P(z>|z^*|)$\n",
    "    \n",
    "\n",
    "*   拒絕域(Rejection Region, RR) 和臨界點(Critical. Point)\\\n",
    "    拒絕域是一個數值的範圍，<font color = red>若檢定統計量的值落在範圍內，則拒絕虛無假設</font>。\\\n",
    "    臨界點是拒絕域的端點。\\\n",
    "    以平均數為例，\\\n",
    "    已知母體為常態，且 (樣本平均數,樣本變異數,樣本數) $=(\\hat{\\mu},\\hat{\\sigma},n)$，虛無假設和對立假設為$(H_0:母體平均數=\\mu~;~H_1:母體平均數>\\mu)$，則\\\n",
    "    假設臨界點為$\\bar{X}_L$\\\n",
    "    $p(\\frac{\\bar{X}-\\mu}{\\sigma\\sqrt{n}}>\\frac{\\bar{X}_L-\\mu}{\\hat{\\sigma}\\sqrt{n}}) \n",
    "    = p(Z>\\frac{\\bar{X}_L-\\mu}{\\hat{\\sigma}\\sqrt{n}}) = \\alpha = P(Z > Z_\\alpha) => \\frac{\\bar{X}_L-\\mu}{\\hat{\\sigma}\\sqrt{n}} = Z_\\alpha$\\\n",
    "    由此可計算得$\\bar{X}_L$，若$\\hat{\\mu} > \\bar{X}_L$，則 reject $H_0$。(注意，因為此$H_1$的假設，所以才會是\"大於\")\n",
    "\n",
    "*   信賴區間(Confidence interval，CI)\\\n",
    "    信賴區間通常會和信心水準一同出現，例如\"95%信賴區間\"。若這裡估計的是母體平均數，則此信賴區間意義為：重複\"多次抽取\"得到的多個樣本平均數，<font color = red>有95%的信心這些樣本平均數會包含母體平均數</font>。\\\n",
    "    以平均數為例，\\\n",
    "    已知母體為常態，且 (樣本平均數,樣本變異數,樣本數) $=(\\hat{\\mu},\\hat{\\sigma},n)$，虛無假設和對立假設為$(H_0:母體平均數=\\mu~;~H_1:母體平均數>\\mu)$，則\\\n",
    "    假設拒絕域的上下臨界點為L和U，\\\n",
    "    $P(L\\leq \\bar{x} \\leq U) \n",
    "    =   P(\\frac{L-\\mu}{\\sqrt{\\sigma^2/n}} \\leq \\frac{\\bar{x}-\\mu}{\\sqrt{\\sigma^2/n}} \\leq \\frac{U-\\mu}{\\sqrt{\\sigma^2/n}})\n",
    "    =   P(-Z_{\\alpha/2}\\leq \\frac{\\bar{x}-\\mu}{\\sqrt{\\sigma^2/n}} \\leq -Z_{\\alpha/2})\\\\\n",
    "    =>  \\bar{x}-Z_{\\alpha/2}\\sqrt{\\sigma^2/n} \\leq \\mu \\leq \\bar{x}+Z_{\\alpha/2}\\sqrt{\\sigma^2/n}$\\\n",
    "    CI : $(\\bar{x}-Z_{\\alpha/2}\\sqrt{\\sigma^2/n}~,~\\bar{x}+Z_{\\alpha/2}\\sqrt{\\sigma^2/n})$，若此信賴區間不包含$\\mu$，則reject $H_0$。\n",
    "\n"
   ]
  },
  {
   "cell_type": "markdown",
   "metadata": {},
   "source": [
    "<img src=\"https://miro.medium.com/max/720/1*40lqNfH0LGJQm6AbgjcRnw.png\" width=\"50%\" height=\"50%\">\\\n",
    "[圖片來源](https://towardsdatascience.com/a-complete-guide-to-hypothesis-testing-2e0279fa9149)"
   ]
  }
 ],
 "metadata": {
  "kernelspec": {
   "display_name": "Python 3.9.5 64-bit",
   "language": "python",
   "name": "python3"
  },
  "language_info": {
   "name": "python",
   "version": "3.9.5"
  },
  "orig_nbformat": 4,
  "vscode": {
   "interpreter": {
    "hash": "4206480afc6f8f20a91f9b30d4e9d2907612993729e8a589e2c16a111e42b69c"
   }
  }
 },
 "nbformat": 4,
 "nbformat_minor": 2
}
