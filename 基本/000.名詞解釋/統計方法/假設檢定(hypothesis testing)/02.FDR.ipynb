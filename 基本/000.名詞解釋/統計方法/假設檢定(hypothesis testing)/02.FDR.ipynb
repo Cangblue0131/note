{
 "cells": [
  {
   "cell_type": "markdown",
   "metadata": {},
   "source": [
    "## FDR （false discovery rate）\n",
    "參考網址超連結1 : [FDR錯誤發現率-P值校正學習](https://www.twblogs.net/a/5ef0c3254a766ac09210aa72)\n",
    "\n",
    "參考網址超連結2 : [ 多重檢定問題，false discovery rate (FDR)與 q 值 .pdf](http://biostat.tmu.edu.tw/oldFile/enews/ep_download/17stat.pdf)"
   ]
  },
  {
   "cell_type": "markdown",
   "metadata": {},
   "source": [
    "*   提要 :\n",
    "\n",
    "    <font color = red>當同時進行多個檢定時，犯型一錯誤之機率會增加</font> ( 例如兩檢定獨立，且 $\\alpha = 0.05$ 時，至少有一個檢定犯型一錯誤機率為 $1-0.95^2 = 0.0975 > 0.05$ )。\\\n",
    "    檢定個數越多，犯型一錯誤之機率就越高，此種錯誤稱為全體型I錯誤 (overall type I error) 或實驗型I錯誤 (experimentwise type I error)，常以$\\alpha_{EW}$表示。\\\n",
    "    這個現象被稱為<font color = red>多重檢定問題（multiple testing problem）</font>。\n",
    "\n",
    "\n",
    "\n",
    "*   定義 : \n",
    "\n",
    "    是統計學中常見的一個名詞，翻譯爲僞發現率，其意義爲是 <font color = red> 錯誤拒絕（拒絕真的（原）假設）的個數佔所有被拒絕的原假設個數的比例的期望值</font>。\n",
    "\n",
    "    <font color = red>FDR是個期望值</font>\n",
    "\n",
    "[圖片來源](https://www.jianshu.com/p/13f46bebebd4)\\\n",
    "<img src=\"https://upload-images.jianshu.io/upload_images/4264437-36a5108a736e06b5.png?imageMogr2/auto-orient/strip|imageView2/2/w/1200/format/webp\" width=\"50%\" height=\"50%\">\n"
   ]
  },
  {
   "cell_type": "markdown",
   "metadata": {},
   "source": [
    "### 多重檢定問題解決方法"
   ]
  },
  {
   "cell_type": "markdown",
   "metadata": {},
   "source": [
    "#### 定義符號\n",
    "以下為參考 [ 多重檢定問題，false discovery rate (FDR)與 q 值 .pdf](http://biostat.tmu.edu.tw/oldFile/enews/ep_download/17stat.pdf)。\\\n",
    "為求方便，統一定義符號。\n",
    "\n",
    "*   $m $ : 總檢定個數。(已知)\n",
    "*   $m_0 $ : 虛無假設為真的個數。(未知)\n",
    "*   $S $ : 拒絕虛無假設的個數。(已知)\n",
    "*   $F $ : 虛無假設為真，拒絕虛無假設的個數 (發生型I錯誤的個數)。(未知)\n",
    "*   $T $ : 對立假設為真，拒絕虛無假設的個數 。(未知)\n"
   ]
  },
  {
   "cell_type": "markdown",
   "metadata": {},
   "source": [
    "<img src=\"https://i.imgur.com/ePc0Ja6.png\" width=\"50%\" height=\"50%\">"
   ]
  },
  {
   "cell_type": "markdown",
   "metadata": {},
   "source": [
    "#### Familywise error rate（FWER）\n",
    "\n",
    "FWER的定義為 $Pr(F \\geq 1 )$，即發生一次以上型一錯誤的機率。\\\n",
    "傳統上處理多重檢定問題最常使用的方法是控制 familywise error rate（FWER），最簡單的方法就是 Bonferroni 校正 : <font color = red>確保 FWER $\\leq \\alpha $，需將個別檢定可容許之型一錯誤率定為<font size = 5> $\\frac{\\alpha}{m}$</font></font>。\\\n",
    "固定$ \\alpha $，當檢定個數越多，<font size = 5>$\\frac{\\alpha}{m}$</font> 越小，則越不容易拒絕虛無假設，因此對大量檢定進行 Bonferroni 校正時，會大幅度降低檢定力。\n",
    "\n",
    "---\n"
   ]
  },
  {
   "cell_type": "markdown",
   "metadata": {},
   "source": [
    "#### False discovery rate（FDR）\n",
    "\n",
    "FDR為考慮顯著結果中型一錯誤的比例：<font size = 5>$\\frac{型一錯誤個數}{拒絕虛無假設個數} = \\frac{F}{S}$</font>，<font color = red><font size = 5>$\\frac{F}{S}$</font> 為隨機變數</font>。\n",
    "\n",
    "Benjamini & Hochberg (1995)提出<font color = red>以<font size = 5>$\\frac{F}{S}$</font>之期望值，作為所犯型一錯誤程度之度量</font>，稱為 false discovery rate（FDR）：<font size = 4>$FDR = E[\\frac{F}{S}]$ </font>。\n",
    "\n",
    "Benjamini & Hochberg (1995)提出一個根據所得 $p$ 值，設定拒絕虛無假設的標準，以控制 FDR 的方法。令 $p_1,p_2,...,p_m $ 為 $m$ 個檢定所得之 $p$ 值。給定一個門檻 $q^*$，執行以下程序可使 $FDR \\leq 𝑞^*$：\n",
    "\n",
    "1.  令 $p_{(1)} \\leq p_{(2)} \\leq ... \\leq p_{(m)} $ 為由小到大排序之 $p$ 值，並令 $H_{(i)}$ 代表對應於 $p_{(i)}$之虛無假設。\n",
    "\n",
    "2.  令 $k$ 為最大的 $i$ 值，使得 $p_{(i)} \\leq \\frac{i}{m}q^* $ 成立，$ i = 1, ... , m$。\n",
    "\n",
    "3.  拒絕虛無假設$H_{(i)}$，$i = 1, ... , k$"
   ]
  },
  {
   "cell_type": "markdown",
   "metadata": {},
   "source": [
    "##### FDR 的 q 值\n",
    "\n",
    "當進行多重檢定時，Storey & Tibshirani (2003)對每個檢定分別估計一個 q 值，作為其顯著性的一種度量。\n",
    "\n",
    "對任意一個檢定 $i$ ，令 $p_i$ 及 $q_i$ 為對應之 $p$ 值與 $q$ 值。\\\n",
    "<font color = red>$q_i$ 的意義為，當稱檢定 $i$ 及其他 $p$ 值 ≤ $p_i$ 之檢定結果為顯著時，預期的型一錯誤比例。</font>"
   ]
  },
  {
   "cell_type": "markdown",
   "metadata": {},
   "source": [
    "令 $ S(t) 、 F(t) $ 及 $FDR(t)$ 代表，以 $t$ 為檢定之顯著水準時，表一中的 $S 、F $ 及對應的 $FDR$。欲估計每個檢定對應之 q 值，需先估計 $FDR(t) ，0 < t \\leq 1$。\n",
    "\n",
    "&emsp;&emsp;&emsp;<font size = 4> $ FDR(t) = E[\\frac{F(t)}{S(t)}] \\approx \\frac{E[F(t)]}{E[S(t)]}$ </font>\n",
    "\n",
    "$S(t)$ 為觀察到的，因此可用其觀察值 $\\#\\{p_i \\leq t\\}$ 估計 $E[S(t)]$。\\\n",
    "$F(t)$ 為未知且觀察不到，但虛無假設為真時，檢定所得之p值會均勻分布於 $[0,1]$，此時 $p \\leq t $ 之機率即為t，故\n",
    "\n",
    "&emsp;&emsp;　<font size = 4> $E[F(t)] = m_0 \\cdot t$\n",
    "\n",
    "上式中，$m_0$ 為未知常數，其值可以下式估計：\n",
    "\n",
    "&emsp;&emsp; $\\hat{m_0} = \\frac{ \\#\\{p_i > \\lambda ~;~ i=1,...,m \\}}{1- \\lambda}$\n",
    "\n",
    "式中 $\\lambda$ 為在 0 與 1 之間適當選取之數值， $\\lambda$ 之選取在 Storey & Tibshirani (2003)中有詳細的說明。"
   ]
  },
  {
   "cell_type": "markdown",
   "metadata": {},
   "source": [
    "上述 $m_0$ 之估計乃基於：虛無假設為真時，檢定所得之 $p$ 值會均勻分布於 0 與 1 之間；對立假設為真時，檢定所得之 $p$ 值會有向 0 靠攏的趨勢。\n",
    "\n",
    "例子如下圖，\n",
    "此為 3170 基因的檢定在不同 p 下的長條圖，可發現 0 附近 p 值比例較高，代表有些基因有顯著差異。且大於 0.5 之 p 值分布相對均勻，並且高度皆低於虛線，換句話說，大部分的表現無顯著差異。\n",
    "\n",
    "0.5 適合此例子之 $\\lambda$ ，可以得到 $\\frac{介於0.5與1之間的p值個數}{1-0.5}$ 為表現無顯著差異之基因數的合理估計。\n",
    "\n",
    "由上可得，$FDR(t)$ 之估計為：<font size = 5>$ \\widehat{FDR}(t) = \\frac{\\hat{m_0}\\cdot t}{\\#\\{p_i \\leq t\\}} $</font>\n",
    "\n",
    "由此 $\\widehat{FDR}(t)$ 為基礎，另第 $i$ 個檢定之 p 值為 $p_i$　，則此檢定對應之 $q$ 值估計為 $\\hat{q_i}(p_i) = \\min\\limits_{t\\geq p_i} \\widehat{FDR}(t)$\n",
    "\n",
    "依據上式，給定多重檢定中的任兩個檢定 i 與 j ，若 $p_i \\leq p_j$ 則 $ \\widehat{q_i} \\leq \\widehat{q_j}$。\n",
    "\n",
    "根據以上所定義的 $q$ 值，在進行多重檢定分析時，當給定一個門檻 $q^*$ ，並稱所有 $q$ 值  $\\leq q^*$ 之檢定結果為顯著時，所得結果之 $FDR \\leq q^*$ 。"
   ]
  },
  {
   "cell_type": "markdown",
   "metadata": {},
   "source": [
    "<img src=\"https://imgur.com/6zXJXmC.jpg\" width=\"30%\" height=\"30%\">"
   ]
  },
  {
   "cell_type": "markdown",
   "metadata": {},
   "source": []
  },
  {
   "cell_type": "markdown",
   "metadata": {},
   "source": [
    "#### FDR R code\n",
    "```R\n",
    "\n",
    "x <- rnorm(50, mean=c(rep(0,25), rep(3,25)))\n",
    "p <- 2*pnorm(sort(-abs(x)))\n",
    "\n",
    "FDR_test = c()\n",
    "for (i in 1:length(p)){\n",
    "  FDR_test = c(FDR_test, p[i]*length(p)/i)\n",
    "}\n",
    "for (i in length(p):2){\n",
    "  if (FDR_test[i] < FDR_test[i-1]){\n",
    "    FDR_test[i-1] = FDR_test[i]\n",
    "  }\n",
    "}\n",
    "FDR_test #FDR\n",
    "\n",
    "p.adjust(p, \"BH\", n=50) #FDR\n",
    "\n",
    "\n",
    "```"
   ]
  }
 ],
 "metadata": {
  "kernelspec": {
   "display_name": "Python 3.9.5 64-bit",
   "language": "python",
   "name": "python3"
  },
  "language_info": {
   "name": "python",
   "version": "3.9.5"
  },
  "orig_nbformat": 4,
  "vscode": {
   "interpreter": {
    "hash": "4206480afc6f8f20a91f9b30d4e9d2907612993729e8a589e2c16a111e42b69c"
   }
  }
 },
 "nbformat": 4,
 "nbformat_minor": 2
}
