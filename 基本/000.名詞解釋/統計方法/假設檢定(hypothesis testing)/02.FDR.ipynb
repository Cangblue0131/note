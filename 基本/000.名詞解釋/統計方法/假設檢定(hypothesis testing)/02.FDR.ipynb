{
 "cells": [
  {
   "cell_type": "markdown",
   "metadata": {},
   "source": [
    "## FDR （false discovery rate）\n",
    "參考網址超連結1 : [FDR錯誤發現率-P值校正學習](https://www.twblogs.net/a/5ef0c3254a766ac09210aa72)\n",
    "\n",
    "參考網址超連結2 : [ 多重檢定問題，false discovery rate (FDR)與 q 值 .pdf](http://biostat.tmu.edu.tw/oldFile/enews/ep_download/17stat.pdf)"
   ]
  },
  {
   "cell_type": "markdown",
   "metadata": {},
   "source": [
    "*   提要 :\n",
    "\n",
    "    <font color = red>當同時進行多個檢定時，犯型一錯誤之機率會增加</font> ( 例如兩檢定獨立，且 $\\alpha = 0.05$ 時，至少有一個檢定犯型一錯誤機率為 $1-0.95^2 = 0.0975 > 0.05$ )。\\\n",
    "    檢定個數越多，犯型一錯誤之機率就越高。這個現象被稱為<font color = red>多重檢定問題（multiple testing problem）</font>。\n",
    "\n",
    "\n",
    "\n",
    "*   定義 : \n",
    "\n",
    "    是統計學中常見的一個名詞，翻譯爲僞發現率，其意義爲是 <font color = red> 錯誤拒絕（拒絕真的（原）假設）的個數佔所有被拒絕的原假設個數的比例的期望值</font>。\n",
    "\n",
    "    <font color = red>FDR是個期望值</font>\n",
    "\n",
    "[圖片來源](https://www.jianshu.com/p/13f46bebebd4)\\\n",
    "<img src=\"https://upload-images.jianshu.io/upload_images/4264437-36a5108a736e06b5.png?imageMogr2/auto-orient/strip|imageView2/2/w/1200/format/webp\" width=\"50%\" height=\"50%\">\n"
   ]
  },
  {
   "cell_type": "code",
   "execution_count": null,
   "metadata": {},
   "outputs": [],
   "source": []
  },
  {
   "cell_type": "code",
   "execution_count": null,
   "metadata": {},
   "outputs": [],
   "source": []
  }
 ],
 "metadata": {
  "kernelspec": {
   "display_name": "Python 3.9.5 64-bit",
   "language": "python",
   "name": "python3"
  },
  "language_info": {
   "name": "python",
   "version": "3.9.5"
  },
  "orig_nbformat": 4,
  "vscode": {
   "interpreter": {
    "hash": "4206480afc6f8f20a91f9b30d4e9d2907612993729e8a589e2c16a111e42b69c"
   }
  }
 },
 "nbformat": 4,
 "nbformat_minor": 2
}
