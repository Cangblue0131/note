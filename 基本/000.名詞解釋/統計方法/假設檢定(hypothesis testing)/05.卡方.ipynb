{
 "cells": [
  {
   "cell_type": "markdown",
   "metadata": {},
   "source": [
    "# 卡方檢定 (Chi-Squared Test)\n",
    "\n",
    "*   是一種統計量的分布在虛無假說成立時近似服從卡方分布（$\\chi ^{2}$ 分布）的假說檢定。\n",
    "*   在沒有其他的限定條件或說明時，<font color = red>卡方檢定一般代指的是皮爾森卡方檢定</font>。其他常用的卡方檢定還有葉慈連續校正、概似比檢定、一元混成檢定等等－它們的統計值之機率分配都近似於卡方分配，故稱卡方檢定。\n",
    "*   在卡方檢定的一般運用中，研究人員將<font color = red>觀察量的值劃分成若干互斥的分類</font>，並且使用一套理論（或虛無假說）嘗試去說明觀察量的值落入不同分類的機率分布的模型。"
   ]
  },
  {
   "cell_type": "markdown",
   "metadata": {},
   "source": [
    "## 參考網址\n",
    "\n",
    "*   [Wiki](https://zh.wikipedia.org/zh-tw/%E5%8D%A1%E6%96%B9%E6%A3%80%E9%AA%8C)\n",
    "*   [皮爾森卡方檢定 Wiki](https://zh.m.wikipedia.org/zh-tw/%E7%9A%AE%E7%88%BE%E6%A3%AE%E5%8D%A1%E6%96%B9%E6%AA%A2%E5%AE%9A)"
   ]
  },
  {
   "cell_type": "markdown",
   "metadata": {},
   "source": [
    "## 皮爾森卡方檢定\n",
    "\n",
    "*   用於<font color = red>類別變數的檢定</font>。\n",
    "*   「皮爾森卡方檢定」的虛無假說（$H_0$）是：一個樣本中已發生事件的次數分配會遵守某個特定的理論分配。\n",
    "\n"
   ]
  },
  {
   "cell_type": "markdown",
   "metadata": {},
   "source": [
    "「皮爾森卡方檢定」可用於兩種情境的變項比較：<font color = red>適合度檢定</font>和<font color = red>獨立性檢定</font>。\n",
    "*   「適合度檢定」驗證一組觀察值的次數分配是否異於理論上的分配。\n",
    "*   「獨立性檢定」驗證從兩個變數抽出的配對觀察值組是否互相獨立（例如：每次都從A國和B國各抽一個人，看他們的反應是否與國籍無關）。\n",
    "\n",
    "不管哪個檢定都包含三個步驟：\n",
    "1.  計算卡方檢定的統計值「 $\\chi ^{2}$ 」：把每一個觀察值和理論值的差做平方後、除以理論值、再加總。\n",
    "2.  計算  $\\chi ^{2}$ 統計值的自由度「$df$」。\n",
    "3.  依據研究者設定的信心水準（顯著性水平、P值或對應$\\alpha$值），查出自由度為 $df$ 的卡方分配臨界值，比較它與第1步驟得出的 $\\chi ^{2}$ 統計值，推論能否拒絕虛無假說。"
   ]
  }
 ],
 "metadata": {
  "kernelspec": {
   "display_name": "Python 3.9.5 64-bit",
   "language": "python",
   "name": "python3"
  },
  "language_info": {
   "name": "python",
   "version": "3.9.5"
  },
  "orig_nbformat": 4,
  "vscode": {
   "interpreter": {
    "hash": "4206480afc6f8f20a91f9b30d4e9d2907612993729e8a589e2c16a111e42b69c"
   }
  }
 },
 "nbformat": 4,
 "nbformat_minor": 2
}
