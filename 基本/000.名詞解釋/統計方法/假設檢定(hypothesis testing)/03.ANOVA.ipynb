{
 "cells": [
  {
   "cell_type": "markdown",
   "metadata": {},
   "source": [
    "## ANOVA (變異數分析)\n",
    "<font size = 5 color = red>目的 : 檢定其各類別間平均數是否相等</font>\n",
    "\n",
    "\n",
    "[參考網址:wiki](https://zh.wikipedia.org/zh-tw/%E6%96%B9%E5%B7%AE%E5%88%86%E6%9E%90#ANOVA%E7%9A%84%E6%A8%A1%E5%BC%8F%E5%81%87%E8%A8%AD)\n",
    "\n",
    "參考書籍 : 統計學 - 李德治、童惠玲"
   ]
  },
  {
   "cell_type": "markdown",
   "metadata": {},
   "source": [
    "### 前提假設\n",
    "*   自變數(又稱解釋變數、獨立變數)為類別變數(categorical variable)\n",
    "*   依變數(又稱應變數、因變數)必須是連續變數(continuous variable)\n",
    "*   <font color = red>母群體必須是常態分佈(Normal Distribution)</font>\n",
    "*   獨立事件(Independent event)：樣本須為獨立變項(Independent variable)\n",
    "*   變異數(Variance)同質性：<font color = red>樣本間的變異數必須相等。</font>"
   ]
  },
  {
   "cell_type": "markdown",
   "metadata": {},
   "source": [
    "### 單因子變異數分析(One-way ANOVA)：只有一個自變項的變異數分析。\n",
    "\n",
    "\n",
    "[參考網站1](https://www.cyut.edu.tw/~cycheng/ftp/%BD%D5%ACd%AC%E3%A8s%A4%E8%AAk/%BD%D5%ACd%B2%CE%ADp-6%C5%DC%B2%A7%BC%C6%A4%C0%AAR%BBPF%C0%CB%A9w.pdf)\\\n",
    "[參考網站2](https://itunesu-assets.itunes.apple.com/itunes-assets/CobaltPublic3/v4/91/8e/43/918e434b-5f03-5932-ef2f-3793cafebf4d/314-8976499452160897626-15.pdf?a=v%3D3%26artistId%3D1280875126%26podcastId%3D1045845504%26podcastName%3D%25E7%25B5%25B1%25E8%25A8%2588%25E5%25AD%25B8%2528%25E4%25BA%258C%2529%2BStatistics%2BII%2B%253A%2B%25E9%2580%25B2%25E9%259A%258E%25E7%25B5%25B1%25E8%25A8%2588%26episodeId%3D1000353807943%26episodeName%3D%2528%25E8%25AC%259B%25E7%25BE%25A9%2529%2B%25E7%25AC%25AC%25E5%258D%2581%25E4%25BA%2594%25E7%25AB%25A0%2B%25E8%25AE%258A%25E7%2595%25B0%25E6%2595%25B8%25E5%2588%2586%25E6%259E%2590%26episodeKind%3Dpdf%26pageLocation%3Ditc)\n",
    "\n",
    "因子指的是分類性，所以單因子代表只有一項分類（例如班級、血型等）。\n",
    "\n",
    "模型可寫成 : $y_{ij} = \\mu_{i} + \\varepsilon_{ij}$\\\n",
    "其中 : $y_{ij} \\sim N(\\mu_i,\\sigma^2) ~;~ \\varepsilon_{ij} \\sim N(0,\\sigma^2)$ 且 $\\varepsilon_{ij}$ 互為獨立 , $i = 1,2,...k ~;~ j = 1,2,...,n$\n",
    "\n",
    "$\\alpha_i = \\mu_i - \\mu$ : 第i個處理效應(treatment effect)，並且$\\sum\\alpha = 0$。\\\n",
    "所以模型可以改寫成 : $y_{ij} = \\mu + \\alpha_i + \\varepsilon_{ij}$\n",
    "\n",
    "&emsp;\n",
    "\n",
    "$H_0 : 各組母體平均數都相等$\\\n",
    "$H_\\alpha : 並非各組母體平均數都相等$\n",
    "\n",
    "資料格式:\\\n",
    "注: 每個母體不一定是 $n$ 個樣本，所以通常會表示成 $n_1,n_2,...,n_k$\n",
    "\n",
    "<img src=\"https://i.imgur.com/AbegM2I.png\" width=\"40%\" height=\"40%\">\n"
   ]
  },
  {
   "cell_type": "markdown",
   "metadata": {},
   "source": [
    "#### One-way ANOVA table\n",
    "\n",
    "<font size = 5>符號 : </font>\n",
    "\n",
    "*   k : 組數\n",
    "\n",
    "*   N : 總樣本數 ( $\\sum n_i$ )\n",
    "\n",
    "*   $y_{k,i}$ : 第k組第i個觀察值 (上面表示成 $x_{i,k}$)\n",
    "\n",
    "*   $\\bar{y_{k}}$ : 第k組觀察值的平均值 (上面表示成 $\\bar{x_{k}}$)\n",
    "\n",
    "*   $\\bar{y}$    : 所有觀察值的平均值 (上面表示成 $\\bar{\\bar{x}}$)\n",
    "\n",
    "*   $SS_T (總變異) : \\sum\\limits_{k}\\sum\\limits_{i}(y_{k,i} - \\bar{y})^2 ~=~ n_T\\sigma_T^2 ~=~ (n_T-1)s_T^2 $\n",
    "\n",
    "*   $SS_G (組間變異, SS_A) : \\sum\\limits_{k}n_k(\\bar{y_{k}} - \\bar{y})^2 = SS_T - SS_W = SS_T - SS_E$\n",
    "\n",
    "*   $SS_W (組內變異, SS_E) : \\sum\\limits_{k}\\sum\\limits_{i}(y_{k,i} - \\bar{y_{k}})^2  = \\sum\\limits_{k}(n_k-1)(\\frac{1}{n_k-1}\\sum\\limits_{i}(y_{k,i} - \\bar{y_{k}})^2) = \\sum\\limits_{k} (n_k-1)s_k^2$\n",
    "\n",
    "*   $SS_T = SS_G + SS_W$\n",
    "\n",
    "*   $F^*$   : 若 $F^* > F_\\alpha(k-1,n-k)$，則 $ reject ~~H_0 $ 。\n",
    "\n",
    "\n",
    "<img src=\"https://i.imgur.com/R2OoUE9.png\" width=\"60%\" height=\"60%\">"
   ]
  },
  {
   "cell_type": "markdown",
   "metadata": {},
   "source": [
    "#### python"
   ]
  },
  {
   "cell_type": "code",
   "execution_count": 152,
   "metadata": {},
   "outputs": [
    {
     "data": {
      "text/html": [
       "<div>\n",
       "<style scoped>\n",
       "    .dataframe tbody tr th:only-of-type {\n",
       "        vertical-align: middle;\n",
       "    }\n",
       "\n",
       "    .dataframe tbody tr th {\n",
       "        vertical-align: top;\n",
       "    }\n",
       "\n",
       "    .dataframe thead th {\n",
       "        text-align: right;\n",
       "    }\n",
       "</style>\n",
       "<table border=\"1\" class=\"dataframe\">\n",
       "  <thead>\n",
       "    <tr style=\"text-align: right;\">\n",
       "      <th></th>\n",
       "      <th>平方和</th>\n",
       "      <th>自由度</th>\n",
       "      <th>平均平方和</th>\n",
       "      <th>F</th>\n",
       "    </tr>\n",
       "  </thead>\n",
       "  <tbody>\n",
       "    <tr>\n",
       "      <th>因子(組間)</th>\n",
       "      <td>9.632072e+06</td>\n",
       "      <td>11.0</td>\n",
       "      <td>875642.934584</td>\n",
       "      <td>34792.909069</td>\n",
       "    </tr>\n",
       "    <tr>\n",
       "      <th>隨機(組內)</th>\n",
       "      <td>5.788475e+03</td>\n",
       "      <td>230.0</td>\n",
       "      <td>25.167281</td>\n",
       "      <td>NaN</td>\n",
       "    </tr>\n",
       "    <tr>\n",
       "      <th>總和</th>\n",
       "      <td>9.637861e+06</td>\n",
       "      <td>241.0</td>\n",
       "      <td>NaN</td>\n",
       "      <td>NaN</td>\n",
       "    </tr>\n",
       "  </tbody>\n",
       "</table>\n",
       "</div>"
      ],
      "text/plain": [
       "                  平方和  自由度     平均平方和             F\n",
       "因子(組間)  9.632072e+06    11.0  875642.934584  34792.909069\n",
       "隨機(組內)  5.788475e+03   230.0      25.167281           NaN\n",
       "總和        9.637861e+06   241.0            NaN           NaN"
      ]
     },
     "execution_count": 152,
     "metadata": {},
     "output_type": "execute_result"
    }
   ],
   "source": [
    "from pickle import FALSE\n",
    "import numpy as np\n",
    "import pandas as pd\n",
    "\n",
    "##input\n",
    "G = 12 #組別\n",
    "\n",
    "\n",
    "\n",
    "##建立資料\n",
    "data = {}\n",
    "n = []\n",
    "for i in range(G):\n",
    "    ni = np.random.randint(12,30)\n",
    "    data[\"母體{}\".format(i+1)] = np.random.normal(loc = 10, scale = 5 ,size = ni)\n",
    "    n.append(ni)\n",
    "N = np.sum(n) #總樣本數\n",
    "\n",
    "##處理資料(python 不同長度製作成data frame很麻煩，所以直接處理資料在製作，之後計算也比較方便)\n",
    "pre_ = [\"ni\",\"xbar\",'std'] #小母體樣本數,平均值,樣本標準差\n",
    "pre_data = {\"ni\"   : [ len(data[i]) for i in data.keys()],\n",
    "            'xbar' : [ np.mean(data[i]) for i in data.keys()] ,\n",
    "            's2'  :  [ np.var(data[i],ddof = 1) for i in data.keys()]}\n",
    "df = pd.DataFrame(pre_data)\n",
    "df.index = data.keys()\n",
    "df\n",
    "\n",
    "##run\n",
    "all_mean = np.mean(df['ni'] * df['xbar']) #sum(ni*xbar/sum(ni))\n",
    "SSG =np.sum(df['ni']*(df['xbar']-all_mean)**2)  #sum(nk(xbar-xbarbar))\n",
    "SSW = np.sum((df['ni']-1) * df['s2'] ) #sum((nk-1)*sk^2)\n",
    "SST = SSG + SSW\n",
    "\n",
    "SS = [SSG,SSW,SST]\n",
    "df = [G-1,N-G,N-1]\n",
    "MS = [SS[0]/df[0],SS[1]/df[1],np.NaN]\n",
    "F = [ MS[0]/MS[1],np.NaN,np.NAN]\n",
    "\n",
    "ANOVA_df = pd.DataFrame([SS,df,MS,F]).T\n",
    "ANOVA_df.index = [\"因子(組間)\",\"隨機(組內)\",\"總和\"]\n",
    "ANOVA_df.columns = [\"平方和\",\"自由度\",\"平均平方和\",\"F\"]\n",
    "\n",
    "ANOVA_df #用print 會沒對齊\n",
    "\n"
   ]
  },
  {
   "cell_type": "code",
   "execution_count": 150,
   "metadata": {},
   "outputs": [
    {
     "data": {
      "text/plain": [
       "3"
      ]
     },
     "execution_count": 150,
     "metadata": {},
     "output_type": "execute_result"
    }
   ],
   "source": []
  },
  {
   "cell_type": "markdown",
   "metadata": {},
   "source": [
    "### 雙因子變異數分析 (two way ANOVA)\n",
    "\n",
    "雙因子代表有兩種分類性(A因子、B因子)，例如血型 (A,B,AB,O) 和 性別，所以種個有 4*2 = 8 種類別。\n",
    "\n",
    "*   簡述:\n",
    "    \n",
    "    two way ANOVA 分成 <font size = 4 color = red>未重複實驗</font> 和 <font size = 4 color = red>重複實驗</font>，差別在於每個種類是否僅抽取一個觀察值 (未重複試驗 例如 :A1肥料B1品種只取1次收穫量,A2B1也是...)。\n"
   ]
  },
  {
   "cell_type": "code",
   "execution_count": null,
   "metadata": {},
   "outputs": [],
   "source": []
  }
 ],
 "metadata": {
  "kernelspec": {
   "display_name": "Python 3.9.5 64-bit",
   "language": "python",
   "name": "python3"
  },
  "language_info": {
   "codemirror_mode": {
    "name": "ipython",
    "version": 3
   },
   "file_extension": ".py",
   "mimetype": "text/x-python",
   "name": "python",
   "nbconvert_exporter": "python",
   "pygments_lexer": "ipython3",
   "version": "3.9.5"
  },
  "orig_nbformat": 4,
  "vscode": {
   "interpreter": {
    "hash": "4206480afc6f8f20a91f9b30d4e9d2907612993729e8a589e2c16a111e42b69c"
   }
  }
 },
 "nbformat": 4,
 "nbformat_minor": 2
}
