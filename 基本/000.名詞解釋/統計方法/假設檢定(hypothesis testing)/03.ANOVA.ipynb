{
 "cells": [
  {
   "cell_type": "markdown",
   "metadata": {},
   "source": [
    "## ANOVA (變異數分析)\n",
    "<font size = 5 color = red>目的 : 檢定其各類別間平均數是否相等</font>\n",
    "\n",
    "\n",
    "[參考網址:wiki](https://zh.wikipedia.org/zh-tw/%E6%96%B9%E5%B7%AE%E5%88%86%E6%9E%90#ANOVA%E7%9A%84%E6%A8%A1%E5%BC%8F%E5%81%87%E8%A8%AD)"
   ]
  },
  {
   "cell_type": "markdown",
   "metadata": {},
   "source": [
    "### 前提假設\n",
    "*   自變數為類別變數(categorical variable)\n",
    "*   依變數必須是連續變數(continuous variable)\n",
    "*   <font color = red>母群體必須是常態分佈(Normal Distribution)</font>\n",
    "*   獨立事件(Independent event)：樣本須為獨立變項(Independent variable)\n",
    "*   變異數(Variance)同質性：<font color = red>樣本間的變異數必須相等。</font>"
   ]
  },
  {
   "cell_type": "markdown",
   "metadata": {},
   "source": [
    "### 單因子變異數分析(One-way ANOVA)：只有一個自變項的變異數分析。\n",
    "\n",
    "\n",
    "[參考網站1](https://www.cyut.edu.tw/~cycheng/ftp/%BD%D5%ACd%AC%E3%A8s%A4%E8%AAk/%BD%D5%ACd%B2%CE%ADp-6%C5%DC%B2%A7%BC%C6%A4%C0%AAR%BBPF%C0%CB%A9w.pdf)\\\n",
    "[參考網站2](https://itunesu-assets.itunes.apple.com/itunes-assets/CobaltPublic3/v4/91/8e/43/918e434b-5f03-5932-ef2f-3793cafebf4d/314-8976499452160897626-15.pdf?a=v%3D3%26artistId%3D1280875126%26podcastId%3D1045845504%26podcastName%3D%25E7%25B5%25B1%25E8%25A8%2588%25E5%25AD%25B8%2528%25E4%25BA%258C%2529%2BStatistics%2BII%2B%253A%2B%25E9%2580%25B2%25E9%259A%258E%25E7%25B5%25B1%25E8%25A8%2588%26episodeId%3D1000353807943%26episodeName%3D%2528%25E8%25AC%259B%25E7%25BE%25A9%2529%2B%25E7%25AC%25AC%25E5%258D%2581%25E4%25BA%2594%25E7%25AB%25A0%2B%25E8%25AE%258A%25E7%2595%25B0%25E6%2595%25B8%25E5%2588%2586%25E6%259E%2590%26episodeKind%3Dpdf%26pageLocation%3Ditc)\n",
    "\n",
    "因子指的是依變數，所以單因子代表只有一項依變數（自變數可以有很多種）。\n",
    "\n",
    "模型可寫成 : $y_{ij} = \\mu_{i} + \\varepsilon_{ij}$\\\n",
    "其中 : $y_{ij} \\sim N(\\mu_i,\\sigma^2) ~;~ \\varepsilon_{ij} \\sim N(0,\\sigma^2)$ 且 $\\varepsilon_{ij}$ 互為獨立 , $i = 1,2,...k ~;~ j = 1,2,...,n$\n",
    "\n",
    "$\\alpha_i = \\mu_i - \\mu$ : 第i個處理效應(treatment effect)，並且$\\sum\\alpha = 0$。\\\n",
    "所以模型可以改寫成 : $y_{ij} = \\mu + \\alpha_i + \\varepsilon_{ij}$\n",
    "\n",
    "&emsp;\n",
    "\n",
    "$H_0 : 各組母體平均數都相等$\\\n",
    "$H_\\alpha : 並非各組母體平均數都相等$\n",
    "\n",
    "<font size = 5>符號 : </font>\n",
    "\n",
    "*   k : 組數\n",
    "\n",
    "*   N : 總樣本數\n",
    "\n",
    "*   $y_{k,i}$ : 第k組第i個觀察值\n",
    "\n",
    "*   $\\bar{y_{k}}$ : 第k組觀察值的平均值\n",
    "\n",
    "*   $\\bar{y}$    : 所有觀察值的平均值\n",
    "\n",
    "*   $SS_T (總變異) : \\sum\\limits_{k}\\sum\\limits_{i}(y_{k,i} - \\bar{y})^2$\n",
    "\n",
    "*   $SS_G (組間變異) : \\sum\\limits_{k}n_k(\\bar{y_{k}} - \\bar{y})^2$\n",
    "\n",
    "*   $SS_W (組內變異) : \\sum\\limits_{k}\\sum\\limits_{i}(y_{k,i} - \\bar{y_{k}})^2$\n",
    "\n",
    "*   $SS_T = SS_G + SS_W$\n",
    "\n",
    "*   $F^*$   : 若 $F^* > F_\\alpha(k-1,n-k)$，則 $ reject ~~H_0 $ 。\n",
    "\n",
    "<img src=\"https://i.imgur.com/R2OoUE9.png\" width=\"60%\" height=\"60%\">\n"
   ]
  },
  {
   "cell_type": "markdown",
   "metadata": {},
   "source": [
    "#### 多重比較法(Multiple-Comparison Procedure)\n",
    "目的 : 若ANOVA分析結果為顯著時，可以用來找出哪幾組和其他組間有顯著差異。\n",
    "\n",
    "常用的多重比較法 : Bonferroni, Sheffee, Tukey, Newman-Keuls與Dunnett方法\n",
    "\n",
    "*   LSD(Least Significant Difference)法 :相當於進行所有配對組多重比較的 t 檢定 優點是容易找到較多\"顯著\"的兩兩比較結果. 缺點則是犯型一錯誤的機率會增加.\n",
    "\n",
    "*   費雪法（Scheffe's Method) : [待補](https://www.youtube.com/watch?v=OXC0iXeMJts)\n",
    "\n",
    "*   Tukey法 : Tukey多重比較法是將每一個試驗組與每一個試驗組逐一比較。如果試驗組與控制組的樣本數目不相等，Tukey法是最佳選擇。\\\n",
    "待補 : [參考網址2](https://en.wikipedia.org/wiki/Tukey's_range_test)\n",
    "\n",
    "*   Newman – Keuls法 : Newman- Keuls法與Tukey法非常相似，但是Newman- Keuls法對於每一個比較可以都有各自的α值。此方法因此可以執行更多的比對，因此其檢定力比Tukey法更強大。\n",
    "待補 : [參考網址2](https://en.wikipedia.org/wiki/Newman%E2%80%93Keuls_method)\n",
    "\n",
    "\n"
   ]
  },
  {
   "cell_type": "markdown",
   "metadata": {},
   "source": []
  },
  {
   "cell_type": "code",
   "execution_count": null,
   "metadata": {},
   "outputs": [],
   "source": []
  }
 ],
 "metadata": {
  "kernelspec": {
   "display_name": "Python 3.9.5 64-bit",
   "language": "python",
   "name": "python3"
  },
  "language_info": {
   "name": "python",
   "version": "3.9.5"
  },
  "orig_nbformat": 4,
  "vscode": {
   "interpreter": {
    "hash": "4206480afc6f8f20a91f9b30d4e9d2907612993729e8a589e2c16a111e42b69c"
   }
  }
 },
 "nbformat": 4,
 "nbformat_minor": 2
}
