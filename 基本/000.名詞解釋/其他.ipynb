{
 "cells": [
  {
   "cell_type": "markdown",
   "metadata": {},
   "source": [
    "## 其他"
   ]
  },
  {
   "attachments": {},
   "cell_type": "markdown",
   "metadata": {},
   "source": [
    "#### 變數\n",
    "*   自變數(又稱解釋變數、獨立變數、自變量) : 簡單來說就是X\n",
    "*   依變數(又稱應變數、因變數、依變量) : 簡單來說就是Y\n",
    "\n",
    "---"
   ]
  },
  {
   "attachments": {},
   "cell_type": "markdown",
   "metadata": {},
   "source": [
    "[誤差 (error) 與殘差 (residual)](https://zh.wikipedia.org/zh-tw/%E8%AF%AF%E5%B7%AE)\n",
    "\n",
    "*   誤差 (error) : 樣本與母體平均數的差 $ e_i = X_i - \\mu$，其期望值為０。\n",
    "*   殘差 (residual) : 樣本與樣本平均數的差 $r_i = X_i - \\bar{X}$\n",
    "\n",
    "---"
   ]
  },
  {
   "cell_type": "markdown",
   "metadata": {},
   "source": [
    "#### [效益值](https://zh.wikipedia.org/wiki/%E6%95%88%E5%BA%94%E5%80%BC)\n",
    "效應值（英語：effect size，或譯效果量）是量化現象強度的數值。效應值實際的統計量包括了兩個變數間的相關程度、迴歸模型中的迴歸係數、不同處理間平均值的差異……等等。<font color = red>無論哪種效應值，其絕對值越大表示效應越強</font>，也就是現象越明顯。\\\n",
    "效應值與特效檢驗的概念是互補的。在估算統計檢定力、需要的樣本數與進行統合分析時，效應值經常扮演重要角色。\n",
    "\n",
    "---"
   ]
  },
  {
   "cell_type": "markdown",
   "metadata": {},
   "source": [
    "####   交互作用 \n",
    "待補\n",
    "\n",
    "---"
   ]
  },
  {
   "cell_type": "markdown",
   "metadata": {},
   "source": [
    "#### 研究方法\n",
    "[參考資料](https://chungyizhen.medium.com/%E7%82%BA%E4%BB%80%E9%BA%BC%E9%83%BD%E7%94%A8-%E5%8B%9D%E7%AE%97%E6%AF%94-odds-ratio-or-%E8%80%8C%E4%B8%8D%E6%98%AF-%E7%9B%B8%E5%B0%8D%E9%A2%A8%E9%9A%AA-rr-%E5%91%A2-5c62fe84787c)\n",
    "*   前瞻性研究：主要是長時間的研究調查，觀察某些因素在長時間的影響。\n",
    "*   回溯性研究：在已有資料中，尋找過去以前的相關因素及其結果，時間跟成本上較為節省。\n",
    "\n",
    "---"
   ]
  },
  {
   "cell_type": "markdown",
   "metadata": {},
   "source": [
    "#### 資料型態\n",
    "1.  名目尺度(Nominal Scale) : 資料分類無屬性大小之分 (沒有數學上的意義)。根據特徵的性質做分類，純粹用來分辨不同的性質。\n",
    "    *   例如 : 性別、星座\n",
    "    *   分析時以數值代表，例如以 1,0 表示 男,女，但是沒有大小之分(也可改以0,1表示)\n",
    "\n",
    "    $\\\\$\n",
    "2.  順序尺度（Ordinal Scale）: 除了可區分類別外，尚具備順序的概念(資料的排序是具意義的)，可能為互斥或週延。\n",
    "    *   例如 : 金銀銅牌\n",
    "    *   分析時可以轉換為數值，例如金銀銅轉換為0,1,2，有順序之分(不可轉為2,0,1，會失去排序上的意義。)\n",
    "\n",
    "    $\\\\$\n",
    "3.  區間尺度（Interval Scale）\n",
    "    *   例如 : 年分、智商\n",
    "    *   為數字型態的資料，且數字有真正數學上的意義，但是缺乏實質意義，只有相對的零點，並無絕對的零點。區間尺度的資料本身反應了相對的差距，是具標準化單位的測量工具，必須避免做乘除上的比較。例如年分可以做差的運算，但乘除則無意義。\n",
    "\n",
    "    $\\\\$\n",
    "4.  比例尺度（Ratio Scale） : 有以上三種尺度的所有特性外，各數值間具有等差與比率的關係，能衡量數值之間實質的差異，因此可做加減乘除所有的數學運算。\n",
    "    *   例如 : 長度、質量等。\n",
    "    *   為數字型態的資料，具備數字及實質上的意義，也有絕對零點的概念。\n",
    "\n",
    "| 名稱 | 可用的邏輯與數學運算公式              | 集中趨勢的計算                                       | 離散趨勢的計算  | 屬性/計算  |\n",
    "| ---- |:------------------------------------:| ----------------------------------------------------:|:---------------:| -----:|\n",
    "| 名目 | 等於、不等於                          | 眾數                                                 |   無            | 屬性 |\n",
    "| 順序 | 等於、不等於、大小於                  | 眾數、中位數                                         | 分位數          | 屬性 |\n",
    "| 區間 | 等於、不等於、大小於、加、減          | 眾數、中位數、算術平均數                             | 分位數、全距     | 計算 |\n",
    "| 比例 | 等於、不等於、大小於、加、減、乘、除  | 眾數、中位數、算術平均數、幾何平均數、調和平均數等    | 分位數、全距、標準差、變異係數等 | 計算 |\n",
    "\n",
    "\n",
    "[資料分析前，必須知道的四種數據類型 - 知勢](https://edge.aif.tw/data-lab-data-type/)"
   ]
  },
  {
   "cell_type": "markdown",
   "metadata": {},
   "source": []
  }
 ],
 "metadata": {
  "kernelspec": {
   "display_name": "Python 3.9.5 64-bit",
   "language": "python",
   "name": "python3"
  },
  "language_info": {
   "codemirror_mode": {
    "name": "ipython",
    "version": 3
   },
   "file_extension": ".py",
   "mimetype": "text/x-python",
   "name": "python",
   "nbconvert_exporter": "python",
   "pygments_lexer": "ipython3",
   "version": "3.9.5 (tags/v3.9.5:0a7dcbd, May  3 2021, 17:27:52) [MSC v.1928 64 bit (AMD64)]"
  },
  "orig_nbformat": 4,
  "vscode": {
   "interpreter": {
    "hash": "4206480afc6f8f20a91f9b30d4e9d2907612993729e8a589e2c16a111e42b69c"
   }
  }
 },
 "nbformat": 4,
 "nbformat_minor": 2
}
