{
 "cells": [
  {
   "cell_type": "markdown",
   "metadata": {},
   "source": [
    "## 其他"
   ]
  },
  {
   "cell_type": "markdown",
   "metadata": {},
   "source": [
    "#### [效益值](https://zh.wikipedia.org/wiki/%E6%95%88%E5%BA%94%E5%80%BC)\n",
    "效應值（英語：effect size，或譯效果量）是量化現象強度的數值。效應值實際的統計量包括了兩個變數間的相關程度、迴歸模型中的迴歸係數、不同處理間平均值的差異……等等。<font color = red>無論哪種效應值，其絕對值越大表示效應越強</font>，也就是現象越明顯。\\\n",
    "效應值與特效檢驗的概念是互補的。在估算統計檢定力、需要的樣本數與進行統合分析時，效應值經常扮演重要角色。"
   ]
  }
 ],
 "metadata": {
  "kernelspec": {
   "display_name": "Python 3.9.5 64-bit",
   "language": "python",
   "name": "python3"
  },
  "language_info": {
   "codemirror_mode": {
    "name": "ipython",
    "version": 3
   },
   "file_extension": ".py",
   "mimetype": "text/x-python",
   "name": "python",
   "nbconvert_exporter": "python",
   "pygments_lexer": "ipython3",
   "version": "3.9.5"
  },
  "orig_nbformat": 4,
  "vscode": {
   "interpreter": {
    "hash": "4206480afc6f8f20a91f9b30d4e9d2907612993729e8a589e2c16a111e42b69c"
   }
  }
 },
 "nbformat": 4,
 "nbformat_minor": 2
}
