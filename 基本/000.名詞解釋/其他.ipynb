{
 "cells": [
  {
   "cell_type": "markdown",
   "metadata": {},
   "source": [
    "## 其他"
   ]
  },
  {
   "cell_type": "markdown",
   "metadata": {},
   "source": [
    "#### [效益值](https://zh.wikipedia.org/wiki/%E6%95%88%E5%BA%94%E5%80%BC)\n",
    "效應值（英語：effect size，或譯效果量）是量化現象強度的數值。效應值實際的統計量包括了兩個變數間的相關程度、迴歸模型中的迴歸係數、不同處理間平均值的差異……等等。<font color = red>無論哪種效應值，其絕對值越大表示效應越強</font>，也就是現象越明顯。\\\n",
    "效應值與特效檢驗的概念是互補的。在估算統計檢定力、需要的樣本數與進行統合分析時，效應值經常扮演重要角色。\n",
    "\n",
    "---"
   ]
  },
  {
   "cell_type": "markdown",
   "metadata": {},
   "source": [
    "#### 變數\n",
    "*   自變數(又稱解釋變數、獨立變數、自變量) : 簡單來說就是X\n",
    "*   依變數(又稱應變數、因變數、依變量) : 簡單來說就是Y\n",
    "\n",
    "---"
   ]
  },
  {
   "cell_type": "markdown",
   "metadata": {},
   "source": [
    "####   交互作用 \n",
    "待補\n",
    "\n",
    "---"
   ]
  },
  {
   "cell_type": "markdown",
   "metadata": {},
   "source": [
    "#### 研究方法\n",
    "[參考資料](https://chungyizhen.medium.com/%E7%82%BA%E4%BB%80%E9%BA%BC%E9%83%BD%E7%94%A8-%E5%8B%9D%E7%AE%97%E6%AF%94-odds-ratio-or-%E8%80%8C%E4%B8%8D%E6%98%AF-%E7%9B%B8%E5%B0%8D%E9%A2%A8%E9%9A%AA-rr-%E5%91%A2-5c62fe84787c)\n",
    "*   前瞻性研究：主要是長時間的研究調查，觀察某些因素在長時間的影響。\n",
    "*   回溯性研究：在已有資料中，尋找過去以前的相關因素及其結果，時間跟成本上較為節省。"
   ]
  }
 ],
 "metadata": {
  "kernelspec": {
   "display_name": "Python 3.9.5 64-bit",
   "language": "python",
   "name": "python3"
  },
  "language_info": {
   "codemirror_mode": {
    "name": "ipython",
    "version": 3
   },
   "file_extension": ".py",
   "mimetype": "text/x-python",
   "name": "python",
   "nbconvert_exporter": "python",
   "pygments_lexer": "ipython3",
   "version": "3.9.5"
  },
  "orig_nbformat": 4,
  "vscode": {
   "interpreter": {
    "hash": "4206480afc6f8f20a91f9b30d4e9d2907612993729e8a589e2c16a111e42b69c"
   }
  }
 },
 "nbformat": 4,
 "nbformat_minor": 2
}
