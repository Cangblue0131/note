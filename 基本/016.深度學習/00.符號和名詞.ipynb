{
 "cells": [
  {
   "cell_type": "markdown",
   "metadata": {},
   "source": [
    "## 符號\n",
    "$\\eta :~ $ 學習率\\\n",
    "$\\theta :~ $ 係數，或常以 $W$ 表示\\\n",
    "$\\nabla_\\theta J(\\theta) :~ $ 梯度，$J$ 常以 $L$ 表示 loss function"
   ]
  },
  {
   "cell_type": "markdown",
   "metadata": {},
   "source": [
    "## 其他名詞\n",
    "*   參數(parameters, 或稱引數) : 模型根據訓練資料自動學習出來的變量，例如權重(W)、偏差(B)。\n",
    "\n",
    "*   超參數(hyperparameters, 或稱超引數) : 超參數即是在模型訓練之前，事先根據經驗給定的參數，而不同的超參數，訓練出來的模型也不相同。例如神經網路的超參數有學習率、迭代次數、隱藏層數等，亦或者決策數(Decision Tree)中樹的深度、節點最小樣本數也都屬於超參數。\\\n",
    "（ 超參數會對於模型結果會有直接影響，因此在建模過程中，通常會預設一組超參數，之後再慢慢調整。）\\\n",
    "[參考](https://www.cupoy.com/qa/club/ai_tw/0000016D6BA22D97000000016375706F795F72656C656173654B5741535354434C5542/0000017B7B636BB1000000266375706F795F72656C656173655155455354)"
   ]
  },
  {
   "cell_type": "markdown",
   "metadata": {},
   "source": [
    "<img src=\"https://miro.medium.com/max/720/1*CLHH0K74WXkLqcrdnXPLQw.png\" width=\"50%\" height=\"50%\">"
   ]
  },
  {
   "cell_type": "code",
   "execution_count": null,
   "metadata": {},
   "outputs": [],
   "source": []
  }
 ],
 "metadata": {
  "kernelspec": {
   "display_name": "Python 3.9.5 64-bit",
   "language": "python",
   "name": "python3"
  },
  "language_info": {
   "name": "python",
   "version": "3.9.5"
  },
  "orig_nbformat": 4,
  "vscode": {
   "interpreter": {
    "hash": "4206480afc6f8f20a91f9b30d4e9d2907612993729e8a589e2c16a111e42b69c"
   }
  }
 },
 "nbformat": 4,
 "nbformat_minor": 2
}
