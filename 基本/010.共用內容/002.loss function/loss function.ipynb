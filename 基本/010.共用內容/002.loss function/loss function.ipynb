{
 "cells": [
  {
   "cell_type": "markdown",
   "metadata": {},
   "source": [
    "## loss function (損失函數)\n",
    "損失函數（loss function）又叫做代價函數（cost function），是用來評估模型的預測值與真實值不一致的程度，也是神經網絡中優化的目標函數，神經網絡訓練或者優化的過程就是最小化損失函數的過程，損失函數越小，說明模型的預測值就越接近真實值，模型的健壯性也就越好\n",
    "\n",
    "常用的損失函數\n",
    "*   0-1損失函數(0-1 lossfunction)\n",
    "*   感知損失函數（Perceptron Loss）\n",
    "*   平方損失函數（quadratic loss function）\n",
    "    *   平均後就是MSE\n",
    "*   Hinge損失函數（hinge loss function）\n",
    "*   對數損失函數（Log Loss）\n",
    "*   交叉熵損失函數（cross-entropy loss function）\n"
   ]
  },
  {
   "cell_type": "markdown",
   "metadata": {},
   "source": [
    "[參考資料 : 深度學習入門教程：常見的損失函數大全](https://kknews.cc/code/9opor8j.html)"
   ]
  }
 ],
 "metadata": {
  "kernelspec": {
   "display_name": "Python 3.9.5 64-bit",
   "language": "python",
   "name": "python3"
  },
  "language_info": {
   "codemirror_mode": {
    "name": "ipython",
    "version": 3
   },
   "file_extension": ".py",
   "mimetype": "text/x-python",
   "name": "python",
   "nbconvert_exporter": "python",
   "pygments_lexer": "ipython3",
   "version": "3.9.5"
  },
  "orig_nbformat": 4,
  "vscode": {
   "interpreter": {
    "hash": "4206480afc6f8f20a91f9b30d4e9d2907612993729e8a589e2c16a111e42b69c"
   }
  }
 },
 "nbformat": 4,
 "nbformat_minor": 2
}
