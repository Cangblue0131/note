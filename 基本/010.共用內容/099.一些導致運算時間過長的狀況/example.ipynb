{
 "cells": [
  {
   "attachments": {},
   "cell_type": "markdown",
   "metadata": {},
   "source": [
    "## DataFrame 運算上的例子1\n",
    "\n",
    "進行 feature selection 時, 會有把不同 label 的結果分開去做的時候 (例如 BW ratio). 這時<font color = orange>如果 sample 跟 feature 一起進行, 則會造成運算時間上的浪費, 所以要分開做.</font>\n",
    "\n",
    "舉例來說, row 是 sample ($y=0,1$), col 是 feature 的 data. 每個 feature 都要做 BW ratio, 不要每次取一個 feature 時, 都去把 row 的 $0,1$ 分出來, 而是先把 row 的 $0,1$ 分出來後再去取 feature.\n",
    "\n",
    "主要原因在於, <font color = orange>如果 label 跟 feature 一起進行, 每次算 feature 都會找一次 label; 如果先找 label 再找 feature, 則只會需要找一次的 label.</font> \n",
    "\n",
    "*   假設每個步驟都算一次執行, 每個 sample 都看一次 label, 則會需要看 nrow 次. 每次都要決定要算哪個 featrue, 所以會決定 ncol 次. \n",
    "*   如果 label 跟 feature 一起進行, 因為每次算 feature 都會找一次 label, 所以會需要進行 nrow * ncol 次.\n",
    "*   如果先找 label 再找 feature, 則只會需要找一次的 label, 所以只需要進行 nrow + ncol 次\n",
    "\n",
    "以下以計算各個 feature 在不同 label 的情況下, mean 是多少為例."
   ]
  },
  {
   "cell_type": "code",
   "execution_count": 104,
   "metadata": {},
   "outputs": [],
   "source": [
    "import pandas as pd\n",
    "import numpy as np\n",
    "import time"
   ]
  },
  {
   "cell_type": "code",
   "execution_count": 148,
   "metadata": {},
   "outputs": [],
   "source": [
    "np.random.seed(1)\n",
    "X = np.random.random((200,10001)) # X1~X1000\n",
    "X[:,0] = np.random.binomial(1,0.6, 200)  # Y\n",
    "data = pd.DataFrame(X) \n",
    "data[0] = data[0].astype('int') # 修改 Y 的 type\n",
    "#data"
   ]
  },
  {
   "cell_type": "code",
   "execution_count": 149,
   "metadata": {},
   "outputs": [
    {
     "name": "stdout",
     "output_type": "stream",
     "text": [
      "71.04712677001953\n"
     ]
    }
   ],
   "source": [
    "## 用比較花時間的方法計算每個 feature 在不同 label 的 mean\n",
    "T1 = time.time()\n",
    "N = len(data.columns) - 1\n",
    "feature_mean_0 = []\n",
    "feature_mean_1 = []\n",
    "for i in range(N):\n",
    "    feature_mean_0.append(np.mean(data[data[0] == 0][i + 1]))\n",
    "    feature_mean_1.append(np.mean(data[data[0] == 1][i + 1]))\n",
    "T2 = time.time()\n",
    "print(T2-T1)\n"
   ]
  },
  {
   "cell_type": "code",
   "execution_count": 150,
   "metadata": {},
   "outputs": [
    {
     "name": "stdout",
     "output_type": "stream",
     "text": [
      "1.8956003189086914\n"
     ]
    }
   ],
   "source": [
    "## 用比較省時間的方法計算每個 feature 在不同 label 的 mean\n",
    "T1 = time.time()\n",
    "N = len(data.columns) - 1\n",
    "Feature_mean_0 = []\n",
    "Feature_mean_1 = []\n",
    "data1 = data[data[0] == 0]\n",
    "data2 = data[data[0] == 1]\n",
    "for i in range(N):\n",
    "    Feature_mean_0.append(np.mean(data1[i + 1]))\n",
    "    Feature_mean_1.append(np.mean(data2[i + 1]))\n",
    "T2 = time.time()\n",
    "print(T2-T1)"
   ]
  },
  {
   "cell_type": "code",
   "execution_count": 151,
   "metadata": {},
   "outputs": [
    {
     "name": "stdout",
     "output_type": "stream",
     "text": [
      "相同\n"
     ]
    }
   ],
   "source": [
    "s = 0\n",
    "for i in range(N):\n",
    "    if feature_mean_0[i] != Feature_mean_0[i]:\n",
    "        s += 1\n",
    "        print('不同')\n",
    "if s == 0:\n",
    "    print('相同')"
   ]
  }
 ],
 "metadata": {
  "kernelspec": {
   "display_name": "Python 3",
   "language": "python",
   "name": "python3"
  },
  "language_info": {
   "codemirror_mode": {
    "name": "ipython",
    "version": 3
   },
   "file_extension": ".py",
   "mimetype": "text/x-python",
   "name": "python",
   "nbconvert_exporter": "python",
   "pygments_lexer": "ipython3",
   "version": "3.9.5"
  },
  "orig_nbformat": 4,
  "vscode": {
   "interpreter": {
    "hash": "4206480afc6f8f20a91f9b30d4e9d2907612993729e8a589e2c16a111e42b69c"
   }
  }
 },
 "nbformat": 4,
 "nbformat_minor": 2
}
