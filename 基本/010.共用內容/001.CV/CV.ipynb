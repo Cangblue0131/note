{
 "cells": [
  {
   "cell_type": "markdown",
   "metadata": {},
   "source": [
    "# Cross-validation (CV, 交叉驗證)\n",
    "\n",
    "<font size = 5>目的 : 防止模型過於複雜而引起過度擬合 (overfitting)</font>"
   ]
  },
  {
   "cell_type": "markdown",
   "metadata": {},
   "source": [
    "交叉驗證主要分為以下幾類\n",
    "1.  K-folder CV:\n",
    "\n",
    "    將訓練集分成 k 個子集，每個子集都做一次測試集，其他子集做訓練集。最後將 k 次的結果(AUC或Acc)平均，則得到 CV score，以此當作結果。\n",
    "    \n",
    "2.  KK-folder CV\n",
    "\n",
    "    和 K-folder CV 相似，但是此把 k 個子集平均分成 2 個子集(s0,s1)。用 s0 當訓練 s1 當測試; s1 當訓練 s0 當測試。可以想像成把資料分成 k 份後再做一次 k-folder CV。\n",
    "    \n",
    "3.  least-one-out CV (LOOCV)\n",
    "\n",
    "    依照要本數去決定 k-folder 的 k 值。例如假設有 n 個樣本，則使用 k-folder CV，這裡 k = n 。\n",
    "\n",
    "    優點 :\n",
    "    1.  每一次 fit model 時，每個樣本幾乎都被使用到，所以 model 會最接近母體樣本的分佈。\n",
    "    2.  實驗中沒有隨機因素會影響結果\n",
    "\n",
    "    缺點 :\n",
    "    1.  相較前兩者，計算成本較高。\n",
    "    "
   ]
  },
  {
   "cell_type": "markdown",
   "metadata": {},
   "source": [
    "10 fold 圖例:\n",
    "\n",
    "<img src=\"https://i.imgur.com/tLWEE80.png\" width=\"50%\" height=\"50%\">"
   ]
  },
  {
   "cell_type": "markdown",
   "metadata": {},
   "source": [
    "CV 除了預防 overfitting ，也有其他用途。例如：\n",
    "*   在 Logistic ridge regression 要用 training set fit model 時，必須去決定 $\\lambda$ (tuning parameter) ，此時可以利用 CV 的方式去尋找。(KNN 的K 也同樣)\n",
    "*   完整資料 (沒有分training set, test set) 中，利用 CV 去分 training 跟 test 。\n",
    "*   ...\n"
   ]
  },
  {
   "cell_type": "code",
   "execution_count": null,
   "metadata": {},
   "outputs": [],
   "source": []
  },
  {
   "cell_type": "markdown",
   "metadata": {},
   "source": [
    "### python\n",
    "*   kfold = [KFold](https://scikit-learn.org/stable/modules/generated/sklearn.model_selection.KFold.html)(n_splits = k, shuffle = True/False , random_state = int )\n",
    "    *   n_splits : 幾次cv, default=5\n",
    "    *   shuffle : 是否重新洗牌 (index改變) ? 若為 false , 則不用放 random_state , 因為 index 不會改變, default=False\n",
    "    *   random_state : 種子碼，若 shuffle = True , 則要填寫。 default=None\n",
    "*   scores = [cross_val_score](https://scikit-learn.org/stable/modules/generated/sklearn.model_selection.cross_val_score.html)(estimator, X, y=None, * , groups=None, scoring=None, cv=None, n_jobs=None, verbose=0, fit_params=None, pre_dispatch='2*n_jobs', error_score=nan)\n",
    "    *   estimator : model\n",
    "    *   cv : cv值，可以放入 kfold(n_splits = k, shuffle = True/False , random_state = int )\n",
    "    *   scoring : 評分標準(例如: 'accuracy' 或 'roc_auc')，參考下圖。\n"
   ]
  },
  {
   "cell_type": "markdown",
   "metadata": {},
   "source": [
    "[圖片來源 : Metrics and scoring: quantifying the quality of predictions](https://scikit-learn.org/stable/modules/model_evaluation.html)\n",
    "\n",
    "<img src=\"https://img-blog.csdn.net/20180924201007560?watermark/2/text/aHR0cHM6Ly9ibG9nLmNzZG4ubmV0L3FxXzMyNTkwNjMx/font/5a6L5L2T/fontsize/400/fill/I0JBQkFCMA==/dissolve/70\" width=\"50%\" height=\"50%\">"
   ]
  },
  {
   "cell_type": "markdown",
   "metadata": {},
   "source": [
    "#### e.g. 1\n",
    "固定 k 值。"
   ]
  },
  {
   "cell_type": "code",
   "execution_count": 136,
   "metadata": {},
   "outputs": [],
   "source": [
    "from sklearn.model_selection import KFold,cross_val_score  \n",
    "from sklearn import datasets\n",
    "from sklearn.model_selection import train_test_split\n",
    "from sklearn.neighbors import KNeighborsClassifier\n",
    "import numpy as np\n",
    "import random"
   ]
  },
  {
   "cell_type": "code",
   "execution_count": 137,
   "metadata": {},
   "outputs": [],
   "source": [
    "iris = datasets.load_iris()\n",
    "X = iris.data\n",
    "y = iris.target"
   ]
  },
  {
   "cell_type": "code",
   "execution_count": 151,
   "metadata": {},
   "outputs": [
    {
     "name": "stdout",
     "output_type": "stream",
     "text": [
      "[1.         1.         1.         1.         0.86666667 0.93333333\n",
      " 1.         0.93333333 0.93333333 1.        ]\n",
      "0.9666666666666666\n"
     ]
    }
   ],
   "source": [
    "\n",
    "knn = KNeighborsClassifier(n_neighbors=9) #KNN 找9個鄰近值\n",
    "kfold = KFold(n_splits=10, shuffle=True, random_state=45)\n",
    "scores = cross_val_score(knn,X,y,cv=kfold,scoring='accuracy')  #5 fold, cv score 用 acc 去計算\n",
    "print(scores)\n",
    "print(scores.mean())"
   ]
  },
  {
   "cell_type": "markdown",
   "metadata": {},
   "source": [
    "#### e.g. 2\n"
   ]
  },
  {
   "cell_type": "code",
   "execution_count": 129,
   "metadata": {},
   "outputs": [],
   "source": [
    "from sklearn.model_selection import KFold,cross_val_score  \n",
    "from sklearn import datasets\n",
    "from sklearn.model_selection import train_test_split \n",
    "from sklearn.neighbors import KNeighborsClassifier\n",
    "import matplotlib.pyplot as plt\n",
    "import numpy as np"
   ]
  },
  {
   "cell_type": "code",
   "execution_count": 134,
   "metadata": {},
   "outputs": [],
   "source": [
    "k_range = [3+2*i for i in range(15)]\n",
    "k_scores = []\n",
    "for k_number in k_range:\n",
    "    knn = KNeighborsClassifier(n_neighbors=k_number)\n",
    "    kfold = KFold(n_splits=10, shuffle=True, random_state=44)\n",
    "    scores = cross_val_score(knn,X,y,cv=kfold,scoring='accuracy')\n",
    "    k_scores.append(scores.mean())"
   ]
  },
  {
   "cell_type": "code",
   "execution_count": 135,
   "metadata": {},
   "outputs": [
    {
     "data": {
      "image/png": "[encoded data removed]",
      "text/plain": [
       "<Figure size 432x288 with 1 Axes>"
      ]
     },
     "metadata": {
      "needs_background": "light"
     },
     "output_type": "display_data"
    }
   ],
   "source": [
    "plt.plot(k_range,k_scores) # 畫不同 k 值，cv score 的大小\n",
    "plt.xlabel('Value of K for KNN')\n",
    "plt.ylabel('Cross-Validated Accuracy')\n",
    "plt.show()"
   ]
  },
  {
   "cell_type": "markdown",
   "metadata": {},
   "source": []
  },
  {
   "cell_type": "markdown",
   "metadata": {},
   "source": [
    "參考資料\n",
    "1.  [[Day29]機器學習：交叉驗證！](https://ithelp.ithome.com.tw/articles/10197461)\n",
    "2.  [机器学习中的交叉验证（cross-validation）](https://blog.csdn.net/lhx878619717/article/details/49079785)\n",
    "3.  [sklearn.model_selection.KFold](https://scikit-learn.org/stable/modules/generated/sklearn.model_selection.KFold.html)\n",
    "4.  [sklearn.model_selection.cross_val_score](https://scikit-learn.org/stable/modules/generated/sklearn.model_selection.cross_val_score.html)"
   ]
  },
  {
   "cell_type": "code",
   "execution_count": null,
   "metadata": {},
   "outputs": [],
   "source": []
  },
  {
   "cell_type": "markdown",
   "metadata": {},
   "source": [
    "knn = KNeighborsClassifier(metric = mydist)\n",
    "\n",
    "kfold = RepeatedStratifiedKFold(n_splits = 5, random_state = 0, n_repeats = 10)\n",
    "\n",
    "param_grid = [{'n_neighbors': param_k}]\n",
    "\n",
    "gs = GridSearchCV(estimator = knn, \n",
    "                    param_grid = param_grid, \n",
    "                    scoring = 'roc_auc', \n",
    "                    cv = kfold, \n",
    "                    n_jobs = -1)"
   ]
  }
 ],
 "metadata": {
  "kernelspec": {
   "display_name": "Python 3.9.5 64-bit",
   "language": "python",
   "name": "python3"
  },
  "language_info": {
   "codemirror_mode": {
    "name": "ipython",
    "version": 3
   },
   "file_extension": ".py",
   "mimetype": "text/x-python",
   "name": "python",
   "nbconvert_exporter": "python",
   "pygments_lexer": "ipython3",
   "version": "3.9.5"
  },
  "orig_nbformat": 4,
  "vscode": {
   "interpreter": {
    "hash": "4206480afc6f8f20a91f9b30d4e9d2907612993729e8a589e2c16a111e42b69c"
   }
  }
 },
 "nbformat": 4,
 "nbformat_minor": 2
}
