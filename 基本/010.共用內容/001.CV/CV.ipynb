{
 "cells": [
  {
   "cell_type": "markdown",
   "metadata": {},
   "source": [
    "# Cross-validation (CV, 交叉驗證)\n",
    "\n",
    "<font size = 5>目的 : 防止模型過於複雜而引起過度擬合 (overfitting)</font>"
   ]
  },
  {
   "cell_type": "markdown",
   "metadata": {},
   "source": [
    "交叉驗證主要分為以下幾類\n",
    "1.  K-folder CV:\n",
    "\n",
    "    將訓練集分成 k 個子集，每個子集都做一次測試集，其他子集做訓練集。最後將 k 次的結果(AUC或Acc)平均，則得到 CV score，以此當作結果。\n",
    "    \n",
    "2.  KK-folder CV\n",
    "\n",
    "    和 K-folder CV 相似，但是此把 k 個子集平均分成 2 個子集(s0,s1)。用 s0 當訓練 s1 當測試; s1 當訓練 s0 當測試。可以想像成把資料分成 k 份後再做一次 k-folder CV。\n",
    "    \n",
    "3.  least-one-out CV (LOOCV)\n",
    "\n",
    "    依照要本數去決定 k-folder 的 k 值。例如假設有 n 個樣本，則使用 k-folder CV，這裡 k = n 。\n",
    "\n",
    "    優點 :\n",
    "    1.  每一次 fit model 時，每個樣本幾乎都被使用到，所以 model 會最接近母體樣本的分佈。\n",
    "    2.  實驗中沒有隨機因素會影響結果\n",
    "\n",
    "    缺點 :\n",
    "    1.  相較前兩者，計算成本較高。\n",
    "    "
   ]
  },
  {
   "cell_type": "markdown",
   "metadata": {},
   "source": [
    "10 fold 圖例:\n",
    "\n",
    "<img src=\"https://i.imgur.com/tLWEE80.png\" width=\"50%\" height=\"50%\">"
   ]
  },
  {
   "cell_type": "markdown",
   "metadata": {},
   "source": [
    "CV 除了預防 overfitting ，也有其他用途。例如：\n",
    "*   在 Logistic ridge regression 要用 training set fit model 時，必須去決定 $\\lambda$ (tuning parameter) ，此時可以利用 CV 的方式去尋找。(KNN 的K 也同樣)\n",
    "*   完整資料 (沒有分training set, test set) 中，利用 CV 去分 training 跟 test 。\n",
    "*   ...\n"
   ]
  },
  {
   "cell_type": "code",
   "execution_count": null,
   "metadata": {},
   "outputs": [],
   "source": []
  },
  {
   "cell_type": "markdown",
   "metadata": {},
   "source": [
    "## python\n",
    "*   python 1 : 單個參數並且不執行多次的CV\n",
    "*   python 2 : 多個參數並且執行多次的CV"
   ]
  },
  {
   "cell_type": "markdown",
   "metadata": {},
   "source": [
    "### python 1\n",
    "*   [KNeighborsClassifier](https://scikit-learn.org/stable/modules/generated/sklearn.neighbors.KNeighborsClassifier.html) (n_neighbors=5, *, weights='uniform', algorithm='auto', leaf_size=30, p=2, metric='minkowski', metric_params=None, n_jobs=None)\n",
    "    *   n_neighbors : k 值\n",
    "    *   metric  : 距離計算方式(可放入自己寫的函數f(x,y)). eg: metric = f\n",
    "    *   p : metric = minkowski 的次方項\n",
    "*   [KFold](https://scikit-learn.org/stable/modules/generated/sklearn.model_selection.KFold.html) (n_splits = k, shuffle = True/False , random_state = int )\n",
    "    *   n_splits : 幾次cv, default=5\n",
    "    *   shuffle : 是否重新洗牌 (index改變) ? 若為 false , 則不用放 random_state , 因為 index 不會改變, default=False\n",
    "    *   random_state : 種子碼，若 shuffle = True , 則要填寫。 default=None\n",
    "*   [cross_val_score](https://scikit-learn.org/stable/modules/generated/sklearn.model_selection.cross_val_score.html) (estimator, X, y=None, * , groups=None, scoring=None, cv=None, n_jobs=None, verbose=0, fit_params=None, pre_dispatch='2*n_jobs', error_score=nan)\n",
    "    *   estimator : model\n",
    "    *   cv : cv值，可以放入 kfold(n_splits = k, shuffle = True/False , random_state = int )\n",
    "    *   scoring : 評分標準(例如: 'accuracy' 或 'roc_auc')，參考下圖。\n"
   ]
  },
  {
   "cell_type": "markdown",
   "metadata": {},
   "source": [
    "[圖片來源 : Metrics and scoring: quantifying the quality of predictions](https://scikit-learn.org/stable/modules/model_evaluation.html)\n",
    "\n",
    "<img src=\"https://img-blog.csdn.net/20180924201007560?watermark/2/text/aHR0cHM6Ly9ibG9nLmNzZG4ubmV0L3FxXzMyNTkwNjMx/font/5a6L5L2T/fontsize/400/fill/I0JBQkFCMA==/dissolve/70\" width=\"50%\" height=\"50%\">"
   ]
  },
  {
   "cell_type": "markdown",
   "metadata": {},
   "source": [
    "#### e.g. 1\n",
    "固定 k 值。"
   ]
  },
  {
   "cell_type": "code",
   "execution_count": 12,
   "metadata": {},
   "outputs": [],
   "source": [
    "from sklearn.model_selection import KFold,cross_val_score  \n",
    "from sklearn import datasets\n",
    "from sklearn.model_selection import train_test_split\n",
    "from sklearn.neighbors import KNeighborsClassifier\n",
    "import numpy as np\n",
    "import random"
   ]
  },
  {
   "cell_type": "code",
   "execution_count": 13,
   "metadata": {},
   "outputs": [],
   "source": [
    "iris = datasets.load_iris()\n",
    "X = iris.data\n",
    "y = iris.target"
   ]
  },
  {
   "cell_type": "code",
   "execution_count": 151,
   "metadata": {},
   "outputs": [
    {
     "name": "stdout",
     "output_type": "stream",
     "text": [
      "[1.         1.         1.         1.         0.86666667 0.93333333\n",
      " 1.         0.93333333 0.93333333 1.        ]\n",
      "0.9666666666666666\n"
     ]
    }
   ],
   "source": [
    "\n",
    "knn = KNeighborsClassifier(n_neighbors=9) #KNN 找9個鄰近值\n",
    "kfold = KFold(n_splits=10, shuffle=True, random_state=45)\n",
    "scores = cross_val_score(knn,X,y,cv=kfold,scoring='accuracy')  #5 fold, cv score 用 acc 去計算\n",
    "print(scores)\n",
    "print(scores.mean())"
   ]
  },
  {
   "cell_type": "markdown",
   "metadata": {},
   "source": [
    "#### e.g. 2\n"
   ]
  },
  {
   "cell_type": "code",
   "execution_count": 59,
   "metadata": {},
   "outputs": [],
   "source": [
    "from sklearn.model_selection import KFold,cross_val_score  \n",
    "from sklearn import datasets\n",
    "from sklearn.model_selection import train_test_split \n",
    "from sklearn.neighbors import KNeighborsClassifier\n",
    "import matplotlib.pyplot as plt\n",
    "import numpy as np"
   ]
  },
  {
   "cell_type": "code",
   "execution_count": 60,
   "metadata": {},
   "outputs": [],
   "source": [
    "k_range = [3+2*i for i in range(15)]\n",
    "k_scores = []\n",
    "for k_number in k_range:\n",
    "    knn = KNeighborsClassifier(n_neighbors=k_number)\n",
    "    kfold = KFold(n_splits=10, shuffle=True, random_state=44)\n",
    "    scores = cross_val_score(knn,X,y,cv=kfold,scoring='accuracy')\n",
    "    k_scores.append(scores.mean())"
   ]
  },
  {
   "cell_type": "code",
   "execution_count": 61,
   "metadata": {},
   "outputs": [
    {
     "data": {
      "image/png": "[encoded data removed]",
      "text/plain": [
       "<Figure size 432x288 with 1 Axes>"
      ]
     },
     "metadata": {
      "needs_background": "light"
     },
     "output_type": "display_data"
    }
   ],
   "source": [
    "plt.plot(k_range,k_scores) # 畫不同 k 值，cv score 的大小\n",
    "plt.xlabel('Value of K for KNN')\n",
    "plt.ylabel('Cross-Validated Accuracy')\n",
    "plt.show()"
   ]
  },
  {
   "cell_type": "markdown",
   "metadata": {},
   "source": [
    "### python 2\n",
    "*   [RepeatedStratifiedKFold](https://scikit-learn.org/stable/modules/generated/sklearn.model_selection.RepeatedStratifiedKFold.html) (*, n_splits=5, n_repeats=10, random_state=None)\n",
    "    *   n_splits : cv 次數\n",
    "    *   n_repeats : 做幾次 k-fold\n",
    "    *   random_state : 種子碼\n",
    "\n",
    "$\\\\$\n",
    "*   [GridSearchCV](https://scikit-learn.org/stable/modules/generated/sklearn.model_selection.GridSearchCV.html) (estimator, param_grid, *, scoring=None, n_jobs=None, refit=True, cv=None, verbose=0, pre_dispatch='2*n_jobs', error_score=nan, return_train_score=False)\n",
    "    *   estimator : model\n",
    "    *   param_grid : 放入 dict 或 dictionaries，比較多個參數(例如 k 不同的 knn)的 CV 時，用於決定參數值。\n",
    "    *   scoring : 評分，同上\n",
    "    *   cv : cv\n",
    "    *   n_jobs : Controls the number of jobs that get dispatched during parallel execution.\n",
    "\n",
    "$\\\\$\n",
    "*   GridSearchCV.Attributes\n",
    "    *   cv_results_ : 以字典表示詳細結果\n",
    "    *   best_estimator_ : 最佳估計模型 (輸出是 estimator )\n",
    "    *   best_score_ : 最佳 mean(CV score)\n",
    "    *   best_params_ : 最佳參數\n",
    "    *   best_index_ : 最佳參數位置\n",
    "    *   scorer_ : Scorer function used on the held out data to choose the best parameters for the model.\n",
    "    *   n_splits_ : cv * rep 的值\n",
    "    *   refit_time_ : 重新 fit 的時間\n",
    "    *   multimetric_ : Whether or not the scorers compute several metrics.\n",
    "    *   classes_ : Y 的種類\n",
    "    *   n_features_in_ : fit時的特徵的數量\n",
    "    *   feature_names_in_\n"
   ]
  },
  {
   "cell_type": "code",
   "execution_count": 51,
   "metadata": {},
   "outputs": [],
   "source": [
    "from sklearn.model_selection import KFold,cross_val_score,GridSearchCV\n",
    "from sklearn import datasets\n",
    "from sklearn.model_selection import train_test_split,RepeatedStratifiedKFold\n",
    "from sklearn.neighbors import KNeighborsClassifier\n",
    "import matplotlib.pyplot as plt\n",
    "import numpy as np\n",
    "from scipy.stats import spearmanr #相關係數"
   ]
  },
  {
   "cell_type": "code",
   "execution_count": 52,
   "metadata": {},
   "outputs": [],
   "source": [
    "iris = datasets.load_iris()\n",
    "X = iris.data\n",
    "y = iris.target"
   ]
  },
  {
   "cell_type": "code",
   "execution_count": 25,
   "metadata": {},
   "outputs": [],
   "source": [
    "#def mydist(X, y):\n",
    "#        return 1 - spearmanr(X, y)[0]"
   ]
  },
  {
   "cell_type": "code",
   "execution_count": 53,
   "metadata": {},
   "outputs": [],
   "source": [
    "k_range = [3+2*i for i in range(15)]\n",
    "\n",
    "#knn = KNeighborsClassifier(metric = mydist)\n",
    "knn = KNeighborsClassifier()\n",
    "kfold = RepeatedStratifiedKFold(n_splits = 5, random_state = 0, n_repeats = 10) \n",
    "param_grid = [{'n_neighbors': k_range}]\n",
    "gs = GridSearchCV(estimator = knn, \n",
    "                    param_grid = param_grid, \n",
    "                    scoring = 'accuracy', \n",
    "                    cv = kfold, \n",
    "                    n_jobs = -1)\n"
   ]
  },
  {
   "cell_type": "code",
   "execution_count": 55,
   "metadata": {},
   "outputs": [
    {
     "data": {
      "text/html": [
       "<style>#sk-container-id-6 {color: black;background-color: white;}#sk-container-id-6 pre{padding: 0;}#sk-container-id-6 div.sk-toggleable {background-color: white;}#sk-container-id-6 label.sk-toggleable__label {cursor: pointer;display: block;width: 100%;margin-bottom: 0;padding: 0.3em;box-sizing: border-box;text-align: center;}#sk-container-id-6 label.sk-toggleable__label-arrow:before {content: \"▸\";float: left;margin-right: 0.25em;color: #696969;}#sk-container-id-6 label.sk-toggleable__label-arrow:hover:before {color: black;}#sk-container-id-6 div.sk-estimator:hover label.sk-toggleable__label-arrow:before {color: black;}#sk-container-id-6 div.sk-toggleable__content {max-height: 0;max-width: 0;overflow: hidden;text-align: left;background-color: #f0f8ff;}#sk-container-id-6 div.sk-toggleable__content pre {margin: 0.2em;color: black;border-radius: 0.25em;background-color: #f0f8ff;}#sk-container-id-6 input.sk-toggleable__control:checked~div.sk-toggleable__content {max-height: 200px;max-width: 100%;overflow: auto;}#sk-container-id-6 input.sk-toggleable__control:checked~label.sk-toggleable__label-arrow:before {content: \"▾\";}#sk-container-id-6 div.sk-estimator input.sk-toggleable__control:checked~label.sk-toggleable__label {background-color: #d4ebff;}#sk-container-id-6 div.sk-label input.sk-toggleable__control:checked~label.sk-toggleable__label {background-color: #d4ebff;}#sk-container-id-6 input.sk-hidden--visually {border: 0;clip: rect(1px 1px 1px 1px);clip: rect(1px, 1px, 1px, 1px);height: 1px;margin: -1px;overflow: hidden;padding: 0;position: absolute;width: 1px;}#sk-container-id-6 div.sk-estimator {font-family: monospace;background-color: #f0f8ff;border: 1px dotted black;border-radius: 0.25em;box-sizing: border-box;margin-bottom: 0.5em;}#sk-container-id-6 div.sk-estimator:hover {background-color: #d4ebff;}#sk-container-id-6 div.sk-parallel-item::after {content: \"\";width: 100%;border-bottom: 1px solid gray;flex-grow: 1;}#sk-container-id-6 div.sk-label:hover label.sk-toggleable__label {background-color: #d4ebff;}#sk-container-id-6 div.sk-serial::before {content: \"\";position: absolute;border-left: 1px solid gray;box-sizing: border-box;top: 0;bottom: 0;left: 50%;z-index: 0;}#sk-container-id-6 div.sk-serial {display: flex;flex-direction: column;align-items: center;background-color: white;padding-right: 0.2em;padding-left: 0.2em;position: relative;}#sk-container-id-6 div.sk-item {position: relative;z-index: 1;}#sk-container-id-6 div.sk-parallel {display: flex;align-items: stretch;justify-content: center;background-color: white;position: relative;}#sk-container-id-6 div.sk-item::before, #sk-container-id-6 div.sk-parallel-item::before {content: \"\";position: absolute;border-left: 1px solid gray;box-sizing: border-box;top: 0;bottom: 0;left: 50%;z-index: -1;}#sk-container-id-6 div.sk-parallel-item {display: flex;flex-direction: column;z-index: 1;position: relative;background-color: white;}#sk-container-id-6 div.sk-parallel-item:first-child::after {align-self: flex-end;width: 50%;}#sk-container-id-6 div.sk-parallel-item:last-child::after {align-self: flex-start;width: 50%;}#sk-container-id-6 div.sk-parallel-item:only-child::after {width: 0;}#sk-container-id-6 div.sk-dashed-wrapped {border: 1px dashed gray;margin: 0 0.4em 0.5em 0.4em;box-sizing: border-box;padding-bottom: 0.4em;background-color: white;}#sk-container-id-6 div.sk-label label {font-family: monospace;font-weight: bold;display: inline-block;line-height: 1.2em;}#sk-container-id-6 div.sk-label-container {text-align: center;}#sk-container-id-6 div.sk-container {/* jupyter's `normalize.less` sets `[hidden] { display: none; }` but bootstrap.min.css set `[hidden] { display: none !important; }` so we also need the `!important` here to be able to override the default hidden behavior on the sphinx rendered scikit-learn.org. See: https://github.com/scikit-learn/scikit-learn/issues/21755 */display: inline-block !important;position: relative;}#sk-container-id-6 div.sk-text-repr-fallback {display: none;}</style><div id=\"sk-container-id-6\" class=\"sk-top-container\"><div class=\"sk-text-repr-fallback\"><pre>GridSearchCV(cv=RepeatedStratifiedKFold(n_repeats=10, n_splits=5, random_state=0),\n",
       "             estimator=KNeighborsClassifier(), n_jobs=-1,\n",
       "             param_grid=[{&#x27;n_neighbors&#x27;: [3, 5, 7, 9, 11, 13, 15, 17, 19, 21,\n",
       "                                          23, 25, 27, 29, 31]}],\n",
       "             scoring=&#x27;accuracy&#x27;)</pre><b>In a Jupyter environment, please rerun this cell to show the HTML representation or trust the notebook. <br />On GitHub, the HTML representation is unable to render, please try loading this page with nbviewer.org.</b></div><div class=\"sk-container\" hidden><div class=\"sk-item sk-dashed-wrapped\"><div class=\"sk-label-container\"><div class=\"sk-label sk-toggleable\"><input class=\"sk-toggleable__control sk-hidden--visually\" id=\"sk-estimator-id-16\" type=\"checkbox\" ><label for=\"sk-estimator-id-16\" class=\"sk-toggleable__label sk-toggleable__label-arrow\">GridSearchCV</label><div class=\"sk-toggleable__content\"><pre>GridSearchCV(cv=RepeatedStratifiedKFold(n_repeats=10, n_splits=5, random_state=0),\n",
       "             estimator=KNeighborsClassifier(), n_jobs=-1,\n",
       "             param_grid=[{&#x27;n_neighbors&#x27;: [3, 5, 7, 9, 11, 13, 15, 17, 19, 21,\n",
       "                                          23, 25, 27, 29, 31]}],\n",
       "             scoring=&#x27;accuracy&#x27;)</pre></div></div></div><div class=\"sk-parallel\"><div class=\"sk-parallel-item\"><div class=\"sk-item\"><div class=\"sk-label-container\"><div class=\"sk-label sk-toggleable\"><input class=\"sk-toggleable__control sk-hidden--visually\" id=\"sk-estimator-id-17\" type=\"checkbox\" ><label for=\"sk-estimator-id-17\" class=\"sk-toggleable__label sk-toggleable__label-arrow\">estimator: KNeighborsClassifier</label><div class=\"sk-toggleable__content\"><pre>KNeighborsClassifier()</pre></div></div></div><div class=\"sk-serial\"><div class=\"sk-item\"><div class=\"sk-estimator sk-toggleable\"><input class=\"sk-toggleable__control sk-hidden--visually\" id=\"sk-estimator-id-18\" type=\"checkbox\" ><label for=\"sk-estimator-id-18\" class=\"sk-toggleable__label sk-toggleable__label-arrow\">KNeighborsClassifier</label><div class=\"sk-toggleable__content\"><pre>KNeighborsClassifier()</pre></div></div></div></div></div></div></div></div></div></div>"
      ],
      "text/plain": [
       "GridSearchCV(cv=RepeatedStratifiedKFold(n_repeats=10, n_splits=5, random_state=0),\n",
       "             estimator=KNeighborsClassifier(), n_jobs=-1,\n",
       "             param_grid=[{'n_neighbors': [3, 5, 7, 9, 11, 13, 15, 17, 19, 21,\n",
       "                                          23, 25, 27, 29, 31]}],\n",
       "             scoring='accuracy')"
      ]
     },
     "execution_count": 55,
     "metadata": {},
     "output_type": "execute_result"
    }
   ],
   "source": [
    "gs.fit(X,y)"
   ]
  },
  {
   "cell_type": "code",
   "execution_count": 62,
   "metadata": {},
   "outputs": [
    {
     "data": {
      "text/plain": [
       "{'mean_fit_time': array([0.00096012, 0.00084007, 0.00062023, 0.00062012, 0.00068014,\n",
       "        0.00068037, 0.00074016, 0.00122029, 0.00068   , 0.00066962,\n",
       "        0.00063413, 0.00046018, 0.00054018, 0.00056015, 0.00050013]),\n",
       " 'std_fit_time': array([0.00063133, 0.00041766, 0.00052514, 0.00048548, 0.00046657,\n",
       "        0.00046673, 0.00059377, 0.00428712, 0.00058107, 0.00074529,\n",
       "        0.00048133, 0.00049859, 0.00049857, 0.00049652, 0.00050014]),\n",
       " 'mean_score_time': array([0.00322083, 0.00262062, 0.0026806 , 0.00260045, 0.00242041,\n",
       "        0.00256051, 0.00258045, 0.00260059, 0.00258065, 0.00254068,\n",
       "        0.00226538, 0.00174045, 0.00160029, 0.00162047, 0.00182423]),\n",
       " 'std_score_time': array([0.00140429, 0.00052549, 0.00070586, 0.00077487, 0.0005326 ,\n",
       "        0.00072576, 0.00089676, 0.00066322, 0.00053238, 0.00093087,\n",
       "        0.00081524, 0.00055936, 0.00052941, 0.00056195, 0.00068877]),\n",
       " 'param_n_neighbors': masked_array(data=[3, 5, 7, 9, 11, 13, 15, 17, 19, 21, 23, 25, 27, 29, 31],\n",
       "              mask=[False, False, False, False, False, False, False, False,\n",
       "                    False, False, False, False, False, False, False],\n",
       "        fill_value='?',\n",
       "             dtype=object),\n",
       " 'params': [{'n_neighbors': 3},\n",
       "  {'n_neighbors': 5},\n",
       "  {'n_neighbors': 7},\n",
       "  {'n_neighbors': 9},\n",
       "  {'n_neighbors': 11},\n",
       "  {'n_neighbors': 13},\n",
       "  {'n_neighbors': 15},\n",
       "  {'n_neighbors': 17},\n",
       "  {'n_neighbors': 19},\n",
       "  {'n_neighbors': 21},\n",
       "  {'n_neighbors': 23},\n",
       "  {'n_neighbors': 25},\n",
       "  {'n_neighbors': 27},\n",
       "  {'n_neighbors': 29},\n",
       "  {'n_neighbors': 31}],\n",
       " 'split0_test_score': array([0.96666667, 0.96666667, 1.        , 1.        , 1.        ,\n",
       "        1.        , 1.        , 1.        , 1.        , 1.        ,\n",
       "        1.        , 0.96666667, 0.96666667, 0.96666667, 0.96666667]),\n",
       " 'split1_test_score': array([1.        , 0.96666667, 0.96666667, 0.96666667, 0.96666667,\n",
       "        0.96666667, 0.96666667, 0.96666667, 0.96666667, 0.96666667,\n",
       "        0.96666667, 0.96666667, 0.96666667, 0.96666667, 0.96666667]),\n",
       " 'split2_test_score': array([0.93333333, 0.93333333, 0.93333333, 0.96666667, 0.93333333,\n",
       "        0.96666667, 0.96666667, 0.93333333, 0.93333333, 0.96666667,\n",
       "        0.96666667, 1.        , 0.96666667, 0.93333333, 0.9       ]),\n",
       " 'split3_test_score': array([0.96666667, 0.96666667, 0.96666667, 0.96666667, 0.93333333,\n",
       "        0.96666667, 0.96666667, 0.96666667, 0.96666667, 0.96666667,\n",
       "        0.96666667, 0.93333333, 0.93333333, 0.93333333, 0.93333333]),\n",
       " 'split4_test_score': array([0.93333333, 0.93333333, 0.93333333, 0.9       , 0.93333333,\n",
       "        0.93333333, 0.93333333, 0.93333333, 0.93333333, 0.9       ,\n",
       "        0.9       , 0.9       , 0.9       , 0.9       , 0.9       ]),\n",
       " 'split5_test_score': array([0.96666667, 1.        , 1.        , 0.96666667, 0.96666667,\n",
       "        1.        , 0.96666667, 1.        , 1.        , 0.96666667,\n",
       "        0.96666667, 0.96666667, 0.96666667, 0.93333333, 0.93333333]),\n",
       " 'split6_test_score': array([0.9       , 0.93333333, 0.9       , 0.9       , 0.9       ,\n",
       "        0.9       , 0.9       , 0.9       , 0.9       , 0.9       ,\n",
       "        0.9       , 0.9       , 0.9       , 0.9       , 0.9       ]),\n",
       " 'split7_test_score': array([0.93333333, 0.93333333, 0.93333333, 0.96666667, 0.93333333,\n",
       "        0.96666667, 0.96666667, 0.96666667, 0.96666667, 0.93333333,\n",
       "        0.93333333, 0.9       , 0.93333333, 0.93333333, 0.93333333]),\n",
       " 'split8_test_score': array([1.        , 1.        , 0.96666667, 1.        , 1.        ,\n",
       "        1.        , 1.        , 1.        , 1.        , 1.        ,\n",
       "        1.        , 1.        , 1.        , 1.        , 1.        ]),\n",
       " 'split9_test_score': array([0.96666667, 1.        , 1.        , 1.        , 1.        ,\n",
       "        1.        , 1.        , 1.        , 1.        , 0.96666667,\n",
       "        0.96666667, 0.96666667, 1.        , 1.        , 1.        ]),\n",
       " 'split10_test_score': array([0.96666667, 0.96666667, 0.93333333, 0.93333333, 0.96666667,\n",
       "        0.93333333, 0.93333333, 0.93333333, 0.93333333, 0.93333333,\n",
       "        0.93333333, 0.9       , 0.9       , 0.9       , 0.9       ]),\n",
       " 'split11_test_score': array([1.        , 1.        , 1.        , 1.        , 1.        ,\n",
       "        0.96666667, 1.        , 1.        , 1.        , 0.96666667,\n",
       "        1.        , 0.96666667, 0.96666667, 0.96666667, 0.96666667]),\n",
       " 'split12_test_score': array([0.96666667, 0.96666667, 0.96666667, 0.96666667, 1.        ,\n",
       "        1.        , 1.        , 1.        , 1.        , 1.        ,\n",
       "        1.        , 1.        , 1.        , 1.        , 1.        ]),\n",
       " 'split13_test_score': array([0.93333333, 0.93333333, 0.96666667, 0.96666667, 0.96666667,\n",
       "        0.96666667, 0.96666667, 0.96666667, 0.96666667, 0.93333333,\n",
       "        0.93333333, 0.9       , 0.9       , 0.9       , 0.93333333]),\n",
       " 'split14_test_score': array([0.96666667, 0.96666667, 0.96666667, 1.        , 1.        ,\n",
       "        1.        , 0.96666667, 0.96666667, 0.96666667, 0.96666667,\n",
       "        0.96666667, 0.96666667, 0.96666667, 0.96666667, 0.96666667]),\n",
       " 'split15_test_score': array([1.        , 1.        , 1.        , 1.        , 0.96666667,\n",
       "        1.        , 1.        , 1.        , 1.        , 1.        ,\n",
       "        1.        , 0.96666667, 0.96666667, 0.96666667, 0.96666667]),\n",
       " 'split16_test_score': array([0.9       , 0.93333333, 0.93333333, 0.93333333, 0.96666667,\n",
       "        0.96666667, 0.9       , 0.86666667, 0.96666667, 0.86666667,\n",
       "        0.9       , 0.9       , 0.9       , 0.86666667, 0.9       ]),\n",
       " 'split17_test_score': array([1., 1., 1., 1., 1., 1., 1., 1., 1., 1., 1., 1., 1., 1., 1.]),\n",
       " 'split18_test_score': array([0.86666667, 0.86666667, 0.86666667, 0.86666667, 0.9       ,\n",
       "        0.86666667, 0.9       , 0.9       , 0.86666667, 0.86666667,\n",
       "        0.9       , 0.86666667, 0.9       , 0.9       , 0.9       ]),\n",
       " 'split19_test_score': array([1.        , 1.        , 1.        , 1.        , 1.        ,\n",
       "        1.        , 1.        , 1.        , 1.        , 1.        ,\n",
       "        1.        , 1.        , 1.        , 0.96666667, 1.        ]),\n",
       " 'split20_test_score': array([1.        , 1.        , 1.        , 1.        , 1.        ,\n",
       "        1.        , 1.        , 1.        , 1.        , 0.96666667,\n",
       "        0.96666667, 0.96666667, 0.96666667, 0.96666667, 0.96666667]),\n",
       " 'split21_test_score': array([0.96666667, 0.96666667, 1.        , 0.96666667, 0.96666667,\n",
       "        0.96666667, 0.96666667, 0.96666667, 0.96666667, 0.96666667,\n",
       "        0.96666667, 0.93333333, 0.93333333, 0.93333333, 0.93333333]),\n",
       " 'split22_test_score': array([0.93333333, 0.96666667, 1.        , 0.96666667, 0.93333333,\n",
       "        0.96666667, 0.93333333, 1.        , 0.93333333, 0.96666667,\n",
       "        1.        , 1.        , 1.        , 1.        , 0.96666667]),\n",
       " 'split23_test_score': array([1.        , 0.96666667, 0.93333333, 0.93333333, 0.93333333,\n",
       "        0.93333333, 0.96666667, 1.        , 0.93333333, 0.93333333,\n",
       "        0.93333333, 0.9       , 0.93333333, 0.93333333, 0.93333333]),\n",
       " 'split24_test_score': array([0.9       , 0.9       , 0.9       , 0.9       , 0.9       ,\n",
       "        0.9       , 0.9       , 0.9       , 0.93333333, 0.9       ,\n",
       "        0.93333333, 0.93333333, 0.93333333, 0.93333333, 0.93333333]),\n",
       " 'split25_test_score': array([0.96666667, 0.96666667, 0.93333333, 0.96666667, 0.96666667,\n",
       "        0.96666667, 0.93333333, 0.93333333, 0.9       , 0.9       ,\n",
       "        0.9       , 0.93333333, 0.9       , 0.93333333, 0.9       ]),\n",
       " 'split26_test_score': array([0.96666667, 0.96666667, 1.        , 1.        , 1.        ,\n",
       "        1.        , 1.        , 1.        , 1.        , 1.        ,\n",
       "        1.        , 0.96666667, 1.        , 1.        , 0.96666667]),\n",
       " 'split27_test_score': array([1.        , 1.        , 1.        , 1.        , 1.        ,\n",
       "        0.96666667, 1.        , 1.        , 1.        , 1.        ,\n",
       "        0.96666667, 0.96666667, 0.96666667, 0.96666667, 0.96666667]),\n",
       " 'split28_test_score': array([0.96666667, 0.96666667, 1.        , 1.        , 1.        ,\n",
       "        1.        , 1.        , 1.        , 1.        , 1.        ,\n",
       "        0.96666667, 0.96666667, 0.93333333, 0.93333333, 0.96666667]),\n",
       " 'split29_test_score': array([0.96666667, 0.96666667, 0.96666667, 0.93333333, 0.96666667,\n",
       "        0.96666667, 0.96666667, 0.96666667, 0.96666667, 0.93333333,\n",
       "        0.93333333, 0.96666667, 0.93333333, 0.93333333, 0.93333333]),\n",
       " 'split30_test_score': array([0.96666667, 0.96666667, 0.93333333, 0.93333333, 0.93333333,\n",
       "        0.93333333, 0.93333333, 0.93333333, 0.93333333, 0.93333333,\n",
       "        0.93333333, 0.93333333, 0.93333333, 0.93333333, 0.93333333]),\n",
       " 'split31_test_score': array([0.93333333, 0.96666667, 1.        , 1.        , 1.        ,\n",
       "        1.        , 1.        , 1.        , 1.        , 0.93333333,\n",
       "        0.83333333, 0.86666667, 0.9       , 0.9       , 0.83333333]),\n",
       " 'split32_test_score': array([1., 1., 1., 1., 1., 1., 1., 1., 1., 1., 1., 1., 1., 1., 1.]),\n",
       " 'split33_test_score': array([0.96666667, 0.96666667, 0.96666667, 0.96666667, 1.        ,\n",
       "        1.        , 1.        , 0.96666667, 1.        , 1.        ,\n",
       "        1.        , 1.        , 0.96666667, 0.96666667, 0.96666667]),\n",
       " 'split34_test_score': array([0.96666667, 0.96666667, 0.93333333, 0.93333333, 0.96666667,\n",
       "        0.96666667, 0.96666667, 0.96666667, 0.96666667, 0.93333333,\n",
       "        0.9       , 0.93333333, 0.93333333, 0.93333333, 0.93333333]),\n",
       " 'split35_test_score': array([1., 1., 1., 1., 1., 1., 1., 1., 1., 1., 1., 1., 1., 1., 1.]),\n",
       " 'split36_test_score': array([0.93333333, 1.        , 1.        , 1.        , 1.        ,\n",
       "        1.        , 1.        , 1.        , 1.        , 0.93333333,\n",
       "        0.9       , 0.9       , 0.93333333, 0.93333333, 0.93333333]),\n",
       " 'split37_test_score': array([0.93333333, 0.93333333, 0.9       , 0.9       , 0.93333333,\n",
       "        0.9       , 0.9       , 0.93333333, 0.9       , 0.93333333,\n",
       "        0.93333333, 0.9       , 0.9       , 0.86666667, 0.9       ]),\n",
       " 'split38_test_score': array([0.96666667, 0.96666667, 0.96666667, 0.96666667, 0.96666667,\n",
       "        0.96666667, 0.96666667, 0.96666667, 0.96666667, 0.96666667,\n",
       "        0.96666667, 0.96666667, 0.96666667, 0.96666667, 0.96666667]),\n",
       " 'split39_test_score': array([0.96666667, 0.96666667, 0.96666667, 0.96666667, 1.        ,\n",
       "        1.        , 1.        , 1.        , 1.        , 1.        ,\n",
       "        1.        , 1.        , 1.        , 0.96666667, 0.96666667]),\n",
       " 'split40_test_score': array([0.96666667, 0.96666667, 0.96666667, 0.96666667, 1.        ,\n",
       "        1.        , 0.96666667, 0.96666667, 0.96666667, 0.96666667,\n",
       "        0.93333333, 0.96666667, 0.96666667, 0.96666667, 0.96666667]),\n",
       " 'split41_test_score': array([0.96666667, 0.96666667, 0.96666667, 0.93333333, 1.        ,\n",
       "        1.        , 1.        , 0.96666667, 1.        , 0.96666667,\n",
       "        0.96666667, 0.96666667, 0.96666667, 0.96666667, 0.96666667]),\n",
       " 'split42_test_score': array([0.9       , 0.9       , 0.93333333, 0.93333333, 0.93333333,\n",
       "        0.93333333, 0.93333333, 0.93333333, 0.93333333, 0.93333333,\n",
       "        0.93333333, 0.9       , 0.9       , 0.9       , 0.9       ]),\n",
       " 'split43_test_score': array([0.96666667, 0.96666667, 1.        , 1.        , 1.        ,\n",
       "        1.        , 1.        , 1.        , 1.        , 0.96666667,\n",
       "        0.96666667, 0.96666667, 0.96666667, 0.96666667, 0.96666667]),\n",
       " 'split44_test_score': array([0.96666667, 0.96666667, 0.96666667, 0.96666667, 0.96666667,\n",
       "        0.96666667, 0.96666667, 0.96666667, 0.96666667, 0.96666667,\n",
       "        0.96666667, 0.96666667, 0.96666667, 0.96666667, 0.96666667]),\n",
       " 'split45_test_score': array([0.96666667, 0.96666667, 0.96666667, 0.96666667, 0.96666667,\n",
       "        0.96666667, 0.96666667, 0.96666667, 0.96666667, 0.96666667,\n",
       "        0.96666667, 0.96666667, 0.96666667, 0.96666667, 0.96666667]),\n",
       " 'split46_test_score': array([0.96666667, 1.        , 0.96666667, 0.96666667, 1.        ,\n",
       "        1.        , 1.        , 0.96666667, 1.        , 0.96666667,\n",
       "        0.96666667, 0.96666667, 0.96666667, 0.96666667, 0.96666667]),\n",
       " 'split47_test_score': array([0.9       , 0.93333333, 0.96666667, 0.96666667, 0.96666667,\n",
       "        0.96666667, 0.96666667, 0.96666667, 0.96666667, 0.93333333,\n",
       "        0.93333333, 0.93333333, 0.9       , 0.9       , 0.9       ]),\n",
       " 'split48_test_score': array([1.        , 1.        , 0.96666667, 0.96666667, 0.96666667,\n",
       "        0.96666667, 0.96666667, 0.96666667, 0.96666667, 0.96666667,\n",
       "        0.96666667, 0.96666667, 0.96666667, 0.96666667, 0.96666667]),\n",
       " 'split49_test_score': array([1.        , 1.        , 0.96666667, 0.96666667, 0.96666667,\n",
       "        0.96666667, 0.96666667, 0.96666667, 0.93333333, 0.96666667,\n",
       "        0.93333333, 0.93333333, 0.96666667, 0.96666667, 0.96666667]),\n",
       " 'mean_test_score': array([0.96133333, 0.96666667, 0.966     , 0.96533333, 0.97133333,\n",
       "        0.972     , 0.97      , 0.97      , 0.96933333, 0.958     ,\n",
       "        0.95533333, 0.95066667, 0.952     , 0.94866667, 0.948     ]),\n",
       " 'std_test_score': array([0.0329039 , 0.02981424, 0.03299158, 0.03330666, 0.03055778,\n",
       "        0.03222146, 0.0321455 , 0.03282953, 0.03388871, 0.03515679,\n",
       "        0.03748185, 0.03785352, 0.0347435 , 0.03540872, 0.036     ]),\n",
       " 'rank_test_score': array([ 9,  6,  7,  8,  2,  1,  3,  4,  5, 10, 11, 13, 12, 14, 15])}"
      ]
     },
     "execution_count": 62,
     "metadata": {},
     "output_type": "execute_result"
    }
   ],
   "source": [
    "gs.cv_results_"
   ]
  },
  {
   "cell_type": "code",
   "execution_count": 58,
   "metadata": {},
   "outputs": [
    {
     "name": "stdout",
     "output_type": "stream",
     "text": [
      "最佳準確率: 0.9720000000000002, 最佳k值 : {'n_neighbors': 13}\n",
      "\n",
      "平均準確率: 0.9613333333333334, 標準差: 0.03290390047800817, k值: {'n_neighbors': 3}\n",
      "平均準確率: 0.9666666666666669, 標準差: 0.029814239699997188, k值: {'n_neighbors': 5}\n",
      "平均準確率: 0.9660000000000002, 標準差: 0.032991581417756315, k值: {'n_neighbors': 7}\n",
      "平均準確率: 0.9653333333333335, 標準差: 0.033306655991458115, k值: {'n_neighbors': 9}\n",
      "平均準確率: 0.9713333333333335, 標準差: 0.030557777696975565, k值: {'n_neighbors': 11}\n",
      "平均準確率: 0.9720000000000002, 標準差: 0.03222145592958552, k值: {'n_neighbors': 13}\n",
      "平均準確率: 0.9700000000000002, 標準差: 0.03214550253664318, k值: {'n_neighbors': 15}\n",
      "平均準確率: 0.97, 標準差: 0.03282952600598701, k值: {'n_neighbors': 17}\n",
      "平均準確率: 0.9693333333333334, 標準差: 0.033888706739036885, k值: {'n_neighbors': 19}\n",
      "平均準確率: 0.9580000000000001, 標準差: 0.035156791662493886, k值: {'n_neighbors': 21}\n",
      "平均準確率: 0.9553333333333334, 標準差: 0.03748184745832159, k值: {'n_neighbors': 23}\n",
      "平均準確率: 0.9506666666666668, 標準差: 0.03785351884420903, k值: {'n_neighbors': 25}\n",
      "平均準確率: 0.9520000000000002, 標準差: 0.03474350458878768, k值: {'n_neighbors': 27}\n",
      "平均準確率: 0.9486666666666668, 標準差: 0.03540872459970532, k值: {'n_neighbors': 29}\n",
      "平均準確率: 0.9480000000000001, 標準差: 0.03599999999999999, k值: {'n_neighbors': 31}\n"
     ]
    }
   ],
   "source": [
    "print(f\"最佳準確率: {gs.best_score_}, 最佳k值 : {gs.best_params_}\")\n",
    "print()\n",
    "means = gs.cv_results_['mean_test_score']\n",
    "stds = gs.cv_results_['std_test_score']\n",
    "params = gs.cv_results_['params']\n",
    "for mean, stdev, param in zip(means, stds, params):\n",
    "    print(f\"平均準確率: {mean}, 標準差: {stdev}, k值: {param}\")\n"
   ]
  },
  {
   "cell_type": "code",
   "execution_count": 57,
   "metadata": {},
   "outputs": [
    {
     "data": {
      "image/png": "[encoded data removed]",
      "text/plain": [
       "<Figure size 432x288 with 1 Axes>"
      ]
     },
     "metadata": {
      "needs_background": "light"
     },
     "output_type": "display_data"
    }
   ],
   "source": [
    "plt.plot(k_range,means) # 畫不同 k 值，cv score 的大小\n",
    "plt.xlabel('Value of K for KNN')\n",
    "plt.ylabel('Cross-Validated Accuracy')\n",
    "plt.show()"
   ]
  },
  {
   "cell_type": "code",
   "execution_count": null,
   "metadata": {},
   "outputs": [],
   "source": []
  },
  {
   "cell_type": "markdown",
   "metadata": {},
   "source": [
    "參考資料\n",
    "1.  [[Day29]機器學習：交叉驗證！](https://ithelp.ithome.com.tw/articles/10197461)\n",
    "2.  [机器学习中的交叉验证（cross-validation）](https://blog.csdn.net/lhx878619717/article/details/49079785)\n",
    "3.  [sklearn.model_selection.KFold](https://scikit-learn.org/stable/modules/generated/sklearn.model_selection.KFold.html)\n",
    "4.  [sklearn.model_selection.cross_val_score](https://scikit-learn.org/stable/modules/generated/sklearn.model_selection.cross_val_score.html)\n",
    "5.  [sklearn.neighbors.KNeighborsClassifier](https://scikit-learn.org/stable/modules/generated/sklearn.neighbors.KNeighborsClassifier.html)\n",
    "6.  [Day 05：神經網路的效能調校(續)](https://ithelp.ithome.com.tw/articles/10234203) #GridSearchCV 參考\n"
   ]
  },
  {
   "cell_type": "code",
   "execution_count": null,
   "metadata": {},
   "outputs": [],
   "source": []
  }
 ],
 "metadata": {
  "kernelspec": {
   "display_name": "Python 3.9.5 64-bit",
   "language": "python",
   "name": "python3"
  },
  "language_info": {
   "codemirror_mode": {
    "name": "ipython",
    "version": 3
   },
   "file_extension": ".py",
   "mimetype": "text/x-python",
   "name": "python",
   "nbconvert_exporter": "python",
   "pygments_lexer": "ipython3",
   "version": "3.9.5"
  },
  "orig_nbformat": 4,
  "vscode": {
   "interpreter": {
    "hash": "4206480afc6f8f20a91f9b30d4e9d2907612993729e8a589e2c16a111e42b69c"
   }
  }
 },
 "nbformat": 4,
 "nbformat_minor": 2
}
