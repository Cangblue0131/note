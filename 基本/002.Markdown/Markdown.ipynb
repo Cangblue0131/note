{
 "cells": [
  {
   "attachments": {},
   "cell_type": "markdown",
   "metadata": {},
   "source": [
    "## 數學符號\n",
    "以雙\\$包圍，基本語法和latex相同。\n",
    "*   \\qquad : 空兩格\n",
    "*\t\\times : $\\times$\n",
    "*   \\pm    : $\\pm$\n",
    "*   \\neq   : $\\neq$\n",
    "*   \\sigma : $\\sigma$\n",
    "*   \\theta : $\\theta$\n",
    "*   \\eta   : $\\eta$\n",
    "*   \\Delta : $\\Delta$\n",
    "*   \\omega : $\\omega$\n",
    "*   \\nabla : $\\nabla$\n",
    "*   \\epsilon : $\\epsilon$\n",
    "*   \\varepsilon : $\\varepsilon$\n",
    "*   \\geq : $\\geq$\n",
    "*   \\varphi : $\\varphi$\n",
    "*   \\leq  : $\\leq$\n",
    "*   \\approx : $\\approx$\n",
    "*   \\sim    :   $\\sim$\n",
    "*   \\hat{abc} : $\\hat{abc}$\n",
    "*   \\widehat{abc} : $\\widehat{abc}$\n",
    "*   \\min\\limits_{abc} : $\\min\\limits_{abc}$\n",
    "*   \\because    : $\\because$\n",
    "*   \\therefore  :   $\\therefore$\n",
    "*   \\infty  : $\\infty$\n",
    "*   \\tbinom{n}{r} : $\\tbinom{n}{r}$\n",
    "*   \\stackrel{i.i.d}{\\sim} : $\\stackrel{i.i.d}{\\sim}$\n",
    "*   \\sum\\limits_{i}^{k} : $\\sum\\limits_{i}^{k}$\n",
    "*   \\overline(XY)  : $\\overline{XY}$\n",
    "*   \\begin{bmatrix}1\\\\2\\end{bmatrix} : $\\begin{bmatrix}1\\\\2\\end{bmatrix}$\n",
    "*   \\textcolor{red}{X} : $\\textcolor{red}{X}$\n",
    "*   \\textcolor{#FF0000}{X} : $\\textcolor{#FF0000}{X}$\n",
    "---"
   ]
  },
  {
   "attachments": {},
   "cell_type": "markdown",
   "metadata": {},
   "source": [
    "## 換行\n",
    "換行用\\\\ \\ 或 $<br>$\n",
    "\n",
    "123\n",
    "\n",
    "\n",
    "&nbsp;空一小格用 ```&nbsp;```\n",
    "\n",
    "&emsp;空一大格用 ```&emsp;```\n",
    "\n",
    "&emsp;\n",
    "\n",
    "以上可搭配空行空一行\n",
    "\n",
    "\n",
    "---"
   ]
  },
  {
   "cell_type": "markdown",
   "metadata": {},
   "source": [
    "## 小標題\n",
    "* 123\n",
    "* 456\n",
    "-   789\n",
    "-   234\n",
    "    * 123\n",
    "        -   123\n",
    "\n",
    "HTML寫法\n",
    "<ul>\n",
    "  <li style=\"text-align: left;\"><b>這是標題</b></li>\n",
    "  <ul>\n",
    "    <li style=\"text-align: left;\">這是列表一</li>\n",
    "  </ul>\n",
    "  <ul>\n",
    "    <li style=\"text-align: left;\">這是列表二</li>\n",
    "  </ul>\n",
    "<ul>\n",
    "\n"
   ]
  },
  {
   "cell_type": "markdown",
   "metadata": {},
   "source": [
    "***\n",
    "\n",
    "## 清單列表\n",
    "\n",
    "以數字開頭「.」符號做區隔，符號後需空格\n",
    "1. 第1層\n",
    "    1. 第1-1層\n",
    "    2. 第1-2層\n",
    "2. 第2層\n",
    "    1. 第2-1層\n",
    "\n",
    "符號階層\n",
    "+ 第1層\n",
    "  * 第1-1層\n",
    "  * 第1-2層\n",
    "+ 第2層\n",
    "  * 第2-1層\n",
    "\n",
    "***"
   ]
  },
  {
   "cell_type": "markdown",
   "metadata": {},
   "source": [
    "## 更改字體\n",
    "<font color=red>我是红色</font>\\\n",
    "<font color=#008000>我是绿色</font>\\\n",
    "<font color=yellow>我是黄色</font>\\\n",
    "<font color=Blue>我是蓝色</font>\\\n",
    "<font color= #871F78>我是紫色</font>\\\n",
    "<font color= #DCDCDC>我是浅灰色</font>\\\n",
    "<font size=5>我是尺寸</font>\\\n",
    "<font size=10>我是尺寸</font>\n",
    "\n",
    "參考 : https://zhuanlan.zhihu.com/p/139007418\n",
    "\n",
    "---"
   ]
  },
  {
   "cell_type": "markdown",
   "metadata": {},
   "source": [
    "## 圖片\n",
    "width 和 height 可改數值\\\n",
    "<img src=\"https://www.z01.com/Template/office/style/images/home_product_phone09.png\" width=\"10%\" height=\"10%\">"
   ]
  },
  {
   "cell_type": "markdown",
   "metadata": {},
   "source": [
    "置中\\\n",
    "位置可改其他屬性(左中右) : left, center, right\n",
    "<div align=center><img src=\"https://www.z01.com/Template/office/style/images/home_product_phone09.png\" width=\"10%\" height=\"10%\">\n",
    "\n",
    "\n"
   ]
  },
  {
   "cell_type": "markdown",
   "metadata": {},
   "source": [
    "***\n",
    "## 表格\n",
    "\n",
    "| Tables        | Are           | Cool  |\n",
    "| ------------- |:-------------:| -----:|\n",
    "| col 3 is      | right-aligned | $1600 |\n",
    "| col 2 is      | centered      | $12   |\n",
    "| zebra stripes | are neat      | $1    |\n",
    "\n",
    "\n",
    "\n",
    "---\n",
    "\n"
   ]
  },
  {
   "cell_type": "markdown",
   "metadata": {},
   "source": [
    "## 程式碼\n",
    "＃程式碼段落輸入「```」，可註記為何種語言\n",
    "\n",
    "```javascript\n",
    "var foo = function(x) {\n",
    "  return(x + 5);\n",
    "}\n",
    "foo(3)\n",
    "```\n",
    "\n",
    "---"
   ]
  },
  {
   "cell_type": "markdown",
   "metadata": {},
   "source": [
    "## 超連結\n",
    "前往至[參考網址](https://jasminmin.com/2019-04-16-markdown-record/)"
   ]
  },
  {
   "cell_type": "markdown",
   "metadata": {},
   "source": [
    "## 分隔線\n",
    "#三個或以上的「 _ 」、「 - 」、「 * 」\n",
    "___\n",
    "***\n",
    "---"
   ]
  },
  {
   "cell_type": "markdown",
   "metadata": {},
   "source": []
  }
 ],
 "metadata": {
  "kernelspec": {
   "display_name": "Python 3.9.5 64-bit",
   "language": "python",
   "name": "python3"
  },
  "language_info": {
   "name": "python",
   "version": "3.9.5"
  },
  "orig_nbformat": 4,
  "vscode": {
   "interpreter": {
    "hash": "4206480afc6f8f20a91f9b30d4e9d2907612993729e8a589e2c16a111e42b69c"
   }
  }
 },
 "nbformat": 4,
 "nbformat_minor": 2
}
