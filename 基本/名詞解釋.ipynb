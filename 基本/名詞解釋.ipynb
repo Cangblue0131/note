{
 "cells": [
  {
   "cell_type": "markdown",
   "metadata": {},
   "source": [
    "#### SST : Sum of Squares Total\n",
    "$ \\qquad SS_{tot} \\quad = \\quad  \\sum_i(y_i - \\bar y )^2 \\quad = \\quad  ( y - \\bar y )'( y - \\bar y )$\n",
    "\n",
    "#### SSR : Sum of Squares Regression\n",
    "$ \\qquad SS_{reg} \\quad = \\quad  \\sum_i(\\hat  y - \\bar y )^2  \\quad = \\quad  ( \\hat  y - \\bar y  )'(\\hat  y - \\bar y  )$\n",
    "\n",
    "#### SSE : Sum of Squares Error\n",
    "$ \\qquad SS_{res} \\quad = \\quad  \\sum_i( y - \\hat  y )^2  \\quad = \\quad  ( y - \\hat  y )'( y - \\hat  y )$\n",
    "\n",
    "#### 決定係數 (Coefficient of determination), 或稱 $R^2$ score\n",
    "$ \\qquad R^2 \\quad = \\quad SS_{reg} / SS_{tot} \\quad = \\quad 1 - SS_{res} / SS_{tot}　$\n",
    "- 可以當成解釋程度"
   ]
  },
  {
   "cell_type": "markdown",
   "metadata": {},
   "source": [
    "#### ANOVA 待補\n",
    "https://wenwu53.medium.com/sas-one-way-anova-29e2eac1f113"
   ]
  }
 ],
 "metadata": {
  "kernelspec": {
   "display_name": "Python 3.9.5 64-bit",
   "language": "python",
   "name": "python3"
  },
  "language_info": {
   "name": "python",
   "version": "3.9.5"
  },
  "orig_nbformat": 4,
  "vscode": {
   "interpreter": {
    "hash": "4206480afc6f8f20a91f9b30d4e9d2907612993729e8a589e2c16a111e42b69c"
   }
  }
 },
 "nbformat": 4,
 "nbformat_minor": 2
}
