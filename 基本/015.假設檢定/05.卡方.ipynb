{
 "cells": [
  {
   "attachments": {},
   "cell_type": "markdown",
   "metadata": {},
   "source": [
    "# 卡方檢定 (Chi-Squared Test)\n",
    "\n",
    "*   是一種統計量的分布在虛無假說成立時近似服從卡方分布（$\\chi ^{2}$ 分布）的假說檢定。\n",
    "*   在沒有其他的限定條件或說明時，<font color = red>卡方檢定一般代指的是皮爾森卡方檢定</font>。其他常用的卡方檢定還有葉慈連續校正、概似比檢定、一元混成檢定等等－它們的統計值之機率分配都近似於卡方分配，故稱卡方檢定。\n",
    "*   在卡方檢定的一般運用中，研究人員將<font color = red>觀察量的值劃分成若干互斥的分類</font>，並且使用一套理論（或虛無假說）嘗試去說明觀察量的值落入不同分類的機率分布的模型。\n",
    "\n",
    "常用於以下三種檢定:\n",
    "1.  Goodness of Fit Test (適合度檢定) : 樣本與母體分布是否相似。(不同咖啡喜好度是否一樣)\n",
    "2.  Tests of Independence (獨立性檢定) : 各類別是否獨立。(男女和科系是否相關)\n",
    "3.  Tests of Homogeneity(齊一性檢定) : 檢定兩個或兩個以上不同的母體是否具有相同的分配或相同的比例。(不同店家的滿意度比例是否相同)"
   ]
  },
  {
   "attachments": {},
   "cell_type": "markdown",
   "metadata": {},
   "source": [
    "## 卡方分配\n",
    "\n",
    "<img src=\"https://i.imgur.com/9SmEkrV.jpg\" width=\"40%\" height=\"40%\">"
   ]
  },
  {
   "attachments": {},
   "cell_type": "markdown",
   "metadata": {},
   "source": [
    "## 皮爾森卡方檢定\n",
    "\n",
    "*   用於<font color = red>類別變數的檢定</font>。\n",
    "*   「皮爾森卡方檢定」的虛無假說（$H_0$）是：一個樣本中已發生事件的次數分配會遵守某個特定的理論分配。\n",
    "\n"
   ]
  },
  {
   "attachments": {},
   "cell_type": "markdown",
   "metadata": {},
   "source": [
    "「皮爾森卡方檢定」可用於兩種情境的變項比較：<font color = red>適合度檢定</font>和<font color = red>獨立性檢定</font>。\n",
    "*   「適合度檢定」驗證一組觀察值的次數分配是否異於理論上的分配。\n",
    "*   「獨立性檢定」驗證從兩個變數抽出的配對觀察值組是否互相獨立（例如：每次都從A國和B國各抽一個人，看他們的反應是否與國籍無關）。\n",
    "\n",
    "不管哪個檢定都包含三個步驟：\n",
    "1.  計算卡方檢定的統計值「 $\\chi ^{2}$ 」：把每一個觀察值和理論值的差做平方後、除以理論值、再加總。\n",
    "2.  計算  $\\chi ^{2}$ 統計值的自由度「$df$」。\n",
    "3.  依據研究者設定的信心水準（顯著性水平、P值或對應$\\alpha$值），查出自由度為 $df$ 的卡方分配臨界值，比較它與第1步驟得出的 $\\chi ^{2}$ 統計值，推論能否拒絕虛無假說。"
   ]
  },
  {
   "attachments": {},
   "cell_type": "markdown",
   "metadata": {},
   "source": [
    "### 適合度檢定（英語：Goodness of Fit test）\n",
    "<font size = 4> 目的 : 測試樣本的機率分配與母體有多相似 ( 評估互斥類別的發生次數(O)是否不同於母體次數(E) )  )。 </font>\n",
    "\n",
    "基本假設 : \n",
    "1.  互斥的類別 : 每一位研究參與者或每一個觀察只能被分配到一個類別，必須避免同一位參與者或同一個觀察被多次計算。\n",
    "2.  彼此獨立的觀察 : 一位研究參與者或一個觀察被分配到一個類別不會對其他的類別帶來影響，也就是說，分配到任一類別的標準是相同的 ( 機率不會因為其他類別改變 )。\n",
    "3.  足夠的樣本數 : 一般而言，卡方檢定要求每一個類別的期望次數不得少於5。如果期望次數太小，卡方檢定可能會產生錯誤的結果。\n",
    "\n",
    "定義參數 : \n",
    "1.  $O_i$ : 第i個類別的觀察次數(O)\n",
    "2.  $E_i$ : 第i個類別的期望次數(E)"
   ]
  },
  {
   "attachments": {},
   "cell_type": "markdown",
   "metadata": {},
   "source": [
    "例 : 咖啡廳檢定客人對於 n 種咖啡的喜好度是否不同 ( 由此可知 $H_0 $: 喜好度相同(換句話說每個咖啡被購買的機率為$1/n$) ) 。假設抽取90人，結果如下：\n",
    "\n",
    "<img src=\"https://i.imgur.com/LLWdUh3.jpg\" width=\"50%\" height=\"50%\">\n",
    "\n",
    "其中，<font color = red>自由度為類別數-1</font>，因為固定了總人數，所以只需 n-1 個類別的人數。\n",
    "\n",
    "*   <font color = red>該檢定僅能指出觀察次數的整體模式是否不同於期望次數，但無法指出某一個特定的差值顯著地小於或大於期望的數值。</font>\n",
    "\n",
    "*   卡方檢定統計量的計算方式為 : $\\chi^2 = \\sum\\frac{ (O_i - E_i)^2}{E_i}$\n",
    "    *    透過自由度和事先選擇好的α水準，找到相對應的卡方臨界值。若卡方檢定統計量等於或大於卡方臨界值，則拒絕虛無假設。\n"
   ]
  },
  {
   "attachments": {},
   "cell_type": "markdown",
   "metadata": {},
   "source": [
    "#### python 以上面例子為範例，$H_0 : 顧客對三種咖啡的喜好度無不同$"
   ]
  },
  {
   "cell_type": "code",
   "execution_count": 42,
   "metadata": {},
   "outputs": [
    {
     "data": {
      "text/html": [
       "<div>\n",
       "<style scoped>\n",
       "    .dataframe tbody tr th:only-of-type {\n",
       "        vertical-align: middle;\n",
       "    }\n",
       "\n",
       "    .dataframe tbody tr th {\n",
       "        vertical-align: top;\n",
       "    }\n",
       "\n",
       "    .dataframe thead th {\n",
       "        text-align: right;\n",
       "    }\n",
       "</style>\n",
       "<table border=\"1\" class=\"dataframe\">\n",
       "  <thead>\n",
       "    <tr style=\"text-align: right;\">\n",
       "      <th></th>\n",
       "      <th>觀察次數(O)</th>\n",
       "      <th>期望次數(E)</th>\n",
       "      <th>Oi-Ei</th>\n",
       "      <th>(Oi-Ei)^2</th>\n",
       "    </tr>\n",
       "  </thead>\n",
       "  <tbody>\n",
       "    <tr>\n",
       "      <th>A 品牌</th>\n",
       "      <td>45</td>\n",
       "      <td>30</td>\n",
       "      <td>15</td>\n",
       "      <td>225</td>\n",
       "    </tr>\n",
       "    <tr>\n",
       "      <th>B 品牌</th>\n",
       "      <td>15</td>\n",
       "      <td>30</td>\n",
       "      <td>-15</td>\n",
       "      <td>225</td>\n",
       "    </tr>\n",
       "    <tr>\n",
       "      <th>C 品牌</th>\n",
       "      <td>30</td>\n",
       "      <td>30</td>\n",
       "      <td>0</td>\n",
       "      <td>0</td>\n",
       "    </tr>\n",
       "    <tr>\n",
       "      <th>TOTAL</th>\n",
       "      <td>90</td>\n",
       "      <td>90</td>\n",
       "      <td>0</td>\n",
       "      <td>0</td>\n",
       "    </tr>\n",
       "  </tbody>\n",
       "</table>\n",
       "</div>"
      ],
      "text/plain": [
       "       觀察次數(O)  期望次數(E)  Oi-Ei  (Oi-Ei)^2\n",
       "A 品牌        45       30     15        225\n",
       "B 品牌        15       30    -15        225\n",
       "C 品牌        30       30      0          0\n",
       "TOTAL       90       90      0          0"
      ]
     },
     "execution_count": 42,
     "metadata": {},
     "output_type": "execute_result"
    }
   ],
   "source": [
    "import pandas as pd\n",
    "import numpy as np\n",
    "\n",
    "# import data\n",
    "O_data = [45,15,30]\n",
    "H0 = \"顧客對三種咖啡的喜好度相同\"\n",
    "\n",
    "# H_0 : 顧客對三種咖啡的喜好度相同\n",
    "DF = len(O_data) - 1\n",
    "N = np.sum(O_data)\n",
    "E_data = [int(N/len(O_data)) for i in range(len(O_data))] + [N] \n",
    "O_data += [N]\n",
    "\n",
    "# run\n",
    "OmE = np.array(O_data) - np.array(E_data)\n",
    "OmE2 = OmE**2\n",
    "\n",
    "# 整理資料\n",
    "data = {\"觀察次數(O)\" :O_data, \"期望次數(E)\" : E_data, \"Oi-Ei\" : OmE, \"(Oi-Ei)^2\" : OmE2}\n",
    "data_frame = pd.DataFrame(data, index=[\"A 品牌\",\"B 品牌\", \"C 品牌\", \"TOTAL\"])\n",
    "data_frame"
   ]
  },
  {
   "cell_type": "code",
   "execution_count": 62,
   "metadata": {},
   "outputs": [
    {
     "name": "stdout",
     "output_type": "stream",
     "text": [
      "因為檢定統計量(15.0000) > 臨界值(5.9915),\n",
      "所以 拒絕H0(顧客對三種咖啡的喜好度相同)\n"
     ]
    }
   ],
   "source": [
    "# 計算卡方統計量\n",
    "from scipy.stats import chi2\n",
    "chi_value = np.sum(np.array(OmE2)/np.array(E_data)) # 檢定統計量\n",
    "chi_critical = chi2.ppf(0.95, DF) # 臨界值\n",
    "\n",
    "if chi_value < chi_critical:\n",
    "    print(\"因為檢定統計量(%.4f) < 臨界值(%.4f),\\n所以 不拒絕H0,%s\" %(chi_value, chi_critical, H0))\n",
    "else:\n",
    "    print(\"因為檢定統計量(%.4f) > 臨界值(%.4f),\\n所以 拒絕H0,拒絕%s\" %(chi_value, chi_critical, H0))"
   ]
  },
  {
   "attachments": {},
   "cell_type": "markdown",
   "metadata": {},
   "source": [
    "### 獨立性檢定 (Tests of Independence)\n",
    "目的 : 檢定各變項是否獨立。(例子 : 男女和黨派是否相關)\n",
    "\n",
    "基本假設 : \n",
    "1.  類別之間互斥且獨立 : 列聯表中的兩個變項所構成的類別之間必須互斥且獨立，換句話說每個觀察值只能被分到一個類別 (不可重複計算)。\n",
    "2.  資料須為次數 : 列聯表中的每個儲存格裡的資料須為次數，而不是其他類型的數值。雖然卡方獨立性檢定經常用在名義尺度的變項資料上，但這不代表次序、等距或比率尺度的變項資料無法使用，只要將其他測量尺度的變項資料重新編碼成互斥的類別、資料轉換成次數，即可使用卡方獨立性檢定。\n",
    "3.  足夠的樣本數 : 理論上卡方檢定要求列聯表中每個儲存格裡的期望次數不得少於5，若違反這個假設，卡方檢定可能會產生錯誤的結果。\n",
    "\n",
    "定義符號 : \n",
    "1.  $O_{ij}$ : 第 $[i,j]$ 個類別的觀察次數(observed frequencies)\n",
    "2.  $R_i$   : row總和的第i個類別(以下為例為男女)\n",
    "3.  $C_j$   : col總和的第j個類別(以下為例為政黨)\n",
    "4.  $T$ : 總樣本數\n",
    "5.  $E_{ij}$ : 第 $[i,j]$ 個類別的期望次數(expected frequencies)\n",
    "    *   在 $H_0$ (各類別獨立) 為真的情況下，各欄位的機率為行列比例之乘積，所以各欄位的期望次數為 : $E_{i,j} = T\\frac{R_i}{T} \\frac{C_i}{T} = \\frac{R_iC_j}{T}$\n",
    "    *   有時會以 $p_{ij}$ 表示欄位機率，$p_{i.}$ 表示第 $i$ 列機率，$p_{.j}$ 表示第 $j$ 行機率。\n",
    "\n",
    "統計量\n",
    "*   卡方檢定統計量的計算方式為 : $\\chi^2 = \\sum^r_{i=1}\\sum^c_{j=1}\\frac{ (O_{ij} - E_{ij})^2}{E_{ji}}$\n",
    "*   <font color = red size = 4>自由度</font> : $(r-1)(c-1)$\n",
    "    *    透過自由度和事先選擇好的α水準，找到相對應的卡方臨界值。<font color = red>若卡方檢定統計量等於或大於卡方臨界值，則拒絕虛無假設。</font>"
   ]
  },
  {
   "attachments": {},
   "cell_type": "markdown",
   "metadata": {},
   "source": [
    "例 : 抽取五百位男女，研究性別與支持黨派是否有關。\n",
    "\n",
    "<img src=\"https://i.imgur.com/KizZ9Vy.jpg\" width=\"50%\" height=\"50%\">"
   ]
  },
  {
   "attachments": {},
   "cell_type": "markdown",
   "metadata": {},
   "source": [
    "#### python 以上面例子為範例 : $H_0 : $性別與政黨傾項獨立(變項獨立)"
   ]
  },
  {
   "cell_type": "code",
   "execution_count": 153,
   "metadata": {},
   "outputs": [
    {
     "name": "stdout",
     "output_type": "stream",
     "text": [
      "觀察次數(O) : \n"
     ]
    },
    {
     "data": {
      "text/html": [
       "<div>\n",
       "<style scoped>\n",
       "    .dataframe tbody tr th:only-of-type {\n",
       "        vertical-align: middle;\n",
       "    }\n",
       "\n",
       "    .dataframe tbody tr th {\n",
       "        vertical-align: top;\n",
       "    }\n",
       "\n",
       "    .dataframe thead th {\n",
       "        text-align: right;\n",
       "    }\n",
       "</style>\n",
       "<table border=\"1\" class=\"dataframe\">\n",
       "  <thead>\n",
       "    <tr style=\"text-align: right;\">\n",
       "      <th></th>\n",
       "      <th>政黨A</th>\n",
       "      <th>政黨B</th>\n",
       "      <th>政黨C</th>\n",
       "      <th>row合計</th>\n",
       "    </tr>\n",
       "  </thead>\n",
       "  <tbody>\n",
       "    <tr>\n",
       "      <th>生理女性</th>\n",
       "      <td>120</td>\n",
       "      <td>15</td>\n",
       "      <td>115</td>\n",
       "      <td>250</td>\n",
       "    </tr>\n",
       "    <tr>\n",
       "      <th>生理男性</th>\n",
       "      <td>90</td>\n",
       "      <td>10</td>\n",
       "      <td>150</td>\n",
       "      <td>250</td>\n",
       "    </tr>\n",
       "    <tr>\n",
       "      <th>col合計</th>\n",
       "      <td>210</td>\n",
       "      <td>25</td>\n",
       "      <td>265</td>\n",
       "      <td>500</td>\n",
       "    </tr>\n",
       "  </tbody>\n",
       "</table>\n",
       "</div>"
      ],
      "text/plain": [
       "       政黨A  政黨B  政黨C  row合計\n",
       "生理女性   120   15  115    250\n",
       "生理男性    90   10  150    250\n",
       "col合計  210   25  265    500"
      ]
     },
     "execution_count": 153,
     "metadata": {},
     "output_type": "execute_result"
    }
   ],
   "source": [
    "import numpy as np\n",
    "import pandas as pd\n",
    "\n",
    "### imput data\n",
    "data1 = [120,15,115] #女性政黨傾項，不用合計項\n",
    "data2 = [90,10,150]\n",
    "Colnames = ['政黨A','政黨B','政黨C']\n",
    "Rownames = ['生理女性','生理男性']\n",
    "H0 = \"性別與政黨傾項獨立(無關)\"\n",
    "\n",
    "### pre data\n",
    "DF = (len(Colnames) - 1)*(len(Rownames) - 1)\n",
    "data1.append(np.sum(data1))\n",
    "data2.append(np.sum(data2))\n",
    "data3 = [data1[i] + data2[i] for i in range(len(data1))]\n",
    "Colnames.append('row合計')\n",
    "Rownames.append('col合計')\n",
    "\n",
    "### make dataframe ( 觀察次數(O) )\n",
    "O_data_frame = pd.DataFrame([data1,data2,data3], index=Rownames, columns=Colnames)\n",
    "print(\"觀察次數(O) : \")\n",
    "O_data_frame\n"
   ]
  },
  {
   "cell_type": "code",
   "execution_count": 154,
   "metadata": {},
   "outputs": [
    {
     "name": "stdout",
     "output_type": "stream",
     "text": [
      "期望次數(E) : \n"
     ]
    },
    {
     "data": {
      "text/html": [
       "<div>\n",
       "<style scoped>\n",
       "    .dataframe tbody tr th:only-of-type {\n",
       "        vertical-align: middle;\n",
       "    }\n",
       "\n",
       "    .dataframe tbody tr th {\n",
       "        vertical-align: top;\n",
       "    }\n",
       "\n",
       "    .dataframe thead th {\n",
       "        text-align: right;\n",
       "    }\n",
       "</style>\n",
       "<table border=\"1\" class=\"dataframe\">\n",
       "  <thead>\n",
       "    <tr style=\"text-align: right;\">\n",
       "      <th></th>\n",
       "      <th>政黨A</th>\n",
       "      <th>政黨B</th>\n",
       "      <th>政黨C</th>\n",
       "      <th>row合計</th>\n",
       "    </tr>\n",
       "  </thead>\n",
       "  <tbody>\n",
       "    <tr>\n",
       "      <th>生理女性</th>\n",
       "      <td>105.0</td>\n",
       "      <td>12.5</td>\n",
       "      <td>132.5</td>\n",
       "      <td>250.0</td>\n",
       "    </tr>\n",
       "    <tr>\n",
       "      <th>生理男性</th>\n",
       "      <td>105.0</td>\n",
       "      <td>12.5</td>\n",
       "      <td>132.5</td>\n",
       "      <td>250.0</td>\n",
       "    </tr>\n",
       "    <tr>\n",
       "      <th>col合計</th>\n",
       "      <td>210.0</td>\n",
       "      <td>25.0</td>\n",
       "      <td>265.0</td>\n",
       "      <td>500.0</td>\n",
       "    </tr>\n",
       "  </tbody>\n",
       "</table>\n",
       "</div>"
      ],
      "text/plain": [
       "         政黨A   政黨B    政黨C  row合計\n",
       "生理女性   105.0  12.5  132.5  250.0\n",
       "生理男性   105.0  12.5  132.5  250.0\n",
       "col合計  210.0  25.0  265.0  500.0"
      ]
     },
     "execution_count": 154,
     "metadata": {},
     "output_type": "execute_result"
    }
   ],
   "source": [
    "### 計算機率值\n",
    "Nrow, Ncol = O_data_frame.shape\n",
    "P_data_frame = O_data_frame / O_data_frame.iloc[Nrow - 1, Ncol - 1]\n",
    "row_P = P_data_frame.iloc[:,Ncol - 1]\n",
    "col_P = P_data_frame.iloc[Nrow - 1,:]\n",
    "P_data_frame.iloc[0:(Nrow-1) , 0:(Ncol-1)] = row_P.values[:-1][:,np.newaxis].dot(col_P.values[:-1][np.newaxis,:]) #np.newaxis : 增加維度, .dot : 矩陣乘法\n",
    "\n",
    "### 期望次數(E)\n",
    "E_data_frame = P_data_frame * O_data_frame.iloc[Nrow-1, Ncol-1]\n",
    "print(\"期望次數(E) : \")\n",
    "E_data_frame"
   ]
  },
  {
   "cell_type": "code",
   "execution_count": 155,
   "metadata": {},
   "outputs": [
    {
     "name": "stdout",
     "output_type": "stream",
     "text": [
      "因為檢定統計量(9.9084) > 臨界值(5.9915),\n",
      "所以 拒絕H0,拒絕性別與政黨傾項獨立(無關)\n"
     ]
    }
   ],
   "source": [
    "### 計算卡方值\n",
    "O_data = O_data_frame.iloc[0:(Nrow-1),0:(Ncol-1)].values\n",
    "E_data = E_data_frame.iloc[0:(Nrow-1),0:(Ncol-1)].values\n",
    "chi_value = np.sum((O_data - E_data)**2 / E_data)\n",
    "\n",
    "# 計算卡方統計量\n",
    "from scipy.stats import chi2\n",
    "chi_critical = chi2.ppf(0.95, DF) # 臨界值\n",
    "\n",
    "if chi_value < chi_critical:\n",
    "    print(\"因為檢定統計量(%.4f) < 臨界值(%.4f),\\n所以 不拒絕H0,%s\" %(chi_value, chi_critical, H0))\n",
    "else:\n",
    "    print(\"因為檢定統計量(%.4f) > 臨界值(%.4f),\\n所以 拒絕H0,拒絕%s\" %(chi_value, chi_critical, H0))"
   ]
  },
  {
   "attachments": {},
   "cell_type": "markdown",
   "metadata": {},
   "source": [
    "## 參考網址\n",
    "\n",
    "*   [Wiki](https://zh.wikipedia.org/zh-tw/%E5%8D%A1%E6%96%B9%E6%A3%80%E9%AA%8C)\n",
    "*   [皮爾森卡方檢定 Wiki](https://zh.wikipedia.org/zh-tw/%E7%9A%AE%E7%88%BE%E6%A3%AE%E5%8D%A1%E6%96%B9%E6%AA%A2%E5%AE%9A)\n",
    "*   [卡方適合度檢定的假設檢定 - Dr. Fish 漫游社會統計](https://drfishstats.com/inferential-stats/statistical-tests/nonparametric-tests/chi-square-goodness-of-fit-test/)\n",
    "*   [卡方獨立性檢定的假設檢定 - Dr. Fish 漫游社會統計](https://drfishstats.com/inferential-stats/statistical-tests/nonparametric-tests/chi-square-test-of-independence/)\n",
    "*   [卡方檢定補充講義 - 政治大學](http://csyue.nccu.edu.tw/ch/Chi-square%20Test.pdf)"
   ]
  }
 ],
 "metadata": {
  "kernelspec": {
   "display_name": "Python 3.9.5 64-bit",
   "language": "python",
   "name": "python3"
  },
  "language_info": {
   "codemirror_mode": {
    "name": "ipython",
    "version": 3
   },
   "file_extension": ".py",
   "mimetype": "text/x-python",
   "name": "python",
   "nbconvert_exporter": "python",
   "pygments_lexer": "ipython3",
   "version": "3.9.5"
  },
  "orig_nbformat": 4,
  "vscode": {
   "interpreter": {
    "hash": "4206480afc6f8f20a91f9b30d4e9d2907612993729e8a589e2c16a111e42b69c"
   }
  }
 },
 "nbformat": 4,
 "nbformat_minor": 2
}
