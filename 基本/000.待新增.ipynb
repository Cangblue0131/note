{
 "cells": [
  {
   "attachments": {},
   "cell_type": "markdown",
   "metadata": {},
   "source": [
    "*   012-特徵處理\n",
    "    *   FDR : 新增FDR 實作(或再提一次?)\n",
    "    *   BW-ratio\n",
    "*   015-假設檢定\n",
    "    *   KS_test\n",
    "    *   ANOVA -> BW-ratio\n",
    "*   013-監督式學習\n",
    "    *   000.regression.ipynb -> 補齊其他迴歸方法的說明\n",
    "    *   001.Regression -> Polynomial reg. -> ANOVA table (交互作用)\n",
    "    *   Bagging, Boosting, XGboost, ADAboost\n",
    "    *   殘差分析\n",
    "    *   SVR_SVM -> Kernel : kernel PCA, kernel LDA。\n",
    "\n",
    "\n",
    "\n"
   ]
  },
  {
   "cell_type": "code",
   "execution_count": null,
   "metadata": {},
   "outputs": [],
   "source": []
  }
 ],
 "metadata": {
  "kernelspec": {
   "display_name": "Python 3",
   "language": "python",
   "name": "python3"
  },
  "language_info": {
   "name": "python",
   "version": "3.9.5"
  },
  "orig_nbformat": 4,
  "vscode": {
   "interpreter": {
    "hash": "4206480afc6f8f20a91f9b30d4e9d2907612993729e8a589e2c16a111e42b69c"
   }
  }
 },
 "nbformat": 4,
 "nbformat_minor": 2
}
